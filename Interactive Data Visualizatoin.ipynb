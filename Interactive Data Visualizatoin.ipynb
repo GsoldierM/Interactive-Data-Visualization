{
 "cells": [
  {
   "cell_type": "code",
   "execution_count": 12,
   "metadata": {},
   "outputs": [],
   "source": [
    "import pandas as pd\n",
    "import numpy as np\n",
    "%matplotlib inline"
   ]
  },
  {
   "cell_type": "code",
   "execution_count": 13,
   "metadata": {},
   "outputs": [],
   "source": [
    "from plotly import __version__\n",
    "from plotly.offline import download_plotlyjs, init_notebook_mode, plot, iplot"
   ]
  },
  {
   "cell_type": "code",
   "execution_count": 14,
   "metadata": {},
   "outputs": [],
   "source": [
    "import cufflinks as cf"
   ]
  },
  {
   "cell_type": "code",
   "execution_count": 15,
   "metadata": {},
   "outputs": [
    {
     "data": {
      "text/html": [
       "        <script type=\"text/javascript\">\n",
       "        window.PlotlyConfig = {MathJaxConfig: 'local'};\n",
       "        if (window.MathJax && window.MathJax.Hub && window.MathJax.Hub.Config) {window.MathJax.Hub.Config({SVG: {font: \"STIX-Web\"}});}\n",
       "        if (typeof require !== 'undefined') {\n",
       "        require.undef(\"plotly\");\n",
       "        requirejs.config({\n",
       "            paths: {\n",
       "                'plotly': ['https://cdn.plot.ly/plotly-2.14.0.min']\n",
       "            }\n",
       "        });\n",
       "        require(['plotly'], function(Plotly) {\n",
       "            window._Plotly = Plotly;\n",
       "        });\n",
       "        }\n",
       "        </script>\n",
       "        "
      ]
     },
     "metadata": {},
     "output_type": "display_data"
    }
   ],
   "source": [
    "init_notebook_mode(connected=True)"
   ]
  },
  {
   "cell_type": "code",
   "execution_count": 16,
   "metadata": {},
   "outputs": [
    {
     "data": {
      "text/html": [
       "        <script type=\"text/javascript\">\n",
       "        window.PlotlyConfig = {MathJaxConfig: 'local'};\n",
       "        if (window.MathJax && window.MathJax.Hub && window.MathJax.Hub.Config) {window.MathJax.Hub.Config({SVG: {font: \"STIX-Web\"}});}\n",
       "        if (typeof require !== 'undefined') {\n",
       "        require.undef(\"plotly\");\n",
       "        requirejs.config({\n",
       "            paths: {\n",
       "                'plotly': ['https://cdn.plot.ly/plotly-2.14.0.min']\n",
       "            }\n",
       "        });\n",
       "        require(['plotly'], function(Plotly) {\n",
       "            window._Plotly = Plotly;\n",
       "        });\n",
       "        }\n",
       "        </script>\n",
       "        "
      ]
     },
     "metadata": {},
     "output_type": "display_data"
    }
   ],
   "source": [
    "cf.go_offline()"
   ]
  },
  {
   "cell_type": "markdown",
   "metadata": {},
   "source": [
    "#### Data Simulation"
   ]
  },
  {
   "cell_type": "code",
   "execution_count": 17,
   "metadata": {},
   "outputs": [],
   "source": [
    "df = pd.DataFrame(np.random.randn(100,4),columns='A B C D'.split())"
   ]
  },
  {
   "cell_type": "code",
   "execution_count": 18,
   "metadata": {},
   "outputs": [
    {
     "data": {
      "text/html": [
       "<div>\n",
       "<style scoped>\n",
       "    .dataframe tbody tr th:only-of-type {\n",
       "        vertical-align: middle;\n",
       "    }\n",
       "\n",
       "    .dataframe tbody tr th {\n",
       "        vertical-align: top;\n",
       "    }\n",
       "\n",
       "    .dataframe thead th {\n",
       "        text-align: right;\n",
       "    }\n",
       "</style>\n",
       "<table border=\"1\" class=\"dataframe\">\n",
       "  <thead>\n",
       "    <tr style=\"text-align: right;\">\n",
       "      <th></th>\n",
       "      <th>A</th>\n",
       "      <th>B</th>\n",
       "      <th>C</th>\n",
       "      <th>D</th>\n",
       "    </tr>\n",
       "  </thead>\n",
       "  <tbody>\n",
       "    <tr>\n",
       "      <th>0</th>\n",
       "      <td>1.978547</td>\n",
       "      <td>-1.570262</td>\n",
       "      <td>0.188565</td>\n",
       "      <td>-0.046517</td>\n",
       "    </tr>\n",
       "    <tr>\n",
       "      <th>1</th>\n",
       "      <td>1.009227</td>\n",
       "      <td>0.129426</td>\n",
       "      <td>-0.957842</td>\n",
       "      <td>-1.764034</td>\n",
       "    </tr>\n",
       "    <tr>\n",
       "      <th>2</th>\n",
       "      <td>-1.225013</td>\n",
       "      <td>-1.216968</td>\n",
       "      <td>-0.020368</td>\n",
       "      <td>1.266818</td>\n",
       "    </tr>\n",
       "    <tr>\n",
       "      <th>3</th>\n",
       "      <td>-1.757193</td>\n",
       "      <td>-1.277801</td>\n",
       "      <td>-0.606991</td>\n",
       "      <td>-1.056939</td>\n",
       "    </tr>\n",
       "    <tr>\n",
       "      <th>4</th>\n",
       "      <td>-0.351032</td>\n",
       "      <td>1.823793</td>\n",
       "      <td>0.098422</td>\n",
       "      <td>2.071956</td>\n",
       "    </tr>\n",
       "  </tbody>\n",
       "</table>\n",
       "</div>"
      ],
      "text/plain": [
       "          A         B         C         D\n",
       "0  1.978547 -1.570262  0.188565 -0.046517\n",
       "1  1.009227  0.129426 -0.957842 -1.764034\n",
       "2 -1.225013 -1.216968 -0.020368  1.266818\n",
       "3 -1.757193 -1.277801 -0.606991 -1.056939\n",
       "4 -0.351032  1.823793  0.098422  2.071956"
      ]
     },
     "execution_count": 18,
     "metadata": {},
     "output_type": "execute_result"
    }
   ],
   "source": [
    "df.head()"
   ]
  },
  {
   "cell_type": "code",
   "execution_count": 19,
   "metadata": {},
   "outputs": [],
   "source": [
    "df2 = pd.DataFrame({'Category':['A','B','C'],'Values':[32,43,50]})"
   ]
  },
  {
   "cell_type": "code",
   "execution_count": 20,
   "metadata": {},
   "outputs": [
    {
     "data": {
      "text/html": [
       "<div>\n",
       "<style scoped>\n",
       "    .dataframe tbody tr th:only-of-type {\n",
       "        vertical-align: middle;\n",
       "    }\n",
       "\n",
       "    .dataframe tbody tr th {\n",
       "        vertical-align: top;\n",
       "    }\n",
       "\n",
       "    .dataframe thead th {\n",
       "        text-align: right;\n",
       "    }\n",
       "</style>\n",
       "<table border=\"1\" class=\"dataframe\">\n",
       "  <thead>\n",
       "    <tr style=\"text-align: right;\">\n",
       "      <th></th>\n",
       "      <th>Category</th>\n",
       "      <th>Values</th>\n",
       "    </tr>\n",
       "  </thead>\n",
       "  <tbody>\n",
       "    <tr>\n",
       "      <th>0</th>\n",
       "      <td>A</td>\n",
       "      <td>32</td>\n",
       "    </tr>\n",
       "    <tr>\n",
       "      <th>1</th>\n",
       "      <td>B</td>\n",
       "      <td>43</td>\n",
       "    </tr>\n",
       "    <tr>\n",
       "      <th>2</th>\n",
       "      <td>C</td>\n",
       "      <td>50</td>\n",
       "    </tr>\n",
       "  </tbody>\n",
       "</table>\n",
       "</div>"
      ],
      "text/plain": [
       "  Category  Values\n",
       "0        A      32\n",
       "1        B      43\n",
       "2        C      50"
      ]
     },
     "execution_count": 20,
     "metadata": {},
     "output_type": "execute_result"
    }
   ],
   "source": [
    "df2.head()"
   ]
  },
  {
   "cell_type": "markdown",
   "metadata": {},
   "source": [
    "#### Scatter Plot"
   ]
  },
  {
   "cell_type": "code",
   "execution_count": 23,
   "metadata": {},
   "outputs": [
    {
     "data": {
      "application/vnd.plotly.v1+json": {
       "config": {
        "linkText": "Export to plot.ly",
        "plotlyServerURL": "https://plot.ly",
        "showLink": true
       },
       "data": [
        {
         "line": {
          "color": "rgba(255, 153, 51, 1.0)",
          "dash": "solid",
          "shape": "linear",
          "width": 1.3
         },
         "marker": {
          "size": 10,
          "symbol": "circle"
         },
         "mode": "markers",
         "name": "B",
         "text": "",
         "type": "scatter",
         "x": [
          1.9785474803328607,
          1.0092268487548832,
          -1.225013157557364,
          -1.7571929080727824,
          -0.3510321902033087,
          1.4100616476100398,
          -0.7107709961502106,
          -0.23874519373105246,
          1.2373841410062967,
          0.8323615939275861,
          -0.9041212935899998,
          1.0134132263520905,
          -0.48501594051186303,
          0.10711805122591342,
          1.053211572931562,
          1.8747476432241057,
          -1.6935363858985157,
          -0.2608680773992978,
          1.6883554154984184,
          0.7485058415919015,
          0.9786366361762188,
          -0.3085510438136002,
          -0.9304657253362264,
          0.6037118838048389,
          0.6245447736656713,
          1.2385002099949525,
          -0.7097874554477298,
          0.5823549670983328,
          -0.35803780976590854,
          1.5491322960816853,
          1.53807985352257,
          2.404581495249531,
          -0.9652410635551554,
          -0.47589035741556557,
          1.6683681176793281,
          -0.8476670562828995,
          -0.6211176310350959,
          -0.652231375444704,
          0.9359531059469797,
          -1.6020033412254073,
          0.31985344042035896,
          0.46587917758063924,
          -0.16268949490112863,
          -0.46277578442258077,
          0.058282399822782646,
          0.46307447698305676,
          0.3224978075603298,
          0.11526650280798287,
          -0.7692957618827033,
          -0.35826300853537124,
          -2.641779265896877,
          1.7247231795571583,
          0.3673705260306855,
          0.09276272084379551,
          -0.18472477320008263,
          -1.6970613031028194,
          0.1843645004161003,
          0.5921046508039165,
          0.784867163116174,
          0.035674674097062015,
          -1.0077029572479506,
          0.7461447282062237,
          -0.5868772103780041,
          -0.568107392843018,
          0.12065140233307468,
          -0.8069255129179801,
          -1.8704940936796401,
          -0.7404711419618509,
          -0.5983897510208666,
          1.7050616932429972,
          -0.9258406850844257,
          -0.22291973386169947,
          0.38082614288418576,
          -0.2256843255911952,
          -0.6287074591394933,
          2.394235061047817,
          0.668169433872653,
          0.9968613105270926,
          -1.032969040321864,
          2.164652725086726,
          0.15323306330310169,
          -0.5445996973395306,
          -0.4038606332641512,
          0.8909069835088288,
          0.197832202834394,
          -0.20753647433224323,
          -1.696035375361601,
          2.915074338040306,
          1.4848354580604801,
          0.4129310916479309,
          -0.5841717881041785,
          1.1138237134791464,
          -0.6351696242421287,
          -0.4751255037732066,
          -0.23049971038152886,
          0.07740486985743174,
          0.3266324105276788,
          -0.18148747202789775,
          0.18998088567144913,
          -0.18618896527839632
         ],
         "y": [
          -1.5702617948214266,
          0.12942604733102087,
          -1.2169678178307737,
          -1.2778014589549243,
          1.8237927091633785,
          0.0983300722187688,
          -1.4867525497879113,
          0.25751460492347245,
          -0.8675529082563131,
          1.234516185844747,
          1.2849289284666068,
          -0.02214928596425894,
          1.8045203915299464,
          -0.2717929080799078,
          0.28282897890794684,
          0.4891061282687007,
          0.5443993907148782,
          0.03664611008771916,
          -1.4003908791201083,
          0.48765519178484606,
          0.7410222490313609,
          0.6552416409680061,
          0.7752657653055114,
          0.16471296627787774,
          -0.9082756830220291,
          -0.8942021456626656,
          -0.11711820349957816,
          1.3045192026835244,
          0.47610209947548787,
          -0.893996522001287,
          -1.9640426395138464,
          0.43177799306761144,
          0.2124861930961608,
          -0.26810503189773915,
          -0.2917277248112427,
          1.0600995580385186,
          -0.09616546623536769,
          0.009831686166474143,
          0.12449032978094596,
          1.0276096444007707,
          -1.0254918006858438,
          -0.491665530209502,
          -1.1532845391864175,
          0.7743603622969015,
          0.5015434994983705,
          -2.670307417221883,
          -1.2579742785445271,
          1.4905247530153953,
          -0.40082727355775954,
          0.013203193429966736,
          0.1478919810858192,
          1.8112635179969534,
          -1.5139512301237585,
          1.018692288823052,
          -1.1012653901407132,
          -0.5820767909418454,
          -1.4139610051553735,
          0.01755357736561984,
          0.5146723862357394,
          -0.1209274245317748,
          -0.491205835395233,
          0.0022244209716448093,
          -0.4631825451744534,
          0.907113410788158,
          -2.6207466340129444,
          0.4905596334180495,
          1.2439976629035,
          1.3620583916014237,
          -0.19132402487449365,
          2.2972892403697673,
          -1.1367556296822485,
          0.7947113392733698,
          0.5105297809039376,
          0.9137443265637776,
          0.9924360158790626,
          0.9138885179435232,
          -0.25964561644063744,
          -1.959604933558067,
          -0.6889732022152018,
          -0.3191836910416321,
          0.07420510684222735,
          -1.9129165314678132,
          0.3526977808732218,
          -1.4994800777658641,
          0.3742016214330207,
          -0.7211513000095967,
          -0.961856771165803,
          0.7952332385174912,
          1.0987584252515978,
          -1.684638463358606,
          -0.13351592575428659,
          0.5041206166281047,
          -0.24754116237098892,
          -2.396950493369511,
          0.3509411161599187,
          -0.14041401285102192,
          0.650789056470859,
          -0.8620434947700216,
          0.11914014339928516,
          -0.6736618243248493
         ]
        }
       ],
       "layout": {
        "legend": {
         "bgcolor": "#F5F6F9",
         "font": {
          "color": "#4D5663"
         }
        },
        "paper_bgcolor": "#F5F6F9",
        "plot_bgcolor": "#F5F6F9",
        "template": {
         "data": {
          "bar": [
           {
            "error_x": {
             "color": "#2a3f5f"
            },
            "error_y": {
             "color": "#2a3f5f"
            },
            "marker": {
             "line": {
              "color": "#E5ECF6",
              "width": 0.5
             },
             "pattern": {
              "fillmode": "overlay",
              "size": 10,
              "solidity": 0.2
             }
            },
            "type": "bar"
           }
          ],
          "barpolar": [
           {
            "marker": {
             "line": {
              "color": "#E5ECF6",
              "width": 0.5
             },
             "pattern": {
              "fillmode": "overlay",
              "size": 10,
              "solidity": 0.2
             }
            },
            "type": "barpolar"
           }
          ],
          "carpet": [
           {
            "aaxis": {
             "endlinecolor": "#2a3f5f",
             "gridcolor": "white",
             "linecolor": "white",
             "minorgridcolor": "white",
             "startlinecolor": "#2a3f5f"
            },
            "baxis": {
             "endlinecolor": "#2a3f5f",
             "gridcolor": "white",
             "linecolor": "white",
             "minorgridcolor": "white",
             "startlinecolor": "#2a3f5f"
            },
            "type": "carpet"
           }
          ],
          "choropleth": [
           {
            "colorbar": {
             "outlinewidth": 0,
             "ticks": ""
            },
            "type": "choropleth"
           }
          ],
          "contour": [
           {
            "colorbar": {
             "outlinewidth": 0,
             "ticks": ""
            },
            "colorscale": [
             [
              0,
              "#0d0887"
             ],
             [
              0.1111111111111111,
              "#46039f"
             ],
             [
              0.2222222222222222,
              "#7201a8"
             ],
             [
              0.3333333333333333,
              "#9c179e"
             ],
             [
              0.4444444444444444,
              "#bd3786"
             ],
             [
              0.5555555555555556,
              "#d8576b"
             ],
             [
              0.6666666666666666,
              "#ed7953"
             ],
             [
              0.7777777777777778,
              "#fb9f3a"
             ],
             [
              0.8888888888888888,
              "#fdca26"
             ],
             [
              1,
              "#f0f921"
             ]
            ],
            "type": "contour"
           }
          ],
          "contourcarpet": [
           {
            "colorbar": {
             "outlinewidth": 0,
             "ticks": ""
            },
            "type": "contourcarpet"
           }
          ],
          "heatmap": [
           {
            "colorbar": {
             "outlinewidth": 0,
             "ticks": ""
            },
            "colorscale": [
             [
              0,
              "#0d0887"
             ],
             [
              0.1111111111111111,
              "#46039f"
             ],
             [
              0.2222222222222222,
              "#7201a8"
             ],
             [
              0.3333333333333333,
              "#9c179e"
             ],
             [
              0.4444444444444444,
              "#bd3786"
             ],
             [
              0.5555555555555556,
              "#d8576b"
             ],
             [
              0.6666666666666666,
              "#ed7953"
             ],
             [
              0.7777777777777778,
              "#fb9f3a"
             ],
             [
              0.8888888888888888,
              "#fdca26"
             ],
             [
              1,
              "#f0f921"
             ]
            ],
            "type": "heatmap"
           }
          ],
          "heatmapgl": [
           {
            "colorbar": {
             "outlinewidth": 0,
             "ticks": ""
            },
            "colorscale": [
             [
              0,
              "#0d0887"
             ],
             [
              0.1111111111111111,
              "#46039f"
             ],
             [
              0.2222222222222222,
              "#7201a8"
             ],
             [
              0.3333333333333333,
              "#9c179e"
             ],
             [
              0.4444444444444444,
              "#bd3786"
             ],
             [
              0.5555555555555556,
              "#d8576b"
             ],
             [
              0.6666666666666666,
              "#ed7953"
             ],
             [
              0.7777777777777778,
              "#fb9f3a"
             ],
             [
              0.8888888888888888,
              "#fdca26"
             ],
             [
              1,
              "#f0f921"
             ]
            ],
            "type": "heatmapgl"
           }
          ],
          "histogram": [
           {
            "marker": {
             "pattern": {
              "fillmode": "overlay",
              "size": 10,
              "solidity": 0.2
             }
            },
            "type": "histogram"
           }
          ],
          "histogram2d": [
           {
            "colorbar": {
             "outlinewidth": 0,
             "ticks": ""
            },
            "colorscale": [
             [
              0,
              "#0d0887"
             ],
             [
              0.1111111111111111,
              "#46039f"
             ],
             [
              0.2222222222222222,
              "#7201a8"
             ],
             [
              0.3333333333333333,
              "#9c179e"
             ],
             [
              0.4444444444444444,
              "#bd3786"
             ],
             [
              0.5555555555555556,
              "#d8576b"
             ],
             [
              0.6666666666666666,
              "#ed7953"
             ],
             [
              0.7777777777777778,
              "#fb9f3a"
             ],
             [
              0.8888888888888888,
              "#fdca26"
             ],
             [
              1,
              "#f0f921"
             ]
            ],
            "type": "histogram2d"
           }
          ],
          "histogram2dcontour": [
           {
            "colorbar": {
             "outlinewidth": 0,
             "ticks": ""
            },
            "colorscale": [
             [
              0,
              "#0d0887"
             ],
             [
              0.1111111111111111,
              "#46039f"
             ],
             [
              0.2222222222222222,
              "#7201a8"
             ],
             [
              0.3333333333333333,
              "#9c179e"
             ],
             [
              0.4444444444444444,
              "#bd3786"
             ],
             [
              0.5555555555555556,
              "#d8576b"
             ],
             [
              0.6666666666666666,
              "#ed7953"
             ],
             [
              0.7777777777777778,
              "#fb9f3a"
             ],
             [
              0.8888888888888888,
              "#fdca26"
             ],
             [
              1,
              "#f0f921"
             ]
            ],
            "type": "histogram2dcontour"
           }
          ],
          "mesh3d": [
           {
            "colorbar": {
             "outlinewidth": 0,
             "ticks": ""
            },
            "type": "mesh3d"
           }
          ],
          "parcoords": [
           {
            "line": {
             "colorbar": {
              "outlinewidth": 0,
              "ticks": ""
             }
            },
            "type": "parcoords"
           }
          ],
          "pie": [
           {
            "automargin": true,
            "type": "pie"
           }
          ],
          "scatter": [
           {
            "fillpattern": {
             "fillmode": "overlay",
             "size": 10,
             "solidity": 0.2
            },
            "type": "scatter"
           }
          ],
          "scatter3d": [
           {
            "line": {
             "colorbar": {
              "outlinewidth": 0,
              "ticks": ""
             }
            },
            "marker": {
             "colorbar": {
              "outlinewidth": 0,
              "ticks": ""
             }
            },
            "type": "scatter3d"
           }
          ],
          "scattercarpet": [
           {
            "marker": {
             "colorbar": {
              "outlinewidth": 0,
              "ticks": ""
             }
            },
            "type": "scattercarpet"
           }
          ],
          "scattergeo": [
           {
            "marker": {
             "colorbar": {
              "outlinewidth": 0,
              "ticks": ""
             }
            },
            "type": "scattergeo"
           }
          ],
          "scattergl": [
           {
            "marker": {
             "colorbar": {
              "outlinewidth": 0,
              "ticks": ""
             }
            },
            "type": "scattergl"
           }
          ],
          "scattermapbox": [
           {
            "marker": {
             "colorbar": {
              "outlinewidth": 0,
              "ticks": ""
             }
            },
            "type": "scattermapbox"
           }
          ],
          "scatterpolar": [
           {
            "marker": {
             "colorbar": {
              "outlinewidth": 0,
              "ticks": ""
             }
            },
            "type": "scatterpolar"
           }
          ],
          "scatterpolargl": [
           {
            "marker": {
             "colorbar": {
              "outlinewidth": 0,
              "ticks": ""
             }
            },
            "type": "scatterpolargl"
           }
          ],
          "scatterternary": [
           {
            "marker": {
             "colorbar": {
              "outlinewidth": 0,
              "ticks": ""
             }
            },
            "type": "scatterternary"
           }
          ],
          "surface": [
           {
            "colorbar": {
             "outlinewidth": 0,
             "ticks": ""
            },
            "colorscale": [
             [
              0,
              "#0d0887"
             ],
             [
              0.1111111111111111,
              "#46039f"
             ],
             [
              0.2222222222222222,
              "#7201a8"
             ],
             [
              0.3333333333333333,
              "#9c179e"
             ],
             [
              0.4444444444444444,
              "#bd3786"
             ],
             [
              0.5555555555555556,
              "#d8576b"
             ],
             [
              0.6666666666666666,
              "#ed7953"
             ],
             [
              0.7777777777777778,
              "#fb9f3a"
             ],
             [
              0.8888888888888888,
              "#fdca26"
             ],
             [
              1,
              "#f0f921"
             ]
            ],
            "type": "surface"
           }
          ],
          "table": [
           {
            "cells": {
             "fill": {
              "color": "#EBF0F8"
             },
             "line": {
              "color": "white"
             }
            },
            "header": {
             "fill": {
              "color": "#C8D4E3"
             },
             "line": {
              "color": "white"
             }
            },
            "type": "table"
           }
          ]
         },
         "layout": {
          "annotationdefaults": {
           "arrowcolor": "#2a3f5f",
           "arrowhead": 0,
           "arrowwidth": 1
          },
          "autotypenumbers": "strict",
          "coloraxis": {
           "colorbar": {
            "outlinewidth": 0,
            "ticks": ""
           }
          },
          "colorscale": {
           "diverging": [
            [
             0,
             "#8e0152"
            ],
            [
             0.1,
             "#c51b7d"
            ],
            [
             0.2,
             "#de77ae"
            ],
            [
             0.3,
             "#f1b6da"
            ],
            [
             0.4,
             "#fde0ef"
            ],
            [
             0.5,
             "#f7f7f7"
            ],
            [
             0.6,
             "#e6f5d0"
            ],
            [
             0.7,
             "#b8e186"
            ],
            [
             0.8,
             "#7fbc41"
            ],
            [
             0.9,
             "#4d9221"
            ],
            [
             1,
             "#276419"
            ]
           ],
           "sequential": [
            [
             0,
             "#0d0887"
            ],
            [
             0.1111111111111111,
             "#46039f"
            ],
            [
             0.2222222222222222,
             "#7201a8"
            ],
            [
             0.3333333333333333,
             "#9c179e"
            ],
            [
             0.4444444444444444,
             "#bd3786"
            ],
            [
             0.5555555555555556,
             "#d8576b"
            ],
            [
             0.6666666666666666,
             "#ed7953"
            ],
            [
             0.7777777777777778,
             "#fb9f3a"
            ],
            [
             0.8888888888888888,
             "#fdca26"
            ],
            [
             1,
             "#f0f921"
            ]
           ],
           "sequentialminus": [
            [
             0,
             "#0d0887"
            ],
            [
             0.1111111111111111,
             "#46039f"
            ],
            [
             0.2222222222222222,
             "#7201a8"
            ],
            [
             0.3333333333333333,
             "#9c179e"
            ],
            [
             0.4444444444444444,
             "#bd3786"
            ],
            [
             0.5555555555555556,
             "#d8576b"
            ],
            [
             0.6666666666666666,
             "#ed7953"
            ],
            [
             0.7777777777777778,
             "#fb9f3a"
            ],
            [
             0.8888888888888888,
             "#fdca26"
            ],
            [
             1,
             "#f0f921"
            ]
           ]
          },
          "colorway": [
           "#636efa",
           "#EF553B",
           "#00cc96",
           "#ab63fa",
           "#FFA15A",
           "#19d3f3",
           "#FF6692",
           "#B6E880",
           "#FF97FF",
           "#FECB52"
          ],
          "font": {
           "color": "#2a3f5f"
          },
          "geo": {
           "bgcolor": "white",
           "lakecolor": "white",
           "landcolor": "#E5ECF6",
           "showlakes": true,
           "showland": true,
           "subunitcolor": "white"
          },
          "hoverlabel": {
           "align": "left"
          },
          "hovermode": "closest",
          "mapbox": {
           "style": "light"
          },
          "paper_bgcolor": "white",
          "plot_bgcolor": "#E5ECF6",
          "polar": {
           "angularaxis": {
            "gridcolor": "white",
            "linecolor": "white",
            "ticks": ""
           },
           "bgcolor": "#E5ECF6",
           "radialaxis": {
            "gridcolor": "white",
            "linecolor": "white",
            "ticks": ""
           }
          },
          "scene": {
           "xaxis": {
            "backgroundcolor": "#E5ECF6",
            "gridcolor": "white",
            "gridwidth": 2,
            "linecolor": "white",
            "showbackground": true,
            "ticks": "",
            "zerolinecolor": "white"
           },
           "yaxis": {
            "backgroundcolor": "#E5ECF6",
            "gridcolor": "white",
            "gridwidth": 2,
            "linecolor": "white",
            "showbackground": true,
            "ticks": "",
            "zerolinecolor": "white"
           },
           "zaxis": {
            "backgroundcolor": "#E5ECF6",
            "gridcolor": "white",
            "gridwidth": 2,
            "linecolor": "white",
            "showbackground": true,
            "ticks": "",
            "zerolinecolor": "white"
           }
          },
          "shapedefaults": {
           "line": {
            "color": "#2a3f5f"
           }
          },
          "ternary": {
           "aaxis": {
            "gridcolor": "white",
            "linecolor": "white",
            "ticks": ""
           },
           "baxis": {
            "gridcolor": "white",
            "linecolor": "white",
            "ticks": ""
           },
           "bgcolor": "#E5ECF6",
           "caxis": {
            "gridcolor": "white",
            "linecolor": "white",
            "ticks": ""
           }
          },
          "title": {
           "x": 0.05
          },
          "xaxis": {
           "automargin": true,
           "gridcolor": "white",
           "linecolor": "white",
           "ticks": "",
           "title": {
            "standoff": 15
           },
           "zerolinecolor": "white",
           "zerolinewidth": 2
          },
          "yaxis": {
           "automargin": true,
           "gridcolor": "white",
           "linecolor": "white",
           "ticks": "",
           "title": {
            "standoff": 15
           },
           "zerolinecolor": "white",
           "zerolinewidth": 2
          }
         }
        },
        "title": {
         "font": {
          "color": "#4D5663"
         }
        },
        "xaxis": {
         "gridcolor": "#E1E5ED",
         "showgrid": true,
         "tickfont": {
          "color": "#4D5663"
         },
         "title": {
          "font": {
           "color": "#4D5663"
          },
          "text": ""
         },
         "zerolinecolor": "#E1E5ED"
        },
        "yaxis": {
         "gridcolor": "#E1E5ED",
         "showgrid": true,
         "tickfont": {
          "color": "#4D5663"
         },
         "title": {
          "font": {
           "color": "#4D5663"
          },
          "text": ""
         },
         "zerolinecolor": "#E1E5ED"
        }
       }
      },
      "text/html": [
       "<div>                            <div id=\"cdfd1e2b-c6a8-44dc-824e-80927a6480f8\" class=\"plotly-graph-div\" style=\"height:525px; width:100%;\"></div>            <script type=\"text/javascript\">                require([\"plotly\"], function(Plotly) {                    window.PLOTLYENV=window.PLOTLYENV || {};\n",
       "                    window.PLOTLYENV.BASE_URL='https://plot.ly';                                    if (document.getElementById(\"cdfd1e2b-c6a8-44dc-824e-80927a6480f8\")) {                    Plotly.newPlot(                        \"cdfd1e2b-c6a8-44dc-824e-80927a6480f8\",                        [{\"line\":{\"color\":\"rgba(255, 153, 51, 1.0)\",\"dash\":\"solid\",\"shape\":\"linear\",\"width\":1.3},\"marker\":{\"size\":10,\"symbol\":\"circle\"},\"mode\":\"markers\",\"name\":\"B\",\"text\":\"\",\"x\":[1.9785474803328607,1.0092268487548832,-1.225013157557364,-1.7571929080727824,-0.3510321902033087,1.4100616476100398,-0.7107709961502106,-0.23874519373105246,1.2373841410062967,0.8323615939275861,-0.9041212935899998,1.0134132263520905,-0.48501594051186303,0.10711805122591342,1.053211572931562,1.8747476432241057,-1.6935363858985157,-0.2608680773992978,1.6883554154984184,0.7485058415919015,0.9786366361762188,-0.3085510438136002,-0.9304657253362264,0.6037118838048389,0.6245447736656713,1.2385002099949525,-0.7097874554477298,0.5823549670983328,-0.35803780976590854,1.5491322960816853,1.53807985352257,2.404581495249531,-0.9652410635551554,-0.47589035741556557,1.6683681176793281,-0.8476670562828995,-0.6211176310350959,-0.652231375444704,0.9359531059469797,-1.6020033412254073,0.31985344042035896,0.46587917758063924,-0.16268949490112863,-0.46277578442258077,0.058282399822782646,0.46307447698305676,0.3224978075603298,0.11526650280798287,-0.7692957618827033,-0.35826300853537124,-2.641779265896877,1.7247231795571583,0.3673705260306855,0.09276272084379551,-0.18472477320008263,-1.6970613031028194,0.1843645004161003,0.5921046508039165,0.784867163116174,0.035674674097062015,-1.0077029572479506,0.7461447282062237,-0.5868772103780041,-0.568107392843018,0.12065140233307468,-0.8069255129179801,-1.8704940936796401,-0.7404711419618509,-0.5983897510208666,1.7050616932429972,-0.9258406850844257,-0.22291973386169947,0.38082614288418576,-0.2256843255911952,-0.6287074591394933,2.394235061047817,0.668169433872653,0.9968613105270926,-1.032969040321864,2.164652725086726,0.15323306330310169,-0.5445996973395306,-0.4038606332641512,0.8909069835088288,0.197832202834394,-0.20753647433224323,-1.696035375361601,2.915074338040306,1.4848354580604801,0.4129310916479309,-0.5841717881041785,1.1138237134791464,-0.6351696242421287,-0.4751255037732066,-0.23049971038152886,0.07740486985743174,0.3266324105276788,-0.18148747202789775,0.18998088567144913,-0.18618896527839632],\"y\":[-1.5702617948214266,0.12942604733102087,-1.2169678178307737,-1.2778014589549243,1.8237927091633785,0.0983300722187688,-1.4867525497879113,0.25751460492347245,-0.8675529082563131,1.234516185844747,1.2849289284666068,-0.02214928596425894,1.8045203915299464,-0.2717929080799078,0.28282897890794684,0.4891061282687007,0.5443993907148782,0.03664611008771916,-1.4003908791201083,0.48765519178484606,0.7410222490313609,0.6552416409680061,0.7752657653055114,0.16471296627787774,-0.9082756830220291,-0.8942021456626656,-0.11711820349957816,1.3045192026835244,0.47610209947548787,-0.893996522001287,-1.9640426395138464,0.43177799306761144,0.2124861930961608,-0.26810503189773915,-0.2917277248112427,1.0600995580385186,-0.09616546623536769,0.009831686166474143,0.12449032978094596,1.0276096444007707,-1.0254918006858438,-0.491665530209502,-1.1532845391864175,0.7743603622969015,0.5015434994983705,-2.670307417221883,-1.2579742785445271,1.4905247530153953,-0.40082727355775954,0.013203193429966736,0.1478919810858192,1.8112635179969534,-1.5139512301237585,1.018692288823052,-1.1012653901407132,-0.5820767909418454,-1.4139610051553735,0.01755357736561984,0.5146723862357394,-0.1209274245317748,-0.491205835395233,0.0022244209716448093,-0.4631825451744534,0.907113410788158,-2.6207466340129444,0.4905596334180495,1.2439976629035,1.3620583916014237,-0.19132402487449365,2.2972892403697673,-1.1367556296822485,0.7947113392733698,0.5105297809039376,0.9137443265637776,0.9924360158790626,0.9138885179435232,-0.25964561644063744,-1.959604933558067,-0.6889732022152018,-0.3191836910416321,0.07420510684222735,-1.9129165314678132,0.3526977808732218,-1.4994800777658641,0.3742016214330207,-0.7211513000095967,-0.961856771165803,0.7952332385174912,1.0987584252515978,-1.684638463358606,-0.13351592575428659,0.5041206166281047,-0.24754116237098892,-2.396950493369511,0.3509411161599187,-0.14041401285102192,0.650789056470859,-0.8620434947700216,0.11914014339928516,-0.6736618243248493],\"type\":\"scatter\"}],                        {\"legend\":{\"bgcolor\":\"#F5F6F9\",\"font\":{\"color\":\"#4D5663\"}},\"paper_bgcolor\":\"#F5F6F9\",\"plot_bgcolor\":\"#F5F6F9\",\"template\":{\"data\":{\"barpolar\":[{\"marker\":{\"line\":{\"color\":\"#E5ECF6\",\"width\":0.5},\"pattern\":{\"fillmode\":\"overlay\",\"size\":10,\"solidity\":0.2}},\"type\":\"barpolar\"}],\"bar\":[{\"error_x\":{\"color\":\"#2a3f5f\"},\"error_y\":{\"color\":\"#2a3f5f\"},\"marker\":{\"line\":{\"color\":\"#E5ECF6\",\"width\":0.5},\"pattern\":{\"fillmode\":\"overlay\",\"size\":10,\"solidity\":0.2}},\"type\":\"bar\"}],\"carpet\":[{\"aaxis\":{\"endlinecolor\":\"#2a3f5f\",\"gridcolor\":\"white\",\"linecolor\":\"white\",\"minorgridcolor\":\"white\",\"startlinecolor\":\"#2a3f5f\"},\"baxis\":{\"endlinecolor\":\"#2a3f5f\",\"gridcolor\":\"white\",\"linecolor\":\"white\",\"minorgridcolor\":\"white\",\"startlinecolor\":\"#2a3f5f\"},\"type\":\"carpet\"}],\"choropleth\":[{\"colorbar\":{\"outlinewidth\":0,\"ticks\":\"\"},\"type\":\"choropleth\"}],\"contourcarpet\":[{\"colorbar\":{\"outlinewidth\":0,\"ticks\":\"\"},\"type\":\"contourcarpet\"}],\"contour\":[{\"colorbar\":{\"outlinewidth\":0,\"ticks\":\"\"},\"colorscale\":[[0.0,\"#0d0887\"],[0.1111111111111111,\"#46039f\"],[0.2222222222222222,\"#7201a8\"],[0.3333333333333333,\"#9c179e\"],[0.4444444444444444,\"#bd3786\"],[0.5555555555555556,\"#d8576b\"],[0.6666666666666666,\"#ed7953\"],[0.7777777777777778,\"#fb9f3a\"],[0.8888888888888888,\"#fdca26\"],[1.0,\"#f0f921\"]],\"type\":\"contour\"}],\"heatmapgl\":[{\"colorbar\":{\"outlinewidth\":0,\"ticks\":\"\"},\"colorscale\":[[0.0,\"#0d0887\"],[0.1111111111111111,\"#46039f\"],[0.2222222222222222,\"#7201a8\"],[0.3333333333333333,\"#9c179e\"],[0.4444444444444444,\"#bd3786\"],[0.5555555555555556,\"#d8576b\"],[0.6666666666666666,\"#ed7953\"],[0.7777777777777778,\"#fb9f3a\"],[0.8888888888888888,\"#fdca26\"],[1.0,\"#f0f921\"]],\"type\":\"heatmapgl\"}],\"heatmap\":[{\"colorbar\":{\"outlinewidth\":0,\"ticks\":\"\"},\"colorscale\":[[0.0,\"#0d0887\"],[0.1111111111111111,\"#46039f\"],[0.2222222222222222,\"#7201a8\"],[0.3333333333333333,\"#9c179e\"],[0.4444444444444444,\"#bd3786\"],[0.5555555555555556,\"#d8576b\"],[0.6666666666666666,\"#ed7953\"],[0.7777777777777778,\"#fb9f3a\"],[0.8888888888888888,\"#fdca26\"],[1.0,\"#f0f921\"]],\"type\":\"heatmap\"}],\"histogram2dcontour\":[{\"colorbar\":{\"outlinewidth\":0,\"ticks\":\"\"},\"colorscale\":[[0.0,\"#0d0887\"],[0.1111111111111111,\"#46039f\"],[0.2222222222222222,\"#7201a8\"],[0.3333333333333333,\"#9c179e\"],[0.4444444444444444,\"#bd3786\"],[0.5555555555555556,\"#d8576b\"],[0.6666666666666666,\"#ed7953\"],[0.7777777777777778,\"#fb9f3a\"],[0.8888888888888888,\"#fdca26\"],[1.0,\"#f0f921\"]],\"type\":\"histogram2dcontour\"}],\"histogram2d\":[{\"colorbar\":{\"outlinewidth\":0,\"ticks\":\"\"},\"colorscale\":[[0.0,\"#0d0887\"],[0.1111111111111111,\"#46039f\"],[0.2222222222222222,\"#7201a8\"],[0.3333333333333333,\"#9c179e\"],[0.4444444444444444,\"#bd3786\"],[0.5555555555555556,\"#d8576b\"],[0.6666666666666666,\"#ed7953\"],[0.7777777777777778,\"#fb9f3a\"],[0.8888888888888888,\"#fdca26\"],[1.0,\"#f0f921\"]],\"type\":\"histogram2d\"}],\"histogram\":[{\"marker\":{\"pattern\":{\"fillmode\":\"overlay\",\"size\":10,\"solidity\":0.2}},\"type\":\"histogram\"}],\"mesh3d\":[{\"colorbar\":{\"outlinewidth\":0,\"ticks\":\"\"},\"type\":\"mesh3d\"}],\"parcoords\":[{\"line\":{\"colorbar\":{\"outlinewidth\":0,\"ticks\":\"\"}},\"type\":\"parcoords\"}],\"pie\":[{\"automargin\":true,\"type\":\"pie\"}],\"scatter3d\":[{\"line\":{\"colorbar\":{\"outlinewidth\":0,\"ticks\":\"\"}},\"marker\":{\"colorbar\":{\"outlinewidth\":0,\"ticks\":\"\"}},\"type\":\"scatter3d\"}],\"scattercarpet\":[{\"marker\":{\"colorbar\":{\"outlinewidth\":0,\"ticks\":\"\"}},\"type\":\"scattercarpet\"}],\"scattergeo\":[{\"marker\":{\"colorbar\":{\"outlinewidth\":0,\"ticks\":\"\"}},\"type\":\"scattergeo\"}],\"scattergl\":[{\"marker\":{\"colorbar\":{\"outlinewidth\":0,\"ticks\":\"\"}},\"type\":\"scattergl\"}],\"scattermapbox\":[{\"marker\":{\"colorbar\":{\"outlinewidth\":0,\"ticks\":\"\"}},\"type\":\"scattermapbox\"}],\"scatterpolargl\":[{\"marker\":{\"colorbar\":{\"outlinewidth\":0,\"ticks\":\"\"}},\"type\":\"scatterpolargl\"}],\"scatterpolar\":[{\"marker\":{\"colorbar\":{\"outlinewidth\":0,\"ticks\":\"\"}},\"type\":\"scatterpolar\"}],\"scatter\":[{\"fillpattern\":{\"fillmode\":\"overlay\",\"size\":10,\"solidity\":0.2},\"type\":\"scatter\"}],\"scatterternary\":[{\"marker\":{\"colorbar\":{\"outlinewidth\":0,\"ticks\":\"\"}},\"type\":\"scatterternary\"}],\"surface\":[{\"colorbar\":{\"outlinewidth\":0,\"ticks\":\"\"},\"colorscale\":[[0.0,\"#0d0887\"],[0.1111111111111111,\"#46039f\"],[0.2222222222222222,\"#7201a8\"],[0.3333333333333333,\"#9c179e\"],[0.4444444444444444,\"#bd3786\"],[0.5555555555555556,\"#d8576b\"],[0.6666666666666666,\"#ed7953\"],[0.7777777777777778,\"#fb9f3a\"],[0.8888888888888888,\"#fdca26\"],[1.0,\"#f0f921\"]],\"type\":\"surface\"}],\"table\":[{\"cells\":{\"fill\":{\"color\":\"#EBF0F8\"},\"line\":{\"color\":\"white\"}},\"header\":{\"fill\":{\"color\":\"#C8D4E3\"},\"line\":{\"color\":\"white\"}},\"type\":\"table\"}]},\"layout\":{\"annotationdefaults\":{\"arrowcolor\":\"#2a3f5f\",\"arrowhead\":0,\"arrowwidth\":1},\"autotypenumbers\":\"strict\",\"coloraxis\":{\"colorbar\":{\"outlinewidth\":0,\"ticks\":\"\"}},\"colorscale\":{\"diverging\":[[0,\"#8e0152\"],[0.1,\"#c51b7d\"],[0.2,\"#de77ae\"],[0.3,\"#f1b6da\"],[0.4,\"#fde0ef\"],[0.5,\"#f7f7f7\"],[0.6,\"#e6f5d0\"],[0.7,\"#b8e186\"],[0.8,\"#7fbc41\"],[0.9,\"#4d9221\"],[1,\"#276419\"]],\"sequential\":[[0.0,\"#0d0887\"],[0.1111111111111111,\"#46039f\"],[0.2222222222222222,\"#7201a8\"],[0.3333333333333333,\"#9c179e\"],[0.4444444444444444,\"#bd3786\"],[0.5555555555555556,\"#d8576b\"],[0.6666666666666666,\"#ed7953\"],[0.7777777777777778,\"#fb9f3a\"],[0.8888888888888888,\"#fdca26\"],[1.0,\"#f0f921\"]],\"sequentialminus\":[[0.0,\"#0d0887\"],[0.1111111111111111,\"#46039f\"],[0.2222222222222222,\"#7201a8\"],[0.3333333333333333,\"#9c179e\"],[0.4444444444444444,\"#bd3786\"],[0.5555555555555556,\"#d8576b\"],[0.6666666666666666,\"#ed7953\"],[0.7777777777777778,\"#fb9f3a\"],[0.8888888888888888,\"#fdca26\"],[1.0,\"#f0f921\"]]},\"colorway\":[\"#636efa\",\"#EF553B\",\"#00cc96\",\"#ab63fa\",\"#FFA15A\",\"#19d3f3\",\"#FF6692\",\"#B6E880\",\"#FF97FF\",\"#FECB52\"],\"font\":{\"color\":\"#2a3f5f\"},\"geo\":{\"bgcolor\":\"white\",\"lakecolor\":\"white\",\"landcolor\":\"#E5ECF6\",\"showlakes\":true,\"showland\":true,\"subunitcolor\":\"white\"},\"hoverlabel\":{\"align\":\"left\"},\"hovermode\":\"closest\",\"mapbox\":{\"style\":\"light\"},\"paper_bgcolor\":\"white\",\"plot_bgcolor\":\"#E5ECF6\",\"polar\":{\"angularaxis\":{\"gridcolor\":\"white\",\"linecolor\":\"white\",\"ticks\":\"\"},\"bgcolor\":\"#E5ECF6\",\"radialaxis\":{\"gridcolor\":\"white\",\"linecolor\":\"white\",\"ticks\":\"\"}},\"scene\":{\"xaxis\":{\"backgroundcolor\":\"#E5ECF6\",\"gridcolor\":\"white\",\"gridwidth\":2,\"linecolor\":\"white\",\"showbackground\":true,\"ticks\":\"\",\"zerolinecolor\":\"white\"},\"yaxis\":{\"backgroundcolor\":\"#E5ECF6\",\"gridcolor\":\"white\",\"gridwidth\":2,\"linecolor\":\"white\",\"showbackground\":true,\"ticks\":\"\",\"zerolinecolor\":\"white\"},\"zaxis\":{\"backgroundcolor\":\"#E5ECF6\",\"gridcolor\":\"white\",\"gridwidth\":2,\"linecolor\":\"white\",\"showbackground\":true,\"ticks\":\"\",\"zerolinecolor\":\"white\"}},\"shapedefaults\":{\"line\":{\"color\":\"#2a3f5f\"}},\"ternary\":{\"aaxis\":{\"gridcolor\":\"white\",\"linecolor\":\"white\",\"ticks\":\"\"},\"baxis\":{\"gridcolor\":\"white\",\"linecolor\":\"white\",\"ticks\":\"\"},\"bgcolor\":\"#E5ECF6\",\"caxis\":{\"gridcolor\":\"white\",\"linecolor\":\"white\",\"ticks\":\"\"}},\"title\":{\"x\":0.05},\"xaxis\":{\"automargin\":true,\"gridcolor\":\"white\",\"linecolor\":\"white\",\"ticks\":\"\",\"title\":{\"standoff\":15},\"zerolinecolor\":\"white\",\"zerolinewidth\":2},\"yaxis\":{\"automargin\":true,\"gridcolor\":\"white\",\"linecolor\":\"white\",\"ticks\":\"\",\"title\":{\"standoff\":15},\"zerolinecolor\":\"white\",\"zerolinewidth\":2}}},\"title\":{\"font\":{\"color\":\"#4D5663\"}},\"xaxis\":{\"gridcolor\":\"#E1E5ED\",\"showgrid\":true,\"tickfont\":{\"color\":\"#4D5663\"},\"title\":{\"font\":{\"color\":\"#4D5663\"},\"text\":\"\"},\"zerolinecolor\":\"#E1E5ED\"},\"yaxis\":{\"gridcolor\":\"#E1E5ED\",\"showgrid\":true,\"tickfont\":{\"color\":\"#4D5663\"},\"title\":{\"font\":{\"color\":\"#4D5663\"},\"text\":\"\"},\"zerolinecolor\":\"#E1E5ED\"}},                        {\"showLink\": true, \"linkText\": \"Export to plot.ly\", \"plotlyServerURL\": \"https://plot.ly\", \"responsive\": true}                    ).then(function(){\n",
       "                            \n",
       "var gd = document.getElementById('cdfd1e2b-c6a8-44dc-824e-80927a6480f8');\n",
       "var x = new MutationObserver(function (mutations, observer) {{\n",
       "        var display = window.getComputedStyle(gd).display;\n",
       "        if (!display || display === 'none') {{\n",
       "            console.log([gd, 'removed!']);\n",
       "            Plotly.purge(gd);\n",
       "            observer.disconnect();\n",
       "        }}\n",
       "}});\n",
       "\n",
       "// Listen for the removal of the full notebook cells\n",
       "var notebookContainer = gd.closest('#notebook-container');\n",
       "if (notebookContainer) {{\n",
       "    x.observe(notebookContainer, {childList: true});\n",
       "}}\n",
       "\n",
       "// Listen for the clearing of the current output cell\n",
       "var outputEl = gd.closest('.output');\n",
       "if (outputEl) {{\n",
       "    x.observe(outputEl, {childList: true});\n",
       "}}\n",
       "\n",
       "                        })                };                });            </script>        </div>"
      ]
     },
     "metadata": {},
     "output_type": "display_data"
    }
   ],
   "source": [
    "df.iplot(kind='scatter',x='A',y='B',mode='markers',size=10)"
   ]
  },
  {
   "cell_type": "markdown",
   "metadata": {},
   "source": [
    "#### Bar Plots"
   ]
  },
  {
   "cell_type": "code",
   "execution_count": 24,
   "metadata": {},
   "outputs": [
    {
     "data": {
      "application/vnd.plotly.v1+json": {
       "config": {
        "linkText": "Export to plot.ly",
        "plotlyServerURL": "https://plot.ly",
        "showLink": true
       },
       "data": [
        {
         "marker": {
          "color": "rgba(255, 153, 51, 0.6)",
          "line": {
           "color": "rgba(255, 153, 51, 1.0)",
           "width": 1
          }
         },
         "name": "Values",
         "orientation": "v",
         "text": "",
         "type": "bar",
         "x": [
          "A",
          "B",
          "C"
         ],
         "y": [
          32,
          43,
          50
         ]
        }
       ],
       "layout": {
        "legend": {
         "bgcolor": "#F5F6F9",
         "font": {
          "color": "#4D5663"
         }
        },
        "paper_bgcolor": "#F5F6F9",
        "plot_bgcolor": "#F5F6F9",
        "template": {
         "data": {
          "bar": [
           {
            "error_x": {
             "color": "#2a3f5f"
            },
            "error_y": {
             "color": "#2a3f5f"
            },
            "marker": {
             "line": {
              "color": "#E5ECF6",
              "width": 0.5
             },
             "pattern": {
              "fillmode": "overlay",
              "size": 10,
              "solidity": 0.2
             }
            },
            "type": "bar"
           }
          ],
          "barpolar": [
           {
            "marker": {
             "line": {
              "color": "#E5ECF6",
              "width": 0.5
             },
             "pattern": {
              "fillmode": "overlay",
              "size": 10,
              "solidity": 0.2
             }
            },
            "type": "barpolar"
           }
          ],
          "carpet": [
           {
            "aaxis": {
             "endlinecolor": "#2a3f5f",
             "gridcolor": "white",
             "linecolor": "white",
             "minorgridcolor": "white",
             "startlinecolor": "#2a3f5f"
            },
            "baxis": {
             "endlinecolor": "#2a3f5f",
             "gridcolor": "white",
             "linecolor": "white",
             "minorgridcolor": "white",
             "startlinecolor": "#2a3f5f"
            },
            "type": "carpet"
           }
          ],
          "choropleth": [
           {
            "colorbar": {
             "outlinewidth": 0,
             "ticks": ""
            },
            "type": "choropleth"
           }
          ],
          "contour": [
           {
            "colorbar": {
             "outlinewidth": 0,
             "ticks": ""
            },
            "colorscale": [
             [
              0,
              "#0d0887"
             ],
             [
              0.1111111111111111,
              "#46039f"
             ],
             [
              0.2222222222222222,
              "#7201a8"
             ],
             [
              0.3333333333333333,
              "#9c179e"
             ],
             [
              0.4444444444444444,
              "#bd3786"
             ],
             [
              0.5555555555555556,
              "#d8576b"
             ],
             [
              0.6666666666666666,
              "#ed7953"
             ],
             [
              0.7777777777777778,
              "#fb9f3a"
             ],
             [
              0.8888888888888888,
              "#fdca26"
             ],
             [
              1,
              "#f0f921"
             ]
            ],
            "type": "contour"
           }
          ],
          "contourcarpet": [
           {
            "colorbar": {
             "outlinewidth": 0,
             "ticks": ""
            },
            "type": "contourcarpet"
           }
          ],
          "heatmap": [
           {
            "colorbar": {
             "outlinewidth": 0,
             "ticks": ""
            },
            "colorscale": [
             [
              0,
              "#0d0887"
             ],
             [
              0.1111111111111111,
              "#46039f"
             ],
             [
              0.2222222222222222,
              "#7201a8"
             ],
             [
              0.3333333333333333,
              "#9c179e"
             ],
             [
              0.4444444444444444,
              "#bd3786"
             ],
             [
              0.5555555555555556,
              "#d8576b"
             ],
             [
              0.6666666666666666,
              "#ed7953"
             ],
             [
              0.7777777777777778,
              "#fb9f3a"
             ],
             [
              0.8888888888888888,
              "#fdca26"
             ],
             [
              1,
              "#f0f921"
             ]
            ],
            "type": "heatmap"
           }
          ],
          "heatmapgl": [
           {
            "colorbar": {
             "outlinewidth": 0,
             "ticks": ""
            },
            "colorscale": [
             [
              0,
              "#0d0887"
             ],
             [
              0.1111111111111111,
              "#46039f"
             ],
             [
              0.2222222222222222,
              "#7201a8"
             ],
             [
              0.3333333333333333,
              "#9c179e"
             ],
             [
              0.4444444444444444,
              "#bd3786"
             ],
             [
              0.5555555555555556,
              "#d8576b"
             ],
             [
              0.6666666666666666,
              "#ed7953"
             ],
             [
              0.7777777777777778,
              "#fb9f3a"
             ],
             [
              0.8888888888888888,
              "#fdca26"
             ],
             [
              1,
              "#f0f921"
             ]
            ],
            "type": "heatmapgl"
           }
          ],
          "histogram": [
           {
            "marker": {
             "pattern": {
              "fillmode": "overlay",
              "size": 10,
              "solidity": 0.2
             }
            },
            "type": "histogram"
           }
          ],
          "histogram2d": [
           {
            "colorbar": {
             "outlinewidth": 0,
             "ticks": ""
            },
            "colorscale": [
             [
              0,
              "#0d0887"
             ],
             [
              0.1111111111111111,
              "#46039f"
             ],
             [
              0.2222222222222222,
              "#7201a8"
             ],
             [
              0.3333333333333333,
              "#9c179e"
             ],
             [
              0.4444444444444444,
              "#bd3786"
             ],
             [
              0.5555555555555556,
              "#d8576b"
             ],
             [
              0.6666666666666666,
              "#ed7953"
             ],
             [
              0.7777777777777778,
              "#fb9f3a"
             ],
             [
              0.8888888888888888,
              "#fdca26"
             ],
             [
              1,
              "#f0f921"
             ]
            ],
            "type": "histogram2d"
           }
          ],
          "histogram2dcontour": [
           {
            "colorbar": {
             "outlinewidth": 0,
             "ticks": ""
            },
            "colorscale": [
             [
              0,
              "#0d0887"
             ],
             [
              0.1111111111111111,
              "#46039f"
             ],
             [
              0.2222222222222222,
              "#7201a8"
             ],
             [
              0.3333333333333333,
              "#9c179e"
             ],
             [
              0.4444444444444444,
              "#bd3786"
             ],
             [
              0.5555555555555556,
              "#d8576b"
             ],
             [
              0.6666666666666666,
              "#ed7953"
             ],
             [
              0.7777777777777778,
              "#fb9f3a"
             ],
             [
              0.8888888888888888,
              "#fdca26"
             ],
             [
              1,
              "#f0f921"
             ]
            ],
            "type": "histogram2dcontour"
           }
          ],
          "mesh3d": [
           {
            "colorbar": {
             "outlinewidth": 0,
             "ticks": ""
            },
            "type": "mesh3d"
           }
          ],
          "parcoords": [
           {
            "line": {
             "colorbar": {
              "outlinewidth": 0,
              "ticks": ""
             }
            },
            "type": "parcoords"
           }
          ],
          "pie": [
           {
            "automargin": true,
            "type": "pie"
           }
          ],
          "scatter": [
           {
            "fillpattern": {
             "fillmode": "overlay",
             "size": 10,
             "solidity": 0.2
            },
            "type": "scatter"
           }
          ],
          "scatter3d": [
           {
            "line": {
             "colorbar": {
              "outlinewidth": 0,
              "ticks": ""
             }
            },
            "marker": {
             "colorbar": {
              "outlinewidth": 0,
              "ticks": ""
             }
            },
            "type": "scatter3d"
           }
          ],
          "scattercarpet": [
           {
            "marker": {
             "colorbar": {
              "outlinewidth": 0,
              "ticks": ""
             }
            },
            "type": "scattercarpet"
           }
          ],
          "scattergeo": [
           {
            "marker": {
             "colorbar": {
              "outlinewidth": 0,
              "ticks": ""
             }
            },
            "type": "scattergeo"
           }
          ],
          "scattergl": [
           {
            "marker": {
             "colorbar": {
              "outlinewidth": 0,
              "ticks": ""
             }
            },
            "type": "scattergl"
           }
          ],
          "scattermapbox": [
           {
            "marker": {
             "colorbar": {
              "outlinewidth": 0,
              "ticks": ""
             }
            },
            "type": "scattermapbox"
           }
          ],
          "scatterpolar": [
           {
            "marker": {
             "colorbar": {
              "outlinewidth": 0,
              "ticks": ""
             }
            },
            "type": "scatterpolar"
           }
          ],
          "scatterpolargl": [
           {
            "marker": {
             "colorbar": {
              "outlinewidth": 0,
              "ticks": ""
             }
            },
            "type": "scatterpolargl"
           }
          ],
          "scatterternary": [
           {
            "marker": {
             "colorbar": {
              "outlinewidth": 0,
              "ticks": ""
             }
            },
            "type": "scatterternary"
           }
          ],
          "surface": [
           {
            "colorbar": {
             "outlinewidth": 0,
             "ticks": ""
            },
            "colorscale": [
             [
              0,
              "#0d0887"
             ],
             [
              0.1111111111111111,
              "#46039f"
             ],
             [
              0.2222222222222222,
              "#7201a8"
             ],
             [
              0.3333333333333333,
              "#9c179e"
             ],
             [
              0.4444444444444444,
              "#bd3786"
             ],
             [
              0.5555555555555556,
              "#d8576b"
             ],
             [
              0.6666666666666666,
              "#ed7953"
             ],
             [
              0.7777777777777778,
              "#fb9f3a"
             ],
             [
              0.8888888888888888,
              "#fdca26"
             ],
             [
              1,
              "#f0f921"
             ]
            ],
            "type": "surface"
           }
          ],
          "table": [
           {
            "cells": {
             "fill": {
              "color": "#EBF0F8"
             },
             "line": {
              "color": "white"
             }
            },
            "header": {
             "fill": {
              "color": "#C8D4E3"
             },
             "line": {
              "color": "white"
             }
            },
            "type": "table"
           }
          ]
         },
         "layout": {
          "annotationdefaults": {
           "arrowcolor": "#2a3f5f",
           "arrowhead": 0,
           "arrowwidth": 1
          },
          "autotypenumbers": "strict",
          "coloraxis": {
           "colorbar": {
            "outlinewidth": 0,
            "ticks": ""
           }
          },
          "colorscale": {
           "diverging": [
            [
             0,
             "#8e0152"
            ],
            [
             0.1,
             "#c51b7d"
            ],
            [
             0.2,
             "#de77ae"
            ],
            [
             0.3,
             "#f1b6da"
            ],
            [
             0.4,
             "#fde0ef"
            ],
            [
             0.5,
             "#f7f7f7"
            ],
            [
             0.6,
             "#e6f5d0"
            ],
            [
             0.7,
             "#b8e186"
            ],
            [
             0.8,
             "#7fbc41"
            ],
            [
             0.9,
             "#4d9221"
            ],
            [
             1,
             "#276419"
            ]
           ],
           "sequential": [
            [
             0,
             "#0d0887"
            ],
            [
             0.1111111111111111,
             "#46039f"
            ],
            [
             0.2222222222222222,
             "#7201a8"
            ],
            [
             0.3333333333333333,
             "#9c179e"
            ],
            [
             0.4444444444444444,
             "#bd3786"
            ],
            [
             0.5555555555555556,
             "#d8576b"
            ],
            [
             0.6666666666666666,
             "#ed7953"
            ],
            [
             0.7777777777777778,
             "#fb9f3a"
            ],
            [
             0.8888888888888888,
             "#fdca26"
            ],
            [
             1,
             "#f0f921"
            ]
           ],
           "sequentialminus": [
            [
             0,
             "#0d0887"
            ],
            [
             0.1111111111111111,
             "#46039f"
            ],
            [
             0.2222222222222222,
             "#7201a8"
            ],
            [
             0.3333333333333333,
             "#9c179e"
            ],
            [
             0.4444444444444444,
             "#bd3786"
            ],
            [
             0.5555555555555556,
             "#d8576b"
            ],
            [
             0.6666666666666666,
             "#ed7953"
            ],
            [
             0.7777777777777778,
             "#fb9f3a"
            ],
            [
             0.8888888888888888,
             "#fdca26"
            ],
            [
             1,
             "#f0f921"
            ]
           ]
          },
          "colorway": [
           "#636efa",
           "#EF553B",
           "#00cc96",
           "#ab63fa",
           "#FFA15A",
           "#19d3f3",
           "#FF6692",
           "#B6E880",
           "#FF97FF",
           "#FECB52"
          ],
          "font": {
           "color": "#2a3f5f"
          },
          "geo": {
           "bgcolor": "white",
           "lakecolor": "white",
           "landcolor": "#E5ECF6",
           "showlakes": true,
           "showland": true,
           "subunitcolor": "white"
          },
          "hoverlabel": {
           "align": "left"
          },
          "hovermode": "closest",
          "mapbox": {
           "style": "light"
          },
          "paper_bgcolor": "white",
          "plot_bgcolor": "#E5ECF6",
          "polar": {
           "angularaxis": {
            "gridcolor": "white",
            "linecolor": "white",
            "ticks": ""
           },
           "bgcolor": "#E5ECF6",
           "radialaxis": {
            "gridcolor": "white",
            "linecolor": "white",
            "ticks": ""
           }
          },
          "scene": {
           "xaxis": {
            "backgroundcolor": "#E5ECF6",
            "gridcolor": "white",
            "gridwidth": 2,
            "linecolor": "white",
            "showbackground": true,
            "ticks": "",
            "zerolinecolor": "white"
           },
           "yaxis": {
            "backgroundcolor": "#E5ECF6",
            "gridcolor": "white",
            "gridwidth": 2,
            "linecolor": "white",
            "showbackground": true,
            "ticks": "",
            "zerolinecolor": "white"
           },
           "zaxis": {
            "backgroundcolor": "#E5ECF6",
            "gridcolor": "white",
            "gridwidth": 2,
            "linecolor": "white",
            "showbackground": true,
            "ticks": "",
            "zerolinecolor": "white"
           }
          },
          "shapedefaults": {
           "line": {
            "color": "#2a3f5f"
           }
          },
          "ternary": {
           "aaxis": {
            "gridcolor": "white",
            "linecolor": "white",
            "ticks": ""
           },
           "baxis": {
            "gridcolor": "white",
            "linecolor": "white",
            "ticks": ""
           },
           "bgcolor": "#E5ECF6",
           "caxis": {
            "gridcolor": "white",
            "linecolor": "white",
            "ticks": ""
           }
          },
          "title": {
           "x": 0.05
          },
          "xaxis": {
           "automargin": true,
           "gridcolor": "white",
           "linecolor": "white",
           "ticks": "",
           "title": {
            "standoff": 15
           },
           "zerolinecolor": "white",
           "zerolinewidth": 2
          },
          "yaxis": {
           "automargin": true,
           "gridcolor": "white",
           "linecolor": "white",
           "ticks": "",
           "title": {
            "standoff": 15
           },
           "zerolinecolor": "white",
           "zerolinewidth": 2
          }
         }
        },
        "title": {
         "font": {
          "color": "#4D5663"
         }
        },
        "xaxis": {
         "gridcolor": "#E1E5ED",
         "showgrid": true,
         "tickfont": {
          "color": "#4D5663"
         },
         "title": {
          "font": {
           "color": "#4D5663"
          },
          "text": ""
         },
         "zerolinecolor": "#E1E5ED"
        },
        "yaxis": {
         "gridcolor": "#E1E5ED",
         "showgrid": true,
         "tickfont": {
          "color": "#4D5663"
         },
         "title": {
          "font": {
           "color": "#4D5663"
          },
          "text": ""
         },
         "zerolinecolor": "#E1E5ED"
        }
       }
      },
      "text/html": [
       "<div>                            <div id=\"d741c458-ae9c-479b-9382-9e9498a65422\" class=\"plotly-graph-div\" style=\"height:525px; width:100%;\"></div>            <script type=\"text/javascript\">                require([\"plotly\"], function(Plotly) {                    window.PLOTLYENV=window.PLOTLYENV || {};\n",
       "                    window.PLOTLYENV.BASE_URL='https://plot.ly';                                    if (document.getElementById(\"d741c458-ae9c-479b-9382-9e9498a65422\")) {                    Plotly.newPlot(                        \"d741c458-ae9c-479b-9382-9e9498a65422\",                        [{\"marker\":{\"color\":\"rgba(255, 153, 51, 0.6)\",\"line\":{\"color\":\"rgba(255, 153, 51, 1.0)\",\"width\":1}},\"name\":\"Values\",\"orientation\":\"v\",\"text\":\"\",\"x\":[\"A\",\"B\",\"C\"],\"y\":[32,43,50],\"type\":\"bar\"}],                        {\"legend\":{\"bgcolor\":\"#F5F6F9\",\"font\":{\"color\":\"#4D5663\"}},\"paper_bgcolor\":\"#F5F6F9\",\"plot_bgcolor\":\"#F5F6F9\",\"template\":{\"data\":{\"barpolar\":[{\"marker\":{\"line\":{\"color\":\"#E5ECF6\",\"width\":0.5},\"pattern\":{\"fillmode\":\"overlay\",\"size\":10,\"solidity\":0.2}},\"type\":\"barpolar\"}],\"bar\":[{\"error_x\":{\"color\":\"#2a3f5f\"},\"error_y\":{\"color\":\"#2a3f5f\"},\"marker\":{\"line\":{\"color\":\"#E5ECF6\",\"width\":0.5},\"pattern\":{\"fillmode\":\"overlay\",\"size\":10,\"solidity\":0.2}},\"type\":\"bar\"}],\"carpet\":[{\"aaxis\":{\"endlinecolor\":\"#2a3f5f\",\"gridcolor\":\"white\",\"linecolor\":\"white\",\"minorgridcolor\":\"white\",\"startlinecolor\":\"#2a3f5f\"},\"baxis\":{\"endlinecolor\":\"#2a3f5f\",\"gridcolor\":\"white\",\"linecolor\":\"white\",\"minorgridcolor\":\"white\",\"startlinecolor\":\"#2a3f5f\"},\"type\":\"carpet\"}],\"choropleth\":[{\"colorbar\":{\"outlinewidth\":0,\"ticks\":\"\"},\"type\":\"choropleth\"}],\"contourcarpet\":[{\"colorbar\":{\"outlinewidth\":0,\"ticks\":\"\"},\"type\":\"contourcarpet\"}],\"contour\":[{\"colorbar\":{\"outlinewidth\":0,\"ticks\":\"\"},\"colorscale\":[[0.0,\"#0d0887\"],[0.1111111111111111,\"#46039f\"],[0.2222222222222222,\"#7201a8\"],[0.3333333333333333,\"#9c179e\"],[0.4444444444444444,\"#bd3786\"],[0.5555555555555556,\"#d8576b\"],[0.6666666666666666,\"#ed7953\"],[0.7777777777777778,\"#fb9f3a\"],[0.8888888888888888,\"#fdca26\"],[1.0,\"#f0f921\"]],\"type\":\"contour\"}],\"heatmapgl\":[{\"colorbar\":{\"outlinewidth\":0,\"ticks\":\"\"},\"colorscale\":[[0.0,\"#0d0887\"],[0.1111111111111111,\"#46039f\"],[0.2222222222222222,\"#7201a8\"],[0.3333333333333333,\"#9c179e\"],[0.4444444444444444,\"#bd3786\"],[0.5555555555555556,\"#d8576b\"],[0.6666666666666666,\"#ed7953\"],[0.7777777777777778,\"#fb9f3a\"],[0.8888888888888888,\"#fdca26\"],[1.0,\"#f0f921\"]],\"type\":\"heatmapgl\"}],\"heatmap\":[{\"colorbar\":{\"outlinewidth\":0,\"ticks\":\"\"},\"colorscale\":[[0.0,\"#0d0887\"],[0.1111111111111111,\"#46039f\"],[0.2222222222222222,\"#7201a8\"],[0.3333333333333333,\"#9c179e\"],[0.4444444444444444,\"#bd3786\"],[0.5555555555555556,\"#d8576b\"],[0.6666666666666666,\"#ed7953\"],[0.7777777777777778,\"#fb9f3a\"],[0.8888888888888888,\"#fdca26\"],[1.0,\"#f0f921\"]],\"type\":\"heatmap\"}],\"histogram2dcontour\":[{\"colorbar\":{\"outlinewidth\":0,\"ticks\":\"\"},\"colorscale\":[[0.0,\"#0d0887\"],[0.1111111111111111,\"#46039f\"],[0.2222222222222222,\"#7201a8\"],[0.3333333333333333,\"#9c179e\"],[0.4444444444444444,\"#bd3786\"],[0.5555555555555556,\"#d8576b\"],[0.6666666666666666,\"#ed7953\"],[0.7777777777777778,\"#fb9f3a\"],[0.8888888888888888,\"#fdca26\"],[1.0,\"#f0f921\"]],\"type\":\"histogram2dcontour\"}],\"histogram2d\":[{\"colorbar\":{\"outlinewidth\":0,\"ticks\":\"\"},\"colorscale\":[[0.0,\"#0d0887\"],[0.1111111111111111,\"#46039f\"],[0.2222222222222222,\"#7201a8\"],[0.3333333333333333,\"#9c179e\"],[0.4444444444444444,\"#bd3786\"],[0.5555555555555556,\"#d8576b\"],[0.6666666666666666,\"#ed7953\"],[0.7777777777777778,\"#fb9f3a\"],[0.8888888888888888,\"#fdca26\"],[1.0,\"#f0f921\"]],\"type\":\"histogram2d\"}],\"histogram\":[{\"marker\":{\"pattern\":{\"fillmode\":\"overlay\",\"size\":10,\"solidity\":0.2}},\"type\":\"histogram\"}],\"mesh3d\":[{\"colorbar\":{\"outlinewidth\":0,\"ticks\":\"\"},\"type\":\"mesh3d\"}],\"parcoords\":[{\"line\":{\"colorbar\":{\"outlinewidth\":0,\"ticks\":\"\"}},\"type\":\"parcoords\"}],\"pie\":[{\"automargin\":true,\"type\":\"pie\"}],\"scatter3d\":[{\"line\":{\"colorbar\":{\"outlinewidth\":0,\"ticks\":\"\"}},\"marker\":{\"colorbar\":{\"outlinewidth\":0,\"ticks\":\"\"}},\"type\":\"scatter3d\"}],\"scattercarpet\":[{\"marker\":{\"colorbar\":{\"outlinewidth\":0,\"ticks\":\"\"}},\"type\":\"scattercarpet\"}],\"scattergeo\":[{\"marker\":{\"colorbar\":{\"outlinewidth\":0,\"ticks\":\"\"}},\"type\":\"scattergeo\"}],\"scattergl\":[{\"marker\":{\"colorbar\":{\"outlinewidth\":0,\"ticks\":\"\"}},\"type\":\"scattergl\"}],\"scattermapbox\":[{\"marker\":{\"colorbar\":{\"outlinewidth\":0,\"ticks\":\"\"}},\"type\":\"scattermapbox\"}],\"scatterpolargl\":[{\"marker\":{\"colorbar\":{\"outlinewidth\":0,\"ticks\":\"\"}},\"type\":\"scatterpolargl\"}],\"scatterpolar\":[{\"marker\":{\"colorbar\":{\"outlinewidth\":0,\"ticks\":\"\"}},\"type\":\"scatterpolar\"}],\"scatter\":[{\"fillpattern\":{\"fillmode\":\"overlay\",\"size\":10,\"solidity\":0.2},\"type\":\"scatter\"}],\"scatterternary\":[{\"marker\":{\"colorbar\":{\"outlinewidth\":0,\"ticks\":\"\"}},\"type\":\"scatterternary\"}],\"surface\":[{\"colorbar\":{\"outlinewidth\":0,\"ticks\":\"\"},\"colorscale\":[[0.0,\"#0d0887\"],[0.1111111111111111,\"#46039f\"],[0.2222222222222222,\"#7201a8\"],[0.3333333333333333,\"#9c179e\"],[0.4444444444444444,\"#bd3786\"],[0.5555555555555556,\"#d8576b\"],[0.6666666666666666,\"#ed7953\"],[0.7777777777777778,\"#fb9f3a\"],[0.8888888888888888,\"#fdca26\"],[1.0,\"#f0f921\"]],\"type\":\"surface\"}],\"table\":[{\"cells\":{\"fill\":{\"color\":\"#EBF0F8\"},\"line\":{\"color\":\"white\"}},\"header\":{\"fill\":{\"color\":\"#C8D4E3\"},\"line\":{\"color\":\"white\"}},\"type\":\"table\"}]},\"layout\":{\"annotationdefaults\":{\"arrowcolor\":\"#2a3f5f\",\"arrowhead\":0,\"arrowwidth\":1},\"autotypenumbers\":\"strict\",\"coloraxis\":{\"colorbar\":{\"outlinewidth\":0,\"ticks\":\"\"}},\"colorscale\":{\"diverging\":[[0,\"#8e0152\"],[0.1,\"#c51b7d\"],[0.2,\"#de77ae\"],[0.3,\"#f1b6da\"],[0.4,\"#fde0ef\"],[0.5,\"#f7f7f7\"],[0.6,\"#e6f5d0\"],[0.7,\"#b8e186\"],[0.8,\"#7fbc41\"],[0.9,\"#4d9221\"],[1,\"#276419\"]],\"sequential\":[[0.0,\"#0d0887\"],[0.1111111111111111,\"#46039f\"],[0.2222222222222222,\"#7201a8\"],[0.3333333333333333,\"#9c179e\"],[0.4444444444444444,\"#bd3786\"],[0.5555555555555556,\"#d8576b\"],[0.6666666666666666,\"#ed7953\"],[0.7777777777777778,\"#fb9f3a\"],[0.8888888888888888,\"#fdca26\"],[1.0,\"#f0f921\"]],\"sequentialminus\":[[0.0,\"#0d0887\"],[0.1111111111111111,\"#46039f\"],[0.2222222222222222,\"#7201a8\"],[0.3333333333333333,\"#9c179e\"],[0.4444444444444444,\"#bd3786\"],[0.5555555555555556,\"#d8576b\"],[0.6666666666666666,\"#ed7953\"],[0.7777777777777778,\"#fb9f3a\"],[0.8888888888888888,\"#fdca26\"],[1.0,\"#f0f921\"]]},\"colorway\":[\"#636efa\",\"#EF553B\",\"#00cc96\",\"#ab63fa\",\"#FFA15A\",\"#19d3f3\",\"#FF6692\",\"#B6E880\",\"#FF97FF\",\"#FECB52\"],\"font\":{\"color\":\"#2a3f5f\"},\"geo\":{\"bgcolor\":\"white\",\"lakecolor\":\"white\",\"landcolor\":\"#E5ECF6\",\"showlakes\":true,\"showland\":true,\"subunitcolor\":\"white\"},\"hoverlabel\":{\"align\":\"left\"},\"hovermode\":\"closest\",\"mapbox\":{\"style\":\"light\"},\"paper_bgcolor\":\"white\",\"plot_bgcolor\":\"#E5ECF6\",\"polar\":{\"angularaxis\":{\"gridcolor\":\"white\",\"linecolor\":\"white\",\"ticks\":\"\"},\"bgcolor\":\"#E5ECF6\",\"radialaxis\":{\"gridcolor\":\"white\",\"linecolor\":\"white\",\"ticks\":\"\"}},\"scene\":{\"xaxis\":{\"backgroundcolor\":\"#E5ECF6\",\"gridcolor\":\"white\",\"gridwidth\":2,\"linecolor\":\"white\",\"showbackground\":true,\"ticks\":\"\",\"zerolinecolor\":\"white\"},\"yaxis\":{\"backgroundcolor\":\"#E5ECF6\",\"gridcolor\":\"white\",\"gridwidth\":2,\"linecolor\":\"white\",\"showbackground\":true,\"ticks\":\"\",\"zerolinecolor\":\"white\"},\"zaxis\":{\"backgroundcolor\":\"#E5ECF6\",\"gridcolor\":\"white\",\"gridwidth\":2,\"linecolor\":\"white\",\"showbackground\":true,\"ticks\":\"\",\"zerolinecolor\":\"white\"}},\"shapedefaults\":{\"line\":{\"color\":\"#2a3f5f\"}},\"ternary\":{\"aaxis\":{\"gridcolor\":\"white\",\"linecolor\":\"white\",\"ticks\":\"\"},\"baxis\":{\"gridcolor\":\"white\",\"linecolor\":\"white\",\"ticks\":\"\"},\"bgcolor\":\"#E5ECF6\",\"caxis\":{\"gridcolor\":\"white\",\"linecolor\":\"white\",\"ticks\":\"\"}},\"title\":{\"x\":0.05},\"xaxis\":{\"automargin\":true,\"gridcolor\":\"white\",\"linecolor\":\"white\",\"ticks\":\"\",\"title\":{\"standoff\":15},\"zerolinecolor\":\"white\",\"zerolinewidth\":2},\"yaxis\":{\"automargin\":true,\"gridcolor\":\"white\",\"linecolor\":\"white\",\"ticks\":\"\",\"title\":{\"standoff\":15},\"zerolinecolor\":\"white\",\"zerolinewidth\":2}}},\"title\":{\"font\":{\"color\":\"#4D5663\"}},\"xaxis\":{\"gridcolor\":\"#E1E5ED\",\"showgrid\":true,\"tickfont\":{\"color\":\"#4D5663\"},\"title\":{\"font\":{\"color\":\"#4D5663\"},\"text\":\"\"},\"zerolinecolor\":\"#E1E5ED\"},\"yaxis\":{\"gridcolor\":\"#E1E5ED\",\"showgrid\":true,\"tickfont\":{\"color\":\"#4D5663\"},\"title\":{\"font\":{\"color\":\"#4D5663\"},\"text\":\"\"},\"zerolinecolor\":\"#E1E5ED\"}},                        {\"showLink\": true, \"linkText\": \"Export to plot.ly\", \"plotlyServerURL\": \"https://plot.ly\", \"responsive\": true}                    ).then(function(){\n",
       "                            \n",
       "var gd = document.getElementById('d741c458-ae9c-479b-9382-9e9498a65422');\n",
       "var x = new MutationObserver(function (mutations, observer) {{\n",
       "        var display = window.getComputedStyle(gd).display;\n",
       "        if (!display || display === 'none') {{\n",
       "            console.log([gd, 'removed!']);\n",
       "            Plotly.purge(gd);\n",
       "            observer.disconnect();\n",
       "        }}\n",
       "}});\n",
       "\n",
       "// Listen for the removal of the full notebook cells\n",
       "var notebookContainer = gd.closest('#notebook-container');\n",
       "if (notebookContainer) {{\n",
       "    x.observe(notebookContainer, {childList: true});\n",
       "}}\n",
       "\n",
       "// Listen for the clearing of the current output cell\n",
       "var outputEl = gd.closest('.output');\n",
       "if (outputEl) {{\n",
       "    x.observe(outputEl, {childList: true});\n",
       "}}\n",
       "\n",
       "                        })                };                });            </script>        </div>"
      ]
     },
     "metadata": {},
     "output_type": "display_data"
    }
   ],
   "source": [
    "df2.iplot(kind='bar',x='Category',y='Values')"
   ]
  },
  {
   "cell_type": "code",
   "execution_count": 25,
   "metadata": {},
   "outputs": [
    {
     "data": {
      "application/vnd.plotly.v1+json": {
       "config": {
        "linkText": "Export to plot.ly",
        "plotlyServerURL": "https://plot.ly",
        "showLink": true
       },
       "data": [
        {
         "marker": {
          "color": "rgba(255, 153, 51, 0.6)",
          "line": {
           "color": "rgba(255, 153, 51, 1.0)",
           "width": 1
          }
         },
         "name": "None",
         "orientation": "v",
         "text": "",
         "type": "bar",
         "x": [
          "A",
          "B",
          "C",
          "D"
         ],
         "y": [
          100,
          100,
          100,
          100
         ]
        }
       ],
       "layout": {
        "legend": {
         "bgcolor": "#F5F6F9",
         "font": {
          "color": "#4D5663"
         }
        },
        "paper_bgcolor": "#F5F6F9",
        "plot_bgcolor": "#F5F6F9",
        "template": {
         "data": {
          "bar": [
           {
            "error_x": {
             "color": "#2a3f5f"
            },
            "error_y": {
             "color": "#2a3f5f"
            },
            "marker": {
             "line": {
              "color": "#E5ECF6",
              "width": 0.5
             },
             "pattern": {
              "fillmode": "overlay",
              "size": 10,
              "solidity": 0.2
             }
            },
            "type": "bar"
           }
          ],
          "barpolar": [
           {
            "marker": {
             "line": {
              "color": "#E5ECF6",
              "width": 0.5
             },
             "pattern": {
              "fillmode": "overlay",
              "size": 10,
              "solidity": 0.2
             }
            },
            "type": "barpolar"
           }
          ],
          "carpet": [
           {
            "aaxis": {
             "endlinecolor": "#2a3f5f",
             "gridcolor": "white",
             "linecolor": "white",
             "minorgridcolor": "white",
             "startlinecolor": "#2a3f5f"
            },
            "baxis": {
             "endlinecolor": "#2a3f5f",
             "gridcolor": "white",
             "linecolor": "white",
             "minorgridcolor": "white",
             "startlinecolor": "#2a3f5f"
            },
            "type": "carpet"
           }
          ],
          "choropleth": [
           {
            "colorbar": {
             "outlinewidth": 0,
             "ticks": ""
            },
            "type": "choropleth"
           }
          ],
          "contour": [
           {
            "colorbar": {
             "outlinewidth": 0,
             "ticks": ""
            },
            "colorscale": [
             [
              0,
              "#0d0887"
             ],
             [
              0.1111111111111111,
              "#46039f"
             ],
             [
              0.2222222222222222,
              "#7201a8"
             ],
             [
              0.3333333333333333,
              "#9c179e"
             ],
             [
              0.4444444444444444,
              "#bd3786"
             ],
             [
              0.5555555555555556,
              "#d8576b"
             ],
             [
              0.6666666666666666,
              "#ed7953"
             ],
             [
              0.7777777777777778,
              "#fb9f3a"
             ],
             [
              0.8888888888888888,
              "#fdca26"
             ],
             [
              1,
              "#f0f921"
             ]
            ],
            "type": "contour"
           }
          ],
          "contourcarpet": [
           {
            "colorbar": {
             "outlinewidth": 0,
             "ticks": ""
            },
            "type": "contourcarpet"
           }
          ],
          "heatmap": [
           {
            "colorbar": {
             "outlinewidth": 0,
             "ticks": ""
            },
            "colorscale": [
             [
              0,
              "#0d0887"
             ],
             [
              0.1111111111111111,
              "#46039f"
             ],
             [
              0.2222222222222222,
              "#7201a8"
             ],
             [
              0.3333333333333333,
              "#9c179e"
             ],
             [
              0.4444444444444444,
              "#bd3786"
             ],
             [
              0.5555555555555556,
              "#d8576b"
             ],
             [
              0.6666666666666666,
              "#ed7953"
             ],
             [
              0.7777777777777778,
              "#fb9f3a"
             ],
             [
              0.8888888888888888,
              "#fdca26"
             ],
             [
              1,
              "#f0f921"
             ]
            ],
            "type": "heatmap"
           }
          ],
          "heatmapgl": [
           {
            "colorbar": {
             "outlinewidth": 0,
             "ticks": ""
            },
            "colorscale": [
             [
              0,
              "#0d0887"
             ],
             [
              0.1111111111111111,
              "#46039f"
             ],
             [
              0.2222222222222222,
              "#7201a8"
             ],
             [
              0.3333333333333333,
              "#9c179e"
             ],
             [
              0.4444444444444444,
              "#bd3786"
             ],
             [
              0.5555555555555556,
              "#d8576b"
             ],
             [
              0.6666666666666666,
              "#ed7953"
             ],
             [
              0.7777777777777778,
              "#fb9f3a"
             ],
             [
              0.8888888888888888,
              "#fdca26"
             ],
             [
              1,
              "#f0f921"
             ]
            ],
            "type": "heatmapgl"
           }
          ],
          "histogram": [
           {
            "marker": {
             "pattern": {
              "fillmode": "overlay",
              "size": 10,
              "solidity": 0.2
             }
            },
            "type": "histogram"
           }
          ],
          "histogram2d": [
           {
            "colorbar": {
             "outlinewidth": 0,
             "ticks": ""
            },
            "colorscale": [
             [
              0,
              "#0d0887"
             ],
             [
              0.1111111111111111,
              "#46039f"
             ],
             [
              0.2222222222222222,
              "#7201a8"
             ],
             [
              0.3333333333333333,
              "#9c179e"
             ],
             [
              0.4444444444444444,
              "#bd3786"
             ],
             [
              0.5555555555555556,
              "#d8576b"
             ],
             [
              0.6666666666666666,
              "#ed7953"
             ],
             [
              0.7777777777777778,
              "#fb9f3a"
             ],
             [
              0.8888888888888888,
              "#fdca26"
             ],
             [
              1,
              "#f0f921"
             ]
            ],
            "type": "histogram2d"
           }
          ],
          "histogram2dcontour": [
           {
            "colorbar": {
             "outlinewidth": 0,
             "ticks": ""
            },
            "colorscale": [
             [
              0,
              "#0d0887"
             ],
             [
              0.1111111111111111,
              "#46039f"
             ],
             [
              0.2222222222222222,
              "#7201a8"
             ],
             [
              0.3333333333333333,
              "#9c179e"
             ],
             [
              0.4444444444444444,
              "#bd3786"
             ],
             [
              0.5555555555555556,
              "#d8576b"
             ],
             [
              0.6666666666666666,
              "#ed7953"
             ],
             [
              0.7777777777777778,
              "#fb9f3a"
             ],
             [
              0.8888888888888888,
              "#fdca26"
             ],
             [
              1,
              "#f0f921"
             ]
            ],
            "type": "histogram2dcontour"
           }
          ],
          "mesh3d": [
           {
            "colorbar": {
             "outlinewidth": 0,
             "ticks": ""
            },
            "type": "mesh3d"
           }
          ],
          "parcoords": [
           {
            "line": {
             "colorbar": {
              "outlinewidth": 0,
              "ticks": ""
             }
            },
            "type": "parcoords"
           }
          ],
          "pie": [
           {
            "automargin": true,
            "type": "pie"
           }
          ],
          "scatter": [
           {
            "fillpattern": {
             "fillmode": "overlay",
             "size": 10,
             "solidity": 0.2
            },
            "type": "scatter"
           }
          ],
          "scatter3d": [
           {
            "line": {
             "colorbar": {
              "outlinewidth": 0,
              "ticks": ""
             }
            },
            "marker": {
             "colorbar": {
              "outlinewidth": 0,
              "ticks": ""
             }
            },
            "type": "scatter3d"
           }
          ],
          "scattercarpet": [
           {
            "marker": {
             "colorbar": {
              "outlinewidth": 0,
              "ticks": ""
             }
            },
            "type": "scattercarpet"
           }
          ],
          "scattergeo": [
           {
            "marker": {
             "colorbar": {
              "outlinewidth": 0,
              "ticks": ""
             }
            },
            "type": "scattergeo"
           }
          ],
          "scattergl": [
           {
            "marker": {
             "colorbar": {
              "outlinewidth": 0,
              "ticks": ""
             }
            },
            "type": "scattergl"
           }
          ],
          "scattermapbox": [
           {
            "marker": {
             "colorbar": {
              "outlinewidth": 0,
              "ticks": ""
             }
            },
            "type": "scattermapbox"
           }
          ],
          "scatterpolar": [
           {
            "marker": {
             "colorbar": {
              "outlinewidth": 0,
              "ticks": ""
             }
            },
            "type": "scatterpolar"
           }
          ],
          "scatterpolargl": [
           {
            "marker": {
             "colorbar": {
              "outlinewidth": 0,
              "ticks": ""
             }
            },
            "type": "scatterpolargl"
           }
          ],
          "scatterternary": [
           {
            "marker": {
             "colorbar": {
              "outlinewidth": 0,
              "ticks": ""
             }
            },
            "type": "scatterternary"
           }
          ],
          "surface": [
           {
            "colorbar": {
             "outlinewidth": 0,
             "ticks": ""
            },
            "colorscale": [
             [
              0,
              "#0d0887"
             ],
             [
              0.1111111111111111,
              "#46039f"
             ],
             [
              0.2222222222222222,
              "#7201a8"
             ],
             [
              0.3333333333333333,
              "#9c179e"
             ],
             [
              0.4444444444444444,
              "#bd3786"
             ],
             [
              0.5555555555555556,
              "#d8576b"
             ],
             [
              0.6666666666666666,
              "#ed7953"
             ],
             [
              0.7777777777777778,
              "#fb9f3a"
             ],
             [
              0.8888888888888888,
              "#fdca26"
             ],
             [
              1,
              "#f0f921"
             ]
            ],
            "type": "surface"
           }
          ],
          "table": [
           {
            "cells": {
             "fill": {
              "color": "#EBF0F8"
             },
             "line": {
              "color": "white"
             }
            },
            "header": {
             "fill": {
              "color": "#C8D4E3"
             },
             "line": {
              "color": "white"
             }
            },
            "type": "table"
           }
          ]
         },
         "layout": {
          "annotationdefaults": {
           "arrowcolor": "#2a3f5f",
           "arrowhead": 0,
           "arrowwidth": 1
          },
          "autotypenumbers": "strict",
          "coloraxis": {
           "colorbar": {
            "outlinewidth": 0,
            "ticks": ""
           }
          },
          "colorscale": {
           "diverging": [
            [
             0,
             "#8e0152"
            ],
            [
             0.1,
             "#c51b7d"
            ],
            [
             0.2,
             "#de77ae"
            ],
            [
             0.3,
             "#f1b6da"
            ],
            [
             0.4,
             "#fde0ef"
            ],
            [
             0.5,
             "#f7f7f7"
            ],
            [
             0.6,
             "#e6f5d0"
            ],
            [
             0.7,
             "#b8e186"
            ],
            [
             0.8,
             "#7fbc41"
            ],
            [
             0.9,
             "#4d9221"
            ],
            [
             1,
             "#276419"
            ]
           ],
           "sequential": [
            [
             0,
             "#0d0887"
            ],
            [
             0.1111111111111111,
             "#46039f"
            ],
            [
             0.2222222222222222,
             "#7201a8"
            ],
            [
             0.3333333333333333,
             "#9c179e"
            ],
            [
             0.4444444444444444,
             "#bd3786"
            ],
            [
             0.5555555555555556,
             "#d8576b"
            ],
            [
             0.6666666666666666,
             "#ed7953"
            ],
            [
             0.7777777777777778,
             "#fb9f3a"
            ],
            [
             0.8888888888888888,
             "#fdca26"
            ],
            [
             1,
             "#f0f921"
            ]
           ],
           "sequentialminus": [
            [
             0,
             "#0d0887"
            ],
            [
             0.1111111111111111,
             "#46039f"
            ],
            [
             0.2222222222222222,
             "#7201a8"
            ],
            [
             0.3333333333333333,
             "#9c179e"
            ],
            [
             0.4444444444444444,
             "#bd3786"
            ],
            [
             0.5555555555555556,
             "#d8576b"
            ],
            [
             0.6666666666666666,
             "#ed7953"
            ],
            [
             0.7777777777777778,
             "#fb9f3a"
            ],
            [
             0.8888888888888888,
             "#fdca26"
            ],
            [
             1,
             "#f0f921"
            ]
           ]
          },
          "colorway": [
           "#636efa",
           "#EF553B",
           "#00cc96",
           "#ab63fa",
           "#FFA15A",
           "#19d3f3",
           "#FF6692",
           "#B6E880",
           "#FF97FF",
           "#FECB52"
          ],
          "font": {
           "color": "#2a3f5f"
          },
          "geo": {
           "bgcolor": "white",
           "lakecolor": "white",
           "landcolor": "#E5ECF6",
           "showlakes": true,
           "showland": true,
           "subunitcolor": "white"
          },
          "hoverlabel": {
           "align": "left"
          },
          "hovermode": "closest",
          "mapbox": {
           "style": "light"
          },
          "paper_bgcolor": "white",
          "plot_bgcolor": "#E5ECF6",
          "polar": {
           "angularaxis": {
            "gridcolor": "white",
            "linecolor": "white",
            "ticks": ""
           },
           "bgcolor": "#E5ECF6",
           "radialaxis": {
            "gridcolor": "white",
            "linecolor": "white",
            "ticks": ""
           }
          },
          "scene": {
           "xaxis": {
            "backgroundcolor": "#E5ECF6",
            "gridcolor": "white",
            "gridwidth": 2,
            "linecolor": "white",
            "showbackground": true,
            "ticks": "",
            "zerolinecolor": "white"
           },
           "yaxis": {
            "backgroundcolor": "#E5ECF6",
            "gridcolor": "white",
            "gridwidth": 2,
            "linecolor": "white",
            "showbackground": true,
            "ticks": "",
            "zerolinecolor": "white"
           },
           "zaxis": {
            "backgroundcolor": "#E5ECF6",
            "gridcolor": "white",
            "gridwidth": 2,
            "linecolor": "white",
            "showbackground": true,
            "ticks": "",
            "zerolinecolor": "white"
           }
          },
          "shapedefaults": {
           "line": {
            "color": "#2a3f5f"
           }
          },
          "ternary": {
           "aaxis": {
            "gridcolor": "white",
            "linecolor": "white",
            "ticks": ""
           },
           "baxis": {
            "gridcolor": "white",
            "linecolor": "white",
            "ticks": ""
           },
           "bgcolor": "#E5ECF6",
           "caxis": {
            "gridcolor": "white",
            "linecolor": "white",
            "ticks": ""
           }
          },
          "title": {
           "x": 0.05
          },
          "xaxis": {
           "automargin": true,
           "gridcolor": "white",
           "linecolor": "white",
           "ticks": "",
           "title": {
            "standoff": 15
           },
           "zerolinecolor": "white",
           "zerolinewidth": 2
          },
          "yaxis": {
           "automargin": true,
           "gridcolor": "white",
           "linecolor": "white",
           "ticks": "",
           "title": {
            "standoff": 15
           },
           "zerolinecolor": "white",
           "zerolinewidth": 2
          }
         }
        },
        "title": {
         "font": {
          "color": "#4D5663"
         }
        },
        "xaxis": {
         "gridcolor": "#E1E5ED",
         "showgrid": true,
         "tickfont": {
          "color": "#4D5663"
         },
         "title": {
          "font": {
           "color": "#4D5663"
          },
          "text": ""
         },
         "zerolinecolor": "#E1E5ED"
        },
        "yaxis": {
         "gridcolor": "#E1E5ED",
         "showgrid": true,
         "tickfont": {
          "color": "#4D5663"
         },
         "title": {
          "font": {
           "color": "#4D5663"
          },
          "text": ""
         },
         "zerolinecolor": "#E1E5ED"
        }
       }
      },
      "text/html": [
       "<div>                            <div id=\"57b84c04-eb3f-4739-b3fd-1d8894676b42\" class=\"plotly-graph-div\" style=\"height:525px; width:100%;\"></div>            <script type=\"text/javascript\">                require([\"plotly\"], function(Plotly) {                    window.PLOTLYENV=window.PLOTLYENV || {};\n",
       "                    window.PLOTLYENV.BASE_URL='https://plot.ly';                                    if (document.getElementById(\"57b84c04-eb3f-4739-b3fd-1d8894676b42\")) {                    Plotly.newPlot(                        \"57b84c04-eb3f-4739-b3fd-1d8894676b42\",                        [{\"marker\":{\"color\":\"rgba(255, 153, 51, 0.6)\",\"line\":{\"color\":\"rgba(255, 153, 51, 1.0)\",\"width\":1}},\"name\":\"None\",\"orientation\":\"v\",\"text\":\"\",\"x\":[\"A\",\"B\",\"C\",\"D\"],\"y\":[100,100,100,100],\"type\":\"bar\"}],                        {\"legend\":{\"bgcolor\":\"#F5F6F9\",\"font\":{\"color\":\"#4D5663\"}},\"paper_bgcolor\":\"#F5F6F9\",\"plot_bgcolor\":\"#F5F6F9\",\"template\":{\"data\":{\"barpolar\":[{\"marker\":{\"line\":{\"color\":\"#E5ECF6\",\"width\":0.5},\"pattern\":{\"fillmode\":\"overlay\",\"size\":10,\"solidity\":0.2}},\"type\":\"barpolar\"}],\"bar\":[{\"error_x\":{\"color\":\"#2a3f5f\"},\"error_y\":{\"color\":\"#2a3f5f\"},\"marker\":{\"line\":{\"color\":\"#E5ECF6\",\"width\":0.5},\"pattern\":{\"fillmode\":\"overlay\",\"size\":10,\"solidity\":0.2}},\"type\":\"bar\"}],\"carpet\":[{\"aaxis\":{\"endlinecolor\":\"#2a3f5f\",\"gridcolor\":\"white\",\"linecolor\":\"white\",\"minorgridcolor\":\"white\",\"startlinecolor\":\"#2a3f5f\"},\"baxis\":{\"endlinecolor\":\"#2a3f5f\",\"gridcolor\":\"white\",\"linecolor\":\"white\",\"minorgridcolor\":\"white\",\"startlinecolor\":\"#2a3f5f\"},\"type\":\"carpet\"}],\"choropleth\":[{\"colorbar\":{\"outlinewidth\":0,\"ticks\":\"\"},\"type\":\"choropleth\"}],\"contourcarpet\":[{\"colorbar\":{\"outlinewidth\":0,\"ticks\":\"\"},\"type\":\"contourcarpet\"}],\"contour\":[{\"colorbar\":{\"outlinewidth\":0,\"ticks\":\"\"},\"colorscale\":[[0.0,\"#0d0887\"],[0.1111111111111111,\"#46039f\"],[0.2222222222222222,\"#7201a8\"],[0.3333333333333333,\"#9c179e\"],[0.4444444444444444,\"#bd3786\"],[0.5555555555555556,\"#d8576b\"],[0.6666666666666666,\"#ed7953\"],[0.7777777777777778,\"#fb9f3a\"],[0.8888888888888888,\"#fdca26\"],[1.0,\"#f0f921\"]],\"type\":\"contour\"}],\"heatmapgl\":[{\"colorbar\":{\"outlinewidth\":0,\"ticks\":\"\"},\"colorscale\":[[0.0,\"#0d0887\"],[0.1111111111111111,\"#46039f\"],[0.2222222222222222,\"#7201a8\"],[0.3333333333333333,\"#9c179e\"],[0.4444444444444444,\"#bd3786\"],[0.5555555555555556,\"#d8576b\"],[0.6666666666666666,\"#ed7953\"],[0.7777777777777778,\"#fb9f3a\"],[0.8888888888888888,\"#fdca26\"],[1.0,\"#f0f921\"]],\"type\":\"heatmapgl\"}],\"heatmap\":[{\"colorbar\":{\"outlinewidth\":0,\"ticks\":\"\"},\"colorscale\":[[0.0,\"#0d0887\"],[0.1111111111111111,\"#46039f\"],[0.2222222222222222,\"#7201a8\"],[0.3333333333333333,\"#9c179e\"],[0.4444444444444444,\"#bd3786\"],[0.5555555555555556,\"#d8576b\"],[0.6666666666666666,\"#ed7953\"],[0.7777777777777778,\"#fb9f3a\"],[0.8888888888888888,\"#fdca26\"],[1.0,\"#f0f921\"]],\"type\":\"heatmap\"}],\"histogram2dcontour\":[{\"colorbar\":{\"outlinewidth\":0,\"ticks\":\"\"},\"colorscale\":[[0.0,\"#0d0887\"],[0.1111111111111111,\"#46039f\"],[0.2222222222222222,\"#7201a8\"],[0.3333333333333333,\"#9c179e\"],[0.4444444444444444,\"#bd3786\"],[0.5555555555555556,\"#d8576b\"],[0.6666666666666666,\"#ed7953\"],[0.7777777777777778,\"#fb9f3a\"],[0.8888888888888888,\"#fdca26\"],[1.0,\"#f0f921\"]],\"type\":\"histogram2dcontour\"}],\"histogram2d\":[{\"colorbar\":{\"outlinewidth\":0,\"ticks\":\"\"},\"colorscale\":[[0.0,\"#0d0887\"],[0.1111111111111111,\"#46039f\"],[0.2222222222222222,\"#7201a8\"],[0.3333333333333333,\"#9c179e\"],[0.4444444444444444,\"#bd3786\"],[0.5555555555555556,\"#d8576b\"],[0.6666666666666666,\"#ed7953\"],[0.7777777777777778,\"#fb9f3a\"],[0.8888888888888888,\"#fdca26\"],[1.0,\"#f0f921\"]],\"type\":\"histogram2d\"}],\"histogram\":[{\"marker\":{\"pattern\":{\"fillmode\":\"overlay\",\"size\":10,\"solidity\":0.2}},\"type\":\"histogram\"}],\"mesh3d\":[{\"colorbar\":{\"outlinewidth\":0,\"ticks\":\"\"},\"type\":\"mesh3d\"}],\"parcoords\":[{\"line\":{\"colorbar\":{\"outlinewidth\":0,\"ticks\":\"\"}},\"type\":\"parcoords\"}],\"pie\":[{\"automargin\":true,\"type\":\"pie\"}],\"scatter3d\":[{\"line\":{\"colorbar\":{\"outlinewidth\":0,\"ticks\":\"\"}},\"marker\":{\"colorbar\":{\"outlinewidth\":0,\"ticks\":\"\"}},\"type\":\"scatter3d\"}],\"scattercarpet\":[{\"marker\":{\"colorbar\":{\"outlinewidth\":0,\"ticks\":\"\"}},\"type\":\"scattercarpet\"}],\"scattergeo\":[{\"marker\":{\"colorbar\":{\"outlinewidth\":0,\"ticks\":\"\"}},\"type\":\"scattergeo\"}],\"scattergl\":[{\"marker\":{\"colorbar\":{\"outlinewidth\":0,\"ticks\":\"\"}},\"type\":\"scattergl\"}],\"scattermapbox\":[{\"marker\":{\"colorbar\":{\"outlinewidth\":0,\"ticks\":\"\"}},\"type\":\"scattermapbox\"}],\"scatterpolargl\":[{\"marker\":{\"colorbar\":{\"outlinewidth\":0,\"ticks\":\"\"}},\"type\":\"scatterpolargl\"}],\"scatterpolar\":[{\"marker\":{\"colorbar\":{\"outlinewidth\":0,\"ticks\":\"\"}},\"type\":\"scatterpolar\"}],\"scatter\":[{\"fillpattern\":{\"fillmode\":\"overlay\",\"size\":10,\"solidity\":0.2},\"type\":\"scatter\"}],\"scatterternary\":[{\"marker\":{\"colorbar\":{\"outlinewidth\":0,\"ticks\":\"\"}},\"type\":\"scatterternary\"}],\"surface\":[{\"colorbar\":{\"outlinewidth\":0,\"ticks\":\"\"},\"colorscale\":[[0.0,\"#0d0887\"],[0.1111111111111111,\"#46039f\"],[0.2222222222222222,\"#7201a8\"],[0.3333333333333333,\"#9c179e\"],[0.4444444444444444,\"#bd3786\"],[0.5555555555555556,\"#d8576b\"],[0.6666666666666666,\"#ed7953\"],[0.7777777777777778,\"#fb9f3a\"],[0.8888888888888888,\"#fdca26\"],[1.0,\"#f0f921\"]],\"type\":\"surface\"}],\"table\":[{\"cells\":{\"fill\":{\"color\":\"#EBF0F8\"},\"line\":{\"color\":\"white\"}},\"header\":{\"fill\":{\"color\":\"#C8D4E3\"},\"line\":{\"color\":\"white\"}},\"type\":\"table\"}]},\"layout\":{\"annotationdefaults\":{\"arrowcolor\":\"#2a3f5f\",\"arrowhead\":0,\"arrowwidth\":1},\"autotypenumbers\":\"strict\",\"coloraxis\":{\"colorbar\":{\"outlinewidth\":0,\"ticks\":\"\"}},\"colorscale\":{\"diverging\":[[0,\"#8e0152\"],[0.1,\"#c51b7d\"],[0.2,\"#de77ae\"],[0.3,\"#f1b6da\"],[0.4,\"#fde0ef\"],[0.5,\"#f7f7f7\"],[0.6,\"#e6f5d0\"],[0.7,\"#b8e186\"],[0.8,\"#7fbc41\"],[0.9,\"#4d9221\"],[1,\"#276419\"]],\"sequential\":[[0.0,\"#0d0887\"],[0.1111111111111111,\"#46039f\"],[0.2222222222222222,\"#7201a8\"],[0.3333333333333333,\"#9c179e\"],[0.4444444444444444,\"#bd3786\"],[0.5555555555555556,\"#d8576b\"],[0.6666666666666666,\"#ed7953\"],[0.7777777777777778,\"#fb9f3a\"],[0.8888888888888888,\"#fdca26\"],[1.0,\"#f0f921\"]],\"sequentialminus\":[[0.0,\"#0d0887\"],[0.1111111111111111,\"#46039f\"],[0.2222222222222222,\"#7201a8\"],[0.3333333333333333,\"#9c179e\"],[0.4444444444444444,\"#bd3786\"],[0.5555555555555556,\"#d8576b\"],[0.6666666666666666,\"#ed7953\"],[0.7777777777777778,\"#fb9f3a\"],[0.8888888888888888,\"#fdca26\"],[1.0,\"#f0f921\"]]},\"colorway\":[\"#636efa\",\"#EF553B\",\"#00cc96\",\"#ab63fa\",\"#FFA15A\",\"#19d3f3\",\"#FF6692\",\"#B6E880\",\"#FF97FF\",\"#FECB52\"],\"font\":{\"color\":\"#2a3f5f\"},\"geo\":{\"bgcolor\":\"white\",\"lakecolor\":\"white\",\"landcolor\":\"#E5ECF6\",\"showlakes\":true,\"showland\":true,\"subunitcolor\":\"white\"},\"hoverlabel\":{\"align\":\"left\"},\"hovermode\":\"closest\",\"mapbox\":{\"style\":\"light\"},\"paper_bgcolor\":\"white\",\"plot_bgcolor\":\"#E5ECF6\",\"polar\":{\"angularaxis\":{\"gridcolor\":\"white\",\"linecolor\":\"white\",\"ticks\":\"\"},\"bgcolor\":\"#E5ECF6\",\"radialaxis\":{\"gridcolor\":\"white\",\"linecolor\":\"white\",\"ticks\":\"\"}},\"scene\":{\"xaxis\":{\"backgroundcolor\":\"#E5ECF6\",\"gridcolor\":\"white\",\"gridwidth\":2,\"linecolor\":\"white\",\"showbackground\":true,\"ticks\":\"\",\"zerolinecolor\":\"white\"},\"yaxis\":{\"backgroundcolor\":\"#E5ECF6\",\"gridcolor\":\"white\",\"gridwidth\":2,\"linecolor\":\"white\",\"showbackground\":true,\"ticks\":\"\",\"zerolinecolor\":\"white\"},\"zaxis\":{\"backgroundcolor\":\"#E5ECF6\",\"gridcolor\":\"white\",\"gridwidth\":2,\"linecolor\":\"white\",\"showbackground\":true,\"ticks\":\"\",\"zerolinecolor\":\"white\"}},\"shapedefaults\":{\"line\":{\"color\":\"#2a3f5f\"}},\"ternary\":{\"aaxis\":{\"gridcolor\":\"white\",\"linecolor\":\"white\",\"ticks\":\"\"},\"baxis\":{\"gridcolor\":\"white\",\"linecolor\":\"white\",\"ticks\":\"\"},\"bgcolor\":\"#E5ECF6\",\"caxis\":{\"gridcolor\":\"white\",\"linecolor\":\"white\",\"ticks\":\"\"}},\"title\":{\"x\":0.05},\"xaxis\":{\"automargin\":true,\"gridcolor\":\"white\",\"linecolor\":\"white\",\"ticks\":\"\",\"title\":{\"standoff\":15},\"zerolinecolor\":\"white\",\"zerolinewidth\":2},\"yaxis\":{\"automargin\":true,\"gridcolor\":\"white\",\"linecolor\":\"white\",\"ticks\":\"\",\"title\":{\"standoff\":15},\"zerolinecolor\":\"white\",\"zerolinewidth\":2}}},\"title\":{\"font\":{\"color\":\"#4D5663\"}},\"xaxis\":{\"gridcolor\":\"#E1E5ED\",\"showgrid\":true,\"tickfont\":{\"color\":\"#4D5663\"},\"title\":{\"font\":{\"color\":\"#4D5663\"},\"text\":\"\"},\"zerolinecolor\":\"#E1E5ED\"},\"yaxis\":{\"gridcolor\":\"#E1E5ED\",\"showgrid\":true,\"tickfont\":{\"color\":\"#4D5663\"},\"title\":{\"font\":{\"color\":\"#4D5663\"},\"text\":\"\"},\"zerolinecolor\":\"#E1E5ED\"}},                        {\"showLink\": true, \"linkText\": \"Export to plot.ly\", \"plotlyServerURL\": \"https://plot.ly\", \"responsive\": true}                    ).then(function(){\n",
       "                            \n",
       "var gd = document.getElementById('57b84c04-eb3f-4739-b3fd-1d8894676b42');\n",
       "var x = new MutationObserver(function (mutations, observer) {{\n",
       "        var display = window.getComputedStyle(gd).display;\n",
       "        if (!display || display === 'none') {{\n",
       "            console.log([gd, 'removed!']);\n",
       "            Plotly.purge(gd);\n",
       "            observer.disconnect();\n",
       "        }}\n",
       "}});\n",
       "\n",
       "// Listen for the removal of the full notebook cells\n",
       "var notebookContainer = gd.closest('#notebook-container');\n",
       "if (notebookContainer) {{\n",
       "    x.observe(notebookContainer, {childList: true});\n",
       "}}\n",
       "\n",
       "// Listen for the clearing of the current output cell\n",
       "var outputEl = gd.closest('.output');\n",
       "if (outputEl) {{\n",
       "    x.observe(outputEl, {childList: true});\n",
       "}}\n",
       "\n",
       "                        })                };                });            </script>        </div>"
      ]
     },
     "metadata": {},
     "output_type": "display_data"
    }
   ],
   "source": [
    "df.count().iplot(kind='bar')"
   ]
  },
  {
   "cell_type": "markdown",
   "metadata": {},
   "source": [
    "#### Boxplots"
   ]
  },
  {
   "cell_type": "code",
   "execution_count": 26,
   "metadata": {},
   "outputs": [
    {
     "data": {
      "application/vnd.plotly.v1+json": {
       "config": {
        "linkText": "Export to plot.ly",
        "plotlyServerURL": "https://plot.ly",
        "showLink": true
       },
       "data": [
        {
         "boxpoints": false,
         "line": {
          "width": 1.3
         },
         "marker": {
          "color": "rgba(255, 153, 51, 1.0)"
         },
         "name": "A",
         "orientation": "v",
         "type": "box",
         "y": [
          1.9785474803328607,
          1.0092268487548832,
          -1.225013157557364,
          -1.7571929080727824,
          -0.3510321902033087,
          1.4100616476100398,
          -0.7107709961502106,
          -0.23874519373105246,
          1.2373841410062967,
          0.8323615939275861,
          -0.9041212935899998,
          1.0134132263520905,
          -0.48501594051186303,
          0.10711805122591342,
          1.053211572931562,
          1.8747476432241057,
          -1.6935363858985157,
          -0.2608680773992978,
          1.6883554154984184,
          0.7485058415919015,
          0.9786366361762188,
          -0.3085510438136002,
          -0.9304657253362264,
          0.6037118838048389,
          0.6245447736656713,
          1.2385002099949525,
          -0.7097874554477298,
          0.5823549670983328,
          -0.35803780976590854,
          1.5491322960816853,
          1.53807985352257,
          2.404581495249531,
          -0.9652410635551554,
          -0.47589035741556557,
          1.6683681176793281,
          -0.8476670562828995,
          -0.6211176310350959,
          -0.652231375444704,
          0.9359531059469797,
          -1.6020033412254073,
          0.31985344042035896,
          0.46587917758063924,
          -0.16268949490112863,
          -0.46277578442258077,
          0.058282399822782646,
          0.46307447698305676,
          0.3224978075603298,
          0.11526650280798287,
          -0.7692957618827033,
          -0.35826300853537124,
          -2.641779265896877,
          1.7247231795571583,
          0.3673705260306855,
          0.09276272084379551,
          -0.18472477320008263,
          -1.6970613031028194,
          0.1843645004161003,
          0.5921046508039165,
          0.784867163116174,
          0.035674674097062015,
          -1.0077029572479506,
          0.7461447282062237,
          -0.5868772103780041,
          -0.568107392843018,
          0.12065140233307468,
          -0.8069255129179801,
          -1.8704940936796401,
          -0.7404711419618509,
          -0.5983897510208666,
          1.7050616932429972,
          -0.9258406850844257,
          -0.22291973386169947,
          0.38082614288418576,
          -0.2256843255911952,
          -0.6287074591394933,
          2.394235061047817,
          0.668169433872653,
          0.9968613105270926,
          -1.032969040321864,
          2.164652725086726,
          0.15323306330310169,
          -0.5445996973395306,
          -0.4038606332641512,
          0.8909069835088288,
          0.197832202834394,
          -0.20753647433224323,
          -1.696035375361601,
          2.915074338040306,
          1.4848354580604801,
          0.4129310916479309,
          -0.5841717881041785,
          1.1138237134791464,
          -0.6351696242421287,
          -0.4751255037732066,
          -0.23049971038152886,
          0.07740486985743174,
          0.3266324105276788,
          -0.18148747202789775,
          0.18998088567144913,
          -0.18618896527839632
         ]
        },
        {
         "boxpoints": false,
         "line": {
          "width": 1.3
         },
         "marker": {
          "color": "rgba(55, 128, 191, 1.0)"
         },
         "name": "B",
         "orientation": "v",
         "type": "box",
         "y": [
          -1.5702617948214266,
          0.12942604733102087,
          -1.2169678178307737,
          -1.2778014589549243,
          1.8237927091633785,
          0.0983300722187688,
          -1.4867525497879113,
          0.25751460492347245,
          -0.8675529082563131,
          1.234516185844747,
          1.2849289284666068,
          -0.02214928596425894,
          1.8045203915299464,
          -0.2717929080799078,
          0.28282897890794684,
          0.4891061282687007,
          0.5443993907148782,
          0.03664611008771916,
          -1.4003908791201083,
          0.48765519178484606,
          0.7410222490313609,
          0.6552416409680061,
          0.7752657653055114,
          0.16471296627787774,
          -0.9082756830220291,
          -0.8942021456626656,
          -0.11711820349957816,
          1.3045192026835244,
          0.47610209947548787,
          -0.893996522001287,
          -1.9640426395138464,
          0.43177799306761144,
          0.2124861930961608,
          -0.26810503189773915,
          -0.2917277248112427,
          1.0600995580385186,
          -0.09616546623536769,
          0.009831686166474143,
          0.12449032978094596,
          1.0276096444007707,
          -1.0254918006858438,
          -0.491665530209502,
          -1.1532845391864175,
          0.7743603622969015,
          0.5015434994983705,
          -2.670307417221883,
          -1.2579742785445271,
          1.4905247530153953,
          -0.40082727355775954,
          0.013203193429966736,
          0.1478919810858192,
          1.8112635179969534,
          -1.5139512301237585,
          1.018692288823052,
          -1.1012653901407132,
          -0.5820767909418454,
          -1.4139610051553735,
          0.01755357736561984,
          0.5146723862357394,
          -0.1209274245317748,
          -0.491205835395233,
          0.0022244209716448093,
          -0.4631825451744534,
          0.907113410788158,
          -2.6207466340129444,
          0.4905596334180495,
          1.2439976629035,
          1.3620583916014237,
          -0.19132402487449365,
          2.2972892403697673,
          -1.1367556296822485,
          0.7947113392733698,
          0.5105297809039376,
          0.9137443265637776,
          0.9924360158790626,
          0.9138885179435232,
          -0.25964561644063744,
          -1.959604933558067,
          -0.6889732022152018,
          -0.3191836910416321,
          0.07420510684222735,
          -1.9129165314678132,
          0.3526977808732218,
          -1.4994800777658641,
          0.3742016214330207,
          -0.7211513000095967,
          -0.961856771165803,
          0.7952332385174912,
          1.0987584252515978,
          -1.684638463358606,
          -0.13351592575428659,
          0.5041206166281047,
          -0.24754116237098892,
          -2.396950493369511,
          0.3509411161599187,
          -0.14041401285102192,
          0.650789056470859,
          -0.8620434947700216,
          0.11914014339928516,
          -0.6736618243248493
         ]
        },
        {
         "boxpoints": false,
         "line": {
          "width": 1.3
         },
         "marker": {
          "color": "rgba(50, 171, 96, 1.0)"
         },
         "name": "C",
         "orientation": "v",
         "type": "box",
         "y": [
          0.18856495400514253,
          -0.9578421507991861,
          -0.02036781403333026,
          -0.6069914307030784,
          0.09842160312153832,
          0.030535455561639075,
          -0.26450887295955683,
          -0.5311236196165268,
          0.787187627995759,
          0.3825374824741036,
          0.3889539683709063,
          1.1754927631211232,
          0.6040510045091236,
          1.5036900403980762,
          0.7494611569341438,
          1.0786862363974168,
          0.2556556398148715,
          0.8597672181574428,
          0.4030471720466067,
          0.7394252420005483,
          -0.08778330501298419,
          0.43605578439404,
          -0.5750782287709368,
          0.8531061941031274,
          0.7081431179498274,
          -0.6217453362157765,
          -0.11632079281110175,
          -1.1685313930801433,
          0.6628124534801917,
          0.061300188460506284,
          -0.9118611240050505,
          -0.827729334487359,
          -1.5656357393727327,
          -0.25695057062235693,
          -0.12035817279673999,
          -0.8620240114053124,
          0.7329520324375339,
          -2.295604382007167,
          0.11261436495166273,
          -2.310490122285268,
          0.4704543688232888,
          0.23859731345603535,
          -0.8398572439208553,
          0.009554086999037415,
          0.24997065650679567,
          -0.8390718789643391,
          0.7942626667524763,
          -0.5522439617837457,
          -2.0886239043009898,
          0.05492800964056952,
          0.8019591313244562,
          -0.3538454647640866,
          0.21339579379845683,
          -0.2926505183721297,
          1.1860418422261745,
          -0.20119829797773575,
          0.22828519503252298,
          0.4966301806568243,
          1.5338652444000096,
          0.3870831517537001,
          -0.9028593738996418,
          -0.7160605473491861,
          -0.6352347594642135,
          -0.19744951889144655,
          -0.7587475103425411,
          1.472683971291497,
          -0.4214928231394391,
          -0.614558873488455,
          1.0487773353585246,
          -0.27531683057699535,
          1.0339774220499915,
          -0.36554490988557403,
          -0.04159254060417178,
          -0.24629703385239454,
          -1.9836825726651135,
          -0.09095340148596404,
          1.22427216992178,
          -0.6759742004052892,
          -1.2447323344608514,
          0.4198610975109645,
          1.9617588024633907,
          0.6278559955345764,
          -0.23641077800572932,
          -0.3740505001472074,
          -0.48720868479607976,
          0.6632974460099765,
          0.9628054495678843,
          0.8615346474883159,
          -0.717307106393296,
          0.2866210796136707,
          -0.5015448456231866,
          -0.09872602755137291,
          1.9717972540520265,
          -0.4586715354974484,
          1.9051295985297643,
          -1.13066958951519,
          0.3494699410249197,
          -0.4253507507808615,
          -0.026046450191851683,
          0.7203732165564561
         ]
        },
        {
         "boxpoints": false,
         "line": {
          "width": 1.3
         },
         "marker": {
          "color": "rgba(128, 0, 128, 1.0)"
         },
         "name": "D",
         "orientation": "v",
         "type": "box",
         "y": [
          -0.046516906807984405,
          -1.764033904858864,
          1.2668183942763993,
          -1.0569391286084147,
          2.0719559653770467,
          -0.5755666244104721,
          -0.18980515131343048,
          -0.2607888334981154,
          0.12309005617302901,
          -0.9613662117952162,
          1.5594439426864284,
          -1.8056001287358012,
          0.1879022777003043,
          -0.2217419978576319,
          0.3246328437415449,
          1.9755178229918042,
          0.24152757962584273,
          1.3898145877791737,
          1.2858199934281518,
          -1.0539771815964754,
          0.6845038772589357,
          0.8905780603970622,
          0.6179681149817068,
          -0.21667771398662147,
          -0.6544294917494967,
          -0.8241053953579198,
          0.05260367036965441,
          0.31799378080482826,
          -0.7149185034657983,
          1.5172398152417168,
          -0.1761387447391769,
          -0.8515042828854458,
          -0.2958209023070441,
          0.4860297898822799,
          0.1446103302752632,
          -0.8630012960407375,
          -0.3223152116955873,
          1.013796534912856,
          1.8749221024843268,
          1.499963700651641,
          -1.010766440832659,
          1.3505810129289824,
          -2.2944897606251273,
          -0.35098807198386167,
          -0.3938159510420015,
          -1.1162831162773235,
          -0.2169638991094867,
          1.022221243175815,
          -1.5374674990625818,
          -0.8842052195054546,
          -1.3801778920213124,
          0.13176833764317908,
          0.5231622760831692,
          0.389454103963345,
          -0.4892891628743335,
          -0.3238767608634141,
          1.235267384509114,
          2.037906641880036,
          -0.013302238855699424,
          0.8568752212441185,
          -1.0459568341385515,
          0.522595272255502,
          0.9411212627918908,
          0.9199650514655823,
          -1.6191942836966133,
          -1.9586685246353996,
          1.0689312901903878,
          -1.9370383729226333,
          -1.3845933679280464,
          0.3436997547371127,
          0.058998429928741616,
          -2.191214248870023,
          -1.3821718292370635,
          1.7420073630666788,
          -0.337051825314482,
          0.30376723649932824,
          1.14355214682258,
          0.7374262514475121,
          -0.9431323526469871,
          -0.41666514816271005,
          -2.3661258246076695,
          0.2392742275914587,
          -1.564031720401776,
          -1.1628348852453154,
          0.0026442076440966952,
          -0.566262232195784,
          1.244210977162073,
          1.0974247709708622,
          1.3063935899056607,
          0.05651869215108525,
          0.46457112131701583,
          -0.3024349290311257,
          -0.680228301288789,
          0.7198723080305751,
          0.19126542960804854,
          -1.040540519874543,
          -0.40676317848873766,
          -0.8965490783851073,
          0.2218621165162884,
          -0.3335003420186325
         ]
        }
       ],
       "layout": {
        "legend": {
         "bgcolor": "#F5F6F9",
         "font": {
          "color": "#4D5663"
         }
        },
        "paper_bgcolor": "#F5F6F9",
        "plot_bgcolor": "#F5F6F9",
        "template": {
         "data": {
          "bar": [
           {
            "error_x": {
             "color": "#2a3f5f"
            },
            "error_y": {
             "color": "#2a3f5f"
            },
            "marker": {
             "line": {
              "color": "#E5ECF6",
              "width": 0.5
             },
             "pattern": {
              "fillmode": "overlay",
              "size": 10,
              "solidity": 0.2
             }
            },
            "type": "bar"
           }
          ],
          "barpolar": [
           {
            "marker": {
             "line": {
              "color": "#E5ECF6",
              "width": 0.5
             },
             "pattern": {
              "fillmode": "overlay",
              "size": 10,
              "solidity": 0.2
             }
            },
            "type": "barpolar"
           }
          ],
          "carpet": [
           {
            "aaxis": {
             "endlinecolor": "#2a3f5f",
             "gridcolor": "white",
             "linecolor": "white",
             "minorgridcolor": "white",
             "startlinecolor": "#2a3f5f"
            },
            "baxis": {
             "endlinecolor": "#2a3f5f",
             "gridcolor": "white",
             "linecolor": "white",
             "minorgridcolor": "white",
             "startlinecolor": "#2a3f5f"
            },
            "type": "carpet"
           }
          ],
          "choropleth": [
           {
            "colorbar": {
             "outlinewidth": 0,
             "ticks": ""
            },
            "type": "choropleth"
           }
          ],
          "contour": [
           {
            "colorbar": {
             "outlinewidth": 0,
             "ticks": ""
            },
            "colorscale": [
             [
              0,
              "#0d0887"
             ],
             [
              0.1111111111111111,
              "#46039f"
             ],
             [
              0.2222222222222222,
              "#7201a8"
             ],
             [
              0.3333333333333333,
              "#9c179e"
             ],
             [
              0.4444444444444444,
              "#bd3786"
             ],
             [
              0.5555555555555556,
              "#d8576b"
             ],
             [
              0.6666666666666666,
              "#ed7953"
             ],
             [
              0.7777777777777778,
              "#fb9f3a"
             ],
             [
              0.8888888888888888,
              "#fdca26"
             ],
             [
              1,
              "#f0f921"
             ]
            ],
            "type": "contour"
           }
          ],
          "contourcarpet": [
           {
            "colorbar": {
             "outlinewidth": 0,
             "ticks": ""
            },
            "type": "contourcarpet"
           }
          ],
          "heatmap": [
           {
            "colorbar": {
             "outlinewidth": 0,
             "ticks": ""
            },
            "colorscale": [
             [
              0,
              "#0d0887"
             ],
             [
              0.1111111111111111,
              "#46039f"
             ],
             [
              0.2222222222222222,
              "#7201a8"
             ],
             [
              0.3333333333333333,
              "#9c179e"
             ],
             [
              0.4444444444444444,
              "#bd3786"
             ],
             [
              0.5555555555555556,
              "#d8576b"
             ],
             [
              0.6666666666666666,
              "#ed7953"
             ],
             [
              0.7777777777777778,
              "#fb9f3a"
             ],
             [
              0.8888888888888888,
              "#fdca26"
             ],
             [
              1,
              "#f0f921"
             ]
            ],
            "type": "heatmap"
           }
          ],
          "heatmapgl": [
           {
            "colorbar": {
             "outlinewidth": 0,
             "ticks": ""
            },
            "colorscale": [
             [
              0,
              "#0d0887"
             ],
             [
              0.1111111111111111,
              "#46039f"
             ],
             [
              0.2222222222222222,
              "#7201a8"
             ],
             [
              0.3333333333333333,
              "#9c179e"
             ],
             [
              0.4444444444444444,
              "#bd3786"
             ],
             [
              0.5555555555555556,
              "#d8576b"
             ],
             [
              0.6666666666666666,
              "#ed7953"
             ],
             [
              0.7777777777777778,
              "#fb9f3a"
             ],
             [
              0.8888888888888888,
              "#fdca26"
             ],
             [
              1,
              "#f0f921"
             ]
            ],
            "type": "heatmapgl"
           }
          ],
          "histogram": [
           {
            "marker": {
             "pattern": {
              "fillmode": "overlay",
              "size": 10,
              "solidity": 0.2
             }
            },
            "type": "histogram"
           }
          ],
          "histogram2d": [
           {
            "colorbar": {
             "outlinewidth": 0,
             "ticks": ""
            },
            "colorscale": [
             [
              0,
              "#0d0887"
             ],
             [
              0.1111111111111111,
              "#46039f"
             ],
             [
              0.2222222222222222,
              "#7201a8"
             ],
             [
              0.3333333333333333,
              "#9c179e"
             ],
             [
              0.4444444444444444,
              "#bd3786"
             ],
             [
              0.5555555555555556,
              "#d8576b"
             ],
             [
              0.6666666666666666,
              "#ed7953"
             ],
             [
              0.7777777777777778,
              "#fb9f3a"
             ],
             [
              0.8888888888888888,
              "#fdca26"
             ],
             [
              1,
              "#f0f921"
             ]
            ],
            "type": "histogram2d"
           }
          ],
          "histogram2dcontour": [
           {
            "colorbar": {
             "outlinewidth": 0,
             "ticks": ""
            },
            "colorscale": [
             [
              0,
              "#0d0887"
             ],
             [
              0.1111111111111111,
              "#46039f"
             ],
             [
              0.2222222222222222,
              "#7201a8"
             ],
             [
              0.3333333333333333,
              "#9c179e"
             ],
             [
              0.4444444444444444,
              "#bd3786"
             ],
             [
              0.5555555555555556,
              "#d8576b"
             ],
             [
              0.6666666666666666,
              "#ed7953"
             ],
             [
              0.7777777777777778,
              "#fb9f3a"
             ],
             [
              0.8888888888888888,
              "#fdca26"
             ],
             [
              1,
              "#f0f921"
             ]
            ],
            "type": "histogram2dcontour"
           }
          ],
          "mesh3d": [
           {
            "colorbar": {
             "outlinewidth": 0,
             "ticks": ""
            },
            "type": "mesh3d"
           }
          ],
          "parcoords": [
           {
            "line": {
             "colorbar": {
              "outlinewidth": 0,
              "ticks": ""
             }
            },
            "type": "parcoords"
           }
          ],
          "pie": [
           {
            "automargin": true,
            "type": "pie"
           }
          ],
          "scatter": [
           {
            "fillpattern": {
             "fillmode": "overlay",
             "size": 10,
             "solidity": 0.2
            },
            "type": "scatter"
           }
          ],
          "scatter3d": [
           {
            "line": {
             "colorbar": {
              "outlinewidth": 0,
              "ticks": ""
             }
            },
            "marker": {
             "colorbar": {
              "outlinewidth": 0,
              "ticks": ""
             }
            },
            "type": "scatter3d"
           }
          ],
          "scattercarpet": [
           {
            "marker": {
             "colorbar": {
              "outlinewidth": 0,
              "ticks": ""
             }
            },
            "type": "scattercarpet"
           }
          ],
          "scattergeo": [
           {
            "marker": {
             "colorbar": {
              "outlinewidth": 0,
              "ticks": ""
             }
            },
            "type": "scattergeo"
           }
          ],
          "scattergl": [
           {
            "marker": {
             "colorbar": {
              "outlinewidth": 0,
              "ticks": ""
             }
            },
            "type": "scattergl"
           }
          ],
          "scattermapbox": [
           {
            "marker": {
             "colorbar": {
              "outlinewidth": 0,
              "ticks": ""
             }
            },
            "type": "scattermapbox"
           }
          ],
          "scatterpolar": [
           {
            "marker": {
             "colorbar": {
              "outlinewidth": 0,
              "ticks": ""
             }
            },
            "type": "scatterpolar"
           }
          ],
          "scatterpolargl": [
           {
            "marker": {
             "colorbar": {
              "outlinewidth": 0,
              "ticks": ""
             }
            },
            "type": "scatterpolargl"
           }
          ],
          "scatterternary": [
           {
            "marker": {
             "colorbar": {
              "outlinewidth": 0,
              "ticks": ""
             }
            },
            "type": "scatterternary"
           }
          ],
          "surface": [
           {
            "colorbar": {
             "outlinewidth": 0,
             "ticks": ""
            },
            "colorscale": [
             [
              0,
              "#0d0887"
             ],
             [
              0.1111111111111111,
              "#46039f"
             ],
             [
              0.2222222222222222,
              "#7201a8"
             ],
             [
              0.3333333333333333,
              "#9c179e"
             ],
             [
              0.4444444444444444,
              "#bd3786"
             ],
             [
              0.5555555555555556,
              "#d8576b"
             ],
             [
              0.6666666666666666,
              "#ed7953"
             ],
             [
              0.7777777777777778,
              "#fb9f3a"
             ],
             [
              0.8888888888888888,
              "#fdca26"
             ],
             [
              1,
              "#f0f921"
             ]
            ],
            "type": "surface"
           }
          ],
          "table": [
           {
            "cells": {
             "fill": {
              "color": "#EBF0F8"
             },
             "line": {
              "color": "white"
             }
            },
            "header": {
             "fill": {
              "color": "#C8D4E3"
             },
             "line": {
              "color": "white"
             }
            },
            "type": "table"
           }
          ]
         },
         "layout": {
          "annotationdefaults": {
           "arrowcolor": "#2a3f5f",
           "arrowhead": 0,
           "arrowwidth": 1
          },
          "autotypenumbers": "strict",
          "coloraxis": {
           "colorbar": {
            "outlinewidth": 0,
            "ticks": ""
           }
          },
          "colorscale": {
           "diverging": [
            [
             0,
             "#8e0152"
            ],
            [
             0.1,
             "#c51b7d"
            ],
            [
             0.2,
             "#de77ae"
            ],
            [
             0.3,
             "#f1b6da"
            ],
            [
             0.4,
             "#fde0ef"
            ],
            [
             0.5,
             "#f7f7f7"
            ],
            [
             0.6,
             "#e6f5d0"
            ],
            [
             0.7,
             "#b8e186"
            ],
            [
             0.8,
             "#7fbc41"
            ],
            [
             0.9,
             "#4d9221"
            ],
            [
             1,
             "#276419"
            ]
           ],
           "sequential": [
            [
             0,
             "#0d0887"
            ],
            [
             0.1111111111111111,
             "#46039f"
            ],
            [
             0.2222222222222222,
             "#7201a8"
            ],
            [
             0.3333333333333333,
             "#9c179e"
            ],
            [
             0.4444444444444444,
             "#bd3786"
            ],
            [
             0.5555555555555556,
             "#d8576b"
            ],
            [
             0.6666666666666666,
             "#ed7953"
            ],
            [
             0.7777777777777778,
             "#fb9f3a"
            ],
            [
             0.8888888888888888,
             "#fdca26"
            ],
            [
             1,
             "#f0f921"
            ]
           ],
           "sequentialminus": [
            [
             0,
             "#0d0887"
            ],
            [
             0.1111111111111111,
             "#46039f"
            ],
            [
             0.2222222222222222,
             "#7201a8"
            ],
            [
             0.3333333333333333,
             "#9c179e"
            ],
            [
             0.4444444444444444,
             "#bd3786"
            ],
            [
             0.5555555555555556,
             "#d8576b"
            ],
            [
             0.6666666666666666,
             "#ed7953"
            ],
            [
             0.7777777777777778,
             "#fb9f3a"
            ],
            [
             0.8888888888888888,
             "#fdca26"
            ],
            [
             1,
             "#f0f921"
            ]
           ]
          },
          "colorway": [
           "#636efa",
           "#EF553B",
           "#00cc96",
           "#ab63fa",
           "#FFA15A",
           "#19d3f3",
           "#FF6692",
           "#B6E880",
           "#FF97FF",
           "#FECB52"
          ],
          "font": {
           "color": "#2a3f5f"
          },
          "geo": {
           "bgcolor": "white",
           "lakecolor": "white",
           "landcolor": "#E5ECF6",
           "showlakes": true,
           "showland": true,
           "subunitcolor": "white"
          },
          "hoverlabel": {
           "align": "left"
          },
          "hovermode": "closest",
          "mapbox": {
           "style": "light"
          },
          "paper_bgcolor": "white",
          "plot_bgcolor": "#E5ECF6",
          "polar": {
           "angularaxis": {
            "gridcolor": "white",
            "linecolor": "white",
            "ticks": ""
           },
           "bgcolor": "#E5ECF6",
           "radialaxis": {
            "gridcolor": "white",
            "linecolor": "white",
            "ticks": ""
           }
          },
          "scene": {
           "xaxis": {
            "backgroundcolor": "#E5ECF6",
            "gridcolor": "white",
            "gridwidth": 2,
            "linecolor": "white",
            "showbackground": true,
            "ticks": "",
            "zerolinecolor": "white"
           },
           "yaxis": {
            "backgroundcolor": "#E5ECF6",
            "gridcolor": "white",
            "gridwidth": 2,
            "linecolor": "white",
            "showbackground": true,
            "ticks": "",
            "zerolinecolor": "white"
           },
           "zaxis": {
            "backgroundcolor": "#E5ECF6",
            "gridcolor": "white",
            "gridwidth": 2,
            "linecolor": "white",
            "showbackground": true,
            "ticks": "",
            "zerolinecolor": "white"
           }
          },
          "shapedefaults": {
           "line": {
            "color": "#2a3f5f"
           }
          },
          "ternary": {
           "aaxis": {
            "gridcolor": "white",
            "linecolor": "white",
            "ticks": ""
           },
           "baxis": {
            "gridcolor": "white",
            "linecolor": "white",
            "ticks": ""
           },
           "bgcolor": "#E5ECF6",
           "caxis": {
            "gridcolor": "white",
            "linecolor": "white",
            "ticks": ""
           }
          },
          "title": {
           "x": 0.05
          },
          "xaxis": {
           "automargin": true,
           "gridcolor": "white",
           "linecolor": "white",
           "ticks": "",
           "title": {
            "standoff": 15
           },
           "zerolinecolor": "white",
           "zerolinewidth": 2
          },
          "yaxis": {
           "automargin": true,
           "gridcolor": "white",
           "linecolor": "white",
           "ticks": "",
           "title": {
            "standoff": 15
           },
           "zerolinecolor": "white",
           "zerolinewidth": 2
          }
         }
        },
        "title": {
         "font": {
          "color": "#4D5663"
         }
        },
        "xaxis": {
         "gridcolor": "#E1E5ED",
         "showgrid": true,
         "tickfont": {
          "color": "#4D5663"
         },
         "title": {
          "font": {
           "color": "#4D5663"
          },
          "text": ""
         },
         "zerolinecolor": "#E1E5ED"
        },
        "yaxis": {
         "gridcolor": "#E1E5ED",
         "showgrid": true,
         "tickfont": {
          "color": "#4D5663"
         },
         "title": {
          "font": {
           "color": "#4D5663"
          },
          "text": ""
         },
         "zerolinecolor": "#E1E5ED"
        }
       }
      },
      "text/html": [
       "<div>                            <div id=\"d401cb26-68f6-4dd5-9d0b-2d41769b5eb3\" class=\"plotly-graph-div\" style=\"height:525px; width:100%;\"></div>            <script type=\"text/javascript\">                require([\"plotly\"], function(Plotly) {                    window.PLOTLYENV=window.PLOTLYENV || {};\n",
       "                    window.PLOTLYENV.BASE_URL='https://plot.ly';                                    if (document.getElementById(\"d401cb26-68f6-4dd5-9d0b-2d41769b5eb3\")) {                    Plotly.newPlot(                        \"d401cb26-68f6-4dd5-9d0b-2d41769b5eb3\",                        [{\"boxpoints\":false,\"line\":{\"width\":1.3},\"marker\":{\"color\":\"rgba(255, 153, 51, 1.0)\"},\"name\":\"A\",\"orientation\":\"v\",\"y\":[1.9785474803328607,1.0092268487548832,-1.225013157557364,-1.7571929080727824,-0.3510321902033087,1.4100616476100398,-0.7107709961502106,-0.23874519373105246,1.2373841410062967,0.8323615939275861,-0.9041212935899998,1.0134132263520905,-0.48501594051186303,0.10711805122591342,1.053211572931562,1.8747476432241057,-1.6935363858985157,-0.2608680773992978,1.6883554154984184,0.7485058415919015,0.9786366361762188,-0.3085510438136002,-0.9304657253362264,0.6037118838048389,0.6245447736656713,1.2385002099949525,-0.7097874554477298,0.5823549670983328,-0.35803780976590854,1.5491322960816853,1.53807985352257,2.404581495249531,-0.9652410635551554,-0.47589035741556557,1.6683681176793281,-0.8476670562828995,-0.6211176310350959,-0.652231375444704,0.9359531059469797,-1.6020033412254073,0.31985344042035896,0.46587917758063924,-0.16268949490112863,-0.46277578442258077,0.058282399822782646,0.46307447698305676,0.3224978075603298,0.11526650280798287,-0.7692957618827033,-0.35826300853537124,-2.641779265896877,1.7247231795571583,0.3673705260306855,0.09276272084379551,-0.18472477320008263,-1.6970613031028194,0.1843645004161003,0.5921046508039165,0.784867163116174,0.035674674097062015,-1.0077029572479506,0.7461447282062237,-0.5868772103780041,-0.568107392843018,0.12065140233307468,-0.8069255129179801,-1.8704940936796401,-0.7404711419618509,-0.5983897510208666,1.7050616932429972,-0.9258406850844257,-0.22291973386169947,0.38082614288418576,-0.2256843255911952,-0.6287074591394933,2.394235061047817,0.668169433872653,0.9968613105270926,-1.032969040321864,2.164652725086726,0.15323306330310169,-0.5445996973395306,-0.4038606332641512,0.8909069835088288,0.197832202834394,-0.20753647433224323,-1.696035375361601,2.915074338040306,1.4848354580604801,0.4129310916479309,-0.5841717881041785,1.1138237134791464,-0.6351696242421287,-0.4751255037732066,-0.23049971038152886,0.07740486985743174,0.3266324105276788,-0.18148747202789775,0.18998088567144913,-0.18618896527839632],\"type\":\"box\"},{\"boxpoints\":false,\"line\":{\"width\":1.3},\"marker\":{\"color\":\"rgba(55, 128, 191, 1.0)\"},\"name\":\"B\",\"orientation\":\"v\",\"y\":[-1.5702617948214266,0.12942604733102087,-1.2169678178307737,-1.2778014589549243,1.8237927091633785,0.0983300722187688,-1.4867525497879113,0.25751460492347245,-0.8675529082563131,1.234516185844747,1.2849289284666068,-0.02214928596425894,1.8045203915299464,-0.2717929080799078,0.28282897890794684,0.4891061282687007,0.5443993907148782,0.03664611008771916,-1.4003908791201083,0.48765519178484606,0.7410222490313609,0.6552416409680061,0.7752657653055114,0.16471296627787774,-0.9082756830220291,-0.8942021456626656,-0.11711820349957816,1.3045192026835244,0.47610209947548787,-0.893996522001287,-1.9640426395138464,0.43177799306761144,0.2124861930961608,-0.26810503189773915,-0.2917277248112427,1.0600995580385186,-0.09616546623536769,0.009831686166474143,0.12449032978094596,1.0276096444007707,-1.0254918006858438,-0.491665530209502,-1.1532845391864175,0.7743603622969015,0.5015434994983705,-2.670307417221883,-1.2579742785445271,1.4905247530153953,-0.40082727355775954,0.013203193429966736,0.1478919810858192,1.8112635179969534,-1.5139512301237585,1.018692288823052,-1.1012653901407132,-0.5820767909418454,-1.4139610051553735,0.01755357736561984,0.5146723862357394,-0.1209274245317748,-0.491205835395233,0.0022244209716448093,-0.4631825451744534,0.907113410788158,-2.6207466340129444,0.4905596334180495,1.2439976629035,1.3620583916014237,-0.19132402487449365,2.2972892403697673,-1.1367556296822485,0.7947113392733698,0.5105297809039376,0.9137443265637776,0.9924360158790626,0.9138885179435232,-0.25964561644063744,-1.959604933558067,-0.6889732022152018,-0.3191836910416321,0.07420510684222735,-1.9129165314678132,0.3526977808732218,-1.4994800777658641,0.3742016214330207,-0.7211513000095967,-0.961856771165803,0.7952332385174912,1.0987584252515978,-1.684638463358606,-0.13351592575428659,0.5041206166281047,-0.24754116237098892,-2.396950493369511,0.3509411161599187,-0.14041401285102192,0.650789056470859,-0.8620434947700216,0.11914014339928516,-0.6736618243248493],\"type\":\"box\"},{\"boxpoints\":false,\"line\":{\"width\":1.3},\"marker\":{\"color\":\"rgba(50, 171, 96, 1.0)\"},\"name\":\"C\",\"orientation\":\"v\",\"y\":[0.18856495400514253,-0.9578421507991861,-0.02036781403333026,-0.6069914307030784,0.09842160312153832,0.030535455561639075,-0.26450887295955683,-0.5311236196165268,0.787187627995759,0.3825374824741036,0.3889539683709063,1.1754927631211232,0.6040510045091236,1.5036900403980762,0.7494611569341438,1.0786862363974168,0.2556556398148715,0.8597672181574428,0.4030471720466067,0.7394252420005483,-0.08778330501298419,0.43605578439404,-0.5750782287709368,0.8531061941031274,0.7081431179498274,-0.6217453362157765,-0.11632079281110175,-1.1685313930801433,0.6628124534801917,0.061300188460506284,-0.9118611240050505,-0.827729334487359,-1.5656357393727327,-0.25695057062235693,-0.12035817279673999,-0.8620240114053124,0.7329520324375339,-2.295604382007167,0.11261436495166273,-2.310490122285268,0.4704543688232888,0.23859731345603535,-0.8398572439208553,0.009554086999037415,0.24997065650679567,-0.8390718789643391,0.7942626667524763,-0.5522439617837457,-2.0886239043009898,0.05492800964056952,0.8019591313244562,-0.3538454647640866,0.21339579379845683,-0.2926505183721297,1.1860418422261745,-0.20119829797773575,0.22828519503252298,0.4966301806568243,1.5338652444000096,0.3870831517537001,-0.9028593738996418,-0.7160605473491861,-0.6352347594642135,-0.19744951889144655,-0.7587475103425411,1.472683971291497,-0.4214928231394391,-0.614558873488455,1.0487773353585246,-0.27531683057699535,1.0339774220499915,-0.36554490988557403,-0.04159254060417178,-0.24629703385239454,-1.9836825726651135,-0.09095340148596404,1.22427216992178,-0.6759742004052892,-1.2447323344608514,0.4198610975109645,1.9617588024633907,0.6278559955345764,-0.23641077800572932,-0.3740505001472074,-0.48720868479607976,0.6632974460099765,0.9628054495678843,0.8615346474883159,-0.717307106393296,0.2866210796136707,-0.5015448456231866,-0.09872602755137291,1.9717972540520265,-0.4586715354974484,1.9051295985297643,-1.13066958951519,0.3494699410249197,-0.4253507507808615,-0.026046450191851683,0.7203732165564561],\"type\":\"box\"},{\"boxpoints\":false,\"line\":{\"width\":1.3},\"marker\":{\"color\":\"rgba(128, 0, 128, 1.0)\"},\"name\":\"D\",\"orientation\":\"v\",\"y\":[-0.046516906807984405,-1.764033904858864,1.2668183942763993,-1.0569391286084147,2.0719559653770467,-0.5755666244104721,-0.18980515131343048,-0.2607888334981154,0.12309005617302901,-0.9613662117952162,1.5594439426864284,-1.8056001287358012,0.1879022777003043,-0.2217419978576319,0.3246328437415449,1.9755178229918042,0.24152757962584273,1.3898145877791737,1.2858199934281518,-1.0539771815964754,0.6845038772589357,0.8905780603970622,0.6179681149817068,-0.21667771398662147,-0.6544294917494967,-0.8241053953579198,0.05260367036965441,0.31799378080482826,-0.7149185034657983,1.5172398152417168,-0.1761387447391769,-0.8515042828854458,-0.2958209023070441,0.4860297898822799,0.1446103302752632,-0.8630012960407375,-0.3223152116955873,1.013796534912856,1.8749221024843268,1.499963700651641,-1.010766440832659,1.3505810129289824,-2.2944897606251273,-0.35098807198386167,-0.3938159510420015,-1.1162831162773235,-0.2169638991094867,1.022221243175815,-1.5374674990625818,-0.8842052195054546,-1.3801778920213124,0.13176833764317908,0.5231622760831692,0.389454103963345,-0.4892891628743335,-0.3238767608634141,1.235267384509114,2.037906641880036,-0.013302238855699424,0.8568752212441185,-1.0459568341385515,0.522595272255502,0.9411212627918908,0.9199650514655823,-1.6191942836966133,-1.9586685246353996,1.0689312901903878,-1.9370383729226333,-1.3845933679280464,0.3436997547371127,0.058998429928741616,-2.191214248870023,-1.3821718292370635,1.7420073630666788,-0.337051825314482,0.30376723649932824,1.14355214682258,0.7374262514475121,-0.9431323526469871,-0.41666514816271005,-2.3661258246076695,0.2392742275914587,-1.564031720401776,-1.1628348852453154,0.0026442076440966952,-0.566262232195784,1.244210977162073,1.0974247709708622,1.3063935899056607,0.05651869215108525,0.46457112131701583,-0.3024349290311257,-0.680228301288789,0.7198723080305751,0.19126542960804854,-1.040540519874543,-0.40676317848873766,-0.8965490783851073,0.2218621165162884,-0.3335003420186325],\"type\":\"box\"}],                        {\"legend\":{\"bgcolor\":\"#F5F6F9\",\"font\":{\"color\":\"#4D5663\"}},\"paper_bgcolor\":\"#F5F6F9\",\"plot_bgcolor\":\"#F5F6F9\",\"template\":{\"data\":{\"barpolar\":[{\"marker\":{\"line\":{\"color\":\"#E5ECF6\",\"width\":0.5},\"pattern\":{\"fillmode\":\"overlay\",\"size\":10,\"solidity\":0.2}},\"type\":\"barpolar\"}],\"bar\":[{\"error_x\":{\"color\":\"#2a3f5f\"},\"error_y\":{\"color\":\"#2a3f5f\"},\"marker\":{\"line\":{\"color\":\"#E5ECF6\",\"width\":0.5},\"pattern\":{\"fillmode\":\"overlay\",\"size\":10,\"solidity\":0.2}},\"type\":\"bar\"}],\"carpet\":[{\"aaxis\":{\"endlinecolor\":\"#2a3f5f\",\"gridcolor\":\"white\",\"linecolor\":\"white\",\"minorgridcolor\":\"white\",\"startlinecolor\":\"#2a3f5f\"},\"baxis\":{\"endlinecolor\":\"#2a3f5f\",\"gridcolor\":\"white\",\"linecolor\":\"white\",\"minorgridcolor\":\"white\",\"startlinecolor\":\"#2a3f5f\"},\"type\":\"carpet\"}],\"choropleth\":[{\"colorbar\":{\"outlinewidth\":0,\"ticks\":\"\"},\"type\":\"choropleth\"}],\"contourcarpet\":[{\"colorbar\":{\"outlinewidth\":0,\"ticks\":\"\"},\"type\":\"contourcarpet\"}],\"contour\":[{\"colorbar\":{\"outlinewidth\":0,\"ticks\":\"\"},\"colorscale\":[[0.0,\"#0d0887\"],[0.1111111111111111,\"#46039f\"],[0.2222222222222222,\"#7201a8\"],[0.3333333333333333,\"#9c179e\"],[0.4444444444444444,\"#bd3786\"],[0.5555555555555556,\"#d8576b\"],[0.6666666666666666,\"#ed7953\"],[0.7777777777777778,\"#fb9f3a\"],[0.8888888888888888,\"#fdca26\"],[1.0,\"#f0f921\"]],\"type\":\"contour\"}],\"heatmapgl\":[{\"colorbar\":{\"outlinewidth\":0,\"ticks\":\"\"},\"colorscale\":[[0.0,\"#0d0887\"],[0.1111111111111111,\"#46039f\"],[0.2222222222222222,\"#7201a8\"],[0.3333333333333333,\"#9c179e\"],[0.4444444444444444,\"#bd3786\"],[0.5555555555555556,\"#d8576b\"],[0.6666666666666666,\"#ed7953\"],[0.7777777777777778,\"#fb9f3a\"],[0.8888888888888888,\"#fdca26\"],[1.0,\"#f0f921\"]],\"type\":\"heatmapgl\"}],\"heatmap\":[{\"colorbar\":{\"outlinewidth\":0,\"ticks\":\"\"},\"colorscale\":[[0.0,\"#0d0887\"],[0.1111111111111111,\"#46039f\"],[0.2222222222222222,\"#7201a8\"],[0.3333333333333333,\"#9c179e\"],[0.4444444444444444,\"#bd3786\"],[0.5555555555555556,\"#d8576b\"],[0.6666666666666666,\"#ed7953\"],[0.7777777777777778,\"#fb9f3a\"],[0.8888888888888888,\"#fdca26\"],[1.0,\"#f0f921\"]],\"type\":\"heatmap\"}],\"histogram2dcontour\":[{\"colorbar\":{\"outlinewidth\":0,\"ticks\":\"\"},\"colorscale\":[[0.0,\"#0d0887\"],[0.1111111111111111,\"#46039f\"],[0.2222222222222222,\"#7201a8\"],[0.3333333333333333,\"#9c179e\"],[0.4444444444444444,\"#bd3786\"],[0.5555555555555556,\"#d8576b\"],[0.6666666666666666,\"#ed7953\"],[0.7777777777777778,\"#fb9f3a\"],[0.8888888888888888,\"#fdca26\"],[1.0,\"#f0f921\"]],\"type\":\"histogram2dcontour\"}],\"histogram2d\":[{\"colorbar\":{\"outlinewidth\":0,\"ticks\":\"\"},\"colorscale\":[[0.0,\"#0d0887\"],[0.1111111111111111,\"#46039f\"],[0.2222222222222222,\"#7201a8\"],[0.3333333333333333,\"#9c179e\"],[0.4444444444444444,\"#bd3786\"],[0.5555555555555556,\"#d8576b\"],[0.6666666666666666,\"#ed7953\"],[0.7777777777777778,\"#fb9f3a\"],[0.8888888888888888,\"#fdca26\"],[1.0,\"#f0f921\"]],\"type\":\"histogram2d\"}],\"histogram\":[{\"marker\":{\"pattern\":{\"fillmode\":\"overlay\",\"size\":10,\"solidity\":0.2}},\"type\":\"histogram\"}],\"mesh3d\":[{\"colorbar\":{\"outlinewidth\":0,\"ticks\":\"\"},\"type\":\"mesh3d\"}],\"parcoords\":[{\"line\":{\"colorbar\":{\"outlinewidth\":0,\"ticks\":\"\"}},\"type\":\"parcoords\"}],\"pie\":[{\"automargin\":true,\"type\":\"pie\"}],\"scatter3d\":[{\"line\":{\"colorbar\":{\"outlinewidth\":0,\"ticks\":\"\"}},\"marker\":{\"colorbar\":{\"outlinewidth\":0,\"ticks\":\"\"}},\"type\":\"scatter3d\"}],\"scattercarpet\":[{\"marker\":{\"colorbar\":{\"outlinewidth\":0,\"ticks\":\"\"}},\"type\":\"scattercarpet\"}],\"scattergeo\":[{\"marker\":{\"colorbar\":{\"outlinewidth\":0,\"ticks\":\"\"}},\"type\":\"scattergeo\"}],\"scattergl\":[{\"marker\":{\"colorbar\":{\"outlinewidth\":0,\"ticks\":\"\"}},\"type\":\"scattergl\"}],\"scattermapbox\":[{\"marker\":{\"colorbar\":{\"outlinewidth\":0,\"ticks\":\"\"}},\"type\":\"scattermapbox\"}],\"scatterpolargl\":[{\"marker\":{\"colorbar\":{\"outlinewidth\":0,\"ticks\":\"\"}},\"type\":\"scatterpolargl\"}],\"scatterpolar\":[{\"marker\":{\"colorbar\":{\"outlinewidth\":0,\"ticks\":\"\"}},\"type\":\"scatterpolar\"}],\"scatter\":[{\"fillpattern\":{\"fillmode\":\"overlay\",\"size\":10,\"solidity\":0.2},\"type\":\"scatter\"}],\"scatterternary\":[{\"marker\":{\"colorbar\":{\"outlinewidth\":0,\"ticks\":\"\"}},\"type\":\"scatterternary\"}],\"surface\":[{\"colorbar\":{\"outlinewidth\":0,\"ticks\":\"\"},\"colorscale\":[[0.0,\"#0d0887\"],[0.1111111111111111,\"#46039f\"],[0.2222222222222222,\"#7201a8\"],[0.3333333333333333,\"#9c179e\"],[0.4444444444444444,\"#bd3786\"],[0.5555555555555556,\"#d8576b\"],[0.6666666666666666,\"#ed7953\"],[0.7777777777777778,\"#fb9f3a\"],[0.8888888888888888,\"#fdca26\"],[1.0,\"#f0f921\"]],\"type\":\"surface\"}],\"table\":[{\"cells\":{\"fill\":{\"color\":\"#EBF0F8\"},\"line\":{\"color\":\"white\"}},\"header\":{\"fill\":{\"color\":\"#C8D4E3\"},\"line\":{\"color\":\"white\"}},\"type\":\"table\"}]},\"layout\":{\"annotationdefaults\":{\"arrowcolor\":\"#2a3f5f\",\"arrowhead\":0,\"arrowwidth\":1},\"autotypenumbers\":\"strict\",\"coloraxis\":{\"colorbar\":{\"outlinewidth\":0,\"ticks\":\"\"}},\"colorscale\":{\"diverging\":[[0,\"#8e0152\"],[0.1,\"#c51b7d\"],[0.2,\"#de77ae\"],[0.3,\"#f1b6da\"],[0.4,\"#fde0ef\"],[0.5,\"#f7f7f7\"],[0.6,\"#e6f5d0\"],[0.7,\"#b8e186\"],[0.8,\"#7fbc41\"],[0.9,\"#4d9221\"],[1,\"#276419\"]],\"sequential\":[[0.0,\"#0d0887\"],[0.1111111111111111,\"#46039f\"],[0.2222222222222222,\"#7201a8\"],[0.3333333333333333,\"#9c179e\"],[0.4444444444444444,\"#bd3786\"],[0.5555555555555556,\"#d8576b\"],[0.6666666666666666,\"#ed7953\"],[0.7777777777777778,\"#fb9f3a\"],[0.8888888888888888,\"#fdca26\"],[1.0,\"#f0f921\"]],\"sequentialminus\":[[0.0,\"#0d0887\"],[0.1111111111111111,\"#46039f\"],[0.2222222222222222,\"#7201a8\"],[0.3333333333333333,\"#9c179e\"],[0.4444444444444444,\"#bd3786\"],[0.5555555555555556,\"#d8576b\"],[0.6666666666666666,\"#ed7953\"],[0.7777777777777778,\"#fb9f3a\"],[0.8888888888888888,\"#fdca26\"],[1.0,\"#f0f921\"]]},\"colorway\":[\"#636efa\",\"#EF553B\",\"#00cc96\",\"#ab63fa\",\"#FFA15A\",\"#19d3f3\",\"#FF6692\",\"#B6E880\",\"#FF97FF\",\"#FECB52\"],\"font\":{\"color\":\"#2a3f5f\"},\"geo\":{\"bgcolor\":\"white\",\"lakecolor\":\"white\",\"landcolor\":\"#E5ECF6\",\"showlakes\":true,\"showland\":true,\"subunitcolor\":\"white\"},\"hoverlabel\":{\"align\":\"left\"},\"hovermode\":\"closest\",\"mapbox\":{\"style\":\"light\"},\"paper_bgcolor\":\"white\",\"plot_bgcolor\":\"#E5ECF6\",\"polar\":{\"angularaxis\":{\"gridcolor\":\"white\",\"linecolor\":\"white\",\"ticks\":\"\"},\"bgcolor\":\"#E5ECF6\",\"radialaxis\":{\"gridcolor\":\"white\",\"linecolor\":\"white\",\"ticks\":\"\"}},\"scene\":{\"xaxis\":{\"backgroundcolor\":\"#E5ECF6\",\"gridcolor\":\"white\",\"gridwidth\":2,\"linecolor\":\"white\",\"showbackground\":true,\"ticks\":\"\",\"zerolinecolor\":\"white\"},\"yaxis\":{\"backgroundcolor\":\"#E5ECF6\",\"gridcolor\":\"white\",\"gridwidth\":2,\"linecolor\":\"white\",\"showbackground\":true,\"ticks\":\"\",\"zerolinecolor\":\"white\"},\"zaxis\":{\"backgroundcolor\":\"#E5ECF6\",\"gridcolor\":\"white\",\"gridwidth\":2,\"linecolor\":\"white\",\"showbackground\":true,\"ticks\":\"\",\"zerolinecolor\":\"white\"}},\"shapedefaults\":{\"line\":{\"color\":\"#2a3f5f\"}},\"ternary\":{\"aaxis\":{\"gridcolor\":\"white\",\"linecolor\":\"white\",\"ticks\":\"\"},\"baxis\":{\"gridcolor\":\"white\",\"linecolor\":\"white\",\"ticks\":\"\"},\"bgcolor\":\"#E5ECF6\",\"caxis\":{\"gridcolor\":\"white\",\"linecolor\":\"white\",\"ticks\":\"\"}},\"title\":{\"x\":0.05},\"xaxis\":{\"automargin\":true,\"gridcolor\":\"white\",\"linecolor\":\"white\",\"ticks\":\"\",\"title\":{\"standoff\":15},\"zerolinecolor\":\"white\",\"zerolinewidth\":2},\"yaxis\":{\"automargin\":true,\"gridcolor\":\"white\",\"linecolor\":\"white\",\"ticks\":\"\",\"title\":{\"standoff\":15},\"zerolinecolor\":\"white\",\"zerolinewidth\":2}}},\"title\":{\"font\":{\"color\":\"#4D5663\"}},\"xaxis\":{\"gridcolor\":\"#E1E5ED\",\"showgrid\":true,\"tickfont\":{\"color\":\"#4D5663\"},\"title\":{\"font\":{\"color\":\"#4D5663\"},\"text\":\"\"},\"zerolinecolor\":\"#E1E5ED\"},\"yaxis\":{\"gridcolor\":\"#E1E5ED\",\"showgrid\":true,\"tickfont\":{\"color\":\"#4D5663\"},\"title\":{\"font\":{\"color\":\"#4D5663\"},\"text\":\"\"},\"zerolinecolor\":\"#E1E5ED\"}},                        {\"showLink\": true, \"linkText\": \"Export to plot.ly\", \"plotlyServerURL\": \"https://plot.ly\", \"responsive\": true}                    ).then(function(){\n",
       "                            \n",
       "var gd = document.getElementById('d401cb26-68f6-4dd5-9d0b-2d41769b5eb3');\n",
       "var x = new MutationObserver(function (mutations, observer) {{\n",
       "        var display = window.getComputedStyle(gd).display;\n",
       "        if (!display || display === 'none') {{\n",
       "            console.log([gd, 'removed!']);\n",
       "            Plotly.purge(gd);\n",
       "            observer.disconnect();\n",
       "        }}\n",
       "}});\n",
       "\n",
       "// Listen for the removal of the full notebook cells\n",
       "var notebookContainer = gd.closest('#notebook-container');\n",
       "if (notebookContainer) {{\n",
       "    x.observe(notebookContainer, {childList: true});\n",
       "}}\n",
       "\n",
       "// Listen for the clearing of the current output cell\n",
       "var outputEl = gd.closest('.output');\n",
       "if (outputEl) {{\n",
       "    x.observe(outputEl, {childList: true});\n",
       "}}\n",
       "\n",
       "                        })                };                });            </script>        </div>"
      ]
     },
     "metadata": {},
     "output_type": "display_data"
    }
   ],
   "source": [
    "df.iplot(kind='box')"
   ]
  },
  {
   "cell_type": "markdown",
   "metadata": {},
   "source": [
    "#### 3D Surface"
   ]
  },
  {
   "cell_type": "code",
   "execution_count": 27,
   "metadata": {},
   "outputs": [
    {
     "data": {
      "application/vnd.plotly.v1+json": {
       "config": {
        "linkText": "Export to plot.ly",
        "plotlyServerURL": "https://plot.ly",
        "showLink": true
       },
       "data": [
        {
         "colorscale": [
          [
           0,
           "rgb(165,0,38)"
          ],
          [
           0.1,
           "rgb(215,48,39)"
          ],
          [
           0.2,
           "rgb(244,109,67)"
          ],
          [
           0.3,
           "rgb(253,174,97)"
          ],
          [
           0.4,
           "rgb(254,224,144)"
          ],
          [
           0.5,
           "rgb(255,255,191)"
          ],
          [
           0.6,
           "rgb(224,243,248)"
          ],
          [
           0.7,
           "rgb(171,217,233)"
          ],
          [
           0.8,
           "rgb(116,173,209)"
          ],
          [
           0.9,
           "rgb(69,117,180)"
          ],
          [
           1,
           "rgb(49,54,149)"
          ]
         ],
         "type": "surface",
         "x": [
          0,
          1,
          2,
          3,
          4
         ],
         "y": [
          "x",
          "y",
          "z"
         ],
         "z": [
          [
           1,
           2,
           3,
           4,
           5
          ],
          [
           10,
           20,
           30,
           20,
           10
          ],
          [
           5,
           4,
           3,
           2,
           1
          ]
         ]
        }
       ],
       "layout": {
        "legend": {
         "bgcolor": "#F5F6F9",
         "font": {
          "color": "#4D5663"
         }
        },
        "paper_bgcolor": "#F5F6F9",
        "plot_bgcolor": "#F5F6F9",
        "template": {
         "data": {
          "bar": [
           {
            "error_x": {
             "color": "#2a3f5f"
            },
            "error_y": {
             "color": "#2a3f5f"
            },
            "marker": {
             "line": {
              "color": "#E5ECF6",
              "width": 0.5
             },
             "pattern": {
              "fillmode": "overlay",
              "size": 10,
              "solidity": 0.2
             }
            },
            "type": "bar"
           }
          ],
          "barpolar": [
           {
            "marker": {
             "line": {
              "color": "#E5ECF6",
              "width": 0.5
             },
             "pattern": {
              "fillmode": "overlay",
              "size": 10,
              "solidity": 0.2
             }
            },
            "type": "barpolar"
           }
          ],
          "carpet": [
           {
            "aaxis": {
             "endlinecolor": "#2a3f5f",
             "gridcolor": "white",
             "linecolor": "white",
             "minorgridcolor": "white",
             "startlinecolor": "#2a3f5f"
            },
            "baxis": {
             "endlinecolor": "#2a3f5f",
             "gridcolor": "white",
             "linecolor": "white",
             "minorgridcolor": "white",
             "startlinecolor": "#2a3f5f"
            },
            "type": "carpet"
           }
          ],
          "choropleth": [
           {
            "colorbar": {
             "outlinewidth": 0,
             "ticks": ""
            },
            "type": "choropleth"
           }
          ],
          "contour": [
           {
            "colorbar": {
             "outlinewidth": 0,
             "ticks": ""
            },
            "colorscale": [
             [
              0,
              "#0d0887"
             ],
             [
              0.1111111111111111,
              "#46039f"
             ],
             [
              0.2222222222222222,
              "#7201a8"
             ],
             [
              0.3333333333333333,
              "#9c179e"
             ],
             [
              0.4444444444444444,
              "#bd3786"
             ],
             [
              0.5555555555555556,
              "#d8576b"
             ],
             [
              0.6666666666666666,
              "#ed7953"
             ],
             [
              0.7777777777777778,
              "#fb9f3a"
             ],
             [
              0.8888888888888888,
              "#fdca26"
             ],
             [
              1,
              "#f0f921"
             ]
            ],
            "type": "contour"
           }
          ],
          "contourcarpet": [
           {
            "colorbar": {
             "outlinewidth": 0,
             "ticks": ""
            },
            "type": "contourcarpet"
           }
          ],
          "heatmap": [
           {
            "colorbar": {
             "outlinewidth": 0,
             "ticks": ""
            },
            "colorscale": [
             [
              0,
              "#0d0887"
             ],
             [
              0.1111111111111111,
              "#46039f"
             ],
             [
              0.2222222222222222,
              "#7201a8"
             ],
             [
              0.3333333333333333,
              "#9c179e"
             ],
             [
              0.4444444444444444,
              "#bd3786"
             ],
             [
              0.5555555555555556,
              "#d8576b"
             ],
             [
              0.6666666666666666,
              "#ed7953"
             ],
             [
              0.7777777777777778,
              "#fb9f3a"
             ],
             [
              0.8888888888888888,
              "#fdca26"
             ],
             [
              1,
              "#f0f921"
             ]
            ],
            "type": "heatmap"
           }
          ],
          "heatmapgl": [
           {
            "colorbar": {
             "outlinewidth": 0,
             "ticks": ""
            },
            "colorscale": [
             [
              0,
              "#0d0887"
             ],
             [
              0.1111111111111111,
              "#46039f"
             ],
             [
              0.2222222222222222,
              "#7201a8"
             ],
             [
              0.3333333333333333,
              "#9c179e"
             ],
             [
              0.4444444444444444,
              "#bd3786"
             ],
             [
              0.5555555555555556,
              "#d8576b"
             ],
             [
              0.6666666666666666,
              "#ed7953"
             ],
             [
              0.7777777777777778,
              "#fb9f3a"
             ],
             [
              0.8888888888888888,
              "#fdca26"
             ],
             [
              1,
              "#f0f921"
             ]
            ],
            "type": "heatmapgl"
           }
          ],
          "histogram": [
           {
            "marker": {
             "pattern": {
              "fillmode": "overlay",
              "size": 10,
              "solidity": 0.2
             }
            },
            "type": "histogram"
           }
          ],
          "histogram2d": [
           {
            "colorbar": {
             "outlinewidth": 0,
             "ticks": ""
            },
            "colorscale": [
             [
              0,
              "#0d0887"
             ],
             [
              0.1111111111111111,
              "#46039f"
             ],
             [
              0.2222222222222222,
              "#7201a8"
             ],
             [
              0.3333333333333333,
              "#9c179e"
             ],
             [
              0.4444444444444444,
              "#bd3786"
             ],
             [
              0.5555555555555556,
              "#d8576b"
             ],
             [
              0.6666666666666666,
              "#ed7953"
             ],
             [
              0.7777777777777778,
              "#fb9f3a"
             ],
             [
              0.8888888888888888,
              "#fdca26"
             ],
             [
              1,
              "#f0f921"
             ]
            ],
            "type": "histogram2d"
           }
          ],
          "histogram2dcontour": [
           {
            "colorbar": {
             "outlinewidth": 0,
             "ticks": ""
            },
            "colorscale": [
             [
              0,
              "#0d0887"
             ],
             [
              0.1111111111111111,
              "#46039f"
             ],
             [
              0.2222222222222222,
              "#7201a8"
             ],
             [
              0.3333333333333333,
              "#9c179e"
             ],
             [
              0.4444444444444444,
              "#bd3786"
             ],
             [
              0.5555555555555556,
              "#d8576b"
             ],
             [
              0.6666666666666666,
              "#ed7953"
             ],
             [
              0.7777777777777778,
              "#fb9f3a"
             ],
             [
              0.8888888888888888,
              "#fdca26"
             ],
             [
              1,
              "#f0f921"
             ]
            ],
            "type": "histogram2dcontour"
           }
          ],
          "mesh3d": [
           {
            "colorbar": {
             "outlinewidth": 0,
             "ticks": ""
            },
            "type": "mesh3d"
           }
          ],
          "parcoords": [
           {
            "line": {
             "colorbar": {
              "outlinewidth": 0,
              "ticks": ""
             }
            },
            "type": "parcoords"
           }
          ],
          "pie": [
           {
            "automargin": true,
            "type": "pie"
           }
          ],
          "scatter": [
           {
            "fillpattern": {
             "fillmode": "overlay",
             "size": 10,
             "solidity": 0.2
            },
            "type": "scatter"
           }
          ],
          "scatter3d": [
           {
            "line": {
             "colorbar": {
              "outlinewidth": 0,
              "ticks": ""
             }
            },
            "marker": {
             "colorbar": {
              "outlinewidth": 0,
              "ticks": ""
             }
            },
            "type": "scatter3d"
           }
          ],
          "scattercarpet": [
           {
            "marker": {
             "colorbar": {
              "outlinewidth": 0,
              "ticks": ""
             }
            },
            "type": "scattercarpet"
           }
          ],
          "scattergeo": [
           {
            "marker": {
             "colorbar": {
              "outlinewidth": 0,
              "ticks": ""
             }
            },
            "type": "scattergeo"
           }
          ],
          "scattergl": [
           {
            "marker": {
             "colorbar": {
              "outlinewidth": 0,
              "ticks": ""
             }
            },
            "type": "scattergl"
           }
          ],
          "scattermapbox": [
           {
            "marker": {
             "colorbar": {
              "outlinewidth": 0,
              "ticks": ""
             }
            },
            "type": "scattermapbox"
           }
          ],
          "scatterpolar": [
           {
            "marker": {
             "colorbar": {
              "outlinewidth": 0,
              "ticks": ""
             }
            },
            "type": "scatterpolar"
           }
          ],
          "scatterpolargl": [
           {
            "marker": {
             "colorbar": {
              "outlinewidth": 0,
              "ticks": ""
             }
            },
            "type": "scatterpolargl"
           }
          ],
          "scatterternary": [
           {
            "marker": {
             "colorbar": {
              "outlinewidth": 0,
              "ticks": ""
             }
            },
            "type": "scatterternary"
           }
          ],
          "surface": [
           {
            "colorbar": {
             "outlinewidth": 0,
             "ticks": ""
            },
            "colorscale": [
             [
              0,
              "#0d0887"
             ],
             [
              0.1111111111111111,
              "#46039f"
             ],
             [
              0.2222222222222222,
              "#7201a8"
             ],
             [
              0.3333333333333333,
              "#9c179e"
             ],
             [
              0.4444444444444444,
              "#bd3786"
             ],
             [
              0.5555555555555556,
              "#d8576b"
             ],
             [
              0.6666666666666666,
              "#ed7953"
             ],
             [
              0.7777777777777778,
              "#fb9f3a"
             ],
             [
              0.8888888888888888,
              "#fdca26"
             ],
             [
              1,
              "#f0f921"
             ]
            ],
            "type": "surface"
           }
          ],
          "table": [
           {
            "cells": {
             "fill": {
              "color": "#EBF0F8"
             },
             "line": {
              "color": "white"
             }
            },
            "header": {
             "fill": {
              "color": "#C8D4E3"
             },
             "line": {
              "color": "white"
             }
            },
            "type": "table"
           }
          ]
         },
         "layout": {
          "annotationdefaults": {
           "arrowcolor": "#2a3f5f",
           "arrowhead": 0,
           "arrowwidth": 1
          },
          "autotypenumbers": "strict",
          "coloraxis": {
           "colorbar": {
            "outlinewidth": 0,
            "ticks": ""
           }
          },
          "colorscale": {
           "diverging": [
            [
             0,
             "#8e0152"
            ],
            [
             0.1,
             "#c51b7d"
            ],
            [
             0.2,
             "#de77ae"
            ],
            [
             0.3,
             "#f1b6da"
            ],
            [
             0.4,
             "#fde0ef"
            ],
            [
             0.5,
             "#f7f7f7"
            ],
            [
             0.6,
             "#e6f5d0"
            ],
            [
             0.7,
             "#b8e186"
            ],
            [
             0.8,
             "#7fbc41"
            ],
            [
             0.9,
             "#4d9221"
            ],
            [
             1,
             "#276419"
            ]
           ],
           "sequential": [
            [
             0,
             "#0d0887"
            ],
            [
             0.1111111111111111,
             "#46039f"
            ],
            [
             0.2222222222222222,
             "#7201a8"
            ],
            [
             0.3333333333333333,
             "#9c179e"
            ],
            [
             0.4444444444444444,
             "#bd3786"
            ],
            [
             0.5555555555555556,
             "#d8576b"
            ],
            [
             0.6666666666666666,
             "#ed7953"
            ],
            [
             0.7777777777777778,
             "#fb9f3a"
            ],
            [
             0.8888888888888888,
             "#fdca26"
            ],
            [
             1,
             "#f0f921"
            ]
           ],
           "sequentialminus": [
            [
             0,
             "#0d0887"
            ],
            [
             0.1111111111111111,
             "#46039f"
            ],
            [
             0.2222222222222222,
             "#7201a8"
            ],
            [
             0.3333333333333333,
             "#9c179e"
            ],
            [
             0.4444444444444444,
             "#bd3786"
            ],
            [
             0.5555555555555556,
             "#d8576b"
            ],
            [
             0.6666666666666666,
             "#ed7953"
            ],
            [
             0.7777777777777778,
             "#fb9f3a"
            ],
            [
             0.8888888888888888,
             "#fdca26"
            ],
            [
             1,
             "#f0f921"
            ]
           ]
          },
          "colorway": [
           "#636efa",
           "#EF553B",
           "#00cc96",
           "#ab63fa",
           "#FFA15A",
           "#19d3f3",
           "#FF6692",
           "#B6E880",
           "#FF97FF",
           "#FECB52"
          ],
          "font": {
           "color": "#2a3f5f"
          },
          "geo": {
           "bgcolor": "white",
           "lakecolor": "white",
           "landcolor": "#E5ECF6",
           "showlakes": true,
           "showland": true,
           "subunitcolor": "white"
          },
          "hoverlabel": {
           "align": "left"
          },
          "hovermode": "closest",
          "mapbox": {
           "style": "light"
          },
          "paper_bgcolor": "white",
          "plot_bgcolor": "#E5ECF6",
          "polar": {
           "angularaxis": {
            "gridcolor": "white",
            "linecolor": "white",
            "ticks": ""
           },
           "bgcolor": "#E5ECF6",
           "radialaxis": {
            "gridcolor": "white",
            "linecolor": "white",
            "ticks": ""
           }
          },
          "scene": {
           "xaxis": {
            "backgroundcolor": "#E5ECF6",
            "gridcolor": "white",
            "gridwidth": 2,
            "linecolor": "white",
            "showbackground": true,
            "ticks": "",
            "zerolinecolor": "white"
           },
           "yaxis": {
            "backgroundcolor": "#E5ECF6",
            "gridcolor": "white",
            "gridwidth": 2,
            "linecolor": "white",
            "showbackground": true,
            "ticks": "",
            "zerolinecolor": "white"
           },
           "zaxis": {
            "backgroundcolor": "#E5ECF6",
            "gridcolor": "white",
            "gridwidth": 2,
            "linecolor": "white",
            "showbackground": true,
            "ticks": "",
            "zerolinecolor": "white"
           }
          },
          "shapedefaults": {
           "line": {
            "color": "#2a3f5f"
           }
          },
          "ternary": {
           "aaxis": {
            "gridcolor": "white",
            "linecolor": "white",
            "ticks": ""
           },
           "baxis": {
            "gridcolor": "white",
            "linecolor": "white",
            "ticks": ""
           },
           "bgcolor": "#E5ECF6",
           "caxis": {
            "gridcolor": "white",
            "linecolor": "white",
            "ticks": ""
           }
          },
          "title": {
           "x": 0.05
          },
          "xaxis": {
           "automargin": true,
           "gridcolor": "white",
           "linecolor": "white",
           "ticks": "",
           "title": {
            "standoff": 15
           },
           "zerolinecolor": "white",
           "zerolinewidth": 2
          },
          "yaxis": {
           "automargin": true,
           "gridcolor": "white",
           "linecolor": "white",
           "ticks": "",
           "title": {
            "standoff": 15
           },
           "zerolinecolor": "white",
           "zerolinewidth": 2
          }
         }
        },
        "title": {
         "font": {
          "color": "#4D5663"
         }
        },
        "xaxis": {
         "gridcolor": "#E1E5ED",
         "showgrid": true,
         "tickfont": {
          "color": "#4D5663"
         },
         "title": {
          "font": {
           "color": "#4D5663"
          },
          "text": ""
         },
         "zerolinecolor": "#E1E5ED"
        },
        "yaxis": {
         "gridcolor": "#E1E5ED",
         "showgrid": true,
         "tickfont": {
          "color": "#4D5663"
         },
         "title": {
          "font": {
           "color": "#4D5663"
          },
          "text": ""
         },
         "zerolinecolor": "#E1E5ED"
        }
       }
      },
      "text/html": [
       "<div>                            <div id=\"49b40d34-18a9-4777-9242-4181db981eef\" class=\"plotly-graph-div\" style=\"height:525px; width:100%;\"></div>            <script type=\"text/javascript\">                require([\"plotly\"], function(Plotly) {                    window.PLOTLYENV=window.PLOTLYENV || {};\n",
       "                    window.PLOTLYENV.BASE_URL='https://plot.ly';                                    if (document.getElementById(\"49b40d34-18a9-4777-9242-4181db981eef\")) {                    Plotly.newPlot(                        \"49b40d34-18a9-4777-9242-4181db981eef\",                        [{\"colorscale\":[[0.0,\"rgb(165,0,38)\"],[0.1,\"rgb(215,48,39)\"],[0.2,\"rgb(244,109,67)\"],[0.3,\"rgb(253,174,97)\"],[0.4,\"rgb(254,224,144)\"],[0.5,\"rgb(255,255,191)\"],[0.6,\"rgb(224,243,248)\"],[0.7,\"rgb(171,217,233)\"],[0.8,\"rgb(116,173,209)\"],[0.9,\"rgb(69,117,180)\"],[1.0,\"rgb(49,54,149)\"]],\"x\":[0,1,2,3,4],\"y\":[\"x\",\"y\",\"z\"],\"z\":[[1,2,3,4,5],[10,20,30,20,10],[5,4,3,2,1]],\"type\":\"surface\"}],                        {\"legend\":{\"bgcolor\":\"#F5F6F9\",\"font\":{\"color\":\"#4D5663\"}},\"paper_bgcolor\":\"#F5F6F9\",\"plot_bgcolor\":\"#F5F6F9\",\"template\":{\"data\":{\"barpolar\":[{\"marker\":{\"line\":{\"color\":\"#E5ECF6\",\"width\":0.5},\"pattern\":{\"fillmode\":\"overlay\",\"size\":10,\"solidity\":0.2}},\"type\":\"barpolar\"}],\"bar\":[{\"error_x\":{\"color\":\"#2a3f5f\"},\"error_y\":{\"color\":\"#2a3f5f\"},\"marker\":{\"line\":{\"color\":\"#E5ECF6\",\"width\":0.5},\"pattern\":{\"fillmode\":\"overlay\",\"size\":10,\"solidity\":0.2}},\"type\":\"bar\"}],\"carpet\":[{\"aaxis\":{\"endlinecolor\":\"#2a3f5f\",\"gridcolor\":\"white\",\"linecolor\":\"white\",\"minorgridcolor\":\"white\",\"startlinecolor\":\"#2a3f5f\"},\"baxis\":{\"endlinecolor\":\"#2a3f5f\",\"gridcolor\":\"white\",\"linecolor\":\"white\",\"minorgridcolor\":\"white\",\"startlinecolor\":\"#2a3f5f\"},\"type\":\"carpet\"}],\"choropleth\":[{\"colorbar\":{\"outlinewidth\":0,\"ticks\":\"\"},\"type\":\"choropleth\"}],\"contourcarpet\":[{\"colorbar\":{\"outlinewidth\":0,\"ticks\":\"\"},\"type\":\"contourcarpet\"}],\"contour\":[{\"colorbar\":{\"outlinewidth\":0,\"ticks\":\"\"},\"colorscale\":[[0.0,\"#0d0887\"],[0.1111111111111111,\"#46039f\"],[0.2222222222222222,\"#7201a8\"],[0.3333333333333333,\"#9c179e\"],[0.4444444444444444,\"#bd3786\"],[0.5555555555555556,\"#d8576b\"],[0.6666666666666666,\"#ed7953\"],[0.7777777777777778,\"#fb9f3a\"],[0.8888888888888888,\"#fdca26\"],[1.0,\"#f0f921\"]],\"type\":\"contour\"}],\"heatmapgl\":[{\"colorbar\":{\"outlinewidth\":0,\"ticks\":\"\"},\"colorscale\":[[0.0,\"#0d0887\"],[0.1111111111111111,\"#46039f\"],[0.2222222222222222,\"#7201a8\"],[0.3333333333333333,\"#9c179e\"],[0.4444444444444444,\"#bd3786\"],[0.5555555555555556,\"#d8576b\"],[0.6666666666666666,\"#ed7953\"],[0.7777777777777778,\"#fb9f3a\"],[0.8888888888888888,\"#fdca26\"],[1.0,\"#f0f921\"]],\"type\":\"heatmapgl\"}],\"heatmap\":[{\"colorbar\":{\"outlinewidth\":0,\"ticks\":\"\"},\"colorscale\":[[0.0,\"#0d0887\"],[0.1111111111111111,\"#46039f\"],[0.2222222222222222,\"#7201a8\"],[0.3333333333333333,\"#9c179e\"],[0.4444444444444444,\"#bd3786\"],[0.5555555555555556,\"#d8576b\"],[0.6666666666666666,\"#ed7953\"],[0.7777777777777778,\"#fb9f3a\"],[0.8888888888888888,\"#fdca26\"],[1.0,\"#f0f921\"]],\"type\":\"heatmap\"}],\"histogram2dcontour\":[{\"colorbar\":{\"outlinewidth\":0,\"ticks\":\"\"},\"colorscale\":[[0.0,\"#0d0887\"],[0.1111111111111111,\"#46039f\"],[0.2222222222222222,\"#7201a8\"],[0.3333333333333333,\"#9c179e\"],[0.4444444444444444,\"#bd3786\"],[0.5555555555555556,\"#d8576b\"],[0.6666666666666666,\"#ed7953\"],[0.7777777777777778,\"#fb9f3a\"],[0.8888888888888888,\"#fdca26\"],[1.0,\"#f0f921\"]],\"type\":\"histogram2dcontour\"}],\"histogram2d\":[{\"colorbar\":{\"outlinewidth\":0,\"ticks\":\"\"},\"colorscale\":[[0.0,\"#0d0887\"],[0.1111111111111111,\"#46039f\"],[0.2222222222222222,\"#7201a8\"],[0.3333333333333333,\"#9c179e\"],[0.4444444444444444,\"#bd3786\"],[0.5555555555555556,\"#d8576b\"],[0.6666666666666666,\"#ed7953\"],[0.7777777777777778,\"#fb9f3a\"],[0.8888888888888888,\"#fdca26\"],[1.0,\"#f0f921\"]],\"type\":\"histogram2d\"}],\"histogram\":[{\"marker\":{\"pattern\":{\"fillmode\":\"overlay\",\"size\":10,\"solidity\":0.2}},\"type\":\"histogram\"}],\"mesh3d\":[{\"colorbar\":{\"outlinewidth\":0,\"ticks\":\"\"},\"type\":\"mesh3d\"}],\"parcoords\":[{\"line\":{\"colorbar\":{\"outlinewidth\":0,\"ticks\":\"\"}},\"type\":\"parcoords\"}],\"pie\":[{\"automargin\":true,\"type\":\"pie\"}],\"scatter3d\":[{\"line\":{\"colorbar\":{\"outlinewidth\":0,\"ticks\":\"\"}},\"marker\":{\"colorbar\":{\"outlinewidth\":0,\"ticks\":\"\"}},\"type\":\"scatter3d\"}],\"scattercarpet\":[{\"marker\":{\"colorbar\":{\"outlinewidth\":0,\"ticks\":\"\"}},\"type\":\"scattercarpet\"}],\"scattergeo\":[{\"marker\":{\"colorbar\":{\"outlinewidth\":0,\"ticks\":\"\"}},\"type\":\"scattergeo\"}],\"scattergl\":[{\"marker\":{\"colorbar\":{\"outlinewidth\":0,\"ticks\":\"\"}},\"type\":\"scattergl\"}],\"scattermapbox\":[{\"marker\":{\"colorbar\":{\"outlinewidth\":0,\"ticks\":\"\"}},\"type\":\"scattermapbox\"}],\"scatterpolargl\":[{\"marker\":{\"colorbar\":{\"outlinewidth\":0,\"ticks\":\"\"}},\"type\":\"scatterpolargl\"}],\"scatterpolar\":[{\"marker\":{\"colorbar\":{\"outlinewidth\":0,\"ticks\":\"\"}},\"type\":\"scatterpolar\"}],\"scatter\":[{\"fillpattern\":{\"fillmode\":\"overlay\",\"size\":10,\"solidity\":0.2},\"type\":\"scatter\"}],\"scatterternary\":[{\"marker\":{\"colorbar\":{\"outlinewidth\":0,\"ticks\":\"\"}},\"type\":\"scatterternary\"}],\"surface\":[{\"colorbar\":{\"outlinewidth\":0,\"ticks\":\"\"},\"colorscale\":[[0.0,\"#0d0887\"],[0.1111111111111111,\"#46039f\"],[0.2222222222222222,\"#7201a8\"],[0.3333333333333333,\"#9c179e\"],[0.4444444444444444,\"#bd3786\"],[0.5555555555555556,\"#d8576b\"],[0.6666666666666666,\"#ed7953\"],[0.7777777777777778,\"#fb9f3a\"],[0.8888888888888888,\"#fdca26\"],[1.0,\"#f0f921\"]],\"type\":\"surface\"}],\"table\":[{\"cells\":{\"fill\":{\"color\":\"#EBF0F8\"},\"line\":{\"color\":\"white\"}},\"header\":{\"fill\":{\"color\":\"#C8D4E3\"},\"line\":{\"color\":\"white\"}},\"type\":\"table\"}]},\"layout\":{\"annotationdefaults\":{\"arrowcolor\":\"#2a3f5f\",\"arrowhead\":0,\"arrowwidth\":1},\"autotypenumbers\":\"strict\",\"coloraxis\":{\"colorbar\":{\"outlinewidth\":0,\"ticks\":\"\"}},\"colorscale\":{\"diverging\":[[0,\"#8e0152\"],[0.1,\"#c51b7d\"],[0.2,\"#de77ae\"],[0.3,\"#f1b6da\"],[0.4,\"#fde0ef\"],[0.5,\"#f7f7f7\"],[0.6,\"#e6f5d0\"],[0.7,\"#b8e186\"],[0.8,\"#7fbc41\"],[0.9,\"#4d9221\"],[1,\"#276419\"]],\"sequential\":[[0.0,\"#0d0887\"],[0.1111111111111111,\"#46039f\"],[0.2222222222222222,\"#7201a8\"],[0.3333333333333333,\"#9c179e\"],[0.4444444444444444,\"#bd3786\"],[0.5555555555555556,\"#d8576b\"],[0.6666666666666666,\"#ed7953\"],[0.7777777777777778,\"#fb9f3a\"],[0.8888888888888888,\"#fdca26\"],[1.0,\"#f0f921\"]],\"sequentialminus\":[[0.0,\"#0d0887\"],[0.1111111111111111,\"#46039f\"],[0.2222222222222222,\"#7201a8\"],[0.3333333333333333,\"#9c179e\"],[0.4444444444444444,\"#bd3786\"],[0.5555555555555556,\"#d8576b\"],[0.6666666666666666,\"#ed7953\"],[0.7777777777777778,\"#fb9f3a\"],[0.8888888888888888,\"#fdca26\"],[1.0,\"#f0f921\"]]},\"colorway\":[\"#636efa\",\"#EF553B\",\"#00cc96\",\"#ab63fa\",\"#FFA15A\",\"#19d3f3\",\"#FF6692\",\"#B6E880\",\"#FF97FF\",\"#FECB52\"],\"font\":{\"color\":\"#2a3f5f\"},\"geo\":{\"bgcolor\":\"white\",\"lakecolor\":\"white\",\"landcolor\":\"#E5ECF6\",\"showlakes\":true,\"showland\":true,\"subunitcolor\":\"white\"},\"hoverlabel\":{\"align\":\"left\"},\"hovermode\":\"closest\",\"mapbox\":{\"style\":\"light\"},\"paper_bgcolor\":\"white\",\"plot_bgcolor\":\"#E5ECF6\",\"polar\":{\"angularaxis\":{\"gridcolor\":\"white\",\"linecolor\":\"white\",\"ticks\":\"\"},\"bgcolor\":\"#E5ECF6\",\"radialaxis\":{\"gridcolor\":\"white\",\"linecolor\":\"white\",\"ticks\":\"\"}},\"scene\":{\"xaxis\":{\"backgroundcolor\":\"#E5ECF6\",\"gridcolor\":\"white\",\"gridwidth\":2,\"linecolor\":\"white\",\"showbackground\":true,\"ticks\":\"\",\"zerolinecolor\":\"white\"},\"yaxis\":{\"backgroundcolor\":\"#E5ECF6\",\"gridcolor\":\"white\",\"gridwidth\":2,\"linecolor\":\"white\",\"showbackground\":true,\"ticks\":\"\",\"zerolinecolor\":\"white\"},\"zaxis\":{\"backgroundcolor\":\"#E5ECF6\",\"gridcolor\":\"white\",\"gridwidth\":2,\"linecolor\":\"white\",\"showbackground\":true,\"ticks\":\"\",\"zerolinecolor\":\"white\"}},\"shapedefaults\":{\"line\":{\"color\":\"#2a3f5f\"}},\"ternary\":{\"aaxis\":{\"gridcolor\":\"white\",\"linecolor\":\"white\",\"ticks\":\"\"},\"baxis\":{\"gridcolor\":\"white\",\"linecolor\":\"white\",\"ticks\":\"\"},\"bgcolor\":\"#E5ECF6\",\"caxis\":{\"gridcolor\":\"white\",\"linecolor\":\"white\",\"ticks\":\"\"}},\"title\":{\"x\":0.05},\"xaxis\":{\"automargin\":true,\"gridcolor\":\"white\",\"linecolor\":\"white\",\"ticks\":\"\",\"title\":{\"standoff\":15},\"zerolinecolor\":\"white\",\"zerolinewidth\":2},\"yaxis\":{\"automargin\":true,\"gridcolor\":\"white\",\"linecolor\":\"white\",\"ticks\":\"\",\"title\":{\"standoff\":15},\"zerolinecolor\":\"white\",\"zerolinewidth\":2}}},\"title\":{\"font\":{\"color\":\"#4D5663\"}},\"xaxis\":{\"gridcolor\":\"#E1E5ED\",\"showgrid\":true,\"tickfont\":{\"color\":\"#4D5663\"},\"title\":{\"font\":{\"color\":\"#4D5663\"},\"text\":\"\"},\"zerolinecolor\":\"#E1E5ED\"},\"yaxis\":{\"gridcolor\":\"#E1E5ED\",\"showgrid\":true,\"tickfont\":{\"color\":\"#4D5663\"},\"title\":{\"font\":{\"color\":\"#4D5663\"},\"text\":\"\"},\"zerolinecolor\":\"#E1E5ED\"}},                        {\"showLink\": true, \"linkText\": \"Export to plot.ly\", \"plotlyServerURL\": \"https://plot.ly\", \"responsive\": true}                    ).then(function(){\n",
       "                            \n",
       "var gd = document.getElementById('49b40d34-18a9-4777-9242-4181db981eef');\n",
       "var x = new MutationObserver(function (mutations, observer) {{\n",
       "        var display = window.getComputedStyle(gd).display;\n",
       "        if (!display || display === 'none') {{\n",
       "            console.log([gd, 'removed!']);\n",
       "            Plotly.purge(gd);\n",
       "            observer.disconnect();\n",
       "        }}\n",
       "}});\n",
       "\n",
       "// Listen for the removal of the full notebook cells\n",
       "var notebookContainer = gd.closest('#notebook-container');\n",
       "if (notebookContainer) {{\n",
       "    x.observe(notebookContainer, {childList: true});\n",
       "}}\n",
       "\n",
       "// Listen for the clearing of the current output cell\n",
       "var outputEl = gd.closest('.output');\n",
       "if (outputEl) {{\n",
       "    x.observe(outputEl, {childList: true});\n",
       "}}\n",
       "\n",
       "                        })                };                });            </script>        </div>"
      ]
     },
     "metadata": {},
     "output_type": "display_data"
    }
   ],
   "source": [
    "df3 = pd.DataFrame({'x':[1,2,3,4,5],'y':[10,20,30,20,10],'z':[5,4,3,2,1]})\n",
    "df3.iplot(kind='surface',colorscale='rdylbu')"
   ]
  },
  {
   "cell_type": "markdown",
   "metadata": {},
   "source": [
    "#### Spread Line Chart"
   ]
  },
  {
   "cell_type": "code",
   "execution_count": 29,
   "metadata": {},
   "outputs": [
    {
     "data": {
      "application/vnd.plotly.v1+json": {
       "config": {
        "linkText": "Export to plot.ly",
        "plotlyServerURL": "https://plot.ly",
        "showLink": true
       },
       "data": [
        {
         "line": {
          "color": "rgba(255, 153, 51, 1.0)",
          "dash": "solid",
          "shape": "linear",
          "width": 1.3
         },
         "mode": "lines",
         "name": "A",
         "text": "",
         "type": "scatter",
         "x": [
          0,
          1,
          2,
          3,
          4,
          5,
          6,
          7,
          8,
          9,
          10,
          11,
          12,
          13,
          14,
          15,
          16,
          17,
          18,
          19,
          20,
          21,
          22,
          23,
          24,
          25,
          26,
          27,
          28,
          29,
          30,
          31,
          32,
          33,
          34,
          35,
          36,
          37,
          38,
          39,
          40,
          41,
          42,
          43,
          44,
          45,
          46,
          47,
          48,
          49,
          50,
          51,
          52,
          53,
          54,
          55,
          56,
          57,
          58,
          59,
          60,
          61,
          62,
          63,
          64,
          65,
          66,
          67,
          68,
          69,
          70,
          71,
          72,
          73,
          74,
          75,
          76,
          77,
          78,
          79,
          80,
          81,
          82,
          83,
          84,
          85,
          86,
          87,
          88,
          89,
          90,
          91,
          92,
          93,
          94,
          95,
          96,
          97,
          98,
          99
         ],
         "y": [
          1.9785474803328607,
          1.0092268487548832,
          -1.225013157557364,
          -1.7571929080727824,
          -0.3510321902033087,
          1.4100616476100398,
          -0.7107709961502106,
          -0.23874519373105246,
          1.2373841410062967,
          0.8323615939275861,
          -0.9041212935899998,
          1.0134132263520905,
          -0.48501594051186303,
          0.10711805122591342,
          1.053211572931562,
          1.8747476432241057,
          -1.6935363858985157,
          -0.2608680773992978,
          1.6883554154984184,
          0.7485058415919015,
          0.9786366361762188,
          -0.3085510438136002,
          -0.9304657253362264,
          0.6037118838048389,
          0.6245447736656713,
          1.2385002099949525,
          -0.7097874554477298,
          0.5823549670983328,
          -0.35803780976590854,
          1.5491322960816853,
          1.53807985352257,
          2.404581495249531,
          -0.9652410635551554,
          -0.47589035741556557,
          1.6683681176793281,
          -0.8476670562828995,
          -0.6211176310350959,
          -0.652231375444704,
          0.9359531059469797,
          -1.6020033412254073,
          0.31985344042035896,
          0.46587917758063924,
          -0.16268949490112863,
          -0.46277578442258077,
          0.058282399822782646,
          0.46307447698305676,
          0.3224978075603298,
          0.11526650280798287,
          -0.7692957618827033,
          -0.35826300853537124,
          -2.641779265896877,
          1.7247231795571583,
          0.3673705260306855,
          0.09276272084379551,
          -0.18472477320008263,
          -1.6970613031028194,
          0.1843645004161003,
          0.5921046508039165,
          0.784867163116174,
          0.035674674097062015,
          -1.0077029572479506,
          0.7461447282062237,
          -0.5868772103780041,
          -0.568107392843018,
          0.12065140233307468,
          -0.8069255129179801,
          -1.8704940936796401,
          -0.7404711419618509,
          -0.5983897510208666,
          1.7050616932429972,
          -0.9258406850844257,
          -0.22291973386169947,
          0.38082614288418576,
          -0.2256843255911952,
          -0.6287074591394933,
          2.394235061047817,
          0.668169433872653,
          0.9968613105270926,
          -1.032969040321864,
          2.164652725086726,
          0.15323306330310169,
          -0.5445996973395306,
          -0.4038606332641512,
          0.8909069835088288,
          0.197832202834394,
          -0.20753647433224323,
          -1.696035375361601,
          2.915074338040306,
          1.4848354580604801,
          0.4129310916479309,
          -0.5841717881041785,
          1.1138237134791464,
          -0.6351696242421287,
          -0.4751255037732066,
          -0.23049971038152886,
          0.07740486985743174,
          0.3266324105276788,
          -0.18148747202789775,
          0.18998088567144913,
          -0.18618896527839632
         ]
        },
        {
         "line": {
          "color": "rgba(55, 128, 191, 1.0)",
          "dash": "solid",
          "shape": "linear",
          "width": 1.3
         },
         "mode": "lines",
         "name": "B",
         "text": "",
         "type": "scatter",
         "x": [
          0,
          1,
          2,
          3,
          4,
          5,
          6,
          7,
          8,
          9,
          10,
          11,
          12,
          13,
          14,
          15,
          16,
          17,
          18,
          19,
          20,
          21,
          22,
          23,
          24,
          25,
          26,
          27,
          28,
          29,
          30,
          31,
          32,
          33,
          34,
          35,
          36,
          37,
          38,
          39,
          40,
          41,
          42,
          43,
          44,
          45,
          46,
          47,
          48,
          49,
          50,
          51,
          52,
          53,
          54,
          55,
          56,
          57,
          58,
          59,
          60,
          61,
          62,
          63,
          64,
          65,
          66,
          67,
          68,
          69,
          70,
          71,
          72,
          73,
          74,
          75,
          76,
          77,
          78,
          79,
          80,
          81,
          82,
          83,
          84,
          85,
          86,
          87,
          88,
          89,
          90,
          91,
          92,
          93,
          94,
          95,
          96,
          97,
          98,
          99
         ],
         "y": [
          -1.5702617948214266,
          0.12942604733102087,
          -1.2169678178307737,
          -1.2778014589549243,
          1.8237927091633785,
          0.0983300722187688,
          -1.4867525497879113,
          0.25751460492347245,
          -0.8675529082563131,
          1.234516185844747,
          1.2849289284666068,
          -0.02214928596425894,
          1.8045203915299464,
          -0.2717929080799078,
          0.28282897890794684,
          0.4891061282687007,
          0.5443993907148782,
          0.03664611008771916,
          -1.4003908791201083,
          0.48765519178484606,
          0.7410222490313609,
          0.6552416409680061,
          0.7752657653055114,
          0.16471296627787774,
          -0.9082756830220291,
          -0.8942021456626656,
          -0.11711820349957816,
          1.3045192026835244,
          0.47610209947548787,
          -0.893996522001287,
          -1.9640426395138464,
          0.43177799306761144,
          0.2124861930961608,
          -0.26810503189773915,
          -0.2917277248112427,
          1.0600995580385186,
          -0.09616546623536769,
          0.009831686166474143,
          0.12449032978094596,
          1.0276096444007707,
          -1.0254918006858438,
          -0.491665530209502,
          -1.1532845391864175,
          0.7743603622969015,
          0.5015434994983705,
          -2.670307417221883,
          -1.2579742785445271,
          1.4905247530153953,
          -0.40082727355775954,
          0.013203193429966736,
          0.1478919810858192,
          1.8112635179969534,
          -1.5139512301237585,
          1.018692288823052,
          -1.1012653901407132,
          -0.5820767909418454,
          -1.4139610051553735,
          0.01755357736561984,
          0.5146723862357394,
          -0.1209274245317748,
          -0.491205835395233,
          0.0022244209716448093,
          -0.4631825451744534,
          0.907113410788158,
          -2.6207466340129444,
          0.4905596334180495,
          1.2439976629035,
          1.3620583916014237,
          -0.19132402487449365,
          2.2972892403697673,
          -1.1367556296822485,
          0.7947113392733698,
          0.5105297809039376,
          0.9137443265637776,
          0.9924360158790626,
          0.9138885179435232,
          -0.25964561644063744,
          -1.959604933558067,
          -0.6889732022152018,
          -0.3191836910416321,
          0.07420510684222735,
          -1.9129165314678132,
          0.3526977808732218,
          -1.4994800777658641,
          0.3742016214330207,
          -0.7211513000095967,
          -0.961856771165803,
          0.7952332385174912,
          1.0987584252515978,
          -1.684638463358606,
          -0.13351592575428659,
          0.5041206166281047,
          -0.24754116237098892,
          -2.396950493369511,
          0.3509411161599187,
          -0.14041401285102192,
          0.650789056470859,
          -0.8620434947700216,
          0.11914014339928516,
          -0.6736618243248493
         ]
        },
        {
         "connectgaps": false,
         "fill": "tozeroy",
         "line": {
          "color": "green",
          "dash": "solid",
          "shape": "linear",
          "width": 0.5
         },
         "mode": "lines",
         "name": "Spread",
         "showlegend": false,
         "type": "scatter",
         "x": [
          0,
          1,
          2,
          3,
          4,
          5,
          6,
          7,
          8,
          9,
          10,
          11,
          12,
          13,
          14,
          15,
          16,
          17,
          18,
          19,
          20,
          21,
          22,
          23,
          24,
          25,
          26,
          27,
          28,
          29,
          30,
          31,
          32,
          33,
          34,
          35,
          36,
          37,
          38,
          39,
          40,
          41,
          42,
          43,
          44,
          45,
          46,
          47,
          48,
          49,
          50,
          51,
          52,
          53,
          54,
          55,
          56,
          57,
          58,
          59,
          60,
          61,
          62,
          63,
          64,
          65,
          66,
          67,
          68,
          69,
          70,
          71,
          72,
          73,
          74,
          75,
          76,
          77,
          78,
          79,
          80,
          81,
          82,
          83,
          84,
          85,
          86,
          87,
          88,
          89,
          90,
          91,
          92,
          93,
          94,
          95,
          96,
          97,
          98,
          99
         ],
         "xaxis": "x2",
         "y": [
          3.5488092751542872,
          0.8798008014238623,
          "",
          "",
          "",
          1.311731575391271,
          0.7759815536377007,
          "",
          2.1049370492626096,
          "",
          "",
          1.0355625123163494,
          "",
          0.3789109593058212,
          0.7703825940236153,
          1.385641514955405,
          "",
          "",
          3.0887462946185265,
          0.2608506498070554,
          0.23761438714485783,
          "",
          "",
          0.43899891752696113,
          1.5328204566877004,
          2.132702355657618,
          "",
          "",
          "",
          2.443128818082972,
          3.502122493036416,
          1.9728035021819195,
          "",
          "",
          1.9600958424905708,
          "",
          "",
          "",
          0.8114627761660337,
          "",
          1.3453452411062028,
          0.9575447077901412,
          0.9905950442852889,
          "",
          "",
          3.13338189420494,
          1.580472086104857,
          "",
          "",
          "",
          "",
          "",
          1.881321756154444,
          "",
          0.9165406169406306,
          "",
          1.5983255055714738,
          0.5745510734382967,
          0.2701947768804346,
          0.1566020986288368,
          "",
          0.7439203072345789,
          "",
          "",
          2.741398036346019,
          "",
          "",
          "",
          "",
          "",
          0.21091494459782278,
          "",
          "",
          "",
          "",
          1.480346543104294,
          0.9278150503132905,
          2.9564662440851595,
          "",
          2.483836416128358,
          0.07902795646087434,
          1.3683168341282825,
          "",
          2.390387061274693,
          "",
          0.5136148256773535,
          "",
          2.119841099522815,
          0.3860770328088823,
          2.0975695550065367,
          "",
          0.6097030968510417,
          "",
          1.9218249895963044,
          "",
          0.21781888270845368,
          "",
          0.6805560227421239,
          0.07084074227216397,
          0.487472859046453
         ],
         "yaxis": "y2"
        },
        {
         "connectgaps": false,
         "fill": "tozeroy",
         "line": {
          "color": "red",
          "dash": "solid",
          "shape": "linear",
          "width": 0.5
         },
         "mode": "lines",
         "name": "Spread",
         "showlegend": false,
         "type": "scatter",
         "x": [
          0,
          1,
          2,
          3,
          4,
          5,
          6,
          7,
          8,
          9,
          10,
          11,
          12,
          13,
          14,
          15,
          16,
          17,
          18,
          19,
          20,
          21,
          22,
          23,
          24,
          25,
          26,
          27,
          28,
          29,
          30,
          31,
          32,
          33,
          34,
          35,
          36,
          37,
          38,
          39,
          40,
          41,
          42,
          43,
          44,
          45,
          46,
          47,
          48,
          49,
          50,
          51,
          52,
          53,
          54,
          55,
          56,
          57,
          58,
          59,
          60,
          61,
          62,
          63,
          64,
          65,
          66,
          67,
          68,
          69,
          70,
          71,
          72,
          73,
          74,
          75,
          76,
          77,
          78,
          79,
          80,
          81,
          82,
          83,
          84,
          85,
          86,
          87,
          88,
          89,
          90,
          91,
          92,
          93,
          94,
          95,
          96,
          97,
          98,
          99
         ],
         "xaxis": "x2",
         "y": [
          "",
          "",
          -0.008045339726590273,
          -0.47939144911785814,
          -2.1748248993666874,
          "",
          "",
          -0.4962597986545249,
          "",
          -0.40215459191716096,
          -2.189050222056607,
          "",
          -2.289536332041809,
          "",
          "",
          "",
          -2.237935776613394,
          -0.29751418748701697,
          "",
          "",
          "",
          -0.9637926847816063,
          -1.7057314906417378,
          "",
          "",
          "",
          -0.5926692519481517,
          -0.7221642355851916,
          -0.8341399092413964,
          "",
          "",
          "",
          -1.1777272566513162,
          -0.2077853255178264,
          "",
          -1.9077666143214183,
          -0.5249521647997282,
          -0.6620630616111781,
          "",
          -2.629612985626178,
          "",
          "",
          "",
          -1.2371361467194824,
          -0.44326109967558786,
          "",
          "",
          -1.3752582502074124,
          -0.3684684883249438,
          -0.37146620196533797,
          -2.7896712469826963,
          -0.08654033843979514,
          "",
          -0.9259295679792565,
          "",
          -1.114984512160974,
          "",
          "",
          "",
          "",
          -0.5164971218527176,
          "",
          -0.12369466520355071,
          -1.475220803631176,
          "",
          -1.2974851463360295,
          -3.1144917565831403,
          -2.1025295335632745,
          -0.40706572614637293,
          -0.5922275471267702,
          "",
          -1.0176310731350693,
          -0.12970363801975188,
          -1.1394286521549728,
          -1.621143475018556,
          "",
          "",
          "",
          -0.34399583810666234,
          "",
          "",
          "",
          -0.756558414137373,
          "",
          -0.1763694185986267,
          "",
          -0.7341786041957981,
          "",
          "",
          "",
          -0.45065586234989186,
          "",
          -0.38762846187113986,
          "",
          -0.5814408265414476,
          "",
          -0.3241566459431803,
          "",
          "",
          ""
         ],
         "yaxis": "y2"
        }
       ],
       "layout": {
        "hovermode": "x",
        "legend": {
         "bgcolor": "#F5F6F9",
         "font": {
          "color": "#4D5663"
         }
        },
        "paper_bgcolor": "#F5F6F9",
        "plot_bgcolor": "#F5F6F9",
        "template": {
         "data": {
          "bar": [
           {
            "error_x": {
             "color": "#2a3f5f"
            },
            "error_y": {
             "color": "#2a3f5f"
            },
            "marker": {
             "line": {
              "color": "#E5ECF6",
              "width": 0.5
             },
             "pattern": {
              "fillmode": "overlay",
              "size": 10,
              "solidity": 0.2
             }
            },
            "type": "bar"
           }
          ],
          "barpolar": [
           {
            "marker": {
             "line": {
              "color": "#E5ECF6",
              "width": 0.5
             },
             "pattern": {
              "fillmode": "overlay",
              "size": 10,
              "solidity": 0.2
             }
            },
            "type": "barpolar"
           }
          ],
          "carpet": [
           {
            "aaxis": {
             "endlinecolor": "#2a3f5f",
             "gridcolor": "white",
             "linecolor": "white",
             "minorgridcolor": "white",
             "startlinecolor": "#2a3f5f"
            },
            "baxis": {
             "endlinecolor": "#2a3f5f",
             "gridcolor": "white",
             "linecolor": "white",
             "minorgridcolor": "white",
             "startlinecolor": "#2a3f5f"
            },
            "type": "carpet"
           }
          ],
          "choropleth": [
           {
            "colorbar": {
             "outlinewidth": 0,
             "ticks": ""
            },
            "type": "choropleth"
           }
          ],
          "contour": [
           {
            "colorbar": {
             "outlinewidth": 0,
             "ticks": ""
            },
            "colorscale": [
             [
              0,
              "#0d0887"
             ],
             [
              0.1111111111111111,
              "#46039f"
             ],
             [
              0.2222222222222222,
              "#7201a8"
             ],
             [
              0.3333333333333333,
              "#9c179e"
             ],
             [
              0.4444444444444444,
              "#bd3786"
             ],
             [
              0.5555555555555556,
              "#d8576b"
             ],
             [
              0.6666666666666666,
              "#ed7953"
             ],
             [
              0.7777777777777778,
              "#fb9f3a"
             ],
             [
              0.8888888888888888,
              "#fdca26"
             ],
             [
              1,
              "#f0f921"
             ]
            ],
            "type": "contour"
           }
          ],
          "contourcarpet": [
           {
            "colorbar": {
             "outlinewidth": 0,
             "ticks": ""
            },
            "type": "contourcarpet"
           }
          ],
          "heatmap": [
           {
            "colorbar": {
             "outlinewidth": 0,
             "ticks": ""
            },
            "colorscale": [
             [
              0,
              "#0d0887"
             ],
             [
              0.1111111111111111,
              "#46039f"
             ],
             [
              0.2222222222222222,
              "#7201a8"
             ],
             [
              0.3333333333333333,
              "#9c179e"
             ],
             [
              0.4444444444444444,
              "#bd3786"
             ],
             [
              0.5555555555555556,
              "#d8576b"
             ],
             [
              0.6666666666666666,
              "#ed7953"
             ],
             [
              0.7777777777777778,
              "#fb9f3a"
             ],
             [
              0.8888888888888888,
              "#fdca26"
             ],
             [
              1,
              "#f0f921"
             ]
            ],
            "type": "heatmap"
           }
          ],
          "heatmapgl": [
           {
            "colorbar": {
             "outlinewidth": 0,
             "ticks": ""
            },
            "colorscale": [
             [
              0,
              "#0d0887"
             ],
             [
              0.1111111111111111,
              "#46039f"
             ],
             [
              0.2222222222222222,
              "#7201a8"
             ],
             [
              0.3333333333333333,
              "#9c179e"
             ],
             [
              0.4444444444444444,
              "#bd3786"
             ],
             [
              0.5555555555555556,
              "#d8576b"
             ],
             [
              0.6666666666666666,
              "#ed7953"
             ],
             [
              0.7777777777777778,
              "#fb9f3a"
             ],
             [
              0.8888888888888888,
              "#fdca26"
             ],
             [
              1,
              "#f0f921"
             ]
            ],
            "type": "heatmapgl"
           }
          ],
          "histogram": [
           {
            "marker": {
             "pattern": {
              "fillmode": "overlay",
              "size": 10,
              "solidity": 0.2
             }
            },
            "type": "histogram"
           }
          ],
          "histogram2d": [
           {
            "colorbar": {
             "outlinewidth": 0,
             "ticks": ""
            },
            "colorscale": [
             [
              0,
              "#0d0887"
             ],
             [
              0.1111111111111111,
              "#46039f"
             ],
             [
              0.2222222222222222,
              "#7201a8"
             ],
             [
              0.3333333333333333,
              "#9c179e"
             ],
             [
              0.4444444444444444,
              "#bd3786"
             ],
             [
              0.5555555555555556,
              "#d8576b"
             ],
             [
              0.6666666666666666,
              "#ed7953"
             ],
             [
              0.7777777777777778,
              "#fb9f3a"
             ],
             [
              0.8888888888888888,
              "#fdca26"
             ],
             [
              1,
              "#f0f921"
             ]
            ],
            "type": "histogram2d"
           }
          ],
          "histogram2dcontour": [
           {
            "colorbar": {
             "outlinewidth": 0,
             "ticks": ""
            },
            "colorscale": [
             [
              0,
              "#0d0887"
             ],
             [
              0.1111111111111111,
              "#46039f"
             ],
             [
              0.2222222222222222,
              "#7201a8"
             ],
             [
              0.3333333333333333,
              "#9c179e"
             ],
             [
              0.4444444444444444,
              "#bd3786"
             ],
             [
              0.5555555555555556,
              "#d8576b"
             ],
             [
              0.6666666666666666,
              "#ed7953"
             ],
             [
              0.7777777777777778,
              "#fb9f3a"
             ],
             [
              0.8888888888888888,
              "#fdca26"
             ],
             [
              1,
              "#f0f921"
             ]
            ],
            "type": "histogram2dcontour"
           }
          ],
          "mesh3d": [
           {
            "colorbar": {
             "outlinewidth": 0,
             "ticks": ""
            },
            "type": "mesh3d"
           }
          ],
          "parcoords": [
           {
            "line": {
             "colorbar": {
              "outlinewidth": 0,
              "ticks": ""
             }
            },
            "type": "parcoords"
           }
          ],
          "pie": [
           {
            "automargin": true,
            "type": "pie"
           }
          ],
          "scatter": [
           {
            "fillpattern": {
             "fillmode": "overlay",
             "size": 10,
             "solidity": 0.2
            },
            "type": "scatter"
           }
          ],
          "scatter3d": [
           {
            "line": {
             "colorbar": {
              "outlinewidth": 0,
              "ticks": ""
             }
            },
            "marker": {
             "colorbar": {
              "outlinewidth": 0,
              "ticks": ""
             }
            },
            "type": "scatter3d"
           }
          ],
          "scattercarpet": [
           {
            "marker": {
             "colorbar": {
              "outlinewidth": 0,
              "ticks": ""
             }
            },
            "type": "scattercarpet"
           }
          ],
          "scattergeo": [
           {
            "marker": {
             "colorbar": {
              "outlinewidth": 0,
              "ticks": ""
             }
            },
            "type": "scattergeo"
           }
          ],
          "scattergl": [
           {
            "marker": {
             "colorbar": {
              "outlinewidth": 0,
              "ticks": ""
             }
            },
            "type": "scattergl"
           }
          ],
          "scattermapbox": [
           {
            "marker": {
             "colorbar": {
              "outlinewidth": 0,
              "ticks": ""
             }
            },
            "type": "scattermapbox"
           }
          ],
          "scatterpolar": [
           {
            "marker": {
             "colorbar": {
              "outlinewidth": 0,
              "ticks": ""
             }
            },
            "type": "scatterpolar"
           }
          ],
          "scatterpolargl": [
           {
            "marker": {
             "colorbar": {
              "outlinewidth": 0,
              "ticks": ""
             }
            },
            "type": "scatterpolargl"
           }
          ],
          "scatterternary": [
           {
            "marker": {
             "colorbar": {
              "outlinewidth": 0,
              "ticks": ""
             }
            },
            "type": "scatterternary"
           }
          ],
          "surface": [
           {
            "colorbar": {
             "outlinewidth": 0,
             "ticks": ""
            },
            "colorscale": [
             [
              0,
              "#0d0887"
             ],
             [
              0.1111111111111111,
              "#46039f"
             ],
             [
              0.2222222222222222,
              "#7201a8"
             ],
             [
              0.3333333333333333,
              "#9c179e"
             ],
             [
              0.4444444444444444,
              "#bd3786"
             ],
             [
              0.5555555555555556,
              "#d8576b"
             ],
             [
              0.6666666666666666,
              "#ed7953"
             ],
             [
              0.7777777777777778,
              "#fb9f3a"
             ],
             [
              0.8888888888888888,
              "#fdca26"
             ],
             [
              1,
              "#f0f921"
             ]
            ],
            "type": "surface"
           }
          ],
          "table": [
           {
            "cells": {
             "fill": {
              "color": "#EBF0F8"
             },
             "line": {
              "color": "white"
             }
            },
            "header": {
             "fill": {
              "color": "#C8D4E3"
             },
             "line": {
              "color": "white"
             }
            },
            "type": "table"
           }
          ]
         },
         "layout": {
          "annotationdefaults": {
           "arrowcolor": "#2a3f5f",
           "arrowhead": 0,
           "arrowwidth": 1
          },
          "autotypenumbers": "strict",
          "coloraxis": {
           "colorbar": {
            "outlinewidth": 0,
            "ticks": ""
           }
          },
          "colorscale": {
           "diverging": [
            [
             0,
             "#8e0152"
            ],
            [
             0.1,
             "#c51b7d"
            ],
            [
             0.2,
             "#de77ae"
            ],
            [
             0.3,
             "#f1b6da"
            ],
            [
             0.4,
             "#fde0ef"
            ],
            [
             0.5,
             "#f7f7f7"
            ],
            [
             0.6,
             "#e6f5d0"
            ],
            [
             0.7,
             "#b8e186"
            ],
            [
             0.8,
             "#7fbc41"
            ],
            [
             0.9,
             "#4d9221"
            ],
            [
             1,
             "#276419"
            ]
           ],
           "sequential": [
            [
             0,
             "#0d0887"
            ],
            [
             0.1111111111111111,
             "#46039f"
            ],
            [
             0.2222222222222222,
             "#7201a8"
            ],
            [
             0.3333333333333333,
             "#9c179e"
            ],
            [
             0.4444444444444444,
             "#bd3786"
            ],
            [
             0.5555555555555556,
             "#d8576b"
            ],
            [
             0.6666666666666666,
             "#ed7953"
            ],
            [
             0.7777777777777778,
             "#fb9f3a"
            ],
            [
             0.8888888888888888,
             "#fdca26"
            ],
            [
             1,
             "#f0f921"
            ]
           ],
           "sequentialminus": [
            [
             0,
             "#0d0887"
            ],
            [
             0.1111111111111111,
             "#46039f"
            ],
            [
             0.2222222222222222,
             "#7201a8"
            ],
            [
             0.3333333333333333,
             "#9c179e"
            ],
            [
             0.4444444444444444,
             "#bd3786"
            ],
            [
             0.5555555555555556,
             "#d8576b"
            ],
            [
             0.6666666666666666,
             "#ed7953"
            ],
            [
             0.7777777777777778,
             "#fb9f3a"
            ],
            [
             0.8888888888888888,
             "#fdca26"
            ],
            [
             1,
             "#f0f921"
            ]
           ]
          },
          "colorway": [
           "#636efa",
           "#EF553B",
           "#00cc96",
           "#ab63fa",
           "#FFA15A",
           "#19d3f3",
           "#FF6692",
           "#B6E880",
           "#FF97FF",
           "#FECB52"
          ],
          "font": {
           "color": "#2a3f5f"
          },
          "geo": {
           "bgcolor": "white",
           "lakecolor": "white",
           "landcolor": "#E5ECF6",
           "showlakes": true,
           "showland": true,
           "subunitcolor": "white"
          },
          "hoverlabel": {
           "align": "left"
          },
          "hovermode": "closest",
          "mapbox": {
           "style": "light"
          },
          "paper_bgcolor": "white",
          "plot_bgcolor": "#E5ECF6",
          "polar": {
           "angularaxis": {
            "gridcolor": "white",
            "linecolor": "white",
            "ticks": ""
           },
           "bgcolor": "#E5ECF6",
           "radialaxis": {
            "gridcolor": "white",
            "linecolor": "white",
            "ticks": ""
           }
          },
          "scene": {
           "xaxis": {
            "backgroundcolor": "#E5ECF6",
            "gridcolor": "white",
            "gridwidth": 2,
            "linecolor": "white",
            "showbackground": true,
            "ticks": "",
            "zerolinecolor": "white"
           },
           "yaxis": {
            "backgroundcolor": "#E5ECF6",
            "gridcolor": "white",
            "gridwidth": 2,
            "linecolor": "white",
            "showbackground": true,
            "ticks": "",
            "zerolinecolor": "white"
           },
           "zaxis": {
            "backgroundcolor": "#E5ECF6",
            "gridcolor": "white",
            "gridwidth": 2,
            "linecolor": "white",
            "showbackground": true,
            "ticks": "",
            "zerolinecolor": "white"
           }
          },
          "shapedefaults": {
           "line": {
            "color": "#2a3f5f"
           }
          },
          "ternary": {
           "aaxis": {
            "gridcolor": "white",
            "linecolor": "white",
            "ticks": ""
           },
           "baxis": {
            "gridcolor": "white",
            "linecolor": "white",
            "ticks": ""
           },
           "bgcolor": "#E5ECF6",
           "caxis": {
            "gridcolor": "white",
            "linecolor": "white",
            "ticks": ""
           }
          },
          "title": {
           "x": 0.05
          },
          "xaxis": {
           "automargin": true,
           "gridcolor": "white",
           "linecolor": "white",
           "ticks": "",
           "title": {
            "standoff": 15
           },
           "zerolinecolor": "white",
           "zerolinewidth": 2
          },
          "yaxis": {
           "automargin": true,
           "gridcolor": "white",
           "linecolor": "white",
           "ticks": "",
           "title": {
            "standoff": 15
           },
           "zerolinecolor": "white",
           "zerolinewidth": 2
          }
         }
        },
        "title": {
         "font": {
          "color": "#4D5663"
         }
        },
        "xaxis": {
         "gridcolor": "#E1E5ED",
         "showgrid": true,
         "tickfont": {
          "color": "#4D5663"
         },
         "title": {
          "font": {
           "color": "#4D5663"
          },
          "text": ""
         },
         "zerolinecolor": "#E1E5ED"
        },
        "xaxis2": {
         "anchor": "y2",
         "gridcolor": "#E1E5ED",
         "showgrid": true,
         "showticklabels": false,
         "tickfont": {
          "color": "#4D5663"
         },
         "title": {
          "font": {
           "color": "#4D5663"
          },
          "text": ""
         },
         "zerolinecolor": "#E1E5ED"
        },
        "yaxis": {
         "domain": [
          0.3,
          1
         ],
         "gridcolor": "#E1E5ED",
         "showgrid": true,
         "tickfont": {
          "color": "#4D5663"
         },
         "title": {
          "font": {
           "color": "#4D5663"
          },
          "text": ""
         },
         "zerolinecolor": "#E1E5ED"
        },
        "yaxis2": {
         "domain": [
          0,
          0.25
         ],
         "gridcolor": "#E1E5ED",
         "showgrid": true,
         "tickfont": {
          "color": "#4D5663"
         },
         "title": {
          "font": {
           "color": "#4D5663"
          },
          "text": "Spread"
         },
         "zerolinecolor": "#E1E5ED"
        }
       }
      },
      "text/html": [
       "<div>                            <div id=\"1f9701af-1cb7-4726-8d63-8f80c0ed8bb4\" class=\"plotly-graph-div\" style=\"height:525px; width:100%;\"></div>            <script type=\"text/javascript\">                require([\"plotly\"], function(Plotly) {                    window.PLOTLYENV=window.PLOTLYENV || {};\n",
       "                    window.PLOTLYENV.BASE_URL='https://plot.ly';                                    if (document.getElementById(\"1f9701af-1cb7-4726-8d63-8f80c0ed8bb4\")) {                    Plotly.newPlot(                        \"1f9701af-1cb7-4726-8d63-8f80c0ed8bb4\",                        [{\"line\":{\"color\":\"rgba(255, 153, 51, 1.0)\",\"dash\":\"solid\",\"shape\":\"linear\",\"width\":1.3},\"mode\":\"lines\",\"name\":\"A\",\"text\":\"\",\"x\":[0,1,2,3,4,5,6,7,8,9,10,11,12,13,14,15,16,17,18,19,20,21,22,23,24,25,26,27,28,29,30,31,32,33,34,35,36,37,38,39,40,41,42,43,44,45,46,47,48,49,50,51,52,53,54,55,56,57,58,59,60,61,62,63,64,65,66,67,68,69,70,71,72,73,74,75,76,77,78,79,80,81,82,83,84,85,86,87,88,89,90,91,92,93,94,95,96,97,98,99],\"y\":[1.9785474803328607,1.0092268487548832,-1.225013157557364,-1.7571929080727824,-0.3510321902033087,1.4100616476100398,-0.7107709961502106,-0.23874519373105246,1.2373841410062967,0.8323615939275861,-0.9041212935899998,1.0134132263520905,-0.48501594051186303,0.10711805122591342,1.053211572931562,1.8747476432241057,-1.6935363858985157,-0.2608680773992978,1.6883554154984184,0.7485058415919015,0.9786366361762188,-0.3085510438136002,-0.9304657253362264,0.6037118838048389,0.6245447736656713,1.2385002099949525,-0.7097874554477298,0.5823549670983328,-0.35803780976590854,1.5491322960816853,1.53807985352257,2.404581495249531,-0.9652410635551554,-0.47589035741556557,1.6683681176793281,-0.8476670562828995,-0.6211176310350959,-0.652231375444704,0.9359531059469797,-1.6020033412254073,0.31985344042035896,0.46587917758063924,-0.16268949490112863,-0.46277578442258077,0.058282399822782646,0.46307447698305676,0.3224978075603298,0.11526650280798287,-0.7692957618827033,-0.35826300853537124,-2.641779265896877,1.7247231795571583,0.3673705260306855,0.09276272084379551,-0.18472477320008263,-1.6970613031028194,0.1843645004161003,0.5921046508039165,0.784867163116174,0.035674674097062015,-1.0077029572479506,0.7461447282062237,-0.5868772103780041,-0.568107392843018,0.12065140233307468,-0.8069255129179801,-1.8704940936796401,-0.7404711419618509,-0.5983897510208666,1.7050616932429972,-0.9258406850844257,-0.22291973386169947,0.38082614288418576,-0.2256843255911952,-0.6287074591394933,2.394235061047817,0.668169433872653,0.9968613105270926,-1.032969040321864,2.164652725086726,0.15323306330310169,-0.5445996973395306,-0.4038606332641512,0.8909069835088288,0.197832202834394,-0.20753647433224323,-1.696035375361601,2.915074338040306,1.4848354580604801,0.4129310916479309,-0.5841717881041785,1.1138237134791464,-0.6351696242421287,-0.4751255037732066,-0.23049971038152886,0.07740486985743174,0.3266324105276788,-0.18148747202789775,0.18998088567144913,-0.18618896527839632],\"type\":\"scatter\"},{\"line\":{\"color\":\"rgba(55, 128, 191, 1.0)\",\"dash\":\"solid\",\"shape\":\"linear\",\"width\":1.3},\"mode\":\"lines\",\"name\":\"B\",\"text\":\"\",\"x\":[0,1,2,3,4,5,6,7,8,9,10,11,12,13,14,15,16,17,18,19,20,21,22,23,24,25,26,27,28,29,30,31,32,33,34,35,36,37,38,39,40,41,42,43,44,45,46,47,48,49,50,51,52,53,54,55,56,57,58,59,60,61,62,63,64,65,66,67,68,69,70,71,72,73,74,75,76,77,78,79,80,81,82,83,84,85,86,87,88,89,90,91,92,93,94,95,96,97,98,99],\"y\":[-1.5702617948214266,0.12942604733102087,-1.2169678178307737,-1.2778014589549243,1.8237927091633785,0.0983300722187688,-1.4867525497879113,0.25751460492347245,-0.8675529082563131,1.234516185844747,1.2849289284666068,-0.02214928596425894,1.8045203915299464,-0.2717929080799078,0.28282897890794684,0.4891061282687007,0.5443993907148782,0.03664611008771916,-1.4003908791201083,0.48765519178484606,0.7410222490313609,0.6552416409680061,0.7752657653055114,0.16471296627787774,-0.9082756830220291,-0.8942021456626656,-0.11711820349957816,1.3045192026835244,0.47610209947548787,-0.893996522001287,-1.9640426395138464,0.43177799306761144,0.2124861930961608,-0.26810503189773915,-0.2917277248112427,1.0600995580385186,-0.09616546623536769,0.009831686166474143,0.12449032978094596,1.0276096444007707,-1.0254918006858438,-0.491665530209502,-1.1532845391864175,0.7743603622969015,0.5015434994983705,-2.670307417221883,-1.2579742785445271,1.4905247530153953,-0.40082727355775954,0.013203193429966736,0.1478919810858192,1.8112635179969534,-1.5139512301237585,1.018692288823052,-1.1012653901407132,-0.5820767909418454,-1.4139610051553735,0.01755357736561984,0.5146723862357394,-0.1209274245317748,-0.491205835395233,0.0022244209716448093,-0.4631825451744534,0.907113410788158,-2.6207466340129444,0.4905596334180495,1.2439976629035,1.3620583916014237,-0.19132402487449365,2.2972892403697673,-1.1367556296822485,0.7947113392733698,0.5105297809039376,0.9137443265637776,0.9924360158790626,0.9138885179435232,-0.25964561644063744,-1.959604933558067,-0.6889732022152018,-0.3191836910416321,0.07420510684222735,-1.9129165314678132,0.3526977808732218,-1.4994800777658641,0.3742016214330207,-0.7211513000095967,-0.961856771165803,0.7952332385174912,1.0987584252515978,-1.684638463358606,-0.13351592575428659,0.5041206166281047,-0.24754116237098892,-2.396950493369511,0.3509411161599187,-0.14041401285102192,0.650789056470859,-0.8620434947700216,0.11914014339928516,-0.6736618243248493],\"type\":\"scatter\"},{\"connectgaps\":false,\"fill\":\"tozeroy\",\"line\":{\"color\":\"green\",\"dash\":\"solid\",\"shape\":\"linear\",\"width\":0.5},\"mode\":\"lines\",\"name\":\"Spread\",\"showlegend\":false,\"x\":[0,1,2,3,4,5,6,7,8,9,10,11,12,13,14,15,16,17,18,19,20,21,22,23,24,25,26,27,28,29,30,31,32,33,34,35,36,37,38,39,40,41,42,43,44,45,46,47,48,49,50,51,52,53,54,55,56,57,58,59,60,61,62,63,64,65,66,67,68,69,70,71,72,73,74,75,76,77,78,79,80,81,82,83,84,85,86,87,88,89,90,91,92,93,94,95,96,97,98,99],\"xaxis\":\"x2\",\"y\":[3.5488092751542872,0.8798008014238623,\"\",\"\",\"\",1.311731575391271,0.7759815536377007,\"\",2.1049370492626096,\"\",\"\",1.0355625123163494,\"\",0.3789109593058212,0.7703825940236153,1.385641514955405,\"\",\"\",3.0887462946185265,0.2608506498070554,0.23761438714485783,\"\",\"\",0.43899891752696113,1.5328204566877004,2.132702355657618,\"\",\"\",\"\",2.443128818082972,3.502122493036416,1.9728035021819195,\"\",\"\",1.9600958424905708,\"\",\"\",\"\",0.8114627761660337,\"\",1.3453452411062028,0.9575447077901412,0.9905950442852889,\"\",\"\",3.13338189420494,1.580472086104857,\"\",\"\",\"\",\"\",\"\",1.881321756154444,\"\",0.9165406169406306,\"\",1.5983255055714738,0.5745510734382967,0.2701947768804346,0.1566020986288368,\"\",0.7439203072345789,\"\",\"\",2.741398036346019,\"\",\"\",\"\",\"\",\"\",0.21091494459782278,\"\",\"\",\"\",\"\",1.480346543104294,0.9278150503132905,2.9564662440851595,\"\",2.483836416128358,0.07902795646087434,1.3683168341282825,\"\",2.390387061274693,\"\",0.5136148256773535,\"\",2.119841099522815,0.3860770328088823,2.0975695550065367,\"\",0.6097030968510417,\"\",1.9218249895963044,\"\",0.21781888270845368,\"\",0.6805560227421239,0.07084074227216397,0.487472859046453],\"yaxis\":\"y2\",\"type\":\"scatter\"},{\"connectgaps\":false,\"fill\":\"tozeroy\",\"line\":{\"color\":\"red\",\"dash\":\"solid\",\"shape\":\"linear\",\"width\":0.5},\"mode\":\"lines\",\"name\":\"Spread\",\"showlegend\":false,\"x\":[0,1,2,3,4,5,6,7,8,9,10,11,12,13,14,15,16,17,18,19,20,21,22,23,24,25,26,27,28,29,30,31,32,33,34,35,36,37,38,39,40,41,42,43,44,45,46,47,48,49,50,51,52,53,54,55,56,57,58,59,60,61,62,63,64,65,66,67,68,69,70,71,72,73,74,75,76,77,78,79,80,81,82,83,84,85,86,87,88,89,90,91,92,93,94,95,96,97,98,99],\"xaxis\":\"x2\",\"y\":[\"\",\"\",-0.008045339726590273,-0.47939144911785814,-2.1748248993666874,\"\",\"\",-0.4962597986545249,\"\",-0.40215459191716096,-2.189050222056607,\"\",-2.289536332041809,\"\",\"\",\"\",-2.237935776613394,-0.29751418748701697,\"\",\"\",\"\",-0.9637926847816063,-1.7057314906417378,\"\",\"\",\"\",-0.5926692519481517,-0.7221642355851916,-0.8341399092413964,\"\",\"\",\"\",-1.1777272566513162,-0.2077853255178264,\"\",-1.9077666143214183,-0.5249521647997282,-0.6620630616111781,\"\",-2.629612985626178,\"\",\"\",\"\",-1.2371361467194824,-0.44326109967558786,\"\",\"\",-1.3752582502074124,-0.3684684883249438,-0.37146620196533797,-2.7896712469826963,-0.08654033843979514,\"\",-0.9259295679792565,\"\",-1.114984512160974,\"\",\"\",\"\",\"\",-0.5164971218527176,\"\",-0.12369466520355071,-1.475220803631176,\"\",-1.2974851463360295,-3.1144917565831403,-2.1025295335632745,-0.40706572614637293,-0.5922275471267702,\"\",-1.0176310731350693,-0.12970363801975188,-1.1394286521549728,-1.621143475018556,\"\",\"\",\"\",-0.34399583810666234,\"\",\"\",\"\",-0.756558414137373,\"\",-0.1763694185986267,\"\",-0.7341786041957981,\"\",\"\",\"\",-0.45065586234989186,\"\",-0.38762846187113986,\"\",-0.5814408265414476,\"\",-0.3241566459431803,\"\",\"\",\"\"],\"yaxis\":\"y2\",\"type\":\"scatter\"}],                        {\"hovermode\":\"x\",\"legend\":{\"bgcolor\":\"#F5F6F9\",\"font\":{\"color\":\"#4D5663\"}},\"paper_bgcolor\":\"#F5F6F9\",\"plot_bgcolor\":\"#F5F6F9\",\"template\":{\"data\":{\"barpolar\":[{\"marker\":{\"line\":{\"color\":\"#E5ECF6\",\"width\":0.5},\"pattern\":{\"fillmode\":\"overlay\",\"size\":10,\"solidity\":0.2}},\"type\":\"barpolar\"}],\"bar\":[{\"error_x\":{\"color\":\"#2a3f5f\"},\"error_y\":{\"color\":\"#2a3f5f\"},\"marker\":{\"line\":{\"color\":\"#E5ECF6\",\"width\":0.5},\"pattern\":{\"fillmode\":\"overlay\",\"size\":10,\"solidity\":0.2}},\"type\":\"bar\"}],\"carpet\":[{\"aaxis\":{\"endlinecolor\":\"#2a3f5f\",\"gridcolor\":\"white\",\"linecolor\":\"white\",\"minorgridcolor\":\"white\",\"startlinecolor\":\"#2a3f5f\"},\"baxis\":{\"endlinecolor\":\"#2a3f5f\",\"gridcolor\":\"white\",\"linecolor\":\"white\",\"minorgridcolor\":\"white\",\"startlinecolor\":\"#2a3f5f\"},\"type\":\"carpet\"}],\"choropleth\":[{\"colorbar\":{\"outlinewidth\":0,\"ticks\":\"\"},\"type\":\"choropleth\"}],\"contourcarpet\":[{\"colorbar\":{\"outlinewidth\":0,\"ticks\":\"\"},\"type\":\"contourcarpet\"}],\"contour\":[{\"colorbar\":{\"outlinewidth\":0,\"ticks\":\"\"},\"colorscale\":[[0.0,\"#0d0887\"],[0.1111111111111111,\"#46039f\"],[0.2222222222222222,\"#7201a8\"],[0.3333333333333333,\"#9c179e\"],[0.4444444444444444,\"#bd3786\"],[0.5555555555555556,\"#d8576b\"],[0.6666666666666666,\"#ed7953\"],[0.7777777777777778,\"#fb9f3a\"],[0.8888888888888888,\"#fdca26\"],[1.0,\"#f0f921\"]],\"type\":\"contour\"}],\"heatmapgl\":[{\"colorbar\":{\"outlinewidth\":0,\"ticks\":\"\"},\"colorscale\":[[0.0,\"#0d0887\"],[0.1111111111111111,\"#46039f\"],[0.2222222222222222,\"#7201a8\"],[0.3333333333333333,\"#9c179e\"],[0.4444444444444444,\"#bd3786\"],[0.5555555555555556,\"#d8576b\"],[0.6666666666666666,\"#ed7953\"],[0.7777777777777778,\"#fb9f3a\"],[0.8888888888888888,\"#fdca26\"],[1.0,\"#f0f921\"]],\"type\":\"heatmapgl\"}],\"heatmap\":[{\"colorbar\":{\"outlinewidth\":0,\"ticks\":\"\"},\"colorscale\":[[0.0,\"#0d0887\"],[0.1111111111111111,\"#46039f\"],[0.2222222222222222,\"#7201a8\"],[0.3333333333333333,\"#9c179e\"],[0.4444444444444444,\"#bd3786\"],[0.5555555555555556,\"#d8576b\"],[0.6666666666666666,\"#ed7953\"],[0.7777777777777778,\"#fb9f3a\"],[0.8888888888888888,\"#fdca26\"],[1.0,\"#f0f921\"]],\"type\":\"heatmap\"}],\"histogram2dcontour\":[{\"colorbar\":{\"outlinewidth\":0,\"ticks\":\"\"},\"colorscale\":[[0.0,\"#0d0887\"],[0.1111111111111111,\"#46039f\"],[0.2222222222222222,\"#7201a8\"],[0.3333333333333333,\"#9c179e\"],[0.4444444444444444,\"#bd3786\"],[0.5555555555555556,\"#d8576b\"],[0.6666666666666666,\"#ed7953\"],[0.7777777777777778,\"#fb9f3a\"],[0.8888888888888888,\"#fdca26\"],[1.0,\"#f0f921\"]],\"type\":\"histogram2dcontour\"}],\"histogram2d\":[{\"colorbar\":{\"outlinewidth\":0,\"ticks\":\"\"},\"colorscale\":[[0.0,\"#0d0887\"],[0.1111111111111111,\"#46039f\"],[0.2222222222222222,\"#7201a8\"],[0.3333333333333333,\"#9c179e\"],[0.4444444444444444,\"#bd3786\"],[0.5555555555555556,\"#d8576b\"],[0.6666666666666666,\"#ed7953\"],[0.7777777777777778,\"#fb9f3a\"],[0.8888888888888888,\"#fdca26\"],[1.0,\"#f0f921\"]],\"type\":\"histogram2d\"}],\"histogram\":[{\"marker\":{\"pattern\":{\"fillmode\":\"overlay\",\"size\":10,\"solidity\":0.2}},\"type\":\"histogram\"}],\"mesh3d\":[{\"colorbar\":{\"outlinewidth\":0,\"ticks\":\"\"},\"type\":\"mesh3d\"}],\"parcoords\":[{\"line\":{\"colorbar\":{\"outlinewidth\":0,\"ticks\":\"\"}},\"type\":\"parcoords\"}],\"pie\":[{\"automargin\":true,\"type\":\"pie\"}],\"scatter3d\":[{\"line\":{\"colorbar\":{\"outlinewidth\":0,\"ticks\":\"\"}},\"marker\":{\"colorbar\":{\"outlinewidth\":0,\"ticks\":\"\"}},\"type\":\"scatter3d\"}],\"scattercarpet\":[{\"marker\":{\"colorbar\":{\"outlinewidth\":0,\"ticks\":\"\"}},\"type\":\"scattercarpet\"}],\"scattergeo\":[{\"marker\":{\"colorbar\":{\"outlinewidth\":0,\"ticks\":\"\"}},\"type\":\"scattergeo\"}],\"scattergl\":[{\"marker\":{\"colorbar\":{\"outlinewidth\":0,\"ticks\":\"\"}},\"type\":\"scattergl\"}],\"scattermapbox\":[{\"marker\":{\"colorbar\":{\"outlinewidth\":0,\"ticks\":\"\"}},\"type\":\"scattermapbox\"}],\"scatterpolargl\":[{\"marker\":{\"colorbar\":{\"outlinewidth\":0,\"ticks\":\"\"}},\"type\":\"scatterpolargl\"}],\"scatterpolar\":[{\"marker\":{\"colorbar\":{\"outlinewidth\":0,\"ticks\":\"\"}},\"type\":\"scatterpolar\"}],\"scatter\":[{\"fillpattern\":{\"fillmode\":\"overlay\",\"size\":10,\"solidity\":0.2},\"type\":\"scatter\"}],\"scatterternary\":[{\"marker\":{\"colorbar\":{\"outlinewidth\":0,\"ticks\":\"\"}},\"type\":\"scatterternary\"}],\"surface\":[{\"colorbar\":{\"outlinewidth\":0,\"ticks\":\"\"},\"colorscale\":[[0.0,\"#0d0887\"],[0.1111111111111111,\"#46039f\"],[0.2222222222222222,\"#7201a8\"],[0.3333333333333333,\"#9c179e\"],[0.4444444444444444,\"#bd3786\"],[0.5555555555555556,\"#d8576b\"],[0.6666666666666666,\"#ed7953\"],[0.7777777777777778,\"#fb9f3a\"],[0.8888888888888888,\"#fdca26\"],[1.0,\"#f0f921\"]],\"type\":\"surface\"}],\"table\":[{\"cells\":{\"fill\":{\"color\":\"#EBF0F8\"},\"line\":{\"color\":\"white\"}},\"header\":{\"fill\":{\"color\":\"#C8D4E3\"},\"line\":{\"color\":\"white\"}},\"type\":\"table\"}]},\"layout\":{\"annotationdefaults\":{\"arrowcolor\":\"#2a3f5f\",\"arrowhead\":0,\"arrowwidth\":1},\"autotypenumbers\":\"strict\",\"coloraxis\":{\"colorbar\":{\"outlinewidth\":0,\"ticks\":\"\"}},\"colorscale\":{\"diverging\":[[0,\"#8e0152\"],[0.1,\"#c51b7d\"],[0.2,\"#de77ae\"],[0.3,\"#f1b6da\"],[0.4,\"#fde0ef\"],[0.5,\"#f7f7f7\"],[0.6,\"#e6f5d0\"],[0.7,\"#b8e186\"],[0.8,\"#7fbc41\"],[0.9,\"#4d9221\"],[1,\"#276419\"]],\"sequential\":[[0.0,\"#0d0887\"],[0.1111111111111111,\"#46039f\"],[0.2222222222222222,\"#7201a8\"],[0.3333333333333333,\"#9c179e\"],[0.4444444444444444,\"#bd3786\"],[0.5555555555555556,\"#d8576b\"],[0.6666666666666666,\"#ed7953\"],[0.7777777777777778,\"#fb9f3a\"],[0.8888888888888888,\"#fdca26\"],[1.0,\"#f0f921\"]],\"sequentialminus\":[[0.0,\"#0d0887\"],[0.1111111111111111,\"#46039f\"],[0.2222222222222222,\"#7201a8\"],[0.3333333333333333,\"#9c179e\"],[0.4444444444444444,\"#bd3786\"],[0.5555555555555556,\"#d8576b\"],[0.6666666666666666,\"#ed7953\"],[0.7777777777777778,\"#fb9f3a\"],[0.8888888888888888,\"#fdca26\"],[1.0,\"#f0f921\"]]},\"colorway\":[\"#636efa\",\"#EF553B\",\"#00cc96\",\"#ab63fa\",\"#FFA15A\",\"#19d3f3\",\"#FF6692\",\"#B6E880\",\"#FF97FF\",\"#FECB52\"],\"font\":{\"color\":\"#2a3f5f\"},\"geo\":{\"bgcolor\":\"white\",\"lakecolor\":\"white\",\"landcolor\":\"#E5ECF6\",\"showlakes\":true,\"showland\":true,\"subunitcolor\":\"white\"},\"hoverlabel\":{\"align\":\"left\"},\"hovermode\":\"closest\",\"mapbox\":{\"style\":\"light\"},\"paper_bgcolor\":\"white\",\"plot_bgcolor\":\"#E5ECF6\",\"polar\":{\"angularaxis\":{\"gridcolor\":\"white\",\"linecolor\":\"white\",\"ticks\":\"\"},\"bgcolor\":\"#E5ECF6\",\"radialaxis\":{\"gridcolor\":\"white\",\"linecolor\":\"white\",\"ticks\":\"\"}},\"scene\":{\"xaxis\":{\"backgroundcolor\":\"#E5ECF6\",\"gridcolor\":\"white\",\"gridwidth\":2,\"linecolor\":\"white\",\"showbackground\":true,\"ticks\":\"\",\"zerolinecolor\":\"white\"},\"yaxis\":{\"backgroundcolor\":\"#E5ECF6\",\"gridcolor\":\"white\",\"gridwidth\":2,\"linecolor\":\"white\",\"showbackground\":true,\"ticks\":\"\",\"zerolinecolor\":\"white\"},\"zaxis\":{\"backgroundcolor\":\"#E5ECF6\",\"gridcolor\":\"white\",\"gridwidth\":2,\"linecolor\":\"white\",\"showbackground\":true,\"ticks\":\"\",\"zerolinecolor\":\"white\"}},\"shapedefaults\":{\"line\":{\"color\":\"#2a3f5f\"}},\"ternary\":{\"aaxis\":{\"gridcolor\":\"white\",\"linecolor\":\"white\",\"ticks\":\"\"},\"baxis\":{\"gridcolor\":\"white\",\"linecolor\":\"white\",\"ticks\":\"\"},\"bgcolor\":\"#E5ECF6\",\"caxis\":{\"gridcolor\":\"white\",\"linecolor\":\"white\",\"ticks\":\"\"}},\"title\":{\"x\":0.05},\"xaxis\":{\"automargin\":true,\"gridcolor\":\"white\",\"linecolor\":\"white\",\"ticks\":\"\",\"title\":{\"standoff\":15},\"zerolinecolor\":\"white\",\"zerolinewidth\":2},\"yaxis\":{\"automargin\":true,\"gridcolor\":\"white\",\"linecolor\":\"white\",\"ticks\":\"\",\"title\":{\"standoff\":15},\"zerolinecolor\":\"white\",\"zerolinewidth\":2}}},\"title\":{\"font\":{\"color\":\"#4D5663\"}},\"xaxis\":{\"gridcolor\":\"#E1E5ED\",\"showgrid\":true,\"tickfont\":{\"color\":\"#4D5663\"},\"title\":{\"font\":{\"color\":\"#4D5663\"},\"text\":\"\"},\"zerolinecolor\":\"#E1E5ED\"},\"yaxis\":{\"domain\":[0.3,1],\"gridcolor\":\"#E1E5ED\",\"showgrid\":true,\"tickfont\":{\"color\":\"#4D5663\"},\"title\":{\"font\":{\"color\":\"#4D5663\"},\"text\":\"\"},\"zerolinecolor\":\"#E1E5ED\"},\"yaxis2\":{\"domain\":[0,0.25],\"gridcolor\":\"#E1E5ED\",\"showgrid\":true,\"tickfont\":{\"color\":\"#4D5663\"},\"title\":{\"font\":{\"color\":\"#4D5663\"},\"text\":\"Spread\"},\"zerolinecolor\":\"#E1E5ED\"},\"xaxis2\":{\"anchor\":\"y2\",\"gridcolor\":\"#E1E5ED\",\"showgrid\":true,\"showticklabels\":false,\"tickfont\":{\"color\":\"#4D5663\"},\"title\":{\"font\":{\"color\":\"#4D5663\"},\"text\":\"\"},\"zerolinecolor\":\"#E1E5ED\"}},                        {\"showLink\": true, \"linkText\": \"Export to plot.ly\", \"plotlyServerURL\": \"https://plot.ly\", \"responsive\": true}                    ).then(function(){\n",
       "                            \n",
       "var gd = document.getElementById('1f9701af-1cb7-4726-8d63-8f80c0ed8bb4');\n",
       "var x = new MutationObserver(function (mutations, observer) {{\n",
       "        var display = window.getComputedStyle(gd).display;\n",
       "        if (!display || display === 'none') {{\n",
       "            console.log([gd, 'removed!']);\n",
       "            Plotly.purge(gd);\n",
       "            observer.disconnect();\n",
       "        }}\n",
       "}});\n",
       "\n",
       "// Listen for the removal of the full notebook cells\n",
       "var notebookContainer = gd.closest('#notebook-container');\n",
       "if (notebookContainer) {{\n",
       "    x.observe(notebookContainer, {childList: true});\n",
       "}}\n",
       "\n",
       "// Listen for the clearing of the current output cell\n",
       "var outputEl = gd.closest('.output');\n",
       "if (outputEl) {{\n",
       "    x.observe(outputEl, {childList: true});\n",
       "}}\n",
       "\n",
       "                        })                };                });            </script>        </div>"
      ]
     },
     "metadata": {},
     "output_type": "display_data"
    }
   ],
   "source": [
    "df[['A','B']].iplot(kind='spread')"
   ]
  },
  {
   "cell_type": "markdown",
   "metadata": {},
   "source": [
    "#### histogram"
   ]
  },
  {
   "cell_type": "code",
   "execution_count": 30,
   "metadata": {},
   "outputs": [
    {
     "data": {
      "application/vnd.plotly.v1+json": {
       "config": {
        "linkText": "Export to plot.ly",
        "plotlyServerURL": "https://plot.ly",
        "showLink": true
       },
       "data": [
        {
         "histfunc": "count",
         "histnorm": "",
         "marker": {
          "color": "rgba(255, 153, 51, 1.0)",
          "line": {
           "color": "#4D5663",
           "width": 1.3
          }
         },
         "name": "A",
         "nbinsx": 25,
         "opacity": 0.8,
         "orientation": "v",
         "type": "histogram",
         "x": [
          1.9785474803328607,
          1.0092268487548832,
          -1.225013157557364,
          -1.7571929080727824,
          -0.3510321902033087,
          1.4100616476100398,
          -0.7107709961502106,
          -0.23874519373105246,
          1.2373841410062967,
          0.8323615939275861,
          -0.9041212935899998,
          1.0134132263520905,
          -0.48501594051186303,
          0.10711805122591342,
          1.053211572931562,
          1.8747476432241057,
          -1.6935363858985157,
          -0.2608680773992978,
          1.6883554154984184,
          0.7485058415919015,
          0.9786366361762188,
          -0.3085510438136002,
          -0.9304657253362264,
          0.6037118838048389,
          0.6245447736656713,
          1.2385002099949525,
          -0.7097874554477298,
          0.5823549670983328,
          -0.35803780976590854,
          1.5491322960816853,
          1.53807985352257,
          2.404581495249531,
          -0.9652410635551554,
          -0.47589035741556557,
          1.6683681176793281,
          -0.8476670562828995,
          -0.6211176310350959,
          -0.652231375444704,
          0.9359531059469797,
          -1.6020033412254073,
          0.31985344042035896,
          0.46587917758063924,
          -0.16268949490112863,
          -0.46277578442258077,
          0.058282399822782646,
          0.46307447698305676,
          0.3224978075603298,
          0.11526650280798287,
          -0.7692957618827033,
          -0.35826300853537124,
          -2.641779265896877,
          1.7247231795571583,
          0.3673705260306855,
          0.09276272084379551,
          -0.18472477320008263,
          -1.6970613031028194,
          0.1843645004161003,
          0.5921046508039165,
          0.784867163116174,
          0.035674674097062015,
          -1.0077029572479506,
          0.7461447282062237,
          -0.5868772103780041,
          -0.568107392843018,
          0.12065140233307468,
          -0.8069255129179801,
          -1.8704940936796401,
          -0.7404711419618509,
          -0.5983897510208666,
          1.7050616932429972,
          -0.9258406850844257,
          -0.22291973386169947,
          0.38082614288418576,
          -0.2256843255911952,
          -0.6287074591394933,
          2.394235061047817,
          0.668169433872653,
          0.9968613105270926,
          -1.032969040321864,
          2.164652725086726,
          0.15323306330310169,
          -0.5445996973395306,
          -0.4038606332641512,
          0.8909069835088288,
          0.197832202834394,
          -0.20753647433224323,
          -1.696035375361601,
          2.915074338040306,
          1.4848354580604801,
          0.4129310916479309,
          -0.5841717881041785,
          1.1138237134791464,
          -0.6351696242421287,
          -0.4751255037732066,
          -0.23049971038152886,
          0.07740486985743174,
          0.3266324105276788,
          -0.18148747202789775,
          0.18998088567144913,
          -0.18618896527839632
         ]
        }
       ],
       "layout": {
        "barmode": "overlay",
        "legend": {
         "bgcolor": "#F5F6F9",
         "font": {
          "color": "#4D5663"
         }
        },
        "paper_bgcolor": "#F5F6F9",
        "plot_bgcolor": "#F5F6F9",
        "template": {
         "data": {
          "bar": [
           {
            "error_x": {
             "color": "#2a3f5f"
            },
            "error_y": {
             "color": "#2a3f5f"
            },
            "marker": {
             "line": {
              "color": "#E5ECF6",
              "width": 0.5
             },
             "pattern": {
              "fillmode": "overlay",
              "size": 10,
              "solidity": 0.2
             }
            },
            "type": "bar"
           }
          ],
          "barpolar": [
           {
            "marker": {
             "line": {
              "color": "#E5ECF6",
              "width": 0.5
             },
             "pattern": {
              "fillmode": "overlay",
              "size": 10,
              "solidity": 0.2
             }
            },
            "type": "barpolar"
           }
          ],
          "carpet": [
           {
            "aaxis": {
             "endlinecolor": "#2a3f5f",
             "gridcolor": "white",
             "linecolor": "white",
             "minorgridcolor": "white",
             "startlinecolor": "#2a3f5f"
            },
            "baxis": {
             "endlinecolor": "#2a3f5f",
             "gridcolor": "white",
             "linecolor": "white",
             "minorgridcolor": "white",
             "startlinecolor": "#2a3f5f"
            },
            "type": "carpet"
           }
          ],
          "choropleth": [
           {
            "colorbar": {
             "outlinewidth": 0,
             "ticks": ""
            },
            "type": "choropleth"
           }
          ],
          "contour": [
           {
            "colorbar": {
             "outlinewidth": 0,
             "ticks": ""
            },
            "colorscale": [
             [
              0,
              "#0d0887"
             ],
             [
              0.1111111111111111,
              "#46039f"
             ],
             [
              0.2222222222222222,
              "#7201a8"
             ],
             [
              0.3333333333333333,
              "#9c179e"
             ],
             [
              0.4444444444444444,
              "#bd3786"
             ],
             [
              0.5555555555555556,
              "#d8576b"
             ],
             [
              0.6666666666666666,
              "#ed7953"
             ],
             [
              0.7777777777777778,
              "#fb9f3a"
             ],
             [
              0.8888888888888888,
              "#fdca26"
             ],
             [
              1,
              "#f0f921"
             ]
            ],
            "type": "contour"
           }
          ],
          "contourcarpet": [
           {
            "colorbar": {
             "outlinewidth": 0,
             "ticks": ""
            },
            "type": "contourcarpet"
           }
          ],
          "heatmap": [
           {
            "colorbar": {
             "outlinewidth": 0,
             "ticks": ""
            },
            "colorscale": [
             [
              0,
              "#0d0887"
             ],
             [
              0.1111111111111111,
              "#46039f"
             ],
             [
              0.2222222222222222,
              "#7201a8"
             ],
             [
              0.3333333333333333,
              "#9c179e"
             ],
             [
              0.4444444444444444,
              "#bd3786"
             ],
             [
              0.5555555555555556,
              "#d8576b"
             ],
             [
              0.6666666666666666,
              "#ed7953"
             ],
             [
              0.7777777777777778,
              "#fb9f3a"
             ],
             [
              0.8888888888888888,
              "#fdca26"
             ],
             [
              1,
              "#f0f921"
             ]
            ],
            "type": "heatmap"
           }
          ],
          "heatmapgl": [
           {
            "colorbar": {
             "outlinewidth": 0,
             "ticks": ""
            },
            "colorscale": [
             [
              0,
              "#0d0887"
             ],
             [
              0.1111111111111111,
              "#46039f"
             ],
             [
              0.2222222222222222,
              "#7201a8"
             ],
             [
              0.3333333333333333,
              "#9c179e"
             ],
             [
              0.4444444444444444,
              "#bd3786"
             ],
             [
              0.5555555555555556,
              "#d8576b"
             ],
             [
              0.6666666666666666,
              "#ed7953"
             ],
             [
              0.7777777777777778,
              "#fb9f3a"
             ],
             [
              0.8888888888888888,
              "#fdca26"
             ],
             [
              1,
              "#f0f921"
             ]
            ],
            "type": "heatmapgl"
           }
          ],
          "histogram": [
           {
            "marker": {
             "pattern": {
              "fillmode": "overlay",
              "size": 10,
              "solidity": 0.2
             }
            },
            "type": "histogram"
           }
          ],
          "histogram2d": [
           {
            "colorbar": {
             "outlinewidth": 0,
             "ticks": ""
            },
            "colorscale": [
             [
              0,
              "#0d0887"
             ],
             [
              0.1111111111111111,
              "#46039f"
             ],
             [
              0.2222222222222222,
              "#7201a8"
             ],
             [
              0.3333333333333333,
              "#9c179e"
             ],
             [
              0.4444444444444444,
              "#bd3786"
             ],
             [
              0.5555555555555556,
              "#d8576b"
             ],
             [
              0.6666666666666666,
              "#ed7953"
             ],
             [
              0.7777777777777778,
              "#fb9f3a"
             ],
             [
              0.8888888888888888,
              "#fdca26"
             ],
             [
              1,
              "#f0f921"
             ]
            ],
            "type": "histogram2d"
           }
          ],
          "histogram2dcontour": [
           {
            "colorbar": {
             "outlinewidth": 0,
             "ticks": ""
            },
            "colorscale": [
             [
              0,
              "#0d0887"
             ],
             [
              0.1111111111111111,
              "#46039f"
             ],
             [
              0.2222222222222222,
              "#7201a8"
             ],
             [
              0.3333333333333333,
              "#9c179e"
             ],
             [
              0.4444444444444444,
              "#bd3786"
             ],
             [
              0.5555555555555556,
              "#d8576b"
             ],
             [
              0.6666666666666666,
              "#ed7953"
             ],
             [
              0.7777777777777778,
              "#fb9f3a"
             ],
             [
              0.8888888888888888,
              "#fdca26"
             ],
             [
              1,
              "#f0f921"
             ]
            ],
            "type": "histogram2dcontour"
           }
          ],
          "mesh3d": [
           {
            "colorbar": {
             "outlinewidth": 0,
             "ticks": ""
            },
            "type": "mesh3d"
           }
          ],
          "parcoords": [
           {
            "line": {
             "colorbar": {
              "outlinewidth": 0,
              "ticks": ""
             }
            },
            "type": "parcoords"
           }
          ],
          "pie": [
           {
            "automargin": true,
            "type": "pie"
           }
          ],
          "scatter": [
           {
            "fillpattern": {
             "fillmode": "overlay",
             "size": 10,
             "solidity": 0.2
            },
            "type": "scatter"
           }
          ],
          "scatter3d": [
           {
            "line": {
             "colorbar": {
              "outlinewidth": 0,
              "ticks": ""
             }
            },
            "marker": {
             "colorbar": {
              "outlinewidth": 0,
              "ticks": ""
             }
            },
            "type": "scatter3d"
           }
          ],
          "scattercarpet": [
           {
            "marker": {
             "colorbar": {
              "outlinewidth": 0,
              "ticks": ""
             }
            },
            "type": "scattercarpet"
           }
          ],
          "scattergeo": [
           {
            "marker": {
             "colorbar": {
              "outlinewidth": 0,
              "ticks": ""
             }
            },
            "type": "scattergeo"
           }
          ],
          "scattergl": [
           {
            "marker": {
             "colorbar": {
              "outlinewidth": 0,
              "ticks": ""
             }
            },
            "type": "scattergl"
           }
          ],
          "scattermapbox": [
           {
            "marker": {
             "colorbar": {
              "outlinewidth": 0,
              "ticks": ""
             }
            },
            "type": "scattermapbox"
           }
          ],
          "scatterpolar": [
           {
            "marker": {
             "colorbar": {
              "outlinewidth": 0,
              "ticks": ""
             }
            },
            "type": "scatterpolar"
           }
          ],
          "scatterpolargl": [
           {
            "marker": {
             "colorbar": {
              "outlinewidth": 0,
              "ticks": ""
             }
            },
            "type": "scatterpolargl"
           }
          ],
          "scatterternary": [
           {
            "marker": {
             "colorbar": {
              "outlinewidth": 0,
              "ticks": ""
             }
            },
            "type": "scatterternary"
           }
          ],
          "surface": [
           {
            "colorbar": {
             "outlinewidth": 0,
             "ticks": ""
            },
            "colorscale": [
             [
              0,
              "#0d0887"
             ],
             [
              0.1111111111111111,
              "#46039f"
             ],
             [
              0.2222222222222222,
              "#7201a8"
             ],
             [
              0.3333333333333333,
              "#9c179e"
             ],
             [
              0.4444444444444444,
              "#bd3786"
             ],
             [
              0.5555555555555556,
              "#d8576b"
             ],
             [
              0.6666666666666666,
              "#ed7953"
             ],
             [
              0.7777777777777778,
              "#fb9f3a"
             ],
             [
              0.8888888888888888,
              "#fdca26"
             ],
             [
              1,
              "#f0f921"
             ]
            ],
            "type": "surface"
           }
          ],
          "table": [
           {
            "cells": {
             "fill": {
              "color": "#EBF0F8"
             },
             "line": {
              "color": "white"
             }
            },
            "header": {
             "fill": {
              "color": "#C8D4E3"
             },
             "line": {
              "color": "white"
             }
            },
            "type": "table"
           }
          ]
         },
         "layout": {
          "annotationdefaults": {
           "arrowcolor": "#2a3f5f",
           "arrowhead": 0,
           "arrowwidth": 1
          },
          "autotypenumbers": "strict",
          "coloraxis": {
           "colorbar": {
            "outlinewidth": 0,
            "ticks": ""
           }
          },
          "colorscale": {
           "diverging": [
            [
             0,
             "#8e0152"
            ],
            [
             0.1,
             "#c51b7d"
            ],
            [
             0.2,
             "#de77ae"
            ],
            [
             0.3,
             "#f1b6da"
            ],
            [
             0.4,
             "#fde0ef"
            ],
            [
             0.5,
             "#f7f7f7"
            ],
            [
             0.6,
             "#e6f5d0"
            ],
            [
             0.7,
             "#b8e186"
            ],
            [
             0.8,
             "#7fbc41"
            ],
            [
             0.9,
             "#4d9221"
            ],
            [
             1,
             "#276419"
            ]
           ],
           "sequential": [
            [
             0,
             "#0d0887"
            ],
            [
             0.1111111111111111,
             "#46039f"
            ],
            [
             0.2222222222222222,
             "#7201a8"
            ],
            [
             0.3333333333333333,
             "#9c179e"
            ],
            [
             0.4444444444444444,
             "#bd3786"
            ],
            [
             0.5555555555555556,
             "#d8576b"
            ],
            [
             0.6666666666666666,
             "#ed7953"
            ],
            [
             0.7777777777777778,
             "#fb9f3a"
            ],
            [
             0.8888888888888888,
             "#fdca26"
            ],
            [
             1,
             "#f0f921"
            ]
           ],
           "sequentialminus": [
            [
             0,
             "#0d0887"
            ],
            [
             0.1111111111111111,
             "#46039f"
            ],
            [
             0.2222222222222222,
             "#7201a8"
            ],
            [
             0.3333333333333333,
             "#9c179e"
            ],
            [
             0.4444444444444444,
             "#bd3786"
            ],
            [
             0.5555555555555556,
             "#d8576b"
            ],
            [
             0.6666666666666666,
             "#ed7953"
            ],
            [
             0.7777777777777778,
             "#fb9f3a"
            ],
            [
             0.8888888888888888,
             "#fdca26"
            ],
            [
             1,
             "#f0f921"
            ]
           ]
          },
          "colorway": [
           "#636efa",
           "#EF553B",
           "#00cc96",
           "#ab63fa",
           "#FFA15A",
           "#19d3f3",
           "#FF6692",
           "#B6E880",
           "#FF97FF",
           "#FECB52"
          ],
          "font": {
           "color": "#2a3f5f"
          },
          "geo": {
           "bgcolor": "white",
           "lakecolor": "white",
           "landcolor": "#E5ECF6",
           "showlakes": true,
           "showland": true,
           "subunitcolor": "white"
          },
          "hoverlabel": {
           "align": "left"
          },
          "hovermode": "closest",
          "mapbox": {
           "style": "light"
          },
          "paper_bgcolor": "white",
          "plot_bgcolor": "#E5ECF6",
          "polar": {
           "angularaxis": {
            "gridcolor": "white",
            "linecolor": "white",
            "ticks": ""
           },
           "bgcolor": "#E5ECF6",
           "radialaxis": {
            "gridcolor": "white",
            "linecolor": "white",
            "ticks": ""
           }
          },
          "scene": {
           "xaxis": {
            "backgroundcolor": "#E5ECF6",
            "gridcolor": "white",
            "gridwidth": 2,
            "linecolor": "white",
            "showbackground": true,
            "ticks": "",
            "zerolinecolor": "white"
           },
           "yaxis": {
            "backgroundcolor": "#E5ECF6",
            "gridcolor": "white",
            "gridwidth": 2,
            "linecolor": "white",
            "showbackground": true,
            "ticks": "",
            "zerolinecolor": "white"
           },
           "zaxis": {
            "backgroundcolor": "#E5ECF6",
            "gridcolor": "white",
            "gridwidth": 2,
            "linecolor": "white",
            "showbackground": true,
            "ticks": "",
            "zerolinecolor": "white"
           }
          },
          "shapedefaults": {
           "line": {
            "color": "#2a3f5f"
           }
          },
          "ternary": {
           "aaxis": {
            "gridcolor": "white",
            "linecolor": "white",
            "ticks": ""
           },
           "baxis": {
            "gridcolor": "white",
            "linecolor": "white",
            "ticks": ""
           },
           "bgcolor": "#E5ECF6",
           "caxis": {
            "gridcolor": "white",
            "linecolor": "white",
            "ticks": ""
           }
          },
          "title": {
           "x": 0.05
          },
          "xaxis": {
           "automargin": true,
           "gridcolor": "white",
           "linecolor": "white",
           "ticks": "",
           "title": {
            "standoff": 15
           },
           "zerolinecolor": "white",
           "zerolinewidth": 2
          },
          "yaxis": {
           "automargin": true,
           "gridcolor": "white",
           "linecolor": "white",
           "ticks": "",
           "title": {
            "standoff": 15
           },
           "zerolinecolor": "white",
           "zerolinewidth": 2
          }
         }
        },
        "title": {
         "font": {
          "color": "#4D5663"
         }
        },
        "xaxis": {
         "gridcolor": "#E1E5ED",
         "showgrid": true,
         "tickfont": {
          "color": "#4D5663"
         },
         "title": {
          "font": {
           "color": "#4D5663"
          },
          "text": ""
         },
         "zerolinecolor": "#E1E5ED"
        },
        "yaxis": {
         "gridcolor": "#E1E5ED",
         "showgrid": true,
         "tickfont": {
          "color": "#4D5663"
         },
         "title": {
          "font": {
           "color": "#4D5663"
          },
          "text": ""
         },
         "zerolinecolor": "#E1E5ED"
        }
       }
      },
      "text/html": [
       "<div>                            <div id=\"e4a7767e-0d78-4781-a0ef-520faa88c577\" class=\"plotly-graph-div\" style=\"height:525px; width:100%;\"></div>            <script type=\"text/javascript\">                require([\"plotly\"], function(Plotly) {                    window.PLOTLYENV=window.PLOTLYENV || {};\n",
       "                    window.PLOTLYENV.BASE_URL='https://plot.ly';                                    if (document.getElementById(\"e4a7767e-0d78-4781-a0ef-520faa88c577\")) {                    Plotly.newPlot(                        \"e4a7767e-0d78-4781-a0ef-520faa88c577\",                        [{\"histfunc\":\"count\",\"histnorm\":\"\",\"marker\":{\"color\":\"rgba(255, 153, 51, 1.0)\",\"line\":{\"color\":\"#4D5663\",\"width\":1.3}},\"name\":\"A\",\"nbinsx\":25,\"opacity\":0.8,\"orientation\":\"v\",\"x\":[1.9785474803328607,1.0092268487548832,-1.225013157557364,-1.7571929080727824,-0.3510321902033087,1.4100616476100398,-0.7107709961502106,-0.23874519373105246,1.2373841410062967,0.8323615939275861,-0.9041212935899998,1.0134132263520905,-0.48501594051186303,0.10711805122591342,1.053211572931562,1.8747476432241057,-1.6935363858985157,-0.2608680773992978,1.6883554154984184,0.7485058415919015,0.9786366361762188,-0.3085510438136002,-0.9304657253362264,0.6037118838048389,0.6245447736656713,1.2385002099949525,-0.7097874554477298,0.5823549670983328,-0.35803780976590854,1.5491322960816853,1.53807985352257,2.404581495249531,-0.9652410635551554,-0.47589035741556557,1.6683681176793281,-0.8476670562828995,-0.6211176310350959,-0.652231375444704,0.9359531059469797,-1.6020033412254073,0.31985344042035896,0.46587917758063924,-0.16268949490112863,-0.46277578442258077,0.058282399822782646,0.46307447698305676,0.3224978075603298,0.11526650280798287,-0.7692957618827033,-0.35826300853537124,-2.641779265896877,1.7247231795571583,0.3673705260306855,0.09276272084379551,-0.18472477320008263,-1.6970613031028194,0.1843645004161003,0.5921046508039165,0.784867163116174,0.035674674097062015,-1.0077029572479506,0.7461447282062237,-0.5868772103780041,-0.568107392843018,0.12065140233307468,-0.8069255129179801,-1.8704940936796401,-0.7404711419618509,-0.5983897510208666,1.7050616932429972,-0.9258406850844257,-0.22291973386169947,0.38082614288418576,-0.2256843255911952,-0.6287074591394933,2.394235061047817,0.668169433872653,0.9968613105270926,-1.032969040321864,2.164652725086726,0.15323306330310169,-0.5445996973395306,-0.4038606332641512,0.8909069835088288,0.197832202834394,-0.20753647433224323,-1.696035375361601,2.915074338040306,1.4848354580604801,0.4129310916479309,-0.5841717881041785,1.1138237134791464,-0.6351696242421287,-0.4751255037732066,-0.23049971038152886,0.07740486985743174,0.3266324105276788,-0.18148747202789775,0.18998088567144913,-0.18618896527839632],\"type\":\"histogram\"}],                        {\"barmode\":\"overlay\",\"legend\":{\"bgcolor\":\"#F5F6F9\",\"font\":{\"color\":\"#4D5663\"}},\"paper_bgcolor\":\"#F5F6F9\",\"plot_bgcolor\":\"#F5F6F9\",\"template\":{\"data\":{\"barpolar\":[{\"marker\":{\"line\":{\"color\":\"#E5ECF6\",\"width\":0.5},\"pattern\":{\"fillmode\":\"overlay\",\"size\":10,\"solidity\":0.2}},\"type\":\"barpolar\"}],\"bar\":[{\"error_x\":{\"color\":\"#2a3f5f\"},\"error_y\":{\"color\":\"#2a3f5f\"},\"marker\":{\"line\":{\"color\":\"#E5ECF6\",\"width\":0.5},\"pattern\":{\"fillmode\":\"overlay\",\"size\":10,\"solidity\":0.2}},\"type\":\"bar\"}],\"carpet\":[{\"aaxis\":{\"endlinecolor\":\"#2a3f5f\",\"gridcolor\":\"white\",\"linecolor\":\"white\",\"minorgridcolor\":\"white\",\"startlinecolor\":\"#2a3f5f\"},\"baxis\":{\"endlinecolor\":\"#2a3f5f\",\"gridcolor\":\"white\",\"linecolor\":\"white\",\"minorgridcolor\":\"white\",\"startlinecolor\":\"#2a3f5f\"},\"type\":\"carpet\"}],\"choropleth\":[{\"colorbar\":{\"outlinewidth\":0,\"ticks\":\"\"},\"type\":\"choropleth\"}],\"contourcarpet\":[{\"colorbar\":{\"outlinewidth\":0,\"ticks\":\"\"},\"type\":\"contourcarpet\"}],\"contour\":[{\"colorbar\":{\"outlinewidth\":0,\"ticks\":\"\"},\"colorscale\":[[0.0,\"#0d0887\"],[0.1111111111111111,\"#46039f\"],[0.2222222222222222,\"#7201a8\"],[0.3333333333333333,\"#9c179e\"],[0.4444444444444444,\"#bd3786\"],[0.5555555555555556,\"#d8576b\"],[0.6666666666666666,\"#ed7953\"],[0.7777777777777778,\"#fb9f3a\"],[0.8888888888888888,\"#fdca26\"],[1.0,\"#f0f921\"]],\"type\":\"contour\"}],\"heatmapgl\":[{\"colorbar\":{\"outlinewidth\":0,\"ticks\":\"\"},\"colorscale\":[[0.0,\"#0d0887\"],[0.1111111111111111,\"#46039f\"],[0.2222222222222222,\"#7201a8\"],[0.3333333333333333,\"#9c179e\"],[0.4444444444444444,\"#bd3786\"],[0.5555555555555556,\"#d8576b\"],[0.6666666666666666,\"#ed7953\"],[0.7777777777777778,\"#fb9f3a\"],[0.8888888888888888,\"#fdca26\"],[1.0,\"#f0f921\"]],\"type\":\"heatmapgl\"}],\"heatmap\":[{\"colorbar\":{\"outlinewidth\":0,\"ticks\":\"\"},\"colorscale\":[[0.0,\"#0d0887\"],[0.1111111111111111,\"#46039f\"],[0.2222222222222222,\"#7201a8\"],[0.3333333333333333,\"#9c179e\"],[0.4444444444444444,\"#bd3786\"],[0.5555555555555556,\"#d8576b\"],[0.6666666666666666,\"#ed7953\"],[0.7777777777777778,\"#fb9f3a\"],[0.8888888888888888,\"#fdca26\"],[1.0,\"#f0f921\"]],\"type\":\"heatmap\"}],\"histogram2dcontour\":[{\"colorbar\":{\"outlinewidth\":0,\"ticks\":\"\"},\"colorscale\":[[0.0,\"#0d0887\"],[0.1111111111111111,\"#46039f\"],[0.2222222222222222,\"#7201a8\"],[0.3333333333333333,\"#9c179e\"],[0.4444444444444444,\"#bd3786\"],[0.5555555555555556,\"#d8576b\"],[0.6666666666666666,\"#ed7953\"],[0.7777777777777778,\"#fb9f3a\"],[0.8888888888888888,\"#fdca26\"],[1.0,\"#f0f921\"]],\"type\":\"histogram2dcontour\"}],\"histogram2d\":[{\"colorbar\":{\"outlinewidth\":0,\"ticks\":\"\"},\"colorscale\":[[0.0,\"#0d0887\"],[0.1111111111111111,\"#46039f\"],[0.2222222222222222,\"#7201a8\"],[0.3333333333333333,\"#9c179e\"],[0.4444444444444444,\"#bd3786\"],[0.5555555555555556,\"#d8576b\"],[0.6666666666666666,\"#ed7953\"],[0.7777777777777778,\"#fb9f3a\"],[0.8888888888888888,\"#fdca26\"],[1.0,\"#f0f921\"]],\"type\":\"histogram2d\"}],\"histogram\":[{\"marker\":{\"pattern\":{\"fillmode\":\"overlay\",\"size\":10,\"solidity\":0.2}},\"type\":\"histogram\"}],\"mesh3d\":[{\"colorbar\":{\"outlinewidth\":0,\"ticks\":\"\"},\"type\":\"mesh3d\"}],\"parcoords\":[{\"line\":{\"colorbar\":{\"outlinewidth\":0,\"ticks\":\"\"}},\"type\":\"parcoords\"}],\"pie\":[{\"automargin\":true,\"type\":\"pie\"}],\"scatter3d\":[{\"line\":{\"colorbar\":{\"outlinewidth\":0,\"ticks\":\"\"}},\"marker\":{\"colorbar\":{\"outlinewidth\":0,\"ticks\":\"\"}},\"type\":\"scatter3d\"}],\"scattercarpet\":[{\"marker\":{\"colorbar\":{\"outlinewidth\":0,\"ticks\":\"\"}},\"type\":\"scattercarpet\"}],\"scattergeo\":[{\"marker\":{\"colorbar\":{\"outlinewidth\":0,\"ticks\":\"\"}},\"type\":\"scattergeo\"}],\"scattergl\":[{\"marker\":{\"colorbar\":{\"outlinewidth\":0,\"ticks\":\"\"}},\"type\":\"scattergl\"}],\"scattermapbox\":[{\"marker\":{\"colorbar\":{\"outlinewidth\":0,\"ticks\":\"\"}},\"type\":\"scattermapbox\"}],\"scatterpolargl\":[{\"marker\":{\"colorbar\":{\"outlinewidth\":0,\"ticks\":\"\"}},\"type\":\"scatterpolargl\"}],\"scatterpolar\":[{\"marker\":{\"colorbar\":{\"outlinewidth\":0,\"ticks\":\"\"}},\"type\":\"scatterpolar\"}],\"scatter\":[{\"fillpattern\":{\"fillmode\":\"overlay\",\"size\":10,\"solidity\":0.2},\"type\":\"scatter\"}],\"scatterternary\":[{\"marker\":{\"colorbar\":{\"outlinewidth\":0,\"ticks\":\"\"}},\"type\":\"scatterternary\"}],\"surface\":[{\"colorbar\":{\"outlinewidth\":0,\"ticks\":\"\"},\"colorscale\":[[0.0,\"#0d0887\"],[0.1111111111111111,\"#46039f\"],[0.2222222222222222,\"#7201a8\"],[0.3333333333333333,\"#9c179e\"],[0.4444444444444444,\"#bd3786\"],[0.5555555555555556,\"#d8576b\"],[0.6666666666666666,\"#ed7953\"],[0.7777777777777778,\"#fb9f3a\"],[0.8888888888888888,\"#fdca26\"],[1.0,\"#f0f921\"]],\"type\":\"surface\"}],\"table\":[{\"cells\":{\"fill\":{\"color\":\"#EBF0F8\"},\"line\":{\"color\":\"white\"}},\"header\":{\"fill\":{\"color\":\"#C8D4E3\"},\"line\":{\"color\":\"white\"}},\"type\":\"table\"}]},\"layout\":{\"annotationdefaults\":{\"arrowcolor\":\"#2a3f5f\",\"arrowhead\":0,\"arrowwidth\":1},\"autotypenumbers\":\"strict\",\"coloraxis\":{\"colorbar\":{\"outlinewidth\":0,\"ticks\":\"\"}},\"colorscale\":{\"diverging\":[[0,\"#8e0152\"],[0.1,\"#c51b7d\"],[0.2,\"#de77ae\"],[0.3,\"#f1b6da\"],[0.4,\"#fde0ef\"],[0.5,\"#f7f7f7\"],[0.6,\"#e6f5d0\"],[0.7,\"#b8e186\"],[0.8,\"#7fbc41\"],[0.9,\"#4d9221\"],[1,\"#276419\"]],\"sequential\":[[0.0,\"#0d0887\"],[0.1111111111111111,\"#46039f\"],[0.2222222222222222,\"#7201a8\"],[0.3333333333333333,\"#9c179e\"],[0.4444444444444444,\"#bd3786\"],[0.5555555555555556,\"#d8576b\"],[0.6666666666666666,\"#ed7953\"],[0.7777777777777778,\"#fb9f3a\"],[0.8888888888888888,\"#fdca26\"],[1.0,\"#f0f921\"]],\"sequentialminus\":[[0.0,\"#0d0887\"],[0.1111111111111111,\"#46039f\"],[0.2222222222222222,\"#7201a8\"],[0.3333333333333333,\"#9c179e\"],[0.4444444444444444,\"#bd3786\"],[0.5555555555555556,\"#d8576b\"],[0.6666666666666666,\"#ed7953\"],[0.7777777777777778,\"#fb9f3a\"],[0.8888888888888888,\"#fdca26\"],[1.0,\"#f0f921\"]]},\"colorway\":[\"#636efa\",\"#EF553B\",\"#00cc96\",\"#ab63fa\",\"#FFA15A\",\"#19d3f3\",\"#FF6692\",\"#B6E880\",\"#FF97FF\",\"#FECB52\"],\"font\":{\"color\":\"#2a3f5f\"},\"geo\":{\"bgcolor\":\"white\",\"lakecolor\":\"white\",\"landcolor\":\"#E5ECF6\",\"showlakes\":true,\"showland\":true,\"subunitcolor\":\"white\"},\"hoverlabel\":{\"align\":\"left\"},\"hovermode\":\"closest\",\"mapbox\":{\"style\":\"light\"},\"paper_bgcolor\":\"white\",\"plot_bgcolor\":\"#E5ECF6\",\"polar\":{\"angularaxis\":{\"gridcolor\":\"white\",\"linecolor\":\"white\",\"ticks\":\"\"},\"bgcolor\":\"#E5ECF6\",\"radialaxis\":{\"gridcolor\":\"white\",\"linecolor\":\"white\",\"ticks\":\"\"}},\"scene\":{\"xaxis\":{\"backgroundcolor\":\"#E5ECF6\",\"gridcolor\":\"white\",\"gridwidth\":2,\"linecolor\":\"white\",\"showbackground\":true,\"ticks\":\"\",\"zerolinecolor\":\"white\"},\"yaxis\":{\"backgroundcolor\":\"#E5ECF6\",\"gridcolor\":\"white\",\"gridwidth\":2,\"linecolor\":\"white\",\"showbackground\":true,\"ticks\":\"\",\"zerolinecolor\":\"white\"},\"zaxis\":{\"backgroundcolor\":\"#E5ECF6\",\"gridcolor\":\"white\",\"gridwidth\":2,\"linecolor\":\"white\",\"showbackground\":true,\"ticks\":\"\",\"zerolinecolor\":\"white\"}},\"shapedefaults\":{\"line\":{\"color\":\"#2a3f5f\"}},\"ternary\":{\"aaxis\":{\"gridcolor\":\"white\",\"linecolor\":\"white\",\"ticks\":\"\"},\"baxis\":{\"gridcolor\":\"white\",\"linecolor\":\"white\",\"ticks\":\"\"},\"bgcolor\":\"#E5ECF6\",\"caxis\":{\"gridcolor\":\"white\",\"linecolor\":\"white\",\"ticks\":\"\"}},\"title\":{\"x\":0.05},\"xaxis\":{\"automargin\":true,\"gridcolor\":\"white\",\"linecolor\":\"white\",\"ticks\":\"\",\"title\":{\"standoff\":15},\"zerolinecolor\":\"white\",\"zerolinewidth\":2},\"yaxis\":{\"automargin\":true,\"gridcolor\":\"white\",\"linecolor\":\"white\",\"ticks\":\"\",\"title\":{\"standoff\":15},\"zerolinecolor\":\"white\",\"zerolinewidth\":2}}},\"title\":{\"font\":{\"color\":\"#4D5663\"}},\"xaxis\":{\"gridcolor\":\"#E1E5ED\",\"showgrid\":true,\"tickfont\":{\"color\":\"#4D5663\"},\"title\":{\"font\":{\"color\":\"#4D5663\"},\"text\":\"\"},\"zerolinecolor\":\"#E1E5ED\"},\"yaxis\":{\"gridcolor\":\"#E1E5ED\",\"showgrid\":true,\"tickfont\":{\"color\":\"#4D5663\"},\"title\":{\"font\":{\"color\":\"#4D5663\"},\"text\":\"\"},\"zerolinecolor\":\"#E1E5ED\"}},                        {\"showLink\": true, \"linkText\": \"Export to plot.ly\", \"plotlyServerURL\": \"https://plot.ly\", \"responsive\": true}                    ).then(function(){\n",
       "                            \n",
       "var gd = document.getElementById('e4a7767e-0d78-4781-a0ef-520faa88c577');\n",
       "var x = new MutationObserver(function (mutations, observer) {{\n",
       "        var display = window.getComputedStyle(gd).display;\n",
       "        if (!display || display === 'none') {{\n",
       "            console.log([gd, 'removed!']);\n",
       "            Plotly.purge(gd);\n",
       "            observer.disconnect();\n",
       "        }}\n",
       "}});\n",
       "\n",
       "// Listen for the removal of the full notebook cells\n",
       "var notebookContainer = gd.closest('#notebook-container');\n",
       "if (notebookContainer) {{\n",
       "    x.observe(notebookContainer, {childList: true});\n",
       "}}\n",
       "\n",
       "// Listen for the clearing of the current output cell\n",
       "var outputEl = gd.closest('.output');\n",
       "if (outputEl) {{\n",
       "    x.observe(outputEl, {childList: true});\n",
       "}}\n",
       "\n",
       "                        })                };                });            </script>        </div>"
      ]
     },
     "metadata": {},
     "output_type": "display_data"
    }
   ],
   "source": [
    "df['A'].iplot(kind='hist',bins=25)"
   ]
  },
  {
   "cell_type": "code",
   "execution_count": 31,
   "metadata": {},
   "outputs": [
    {
     "data": {
      "application/vnd.plotly.v1+json": {
       "config": {
        "linkText": "Export to plot.ly",
        "plotlyServerURL": "https://plot.ly",
        "showLink": true
       },
       "data": [
        {
         "marker": {
          "color": [
           "rgb(255, 153, 51)",
           "rgb(55, 128, 191)",
           "rgb(50, 171, 96)",
           "rgb(128, 0, 128)",
           "rgb(219, 64, 82)",
           "rgb(0, 128, 128)",
           "rgb(255, 255, 51)",
           "rgb(128, 128, 0)",
           "rgb(251, 128, 114)",
           "rgb(128, 177, 211)"
          ],
          "line": {
           "width": 1.3
          },
          "size": [
           70,
           43,
           65,
           51,
           68,
           66,
           59,
           53,
           84,
           74,
           75,
           93,
           80,
           101,
           83,
           91,
           71,
           86,
           75,
           83,
           63,
           76,
           52,
           85,
           82,
           51,
           63,
           38,
           81,
           67,
           44,
           46,
           29,
           59,
           63,
           45,
           83,
           12,
           68,
           12,
           76,
           71,
           46,
           66,
           71,
           46,
           84,
           53,
           17,
           67,
           84,
           57,
           70,
           59,
           93,
           61,
           71,
           77,
           101,
           74,
           44,
           49,
           51,
           61,
           48,
           100,
           56,
           51,
           90,
           59,
           90,
           57,
           64,
           60,
           19,
           63,
           94,
           50,
           36,
           75,
           111,
           80,
           60,
           57,
           54,
           81,
           88,
           86,
           49,
           72,
           54,
           63,
           112,
           55,
           110,
           39,
           74,
           56,
           65,
           82
          ],
          "symbol": "circle"
         },
         "mode": "markers",
         "text": "",
         "type": "scatter",
         "x": [
          1.9785474803328607,
          1.0092268487548832,
          -1.225013157557364,
          -1.7571929080727824,
          -0.3510321902033087,
          1.4100616476100398,
          -0.7107709961502106,
          -0.23874519373105246,
          1.2373841410062967,
          0.8323615939275861,
          -0.9041212935899998,
          1.0134132263520905,
          -0.48501594051186303,
          0.10711805122591342,
          1.053211572931562,
          1.8747476432241057,
          -1.6935363858985157,
          -0.2608680773992978,
          1.6883554154984184,
          0.7485058415919015,
          0.9786366361762188,
          -0.3085510438136002,
          -0.9304657253362264,
          0.6037118838048389,
          0.6245447736656713,
          1.2385002099949525,
          -0.7097874554477298,
          0.5823549670983328,
          -0.35803780976590854,
          1.5491322960816853,
          1.53807985352257,
          2.404581495249531,
          -0.9652410635551554,
          -0.47589035741556557,
          1.6683681176793281,
          -0.8476670562828995,
          -0.6211176310350959,
          -0.652231375444704,
          0.9359531059469797,
          -1.6020033412254073,
          0.31985344042035896,
          0.46587917758063924,
          -0.16268949490112863,
          -0.46277578442258077,
          0.058282399822782646,
          0.46307447698305676,
          0.3224978075603298,
          0.11526650280798287,
          -0.7692957618827033,
          -0.35826300853537124,
          -2.641779265896877,
          1.7247231795571583,
          0.3673705260306855,
          0.09276272084379551,
          -0.18472477320008263,
          -1.6970613031028194,
          0.1843645004161003,
          0.5921046508039165,
          0.784867163116174,
          0.035674674097062015,
          -1.0077029572479506,
          0.7461447282062237,
          -0.5868772103780041,
          -0.568107392843018,
          0.12065140233307468,
          -0.8069255129179801,
          -1.8704940936796401,
          -0.7404711419618509,
          -0.5983897510208666,
          1.7050616932429972,
          -0.9258406850844257,
          -0.22291973386169947,
          0.38082614288418576,
          -0.2256843255911952,
          -0.6287074591394933,
          2.394235061047817,
          0.668169433872653,
          0.9968613105270926,
          -1.032969040321864,
          2.164652725086726,
          0.15323306330310169,
          -0.5445996973395306,
          -0.4038606332641512,
          0.8909069835088288,
          0.197832202834394,
          -0.20753647433224323,
          -1.696035375361601,
          2.915074338040306,
          1.4848354580604801,
          0.4129310916479309,
          -0.5841717881041785,
          1.1138237134791464,
          -0.6351696242421287,
          -0.4751255037732066,
          -0.23049971038152886,
          0.07740486985743174,
          0.3266324105276788,
          -0.18148747202789775,
          0.18998088567144913,
          -0.18618896527839632
         ],
         "y": [
          -1.5702617948214266,
          0.12942604733102087,
          -1.2169678178307737,
          -1.2778014589549243,
          1.8237927091633785,
          0.0983300722187688,
          -1.4867525497879113,
          0.25751460492347245,
          -0.8675529082563131,
          1.234516185844747,
          1.2849289284666068,
          -0.02214928596425894,
          1.8045203915299464,
          -0.2717929080799078,
          0.28282897890794684,
          0.4891061282687007,
          0.5443993907148782,
          0.03664611008771916,
          -1.4003908791201083,
          0.48765519178484606,
          0.7410222490313609,
          0.6552416409680061,
          0.7752657653055114,
          0.16471296627787774,
          -0.9082756830220291,
          -0.8942021456626656,
          -0.11711820349957816,
          1.3045192026835244,
          0.47610209947548787,
          -0.893996522001287,
          -1.9640426395138464,
          0.43177799306761144,
          0.2124861930961608,
          -0.26810503189773915,
          -0.2917277248112427,
          1.0600995580385186,
          -0.09616546623536769,
          0.009831686166474143,
          0.12449032978094596,
          1.0276096444007707,
          -1.0254918006858438,
          -0.491665530209502,
          -1.1532845391864175,
          0.7743603622969015,
          0.5015434994983705,
          -2.670307417221883,
          -1.2579742785445271,
          1.4905247530153953,
          -0.40082727355775954,
          0.013203193429966736,
          0.1478919810858192,
          1.8112635179969534,
          -1.5139512301237585,
          1.018692288823052,
          -1.1012653901407132,
          -0.5820767909418454,
          -1.4139610051553735,
          0.01755357736561984,
          0.5146723862357394,
          -0.1209274245317748,
          -0.491205835395233,
          0.0022244209716448093,
          -0.4631825451744534,
          0.907113410788158,
          -2.6207466340129444,
          0.4905596334180495,
          1.2439976629035,
          1.3620583916014237,
          -0.19132402487449365,
          2.2972892403697673,
          -1.1367556296822485,
          0.7947113392733698,
          0.5105297809039376,
          0.9137443265637776,
          0.9924360158790626,
          0.9138885179435232,
          -0.25964561644063744,
          -1.959604933558067,
          -0.6889732022152018,
          -0.3191836910416321,
          0.07420510684222735,
          -1.9129165314678132,
          0.3526977808732218,
          -1.4994800777658641,
          0.3742016214330207,
          -0.7211513000095967,
          -0.961856771165803,
          0.7952332385174912,
          1.0987584252515978,
          -1.684638463358606,
          -0.13351592575428659,
          0.5041206166281047,
          -0.24754116237098892,
          -2.396950493369511,
          0.3509411161599187,
          -0.14041401285102192,
          0.650789056470859,
          -0.8620434947700216,
          0.11914014339928516,
          -0.6736618243248493
         ]
        }
       ],
       "layout": {
        "legend": {
         "bgcolor": "#F5F6F9",
         "font": {
          "color": "#4D5663"
         }
        },
        "paper_bgcolor": "#F5F6F9",
        "plot_bgcolor": "#F5F6F9",
        "template": {
         "data": {
          "bar": [
           {
            "error_x": {
             "color": "#2a3f5f"
            },
            "error_y": {
             "color": "#2a3f5f"
            },
            "marker": {
             "line": {
              "color": "#E5ECF6",
              "width": 0.5
             },
             "pattern": {
              "fillmode": "overlay",
              "size": 10,
              "solidity": 0.2
             }
            },
            "type": "bar"
           }
          ],
          "barpolar": [
           {
            "marker": {
             "line": {
              "color": "#E5ECF6",
              "width": 0.5
             },
             "pattern": {
              "fillmode": "overlay",
              "size": 10,
              "solidity": 0.2
             }
            },
            "type": "barpolar"
           }
          ],
          "carpet": [
           {
            "aaxis": {
             "endlinecolor": "#2a3f5f",
             "gridcolor": "white",
             "linecolor": "white",
             "minorgridcolor": "white",
             "startlinecolor": "#2a3f5f"
            },
            "baxis": {
             "endlinecolor": "#2a3f5f",
             "gridcolor": "white",
             "linecolor": "white",
             "minorgridcolor": "white",
             "startlinecolor": "#2a3f5f"
            },
            "type": "carpet"
           }
          ],
          "choropleth": [
           {
            "colorbar": {
             "outlinewidth": 0,
             "ticks": ""
            },
            "type": "choropleth"
           }
          ],
          "contour": [
           {
            "colorbar": {
             "outlinewidth": 0,
             "ticks": ""
            },
            "colorscale": [
             [
              0,
              "#0d0887"
             ],
             [
              0.1111111111111111,
              "#46039f"
             ],
             [
              0.2222222222222222,
              "#7201a8"
             ],
             [
              0.3333333333333333,
              "#9c179e"
             ],
             [
              0.4444444444444444,
              "#bd3786"
             ],
             [
              0.5555555555555556,
              "#d8576b"
             ],
             [
              0.6666666666666666,
              "#ed7953"
             ],
             [
              0.7777777777777778,
              "#fb9f3a"
             ],
             [
              0.8888888888888888,
              "#fdca26"
             ],
             [
              1,
              "#f0f921"
             ]
            ],
            "type": "contour"
           }
          ],
          "contourcarpet": [
           {
            "colorbar": {
             "outlinewidth": 0,
             "ticks": ""
            },
            "type": "contourcarpet"
           }
          ],
          "heatmap": [
           {
            "colorbar": {
             "outlinewidth": 0,
             "ticks": ""
            },
            "colorscale": [
             [
              0,
              "#0d0887"
             ],
             [
              0.1111111111111111,
              "#46039f"
             ],
             [
              0.2222222222222222,
              "#7201a8"
             ],
             [
              0.3333333333333333,
              "#9c179e"
             ],
             [
              0.4444444444444444,
              "#bd3786"
             ],
             [
              0.5555555555555556,
              "#d8576b"
             ],
             [
              0.6666666666666666,
              "#ed7953"
             ],
             [
              0.7777777777777778,
              "#fb9f3a"
             ],
             [
              0.8888888888888888,
              "#fdca26"
             ],
             [
              1,
              "#f0f921"
             ]
            ],
            "type": "heatmap"
           }
          ],
          "heatmapgl": [
           {
            "colorbar": {
             "outlinewidth": 0,
             "ticks": ""
            },
            "colorscale": [
             [
              0,
              "#0d0887"
             ],
             [
              0.1111111111111111,
              "#46039f"
             ],
             [
              0.2222222222222222,
              "#7201a8"
             ],
             [
              0.3333333333333333,
              "#9c179e"
             ],
             [
              0.4444444444444444,
              "#bd3786"
             ],
             [
              0.5555555555555556,
              "#d8576b"
             ],
             [
              0.6666666666666666,
              "#ed7953"
             ],
             [
              0.7777777777777778,
              "#fb9f3a"
             ],
             [
              0.8888888888888888,
              "#fdca26"
             ],
             [
              1,
              "#f0f921"
             ]
            ],
            "type": "heatmapgl"
           }
          ],
          "histogram": [
           {
            "marker": {
             "pattern": {
              "fillmode": "overlay",
              "size": 10,
              "solidity": 0.2
             }
            },
            "type": "histogram"
           }
          ],
          "histogram2d": [
           {
            "colorbar": {
             "outlinewidth": 0,
             "ticks": ""
            },
            "colorscale": [
             [
              0,
              "#0d0887"
             ],
             [
              0.1111111111111111,
              "#46039f"
             ],
             [
              0.2222222222222222,
              "#7201a8"
             ],
             [
              0.3333333333333333,
              "#9c179e"
             ],
             [
              0.4444444444444444,
              "#bd3786"
             ],
             [
              0.5555555555555556,
              "#d8576b"
             ],
             [
              0.6666666666666666,
              "#ed7953"
             ],
             [
              0.7777777777777778,
              "#fb9f3a"
             ],
             [
              0.8888888888888888,
              "#fdca26"
             ],
             [
              1,
              "#f0f921"
             ]
            ],
            "type": "histogram2d"
           }
          ],
          "histogram2dcontour": [
           {
            "colorbar": {
             "outlinewidth": 0,
             "ticks": ""
            },
            "colorscale": [
             [
              0,
              "#0d0887"
             ],
             [
              0.1111111111111111,
              "#46039f"
             ],
             [
              0.2222222222222222,
              "#7201a8"
             ],
             [
              0.3333333333333333,
              "#9c179e"
             ],
             [
              0.4444444444444444,
              "#bd3786"
             ],
             [
              0.5555555555555556,
              "#d8576b"
             ],
             [
              0.6666666666666666,
              "#ed7953"
             ],
             [
              0.7777777777777778,
              "#fb9f3a"
             ],
             [
              0.8888888888888888,
              "#fdca26"
             ],
             [
              1,
              "#f0f921"
             ]
            ],
            "type": "histogram2dcontour"
           }
          ],
          "mesh3d": [
           {
            "colorbar": {
             "outlinewidth": 0,
             "ticks": ""
            },
            "type": "mesh3d"
           }
          ],
          "parcoords": [
           {
            "line": {
             "colorbar": {
              "outlinewidth": 0,
              "ticks": ""
             }
            },
            "type": "parcoords"
           }
          ],
          "pie": [
           {
            "automargin": true,
            "type": "pie"
           }
          ],
          "scatter": [
           {
            "fillpattern": {
             "fillmode": "overlay",
             "size": 10,
             "solidity": 0.2
            },
            "type": "scatter"
           }
          ],
          "scatter3d": [
           {
            "line": {
             "colorbar": {
              "outlinewidth": 0,
              "ticks": ""
             }
            },
            "marker": {
             "colorbar": {
              "outlinewidth": 0,
              "ticks": ""
             }
            },
            "type": "scatter3d"
           }
          ],
          "scattercarpet": [
           {
            "marker": {
             "colorbar": {
              "outlinewidth": 0,
              "ticks": ""
             }
            },
            "type": "scattercarpet"
           }
          ],
          "scattergeo": [
           {
            "marker": {
             "colorbar": {
              "outlinewidth": 0,
              "ticks": ""
             }
            },
            "type": "scattergeo"
           }
          ],
          "scattergl": [
           {
            "marker": {
             "colorbar": {
              "outlinewidth": 0,
              "ticks": ""
             }
            },
            "type": "scattergl"
           }
          ],
          "scattermapbox": [
           {
            "marker": {
             "colorbar": {
              "outlinewidth": 0,
              "ticks": ""
             }
            },
            "type": "scattermapbox"
           }
          ],
          "scatterpolar": [
           {
            "marker": {
             "colorbar": {
              "outlinewidth": 0,
              "ticks": ""
             }
            },
            "type": "scatterpolar"
           }
          ],
          "scatterpolargl": [
           {
            "marker": {
             "colorbar": {
              "outlinewidth": 0,
              "ticks": ""
             }
            },
            "type": "scatterpolargl"
           }
          ],
          "scatterternary": [
           {
            "marker": {
             "colorbar": {
              "outlinewidth": 0,
              "ticks": ""
             }
            },
            "type": "scatterternary"
           }
          ],
          "surface": [
           {
            "colorbar": {
             "outlinewidth": 0,
             "ticks": ""
            },
            "colorscale": [
             [
              0,
              "#0d0887"
             ],
             [
              0.1111111111111111,
              "#46039f"
             ],
             [
              0.2222222222222222,
              "#7201a8"
             ],
             [
              0.3333333333333333,
              "#9c179e"
             ],
             [
              0.4444444444444444,
              "#bd3786"
             ],
             [
              0.5555555555555556,
              "#d8576b"
             ],
             [
              0.6666666666666666,
              "#ed7953"
             ],
             [
              0.7777777777777778,
              "#fb9f3a"
             ],
             [
              0.8888888888888888,
              "#fdca26"
             ],
             [
              1,
              "#f0f921"
             ]
            ],
            "type": "surface"
           }
          ],
          "table": [
           {
            "cells": {
             "fill": {
              "color": "#EBF0F8"
             },
             "line": {
              "color": "white"
             }
            },
            "header": {
             "fill": {
              "color": "#C8D4E3"
             },
             "line": {
              "color": "white"
             }
            },
            "type": "table"
           }
          ]
         },
         "layout": {
          "annotationdefaults": {
           "arrowcolor": "#2a3f5f",
           "arrowhead": 0,
           "arrowwidth": 1
          },
          "autotypenumbers": "strict",
          "coloraxis": {
           "colorbar": {
            "outlinewidth": 0,
            "ticks": ""
           }
          },
          "colorscale": {
           "diverging": [
            [
             0,
             "#8e0152"
            ],
            [
             0.1,
             "#c51b7d"
            ],
            [
             0.2,
             "#de77ae"
            ],
            [
             0.3,
             "#f1b6da"
            ],
            [
             0.4,
             "#fde0ef"
            ],
            [
             0.5,
             "#f7f7f7"
            ],
            [
             0.6,
             "#e6f5d0"
            ],
            [
             0.7,
             "#b8e186"
            ],
            [
             0.8,
             "#7fbc41"
            ],
            [
             0.9,
             "#4d9221"
            ],
            [
             1,
             "#276419"
            ]
           ],
           "sequential": [
            [
             0,
             "#0d0887"
            ],
            [
             0.1111111111111111,
             "#46039f"
            ],
            [
             0.2222222222222222,
             "#7201a8"
            ],
            [
             0.3333333333333333,
             "#9c179e"
            ],
            [
             0.4444444444444444,
             "#bd3786"
            ],
            [
             0.5555555555555556,
             "#d8576b"
            ],
            [
             0.6666666666666666,
             "#ed7953"
            ],
            [
             0.7777777777777778,
             "#fb9f3a"
            ],
            [
             0.8888888888888888,
             "#fdca26"
            ],
            [
             1,
             "#f0f921"
            ]
           ],
           "sequentialminus": [
            [
             0,
             "#0d0887"
            ],
            [
             0.1111111111111111,
             "#46039f"
            ],
            [
             0.2222222222222222,
             "#7201a8"
            ],
            [
             0.3333333333333333,
             "#9c179e"
            ],
            [
             0.4444444444444444,
             "#bd3786"
            ],
            [
             0.5555555555555556,
             "#d8576b"
            ],
            [
             0.6666666666666666,
             "#ed7953"
            ],
            [
             0.7777777777777778,
             "#fb9f3a"
            ],
            [
             0.8888888888888888,
             "#fdca26"
            ],
            [
             1,
             "#f0f921"
            ]
           ]
          },
          "colorway": [
           "#636efa",
           "#EF553B",
           "#00cc96",
           "#ab63fa",
           "#FFA15A",
           "#19d3f3",
           "#FF6692",
           "#B6E880",
           "#FF97FF",
           "#FECB52"
          ],
          "font": {
           "color": "#2a3f5f"
          },
          "geo": {
           "bgcolor": "white",
           "lakecolor": "white",
           "landcolor": "#E5ECF6",
           "showlakes": true,
           "showland": true,
           "subunitcolor": "white"
          },
          "hoverlabel": {
           "align": "left"
          },
          "hovermode": "closest",
          "mapbox": {
           "style": "light"
          },
          "paper_bgcolor": "white",
          "plot_bgcolor": "#E5ECF6",
          "polar": {
           "angularaxis": {
            "gridcolor": "white",
            "linecolor": "white",
            "ticks": ""
           },
           "bgcolor": "#E5ECF6",
           "radialaxis": {
            "gridcolor": "white",
            "linecolor": "white",
            "ticks": ""
           }
          },
          "scene": {
           "xaxis": {
            "backgroundcolor": "#E5ECF6",
            "gridcolor": "white",
            "gridwidth": 2,
            "linecolor": "white",
            "showbackground": true,
            "ticks": "",
            "zerolinecolor": "white"
           },
           "yaxis": {
            "backgroundcolor": "#E5ECF6",
            "gridcolor": "white",
            "gridwidth": 2,
            "linecolor": "white",
            "showbackground": true,
            "ticks": "",
            "zerolinecolor": "white"
           },
           "zaxis": {
            "backgroundcolor": "#E5ECF6",
            "gridcolor": "white",
            "gridwidth": 2,
            "linecolor": "white",
            "showbackground": true,
            "ticks": "",
            "zerolinecolor": "white"
           }
          },
          "shapedefaults": {
           "line": {
            "color": "#2a3f5f"
           }
          },
          "ternary": {
           "aaxis": {
            "gridcolor": "white",
            "linecolor": "white",
            "ticks": ""
           },
           "baxis": {
            "gridcolor": "white",
            "linecolor": "white",
            "ticks": ""
           },
           "bgcolor": "#E5ECF6",
           "caxis": {
            "gridcolor": "white",
            "linecolor": "white",
            "ticks": ""
           }
          },
          "title": {
           "x": 0.05
          },
          "xaxis": {
           "automargin": true,
           "gridcolor": "white",
           "linecolor": "white",
           "ticks": "",
           "title": {
            "standoff": 15
           },
           "zerolinecolor": "white",
           "zerolinewidth": 2
          },
          "yaxis": {
           "automargin": true,
           "gridcolor": "white",
           "linecolor": "white",
           "ticks": "",
           "title": {
            "standoff": 15
           },
           "zerolinecolor": "white",
           "zerolinewidth": 2
          }
         }
        },
        "title": {
         "font": {
          "color": "#4D5663"
         }
        },
        "xaxis": {
         "gridcolor": "#E1E5ED",
         "showgrid": true,
         "tickfont": {
          "color": "#4D5663"
         },
         "title": {
          "font": {
           "color": "#4D5663"
          },
          "text": ""
         },
         "zerolinecolor": "#E1E5ED"
        },
        "yaxis": {
         "gridcolor": "#E1E5ED",
         "showgrid": true,
         "tickfont": {
          "color": "#4D5663"
         },
         "title": {
          "font": {
           "color": "#4D5663"
          },
          "text": ""
         },
         "zerolinecolor": "#E1E5ED"
        }
       }
      },
      "text/html": [
       "<div>                            <div id=\"473b5839-5221-4060-a970-7af2dacfe96b\" class=\"plotly-graph-div\" style=\"height:525px; width:100%;\"></div>            <script type=\"text/javascript\">                require([\"plotly\"], function(Plotly) {                    window.PLOTLYENV=window.PLOTLYENV || {};\n",
       "                    window.PLOTLYENV.BASE_URL='https://plot.ly';                                    if (document.getElementById(\"473b5839-5221-4060-a970-7af2dacfe96b\")) {                    Plotly.newPlot(                        \"473b5839-5221-4060-a970-7af2dacfe96b\",                        [{\"marker\":{\"color\":[\"rgb(255, 153, 51)\",\"rgb(55, 128, 191)\",\"rgb(50, 171, 96)\",\"rgb(128, 0, 128)\",\"rgb(219, 64, 82)\",\"rgb(0, 128, 128)\",\"rgb(255, 255, 51)\",\"rgb(128, 128, 0)\",\"rgb(251, 128, 114)\",\"rgb(128, 177, 211)\"],\"line\":{\"width\":1.3},\"size\":[70,43,65,51,68,66,59,53,84,74,75,93,80,101,83,91,71,86,75,83,63,76,52,85,82,51,63,38,81,67,44,46,29,59,63,45,83,12,68,12,76,71,46,66,71,46,84,53,17,67,84,57,70,59,93,61,71,77,101,74,44,49,51,61,48,100,56,51,90,59,90,57,64,60,19,63,94,50,36,75,111,80,60,57,54,81,88,86,49,72,54,63,112,55,110,39,74,56,65,82],\"symbol\":\"circle\"},\"mode\":\"markers\",\"text\":\"\",\"x\":[1.9785474803328607,1.0092268487548832,-1.225013157557364,-1.7571929080727824,-0.3510321902033087,1.4100616476100398,-0.7107709961502106,-0.23874519373105246,1.2373841410062967,0.8323615939275861,-0.9041212935899998,1.0134132263520905,-0.48501594051186303,0.10711805122591342,1.053211572931562,1.8747476432241057,-1.6935363858985157,-0.2608680773992978,1.6883554154984184,0.7485058415919015,0.9786366361762188,-0.3085510438136002,-0.9304657253362264,0.6037118838048389,0.6245447736656713,1.2385002099949525,-0.7097874554477298,0.5823549670983328,-0.35803780976590854,1.5491322960816853,1.53807985352257,2.404581495249531,-0.9652410635551554,-0.47589035741556557,1.6683681176793281,-0.8476670562828995,-0.6211176310350959,-0.652231375444704,0.9359531059469797,-1.6020033412254073,0.31985344042035896,0.46587917758063924,-0.16268949490112863,-0.46277578442258077,0.058282399822782646,0.46307447698305676,0.3224978075603298,0.11526650280798287,-0.7692957618827033,-0.35826300853537124,-2.641779265896877,1.7247231795571583,0.3673705260306855,0.09276272084379551,-0.18472477320008263,-1.6970613031028194,0.1843645004161003,0.5921046508039165,0.784867163116174,0.035674674097062015,-1.0077029572479506,0.7461447282062237,-0.5868772103780041,-0.568107392843018,0.12065140233307468,-0.8069255129179801,-1.8704940936796401,-0.7404711419618509,-0.5983897510208666,1.7050616932429972,-0.9258406850844257,-0.22291973386169947,0.38082614288418576,-0.2256843255911952,-0.6287074591394933,2.394235061047817,0.668169433872653,0.9968613105270926,-1.032969040321864,2.164652725086726,0.15323306330310169,-0.5445996973395306,-0.4038606332641512,0.8909069835088288,0.197832202834394,-0.20753647433224323,-1.696035375361601,2.915074338040306,1.4848354580604801,0.4129310916479309,-0.5841717881041785,1.1138237134791464,-0.6351696242421287,-0.4751255037732066,-0.23049971038152886,0.07740486985743174,0.3266324105276788,-0.18148747202789775,0.18998088567144913,-0.18618896527839632],\"y\":[-1.5702617948214266,0.12942604733102087,-1.2169678178307737,-1.2778014589549243,1.8237927091633785,0.0983300722187688,-1.4867525497879113,0.25751460492347245,-0.8675529082563131,1.234516185844747,1.2849289284666068,-0.02214928596425894,1.8045203915299464,-0.2717929080799078,0.28282897890794684,0.4891061282687007,0.5443993907148782,0.03664611008771916,-1.4003908791201083,0.48765519178484606,0.7410222490313609,0.6552416409680061,0.7752657653055114,0.16471296627787774,-0.9082756830220291,-0.8942021456626656,-0.11711820349957816,1.3045192026835244,0.47610209947548787,-0.893996522001287,-1.9640426395138464,0.43177799306761144,0.2124861930961608,-0.26810503189773915,-0.2917277248112427,1.0600995580385186,-0.09616546623536769,0.009831686166474143,0.12449032978094596,1.0276096444007707,-1.0254918006858438,-0.491665530209502,-1.1532845391864175,0.7743603622969015,0.5015434994983705,-2.670307417221883,-1.2579742785445271,1.4905247530153953,-0.40082727355775954,0.013203193429966736,0.1478919810858192,1.8112635179969534,-1.5139512301237585,1.018692288823052,-1.1012653901407132,-0.5820767909418454,-1.4139610051553735,0.01755357736561984,0.5146723862357394,-0.1209274245317748,-0.491205835395233,0.0022244209716448093,-0.4631825451744534,0.907113410788158,-2.6207466340129444,0.4905596334180495,1.2439976629035,1.3620583916014237,-0.19132402487449365,2.2972892403697673,-1.1367556296822485,0.7947113392733698,0.5105297809039376,0.9137443265637776,0.9924360158790626,0.9138885179435232,-0.25964561644063744,-1.959604933558067,-0.6889732022152018,-0.3191836910416321,0.07420510684222735,-1.9129165314678132,0.3526977808732218,-1.4994800777658641,0.3742016214330207,-0.7211513000095967,-0.961856771165803,0.7952332385174912,1.0987584252515978,-1.684638463358606,-0.13351592575428659,0.5041206166281047,-0.24754116237098892,-2.396950493369511,0.3509411161599187,-0.14041401285102192,0.650789056470859,-0.8620434947700216,0.11914014339928516,-0.6736618243248493],\"type\":\"scatter\"}],                        {\"legend\":{\"bgcolor\":\"#F5F6F9\",\"font\":{\"color\":\"#4D5663\"}},\"paper_bgcolor\":\"#F5F6F9\",\"plot_bgcolor\":\"#F5F6F9\",\"template\":{\"data\":{\"barpolar\":[{\"marker\":{\"line\":{\"color\":\"#E5ECF6\",\"width\":0.5},\"pattern\":{\"fillmode\":\"overlay\",\"size\":10,\"solidity\":0.2}},\"type\":\"barpolar\"}],\"bar\":[{\"error_x\":{\"color\":\"#2a3f5f\"},\"error_y\":{\"color\":\"#2a3f5f\"},\"marker\":{\"line\":{\"color\":\"#E5ECF6\",\"width\":0.5},\"pattern\":{\"fillmode\":\"overlay\",\"size\":10,\"solidity\":0.2}},\"type\":\"bar\"}],\"carpet\":[{\"aaxis\":{\"endlinecolor\":\"#2a3f5f\",\"gridcolor\":\"white\",\"linecolor\":\"white\",\"minorgridcolor\":\"white\",\"startlinecolor\":\"#2a3f5f\"},\"baxis\":{\"endlinecolor\":\"#2a3f5f\",\"gridcolor\":\"white\",\"linecolor\":\"white\",\"minorgridcolor\":\"white\",\"startlinecolor\":\"#2a3f5f\"},\"type\":\"carpet\"}],\"choropleth\":[{\"colorbar\":{\"outlinewidth\":0,\"ticks\":\"\"},\"type\":\"choropleth\"}],\"contourcarpet\":[{\"colorbar\":{\"outlinewidth\":0,\"ticks\":\"\"},\"type\":\"contourcarpet\"}],\"contour\":[{\"colorbar\":{\"outlinewidth\":0,\"ticks\":\"\"},\"colorscale\":[[0.0,\"#0d0887\"],[0.1111111111111111,\"#46039f\"],[0.2222222222222222,\"#7201a8\"],[0.3333333333333333,\"#9c179e\"],[0.4444444444444444,\"#bd3786\"],[0.5555555555555556,\"#d8576b\"],[0.6666666666666666,\"#ed7953\"],[0.7777777777777778,\"#fb9f3a\"],[0.8888888888888888,\"#fdca26\"],[1.0,\"#f0f921\"]],\"type\":\"contour\"}],\"heatmapgl\":[{\"colorbar\":{\"outlinewidth\":0,\"ticks\":\"\"},\"colorscale\":[[0.0,\"#0d0887\"],[0.1111111111111111,\"#46039f\"],[0.2222222222222222,\"#7201a8\"],[0.3333333333333333,\"#9c179e\"],[0.4444444444444444,\"#bd3786\"],[0.5555555555555556,\"#d8576b\"],[0.6666666666666666,\"#ed7953\"],[0.7777777777777778,\"#fb9f3a\"],[0.8888888888888888,\"#fdca26\"],[1.0,\"#f0f921\"]],\"type\":\"heatmapgl\"}],\"heatmap\":[{\"colorbar\":{\"outlinewidth\":0,\"ticks\":\"\"},\"colorscale\":[[0.0,\"#0d0887\"],[0.1111111111111111,\"#46039f\"],[0.2222222222222222,\"#7201a8\"],[0.3333333333333333,\"#9c179e\"],[0.4444444444444444,\"#bd3786\"],[0.5555555555555556,\"#d8576b\"],[0.6666666666666666,\"#ed7953\"],[0.7777777777777778,\"#fb9f3a\"],[0.8888888888888888,\"#fdca26\"],[1.0,\"#f0f921\"]],\"type\":\"heatmap\"}],\"histogram2dcontour\":[{\"colorbar\":{\"outlinewidth\":0,\"ticks\":\"\"},\"colorscale\":[[0.0,\"#0d0887\"],[0.1111111111111111,\"#46039f\"],[0.2222222222222222,\"#7201a8\"],[0.3333333333333333,\"#9c179e\"],[0.4444444444444444,\"#bd3786\"],[0.5555555555555556,\"#d8576b\"],[0.6666666666666666,\"#ed7953\"],[0.7777777777777778,\"#fb9f3a\"],[0.8888888888888888,\"#fdca26\"],[1.0,\"#f0f921\"]],\"type\":\"histogram2dcontour\"}],\"histogram2d\":[{\"colorbar\":{\"outlinewidth\":0,\"ticks\":\"\"},\"colorscale\":[[0.0,\"#0d0887\"],[0.1111111111111111,\"#46039f\"],[0.2222222222222222,\"#7201a8\"],[0.3333333333333333,\"#9c179e\"],[0.4444444444444444,\"#bd3786\"],[0.5555555555555556,\"#d8576b\"],[0.6666666666666666,\"#ed7953\"],[0.7777777777777778,\"#fb9f3a\"],[0.8888888888888888,\"#fdca26\"],[1.0,\"#f0f921\"]],\"type\":\"histogram2d\"}],\"histogram\":[{\"marker\":{\"pattern\":{\"fillmode\":\"overlay\",\"size\":10,\"solidity\":0.2}},\"type\":\"histogram\"}],\"mesh3d\":[{\"colorbar\":{\"outlinewidth\":0,\"ticks\":\"\"},\"type\":\"mesh3d\"}],\"parcoords\":[{\"line\":{\"colorbar\":{\"outlinewidth\":0,\"ticks\":\"\"}},\"type\":\"parcoords\"}],\"pie\":[{\"automargin\":true,\"type\":\"pie\"}],\"scatter3d\":[{\"line\":{\"colorbar\":{\"outlinewidth\":0,\"ticks\":\"\"}},\"marker\":{\"colorbar\":{\"outlinewidth\":0,\"ticks\":\"\"}},\"type\":\"scatter3d\"}],\"scattercarpet\":[{\"marker\":{\"colorbar\":{\"outlinewidth\":0,\"ticks\":\"\"}},\"type\":\"scattercarpet\"}],\"scattergeo\":[{\"marker\":{\"colorbar\":{\"outlinewidth\":0,\"ticks\":\"\"}},\"type\":\"scattergeo\"}],\"scattergl\":[{\"marker\":{\"colorbar\":{\"outlinewidth\":0,\"ticks\":\"\"}},\"type\":\"scattergl\"}],\"scattermapbox\":[{\"marker\":{\"colorbar\":{\"outlinewidth\":0,\"ticks\":\"\"}},\"type\":\"scattermapbox\"}],\"scatterpolargl\":[{\"marker\":{\"colorbar\":{\"outlinewidth\":0,\"ticks\":\"\"}},\"type\":\"scatterpolargl\"}],\"scatterpolar\":[{\"marker\":{\"colorbar\":{\"outlinewidth\":0,\"ticks\":\"\"}},\"type\":\"scatterpolar\"}],\"scatter\":[{\"fillpattern\":{\"fillmode\":\"overlay\",\"size\":10,\"solidity\":0.2},\"type\":\"scatter\"}],\"scatterternary\":[{\"marker\":{\"colorbar\":{\"outlinewidth\":0,\"ticks\":\"\"}},\"type\":\"scatterternary\"}],\"surface\":[{\"colorbar\":{\"outlinewidth\":0,\"ticks\":\"\"},\"colorscale\":[[0.0,\"#0d0887\"],[0.1111111111111111,\"#46039f\"],[0.2222222222222222,\"#7201a8\"],[0.3333333333333333,\"#9c179e\"],[0.4444444444444444,\"#bd3786\"],[0.5555555555555556,\"#d8576b\"],[0.6666666666666666,\"#ed7953\"],[0.7777777777777778,\"#fb9f3a\"],[0.8888888888888888,\"#fdca26\"],[1.0,\"#f0f921\"]],\"type\":\"surface\"}],\"table\":[{\"cells\":{\"fill\":{\"color\":\"#EBF0F8\"},\"line\":{\"color\":\"white\"}},\"header\":{\"fill\":{\"color\":\"#C8D4E3\"},\"line\":{\"color\":\"white\"}},\"type\":\"table\"}]},\"layout\":{\"annotationdefaults\":{\"arrowcolor\":\"#2a3f5f\",\"arrowhead\":0,\"arrowwidth\":1},\"autotypenumbers\":\"strict\",\"coloraxis\":{\"colorbar\":{\"outlinewidth\":0,\"ticks\":\"\"}},\"colorscale\":{\"diverging\":[[0,\"#8e0152\"],[0.1,\"#c51b7d\"],[0.2,\"#de77ae\"],[0.3,\"#f1b6da\"],[0.4,\"#fde0ef\"],[0.5,\"#f7f7f7\"],[0.6,\"#e6f5d0\"],[0.7,\"#b8e186\"],[0.8,\"#7fbc41\"],[0.9,\"#4d9221\"],[1,\"#276419\"]],\"sequential\":[[0.0,\"#0d0887\"],[0.1111111111111111,\"#46039f\"],[0.2222222222222222,\"#7201a8\"],[0.3333333333333333,\"#9c179e\"],[0.4444444444444444,\"#bd3786\"],[0.5555555555555556,\"#d8576b\"],[0.6666666666666666,\"#ed7953\"],[0.7777777777777778,\"#fb9f3a\"],[0.8888888888888888,\"#fdca26\"],[1.0,\"#f0f921\"]],\"sequentialminus\":[[0.0,\"#0d0887\"],[0.1111111111111111,\"#46039f\"],[0.2222222222222222,\"#7201a8\"],[0.3333333333333333,\"#9c179e\"],[0.4444444444444444,\"#bd3786\"],[0.5555555555555556,\"#d8576b\"],[0.6666666666666666,\"#ed7953\"],[0.7777777777777778,\"#fb9f3a\"],[0.8888888888888888,\"#fdca26\"],[1.0,\"#f0f921\"]]},\"colorway\":[\"#636efa\",\"#EF553B\",\"#00cc96\",\"#ab63fa\",\"#FFA15A\",\"#19d3f3\",\"#FF6692\",\"#B6E880\",\"#FF97FF\",\"#FECB52\"],\"font\":{\"color\":\"#2a3f5f\"},\"geo\":{\"bgcolor\":\"white\",\"lakecolor\":\"white\",\"landcolor\":\"#E5ECF6\",\"showlakes\":true,\"showland\":true,\"subunitcolor\":\"white\"},\"hoverlabel\":{\"align\":\"left\"},\"hovermode\":\"closest\",\"mapbox\":{\"style\":\"light\"},\"paper_bgcolor\":\"white\",\"plot_bgcolor\":\"#E5ECF6\",\"polar\":{\"angularaxis\":{\"gridcolor\":\"white\",\"linecolor\":\"white\",\"ticks\":\"\"},\"bgcolor\":\"#E5ECF6\",\"radialaxis\":{\"gridcolor\":\"white\",\"linecolor\":\"white\",\"ticks\":\"\"}},\"scene\":{\"xaxis\":{\"backgroundcolor\":\"#E5ECF6\",\"gridcolor\":\"white\",\"gridwidth\":2,\"linecolor\":\"white\",\"showbackground\":true,\"ticks\":\"\",\"zerolinecolor\":\"white\"},\"yaxis\":{\"backgroundcolor\":\"#E5ECF6\",\"gridcolor\":\"white\",\"gridwidth\":2,\"linecolor\":\"white\",\"showbackground\":true,\"ticks\":\"\",\"zerolinecolor\":\"white\"},\"zaxis\":{\"backgroundcolor\":\"#E5ECF6\",\"gridcolor\":\"white\",\"gridwidth\":2,\"linecolor\":\"white\",\"showbackground\":true,\"ticks\":\"\",\"zerolinecolor\":\"white\"}},\"shapedefaults\":{\"line\":{\"color\":\"#2a3f5f\"}},\"ternary\":{\"aaxis\":{\"gridcolor\":\"white\",\"linecolor\":\"white\",\"ticks\":\"\"},\"baxis\":{\"gridcolor\":\"white\",\"linecolor\":\"white\",\"ticks\":\"\"},\"bgcolor\":\"#E5ECF6\",\"caxis\":{\"gridcolor\":\"white\",\"linecolor\":\"white\",\"ticks\":\"\"}},\"title\":{\"x\":0.05},\"xaxis\":{\"automargin\":true,\"gridcolor\":\"white\",\"linecolor\":\"white\",\"ticks\":\"\",\"title\":{\"standoff\":15},\"zerolinecolor\":\"white\",\"zerolinewidth\":2},\"yaxis\":{\"automargin\":true,\"gridcolor\":\"white\",\"linecolor\":\"white\",\"ticks\":\"\",\"title\":{\"standoff\":15},\"zerolinecolor\":\"white\",\"zerolinewidth\":2}}},\"title\":{\"font\":{\"color\":\"#4D5663\"}},\"xaxis\":{\"gridcolor\":\"#E1E5ED\",\"showgrid\":true,\"tickfont\":{\"color\":\"#4D5663\"},\"title\":{\"font\":{\"color\":\"#4D5663\"},\"text\":\"\"},\"zerolinecolor\":\"#E1E5ED\"},\"yaxis\":{\"gridcolor\":\"#E1E5ED\",\"showgrid\":true,\"tickfont\":{\"color\":\"#4D5663\"},\"title\":{\"font\":{\"color\":\"#4D5663\"},\"text\":\"\"},\"zerolinecolor\":\"#E1E5ED\"}},                        {\"showLink\": true, \"linkText\": \"Export to plot.ly\", \"plotlyServerURL\": \"https://plot.ly\", \"responsive\": true}                    ).then(function(){\n",
       "                            \n",
       "var gd = document.getElementById('473b5839-5221-4060-a970-7af2dacfe96b');\n",
       "var x = new MutationObserver(function (mutations, observer) {{\n",
       "        var display = window.getComputedStyle(gd).display;\n",
       "        if (!display || display === 'none') {{\n",
       "            console.log([gd, 'removed!']);\n",
       "            Plotly.purge(gd);\n",
       "            observer.disconnect();\n",
       "        }}\n",
       "}});\n",
       "\n",
       "// Listen for the removal of the full notebook cells\n",
       "var notebookContainer = gd.closest('#notebook-container');\n",
       "if (notebookContainer) {{\n",
       "    x.observe(notebookContainer, {childList: true});\n",
       "}}\n",
       "\n",
       "// Listen for the clearing of the current output cell\n",
       "var outputEl = gd.closest('.output');\n",
       "if (outputEl) {{\n",
       "    x.observe(outputEl, {childList: true});\n",
       "}}\n",
       "\n",
       "                        })                };                });            </script>        </div>"
      ]
     },
     "metadata": {},
     "output_type": "display_data"
    }
   ],
   "source": [
    "df.iplot(kind='bubble',x='A',y='B',size='C')"
   ]
  },
  {
   "cell_type": "markdown",
   "metadata": {},
   "source": [
    "#### scatter_matrix()\n",
    "\n",
    "#Similar to sns.pairplot()"
   ]
  },
  {
   "cell_type": "code",
   "execution_count": 32,
   "metadata": {},
   "outputs": [
    {
     "data": {
      "application/vnd.plotly.v1+json": {
       "config": {
        "linkText": "Export to plot.ly",
        "plotlyServerURL": "https://plot.ly",
        "showLink": true
       },
       "data": [
        {
         "histfunc": "count",
         "histnorm": "",
         "marker": {
          "color": "rgba(255, 153, 51, 1.0)",
          "line": {
           "color": "#4D5663",
           "width": 1.3
          }
         },
         "name": "A",
         "nbinsx": 10,
         "opacity": 0.8,
         "orientation": "v",
         "type": "histogram",
         "x": [
          1.9785474803328607,
          1.0092268487548832,
          -1.225013157557364,
          -1.7571929080727824,
          -0.3510321902033087,
          1.4100616476100398,
          -0.7107709961502106,
          -0.23874519373105246,
          1.2373841410062967,
          0.8323615939275861,
          -0.9041212935899998,
          1.0134132263520905,
          -0.48501594051186303,
          0.10711805122591342,
          1.053211572931562,
          1.8747476432241057,
          -1.6935363858985157,
          -0.2608680773992978,
          1.6883554154984184,
          0.7485058415919015,
          0.9786366361762188,
          -0.3085510438136002,
          -0.9304657253362264,
          0.6037118838048389,
          0.6245447736656713,
          1.2385002099949525,
          -0.7097874554477298,
          0.5823549670983328,
          -0.35803780976590854,
          1.5491322960816853,
          1.53807985352257,
          2.404581495249531,
          -0.9652410635551554,
          -0.47589035741556557,
          1.6683681176793281,
          -0.8476670562828995,
          -0.6211176310350959,
          -0.652231375444704,
          0.9359531059469797,
          -1.6020033412254073,
          0.31985344042035896,
          0.46587917758063924,
          -0.16268949490112863,
          -0.46277578442258077,
          0.058282399822782646,
          0.46307447698305676,
          0.3224978075603298,
          0.11526650280798287,
          -0.7692957618827033,
          -0.35826300853537124,
          -2.641779265896877,
          1.7247231795571583,
          0.3673705260306855,
          0.09276272084379551,
          -0.18472477320008263,
          -1.6970613031028194,
          0.1843645004161003,
          0.5921046508039165,
          0.784867163116174,
          0.035674674097062015,
          -1.0077029572479506,
          0.7461447282062237,
          -0.5868772103780041,
          -0.568107392843018,
          0.12065140233307468,
          -0.8069255129179801,
          -1.8704940936796401,
          -0.7404711419618509,
          -0.5983897510208666,
          1.7050616932429972,
          -0.9258406850844257,
          -0.22291973386169947,
          0.38082614288418576,
          -0.2256843255911952,
          -0.6287074591394933,
          2.394235061047817,
          0.668169433872653,
          0.9968613105270926,
          -1.032969040321864,
          2.164652725086726,
          0.15323306330310169,
          -0.5445996973395306,
          -0.4038606332641512,
          0.8909069835088288,
          0.197832202834394,
          -0.20753647433224323,
          -1.696035375361601,
          2.915074338040306,
          1.4848354580604801,
          0.4129310916479309,
          -0.5841717881041785,
          1.1138237134791464,
          -0.6351696242421287,
          -0.4751255037732066,
          -0.23049971038152886,
          0.07740486985743174,
          0.3266324105276788,
          -0.18148747202789775,
          0.18998088567144913,
          -0.18618896527839632
         ],
         "xaxis": "x",
         "yaxis": "y"
        },
        {
         "line": {
          "color": "rgba(128, 128, 128, 1.0)",
          "dash": "solid",
          "shape": "linear",
          "width": 1.3
         },
         "marker": {
          "size": 2,
          "symbol": "circle"
         },
         "mode": "markers",
         "name": "A",
         "text": "",
         "type": "scatter",
         "x": [
          -1.5702617948214266,
          0.12942604733102087,
          -1.2169678178307737,
          -1.2778014589549243,
          1.8237927091633785,
          0.0983300722187688,
          -1.4867525497879113,
          0.25751460492347245,
          -0.8675529082563131,
          1.234516185844747,
          1.2849289284666068,
          -0.02214928596425894,
          1.8045203915299464,
          -0.2717929080799078,
          0.28282897890794684,
          0.4891061282687007,
          0.5443993907148782,
          0.03664611008771916,
          -1.4003908791201083,
          0.48765519178484606,
          0.7410222490313609,
          0.6552416409680061,
          0.7752657653055114,
          0.16471296627787774,
          -0.9082756830220291,
          -0.8942021456626656,
          -0.11711820349957816,
          1.3045192026835244,
          0.47610209947548787,
          -0.893996522001287,
          -1.9640426395138464,
          0.43177799306761144,
          0.2124861930961608,
          -0.26810503189773915,
          -0.2917277248112427,
          1.0600995580385186,
          -0.09616546623536769,
          0.009831686166474143,
          0.12449032978094596,
          1.0276096444007707,
          -1.0254918006858438,
          -0.491665530209502,
          -1.1532845391864175,
          0.7743603622969015,
          0.5015434994983705,
          -2.670307417221883,
          -1.2579742785445271,
          1.4905247530153953,
          -0.40082727355775954,
          0.013203193429966736,
          0.1478919810858192,
          1.8112635179969534,
          -1.5139512301237585,
          1.018692288823052,
          -1.1012653901407132,
          -0.5820767909418454,
          -1.4139610051553735,
          0.01755357736561984,
          0.5146723862357394,
          -0.1209274245317748,
          -0.491205835395233,
          0.0022244209716448093,
          -0.4631825451744534,
          0.907113410788158,
          -2.6207466340129444,
          0.4905596334180495,
          1.2439976629035,
          1.3620583916014237,
          -0.19132402487449365,
          2.2972892403697673,
          -1.1367556296822485,
          0.7947113392733698,
          0.5105297809039376,
          0.9137443265637776,
          0.9924360158790626,
          0.9138885179435232,
          -0.25964561644063744,
          -1.959604933558067,
          -0.6889732022152018,
          -0.3191836910416321,
          0.07420510684222735,
          -1.9129165314678132,
          0.3526977808732218,
          -1.4994800777658641,
          0.3742016214330207,
          -0.7211513000095967,
          -0.961856771165803,
          0.7952332385174912,
          1.0987584252515978,
          -1.684638463358606,
          -0.13351592575428659,
          0.5041206166281047,
          -0.24754116237098892,
          -2.396950493369511,
          0.3509411161599187,
          -0.14041401285102192,
          0.650789056470859,
          -0.8620434947700216,
          0.11914014339928516,
          -0.6736618243248493
         ],
         "xaxis": "x2",
         "y": [
          1.9785474803328607,
          1.0092268487548832,
          -1.225013157557364,
          -1.7571929080727824,
          -0.3510321902033087,
          1.4100616476100398,
          -0.7107709961502106,
          -0.23874519373105246,
          1.2373841410062967,
          0.8323615939275861,
          -0.9041212935899998,
          1.0134132263520905,
          -0.48501594051186303,
          0.10711805122591342,
          1.053211572931562,
          1.8747476432241057,
          -1.6935363858985157,
          -0.2608680773992978,
          1.6883554154984184,
          0.7485058415919015,
          0.9786366361762188,
          -0.3085510438136002,
          -0.9304657253362264,
          0.6037118838048389,
          0.6245447736656713,
          1.2385002099949525,
          -0.7097874554477298,
          0.5823549670983328,
          -0.35803780976590854,
          1.5491322960816853,
          1.53807985352257,
          2.404581495249531,
          -0.9652410635551554,
          -0.47589035741556557,
          1.6683681176793281,
          -0.8476670562828995,
          -0.6211176310350959,
          -0.652231375444704,
          0.9359531059469797,
          -1.6020033412254073,
          0.31985344042035896,
          0.46587917758063924,
          -0.16268949490112863,
          -0.46277578442258077,
          0.058282399822782646,
          0.46307447698305676,
          0.3224978075603298,
          0.11526650280798287,
          -0.7692957618827033,
          -0.35826300853537124,
          -2.641779265896877,
          1.7247231795571583,
          0.3673705260306855,
          0.09276272084379551,
          -0.18472477320008263,
          -1.6970613031028194,
          0.1843645004161003,
          0.5921046508039165,
          0.784867163116174,
          0.035674674097062015,
          -1.0077029572479506,
          0.7461447282062237,
          -0.5868772103780041,
          -0.568107392843018,
          0.12065140233307468,
          -0.8069255129179801,
          -1.8704940936796401,
          -0.7404711419618509,
          -0.5983897510208666,
          1.7050616932429972,
          -0.9258406850844257,
          -0.22291973386169947,
          0.38082614288418576,
          -0.2256843255911952,
          -0.6287074591394933,
          2.394235061047817,
          0.668169433872653,
          0.9968613105270926,
          -1.032969040321864,
          2.164652725086726,
          0.15323306330310169,
          -0.5445996973395306,
          -0.4038606332641512,
          0.8909069835088288,
          0.197832202834394,
          -0.20753647433224323,
          -1.696035375361601,
          2.915074338040306,
          1.4848354580604801,
          0.4129310916479309,
          -0.5841717881041785,
          1.1138237134791464,
          -0.6351696242421287,
          -0.4751255037732066,
          -0.23049971038152886,
          0.07740486985743174,
          0.3266324105276788,
          -0.18148747202789775,
          0.18998088567144913,
          -0.18618896527839632
         ],
         "yaxis": "y2"
        },
        {
         "line": {
          "color": "rgba(128, 128, 128, 1.0)",
          "dash": "solid",
          "shape": "linear",
          "width": 1.3
         },
         "marker": {
          "size": 2,
          "symbol": "circle"
         },
         "mode": "markers",
         "name": "A",
         "text": "",
         "type": "scatter",
         "x": [
          0.18856495400514253,
          -0.9578421507991861,
          -0.02036781403333026,
          -0.6069914307030784,
          0.09842160312153832,
          0.030535455561639075,
          -0.26450887295955683,
          -0.5311236196165268,
          0.787187627995759,
          0.3825374824741036,
          0.3889539683709063,
          1.1754927631211232,
          0.6040510045091236,
          1.5036900403980762,
          0.7494611569341438,
          1.0786862363974168,
          0.2556556398148715,
          0.8597672181574428,
          0.4030471720466067,
          0.7394252420005483,
          -0.08778330501298419,
          0.43605578439404,
          -0.5750782287709368,
          0.8531061941031274,
          0.7081431179498274,
          -0.6217453362157765,
          -0.11632079281110175,
          -1.1685313930801433,
          0.6628124534801917,
          0.061300188460506284,
          -0.9118611240050505,
          -0.827729334487359,
          -1.5656357393727327,
          -0.25695057062235693,
          -0.12035817279673999,
          -0.8620240114053124,
          0.7329520324375339,
          -2.295604382007167,
          0.11261436495166273,
          -2.310490122285268,
          0.4704543688232888,
          0.23859731345603535,
          -0.8398572439208553,
          0.009554086999037415,
          0.24997065650679567,
          -0.8390718789643391,
          0.7942626667524763,
          -0.5522439617837457,
          -2.0886239043009898,
          0.05492800964056952,
          0.8019591313244562,
          -0.3538454647640866,
          0.21339579379845683,
          -0.2926505183721297,
          1.1860418422261745,
          -0.20119829797773575,
          0.22828519503252298,
          0.4966301806568243,
          1.5338652444000096,
          0.3870831517537001,
          -0.9028593738996418,
          -0.7160605473491861,
          -0.6352347594642135,
          -0.19744951889144655,
          -0.7587475103425411,
          1.472683971291497,
          -0.4214928231394391,
          -0.614558873488455,
          1.0487773353585246,
          -0.27531683057699535,
          1.0339774220499915,
          -0.36554490988557403,
          -0.04159254060417178,
          -0.24629703385239454,
          -1.9836825726651135,
          -0.09095340148596404,
          1.22427216992178,
          -0.6759742004052892,
          -1.2447323344608514,
          0.4198610975109645,
          1.9617588024633907,
          0.6278559955345764,
          -0.23641077800572932,
          -0.3740505001472074,
          -0.48720868479607976,
          0.6632974460099765,
          0.9628054495678843,
          0.8615346474883159,
          -0.717307106393296,
          0.2866210796136707,
          -0.5015448456231866,
          -0.09872602755137291,
          1.9717972540520265,
          -0.4586715354974484,
          1.9051295985297643,
          -1.13066958951519,
          0.3494699410249197,
          -0.4253507507808615,
          -0.026046450191851683,
          0.7203732165564561
         ],
         "xaxis": "x3",
         "y": [
          1.9785474803328607,
          1.0092268487548832,
          -1.225013157557364,
          -1.7571929080727824,
          -0.3510321902033087,
          1.4100616476100398,
          -0.7107709961502106,
          -0.23874519373105246,
          1.2373841410062967,
          0.8323615939275861,
          -0.9041212935899998,
          1.0134132263520905,
          -0.48501594051186303,
          0.10711805122591342,
          1.053211572931562,
          1.8747476432241057,
          -1.6935363858985157,
          -0.2608680773992978,
          1.6883554154984184,
          0.7485058415919015,
          0.9786366361762188,
          -0.3085510438136002,
          -0.9304657253362264,
          0.6037118838048389,
          0.6245447736656713,
          1.2385002099949525,
          -0.7097874554477298,
          0.5823549670983328,
          -0.35803780976590854,
          1.5491322960816853,
          1.53807985352257,
          2.404581495249531,
          -0.9652410635551554,
          -0.47589035741556557,
          1.6683681176793281,
          -0.8476670562828995,
          -0.6211176310350959,
          -0.652231375444704,
          0.9359531059469797,
          -1.6020033412254073,
          0.31985344042035896,
          0.46587917758063924,
          -0.16268949490112863,
          -0.46277578442258077,
          0.058282399822782646,
          0.46307447698305676,
          0.3224978075603298,
          0.11526650280798287,
          -0.7692957618827033,
          -0.35826300853537124,
          -2.641779265896877,
          1.7247231795571583,
          0.3673705260306855,
          0.09276272084379551,
          -0.18472477320008263,
          -1.6970613031028194,
          0.1843645004161003,
          0.5921046508039165,
          0.784867163116174,
          0.035674674097062015,
          -1.0077029572479506,
          0.7461447282062237,
          -0.5868772103780041,
          -0.568107392843018,
          0.12065140233307468,
          -0.8069255129179801,
          -1.8704940936796401,
          -0.7404711419618509,
          -0.5983897510208666,
          1.7050616932429972,
          -0.9258406850844257,
          -0.22291973386169947,
          0.38082614288418576,
          -0.2256843255911952,
          -0.6287074591394933,
          2.394235061047817,
          0.668169433872653,
          0.9968613105270926,
          -1.032969040321864,
          2.164652725086726,
          0.15323306330310169,
          -0.5445996973395306,
          -0.4038606332641512,
          0.8909069835088288,
          0.197832202834394,
          -0.20753647433224323,
          -1.696035375361601,
          2.915074338040306,
          1.4848354580604801,
          0.4129310916479309,
          -0.5841717881041785,
          1.1138237134791464,
          -0.6351696242421287,
          -0.4751255037732066,
          -0.23049971038152886,
          0.07740486985743174,
          0.3266324105276788,
          -0.18148747202789775,
          0.18998088567144913,
          -0.18618896527839632
         ],
         "yaxis": "y3"
        },
        {
         "line": {
          "color": "rgba(128, 128, 128, 1.0)",
          "dash": "solid",
          "shape": "linear",
          "width": 1.3
         },
         "marker": {
          "size": 2,
          "symbol": "circle"
         },
         "mode": "markers",
         "name": "A",
         "text": "",
         "type": "scatter",
         "x": [
          -0.046516906807984405,
          -1.764033904858864,
          1.2668183942763993,
          -1.0569391286084147,
          2.0719559653770467,
          -0.5755666244104721,
          -0.18980515131343048,
          -0.2607888334981154,
          0.12309005617302901,
          -0.9613662117952162,
          1.5594439426864284,
          -1.8056001287358012,
          0.1879022777003043,
          -0.2217419978576319,
          0.3246328437415449,
          1.9755178229918042,
          0.24152757962584273,
          1.3898145877791737,
          1.2858199934281518,
          -1.0539771815964754,
          0.6845038772589357,
          0.8905780603970622,
          0.6179681149817068,
          -0.21667771398662147,
          -0.6544294917494967,
          -0.8241053953579198,
          0.05260367036965441,
          0.31799378080482826,
          -0.7149185034657983,
          1.5172398152417168,
          -0.1761387447391769,
          -0.8515042828854458,
          -0.2958209023070441,
          0.4860297898822799,
          0.1446103302752632,
          -0.8630012960407375,
          -0.3223152116955873,
          1.013796534912856,
          1.8749221024843268,
          1.499963700651641,
          -1.010766440832659,
          1.3505810129289824,
          -2.2944897606251273,
          -0.35098807198386167,
          -0.3938159510420015,
          -1.1162831162773235,
          -0.2169638991094867,
          1.022221243175815,
          -1.5374674990625818,
          -0.8842052195054546,
          -1.3801778920213124,
          0.13176833764317908,
          0.5231622760831692,
          0.389454103963345,
          -0.4892891628743335,
          -0.3238767608634141,
          1.235267384509114,
          2.037906641880036,
          -0.013302238855699424,
          0.8568752212441185,
          -1.0459568341385515,
          0.522595272255502,
          0.9411212627918908,
          0.9199650514655823,
          -1.6191942836966133,
          -1.9586685246353996,
          1.0689312901903878,
          -1.9370383729226333,
          -1.3845933679280464,
          0.3436997547371127,
          0.058998429928741616,
          -2.191214248870023,
          -1.3821718292370635,
          1.7420073630666788,
          -0.337051825314482,
          0.30376723649932824,
          1.14355214682258,
          0.7374262514475121,
          -0.9431323526469871,
          -0.41666514816271005,
          -2.3661258246076695,
          0.2392742275914587,
          -1.564031720401776,
          -1.1628348852453154,
          0.0026442076440966952,
          -0.566262232195784,
          1.244210977162073,
          1.0974247709708622,
          1.3063935899056607,
          0.05651869215108525,
          0.46457112131701583,
          -0.3024349290311257,
          -0.680228301288789,
          0.7198723080305751,
          0.19126542960804854,
          -1.040540519874543,
          -0.40676317848873766,
          -0.8965490783851073,
          0.2218621165162884,
          -0.3335003420186325
         ],
         "xaxis": "x4",
         "y": [
          1.9785474803328607,
          1.0092268487548832,
          -1.225013157557364,
          -1.7571929080727824,
          -0.3510321902033087,
          1.4100616476100398,
          -0.7107709961502106,
          -0.23874519373105246,
          1.2373841410062967,
          0.8323615939275861,
          -0.9041212935899998,
          1.0134132263520905,
          -0.48501594051186303,
          0.10711805122591342,
          1.053211572931562,
          1.8747476432241057,
          -1.6935363858985157,
          -0.2608680773992978,
          1.6883554154984184,
          0.7485058415919015,
          0.9786366361762188,
          -0.3085510438136002,
          -0.9304657253362264,
          0.6037118838048389,
          0.6245447736656713,
          1.2385002099949525,
          -0.7097874554477298,
          0.5823549670983328,
          -0.35803780976590854,
          1.5491322960816853,
          1.53807985352257,
          2.404581495249531,
          -0.9652410635551554,
          -0.47589035741556557,
          1.6683681176793281,
          -0.8476670562828995,
          -0.6211176310350959,
          -0.652231375444704,
          0.9359531059469797,
          -1.6020033412254073,
          0.31985344042035896,
          0.46587917758063924,
          -0.16268949490112863,
          -0.46277578442258077,
          0.058282399822782646,
          0.46307447698305676,
          0.3224978075603298,
          0.11526650280798287,
          -0.7692957618827033,
          -0.35826300853537124,
          -2.641779265896877,
          1.7247231795571583,
          0.3673705260306855,
          0.09276272084379551,
          -0.18472477320008263,
          -1.6970613031028194,
          0.1843645004161003,
          0.5921046508039165,
          0.784867163116174,
          0.035674674097062015,
          -1.0077029572479506,
          0.7461447282062237,
          -0.5868772103780041,
          -0.568107392843018,
          0.12065140233307468,
          -0.8069255129179801,
          -1.8704940936796401,
          -0.7404711419618509,
          -0.5983897510208666,
          1.7050616932429972,
          -0.9258406850844257,
          -0.22291973386169947,
          0.38082614288418576,
          -0.2256843255911952,
          -0.6287074591394933,
          2.394235061047817,
          0.668169433872653,
          0.9968613105270926,
          -1.032969040321864,
          2.164652725086726,
          0.15323306330310169,
          -0.5445996973395306,
          -0.4038606332641512,
          0.8909069835088288,
          0.197832202834394,
          -0.20753647433224323,
          -1.696035375361601,
          2.915074338040306,
          1.4848354580604801,
          0.4129310916479309,
          -0.5841717881041785,
          1.1138237134791464,
          -0.6351696242421287,
          -0.4751255037732066,
          -0.23049971038152886,
          0.07740486985743174,
          0.3266324105276788,
          -0.18148747202789775,
          0.18998088567144913,
          -0.18618896527839632
         ],
         "yaxis": "y4"
        },
        {
         "line": {
          "color": "rgba(128, 128, 128, 1.0)",
          "dash": "solid",
          "shape": "linear",
          "width": 1.3
         },
         "marker": {
          "size": 2,
          "symbol": "circle"
         },
         "mode": "markers",
         "name": "B",
         "text": "",
         "type": "scatter",
         "x": [
          1.9785474803328607,
          1.0092268487548832,
          -1.225013157557364,
          -1.7571929080727824,
          -0.3510321902033087,
          1.4100616476100398,
          -0.7107709961502106,
          -0.23874519373105246,
          1.2373841410062967,
          0.8323615939275861,
          -0.9041212935899998,
          1.0134132263520905,
          -0.48501594051186303,
          0.10711805122591342,
          1.053211572931562,
          1.8747476432241057,
          -1.6935363858985157,
          -0.2608680773992978,
          1.6883554154984184,
          0.7485058415919015,
          0.9786366361762188,
          -0.3085510438136002,
          -0.9304657253362264,
          0.6037118838048389,
          0.6245447736656713,
          1.2385002099949525,
          -0.7097874554477298,
          0.5823549670983328,
          -0.35803780976590854,
          1.5491322960816853,
          1.53807985352257,
          2.404581495249531,
          -0.9652410635551554,
          -0.47589035741556557,
          1.6683681176793281,
          -0.8476670562828995,
          -0.6211176310350959,
          -0.652231375444704,
          0.9359531059469797,
          -1.6020033412254073,
          0.31985344042035896,
          0.46587917758063924,
          -0.16268949490112863,
          -0.46277578442258077,
          0.058282399822782646,
          0.46307447698305676,
          0.3224978075603298,
          0.11526650280798287,
          -0.7692957618827033,
          -0.35826300853537124,
          -2.641779265896877,
          1.7247231795571583,
          0.3673705260306855,
          0.09276272084379551,
          -0.18472477320008263,
          -1.6970613031028194,
          0.1843645004161003,
          0.5921046508039165,
          0.784867163116174,
          0.035674674097062015,
          -1.0077029572479506,
          0.7461447282062237,
          -0.5868772103780041,
          -0.568107392843018,
          0.12065140233307468,
          -0.8069255129179801,
          -1.8704940936796401,
          -0.7404711419618509,
          -0.5983897510208666,
          1.7050616932429972,
          -0.9258406850844257,
          -0.22291973386169947,
          0.38082614288418576,
          -0.2256843255911952,
          -0.6287074591394933,
          2.394235061047817,
          0.668169433872653,
          0.9968613105270926,
          -1.032969040321864,
          2.164652725086726,
          0.15323306330310169,
          -0.5445996973395306,
          -0.4038606332641512,
          0.8909069835088288,
          0.197832202834394,
          -0.20753647433224323,
          -1.696035375361601,
          2.915074338040306,
          1.4848354580604801,
          0.4129310916479309,
          -0.5841717881041785,
          1.1138237134791464,
          -0.6351696242421287,
          -0.4751255037732066,
          -0.23049971038152886,
          0.07740486985743174,
          0.3266324105276788,
          -0.18148747202789775,
          0.18998088567144913,
          -0.18618896527839632
         ],
         "xaxis": "x5",
         "y": [
          -1.5702617948214266,
          0.12942604733102087,
          -1.2169678178307737,
          -1.2778014589549243,
          1.8237927091633785,
          0.0983300722187688,
          -1.4867525497879113,
          0.25751460492347245,
          -0.8675529082563131,
          1.234516185844747,
          1.2849289284666068,
          -0.02214928596425894,
          1.8045203915299464,
          -0.2717929080799078,
          0.28282897890794684,
          0.4891061282687007,
          0.5443993907148782,
          0.03664611008771916,
          -1.4003908791201083,
          0.48765519178484606,
          0.7410222490313609,
          0.6552416409680061,
          0.7752657653055114,
          0.16471296627787774,
          -0.9082756830220291,
          -0.8942021456626656,
          -0.11711820349957816,
          1.3045192026835244,
          0.47610209947548787,
          -0.893996522001287,
          -1.9640426395138464,
          0.43177799306761144,
          0.2124861930961608,
          -0.26810503189773915,
          -0.2917277248112427,
          1.0600995580385186,
          -0.09616546623536769,
          0.009831686166474143,
          0.12449032978094596,
          1.0276096444007707,
          -1.0254918006858438,
          -0.491665530209502,
          -1.1532845391864175,
          0.7743603622969015,
          0.5015434994983705,
          -2.670307417221883,
          -1.2579742785445271,
          1.4905247530153953,
          -0.40082727355775954,
          0.013203193429966736,
          0.1478919810858192,
          1.8112635179969534,
          -1.5139512301237585,
          1.018692288823052,
          -1.1012653901407132,
          -0.5820767909418454,
          -1.4139610051553735,
          0.01755357736561984,
          0.5146723862357394,
          -0.1209274245317748,
          -0.491205835395233,
          0.0022244209716448093,
          -0.4631825451744534,
          0.907113410788158,
          -2.6207466340129444,
          0.4905596334180495,
          1.2439976629035,
          1.3620583916014237,
          -0.19132402487449365,
          2.2972892403697673,
          -1.1367556296822485,
          0.7947113392733698,
          0.5105297809039376,
          0.9137443265637776,
          0.9924360158790626,
          0.9138885179435232,
          -0.25964561644063744,
          -1.959604933558067,
          -0.6889732022152018,
          -0.3191836910416321,
          0.07420510684222735,
          -1.9129165314678132,
          0.3526977808732218,
          -1.4994800777658641,
          0.3742016214330207,
          -0.7211513000095967,
          -0.961856771165803,
          0.7952332385174912,
          1.0987584252515978,
          -1.684638463358606,
          -0.13351592575428659,
          0.5041206166281047,
          -0.24754116237098892,
          -2.396950493369511,
          0.3509411161599187,
          -0.14041401285102192,
          0.650789056470859,
          -0.8620434947700216,
          0.11914014339928516,
          -0.6736618243248493
         ],
         "yaxis": "y5"
        },
        {
         "histfunc": "count",
         "histnorm": "",
         "marker": {
          "color": "rgba(55, 128, 191, 1.0)",
          "line": {
           "color": "#4D5663",
           "width": 1.3
          }
         },
         "name": "B",
         "nbinsx": 10,
         "opacity": 0.8,
         "orientation": "v",
         "type": "histogram",
         "x": [
          -1.5702617948214266,
          0.12942604733102087,
          -1.2169678178307737,
          -1.2778014589549243,
          1.8237927091633785,
          0.0983300722187688,
          -1.4867525497879113,
          0.25751460492347245,
          -0.8675529082563131,
          1.234516185844747,
          1.2849289284666068,
          -0.02214928596425894,
          1.8045203915299464,
          -0.2717929080799078,
          0.28282897890794684,
          0.4891061282687007,
          0.5443993907148782,
          0.03664611008771916,
          -1.4003908791201083,
          0.48765519178484606,
          0.7410222490313609,
          0.6552416409680061,
          0.7752657653055114,
          0.16471296627787774,
          -0.9082756830220291,
          -0.8942021456626656,
          -0.11711820349957816,
          1.3045192026835244,
          0.47610209947548787,
          -0.893996522001287,
          -1.9640426395138464,
          0.43177799306761144,
          0.2124861930961608,
          -0.26810503189773915,
          -0.2917277248112427,
          1.0600995580385186,
          -0.09616546623536769,
          0.009831686166474143,
          0.12449032978094596,
          1.0276096444007707,
          -1.0254918006858438,
          -0.491665530209502,
          -1.1532845391864175,
          0.7743603622969015,
          0.5015434994983705,
          -2.670307417221883,
          -1.2579742785445271,
          1.4905247530153953,
          -0.40082727355775954,
          0.013203193429966736,
          0.1478919810858192,
          1.8112635179969534,
          -1.5139512301237585,
          1.018692288823052,
          -1.1012653901407132,
          -0.5820767909418454,
          -1.4139610051553735,
          0.01755357736561984,
          0.5146723862357394,
          -0.1209274245317748,
          -0.491205835395233,
          0.0022244209716448093,
          -0.4631825451744534,
          0.907113410788158,
          -2.6207466340129444,
          0.4905596334180495,
          1.2439976629035,
          1.3620583916014237,
          -0.19132402487449365,
          2.2972892403697673,
          -1.1367556296822485,
          0.7947113392733698,
          0.5105297809039376,
          0.9137443265637776,
          0.9924360158790626,
          0.9138885179435232,
          -0.25964561644063744,
          -1.959604933558067,
          -0.6889732022152018,
          -0.3191836910416321,
          0.07420510684222735,
          -1.9129165314678132,
          0.3526977808732218,
          -1.4994800777658641,
          0.3742016214330207,
          -0.7211513000095967,
          -0.961856771165803,
          0.7952332385174912,
          1.0987584252515978,
          -1.684638463358606,
          -0.13351592575428659,
          0.5041206166281047,
          -0.24754116237098892,
          -2.396950493369511,
          0.3509411161599187,
          -0.14041401285102192,
          0.650789056470859,
          -0.8620434947700216,
          0.11914014339928516,
          -0.6736618243248493
         ],
         "xaxis": "x6",
         "yaxis": "y6"
        },
        {
         "line": {
          "color": "rgba(128, 128, 128, 1.0)",
          "dash": "solid",
          "shape": "linear",
          "width": 1.3
         },
         "marker": {
          "size": 2,
          "symbol": "circle"
         },
         "mode": "markers",
         "name": "B",
         "text": "",
         "type": "scatter",
         "x": [
          0.18856495400514253,
          -0.9578421507991861,
          -0.02036781403333026,
          -0.6069914307030784,
          0.09842160312153832,
          0.030535455561639075,
          -0.26450887295955683,
          -0.5311236196165268,
          0.787187627995759,
          0.3825374824741036,
          0.3889539683709063,
          1.1754927631211232,
          0.6040510045091236,
          1.5036900403980762,
          0.7494611569341438,
          1.0786862363974168,
          0.2556556398148715,
          0.8597672181574428,
          0.4030471720466067,
          0.7394252420005483,
          -0.08778330501298419,
          0.43605578439404,
          -0.5750782287709368,
          0.8531061941031274,
          0.7081431179498274,
          -0.6217453362157765,
          -0.11632079281110175,
          -1.1685313930801433,
          0.6628124534801917,
          0.061300188460506284,
          -0.9118611240050505,
          -0.827729334487359,
          -1.5656357393727327,
          -0.25695057062235693,
          -0.12035817279673999,
          -0.8620240114053124,
          0.7329520324375339,
          -2.295604382007167,
          0.11261436495166273,
          -2.310490122285268,
          0.4704543688232888,
          0.23859731345603535,
          -0.8398572439208553,
          0.009554086999037415,
          0.24997065650679567,
          -0.8390718789643391,
          0.7942626667524763,
          -0.5522439617837457,
          -2.0886239043009898,
          0.05492800964056952,
          0.8019591313244562,
          -0.3538454647640866,
          0.21339579379845683,
          -0.2926505183721297,
          1.1860418422261745,
          -0.20119829797773575,
          0.22828519503252298,
          0.4966301806568243,
          1.5338652444000096,
          0.3870831517537001,
          -0.9028593738996418,
          -0.7160605473491861,
          -0.6352347594642135,
          -0.19744951889144655,
          -0.7587475103425411,
          1.472683971291497,
          -0.4214928231394391,
          -0.614558873488455,
          1.0487773353585246,
          -0.27531683057699535,
          1.0339774220499915,
          -0.36554490988557403,
          -0.04159254060417178,
          -0.24629703385239454,
          -1.9836825726651135,
          -0.09095340148596404,
          1.22427216992178,
          -0.6759742004052892,
          -1.2447323344608514,
          0.4198610975109645,
          1.9617588024633907,
          0.6278559955345764,
          -0.23641077800572932,
          -0.3740505001472074,
          -0.48720868479607976,
          0.6632974460099765,
          0.9628054495678843,
          0.8615346474883159,
          -0.717307106393296,
          0.2866210796136707,
          -0.5015448456231866,
          -0.09872602755137291,
          1.9717972540520265,
          -0.4586715354974484,
          1.9051295985297643,
          -1.13066958951519,
          0.3494699410249197,
          -0.4253507507808615,
          -0.026046450191851683,
          0.7203732165564561
         ],
         "xaxis": "x7",
         "y": [
          -1.5702617948214266,
          0.12942604733102087,
          -1.2169678178307737,
          -1.2778014589549243,
          1.8237927091633785,
          0.0983300722187688,
          -1.4867525497879113,
          0.25751460492347245,
          -0.8675529082563131,
          1.234516185844747,
          1.2849289284666068,
          -0.02214928596425894,
          1.8045203915299464,
          -0.2717929080799078,
          0.28282897890794684,
          0.4891061282687007,
          0.5443993907148782,
          0.03664611008771916,
          -1.4003908791201083,
          0.48765519178484606,
          0.7410222490313609,
          0.6552416409680061,
          0.7752657653055114,
          0.16471296627787774,
          -0.9082756830220291,
          -0.8942021456626656,
          -0.11711820349957816,
          1.3045192026835244,
          0.47610209947548787,
          -0.893996522001287,
          -1.9640426395138464,
          0.43177799306761144,
          0.2124861930961608,
          -0.26810503189773915,
          -0.2917277248112427,
          1.0600995580385186,
          -0.09616546623536769,
          0.009831686166474143,
          0.12449032978094596,
          1.0276096444007707,
          -1.0254918006858438,
          -0.491665530209502,
          -1.1532845391864175,
          0.7743603622969015,
          0.5015434994983705,
          -2.670307417221883,
          -1.2579742785445271,
          1.4905247530153953,
          -0.40082727355775954,
          0.013203193429966736,
          0.1478919810858192,
          1.8112635179969534,
          -1.5139512301237585,
          1.018692288823052,
          -1.1012653901407132,
          -0.5820767909418454,
          -1.4139610051553735,
          0.01755357736561984,
          0.5146723862357394,
          -0.1209274245317748,
          -0.491205835395233,
          0.0022244209716448093,
          -0.4631825451744534,
          0.907113410788158,
          -2.6207466340129444,
          0.4905596334180495,
          1.2439976629035,
          1.3620583916014237,
          -0.19132402487449365,
          2.2972892403697673,
          -1.1367556296822485,
          0.7947113392733698,
          0.5105297809039376,
          0.9137443265637776,
          0.9924360158790626,
          0.9138885179435232,
          -0.25964561644063744,
          -1.959604933558067,
          -0.6889732022152018,
          -0.3191836910416321,
          0.07420510684222735,
          -1.9129165314678132,
          0.3526977808732218,
          -1.4994800777658641,
          0.3742016214330207,
          -0.7211513000095967,
          -0.961856771165803,
          0.7952332385174912,
          1.0987584252515978,
          -1.684638463358606,
          -0.13351592575428659,
          0.5041206166281047,
          -0.24754116237098892,
          -2.396950493369511,
          0.3509411161599187,
          -0.14041401285102192,
          0.650789056470859,
          -0.8620434947700216,
          0.11914014339928516,
          -0.6736618243248493
         ],
         "yaxis": "y7"
        },
        {
         "line": {
          "color": "rgba(128, 128, 128, 1.0)",
          "dash": "solid",
          "shape": "linear",
          "width": 1.3
         },
         "marker": {
          "size": 2,
          "symbol": "circle"
         },
         "mode": "markers",
         "name": "B",
         "text": "",
         "type": "scatter",
         "x": [
          -0.046516906807984405,
          -1.764033904858864,
          1.2668183942763993,
          -1.0569391286084147,
          2.0719559653770467,
          -0.5755666244104721,
          -0.18980515131343048,
          -0.2607888334981154,
          0.12309005617302901,
          -0.9613662117952162,
          1.5594439426864284,
          -1.8056001287358012,
          0.1879022777003043,
          -0.2217419978576319,
          0.3246328437415449,
          1.9755178229918042,
          0.24152757962584273,
          1.3898145877791737,
          1.2858199934281518,
          -1.0539771815964754,
          0.6845038772589357,
          0.8905780603970622,
          0.6179681149817068,
          -0.21667771398662147,
          -0.6544294917494967,
          -0.8241053953579198,
          0.05260367036965441,
          0.31799378080482826,
          -0.7149185034657983,
          1.5172398152417168,
          -0.1761387447391769,
          -0.8515042828854458,
          -0.2958209023070441,
          0.4860297898822799,
          0.1446103302752632,
          -0.8630012960407375,
          -0.3223152116955873,
          1.013796534912856,
          1.8749221024843268,
          1.499963700651641,
          -1.010766440832659,
          1.3505810129289824,
          -2.2944897606251273,
          -0.35098807198386167,
          -0.3938159510420015,
          -1.1162831162773235,
          -0.2169638991094867,
          1.022221243175815,
          -1.5374674990625818,
          -0.8842052195054546,
          -1.3801778920213124,
          0.13176833764317908,
          0.5231622760831692,
          0.389454103963345,
          -0.4892891628743335,
          -0.3238767608634141,
          1.235267384509114,
          2.037906641880036,
          -0.013302238855699424,
          0.8568752212441185,
          -1.0459568341385515,
          0.522595272255502,
          0.9411212627918908,
          0.9199650514655823,
          -1.6191942836966133,
          -1.9586685246353996,
          1.0689312901903878,
          -1.9370383729226333,
          -1.3845933679280464,
          0.3436997547371127,
          0.058998429928741616,
          -2.191214248870023,
          -1.3821718292370635,
          1.7420073630666788,
          -0.337051825314482,
          0.30376723649932824,
          1.14355214682258,
          0.7374262514475121,
          -0.9431323526469871,
          -0.41666514816271005,
          -2.3661258246076695,
          0.2392742275914587,
          -1.564031720401776,
          -1.1628348852453154,
          0.0026442076440966952,
          -0.566262232195784,
          1.244210977162073,
          1.0974247709708622,
          1.3063935899056607,
          0.05651869215108525,
          0.46457112131701583,
          -0.3024349290311257,
          -0.680228301288789,
          0.7198723080305751,
          0.19126542960804854,
          -1.040540519874543,
          -0.40676317848873766,
          -0.8965490783851073,
          0.2218621165162884,
          -0.3335003420186325
         ],
         "xaxis": "x8",
         "y": [
          -1.5702617948214266,
          0.12942604733102087,
          -1.2169678178307737,
          -1.2778014589549243,
          1.8237927091633785,
          0.0983300722187688,
          -1.4867525497879113,
          0.25751460492347245,
          -0.8675529082563131,
          1.234516185844747,
          1.2849289284666068,
          -0.02214928596425894,
          1.8045203915299464,
          -0.2717929080799078,
          0.28282897890794684,
          0.4891061282687007,
          0.5443993907148782,
          0.03664611008771916,
          -1.4003908791201083,
          0.48765519178484606,
          0.7410222490313609,
          0.6552416409680061,
          0.7752657653055114,
          0.16471296627787774,
          -0.9082756830220291,
          -0.8942021456626656,
          -0.11711820349957816,
          1.3045192026835244,
          0.47610209947548787,
          -0.893996522001287,
          -1.9640426395138464,
          0.43177799306761144,
          0.2124861930961608,
          -0.26810503189773915,
          -0.2917277248112427,
          1.0600995580385186,
          -0.09616546623536769,
          0.009831686166474143,
          0.12449032978094596,
          1.0276096444007707,
          -1.0254918006858438,
          -0.491665530209502,
          -1.1532845391864175,
          0.7743603622969015,
          0.5015434994983705,
          -2.670307417221883,
          -1.2579742785445271,
          1.4905247530153953,
          -0.40082727355775954,
          0.013203193429966736,
          0.1478919810858192,
          1.8112635179969534,
          -1.5139512301237585,
          1.018692288823052,
          -1.1012653901407132,
          -0.5820767909418454,
          -1.4139610051553735,
          0.01755357736561984,
          0.5146723862357394,
          -0.1209274245317748,
          -0.491205835395233,
          0.0022244209716448093,
          -0.4631825451744534,
          0.907113410788158,
          -2.6207466340129444,
          0.4905596334180495,
          1.2439976629035,
          1.3620583916014237,
          -0.19132402487449365,
          2.2972892403697673,
          -1.1367556296822485,
          0.7947113392733698,
          0.5105297809039376,
          0.9137443265637776,
          0.9924360158790626,
          0.9138885179435232,
          -0.25964561644063744,
          -1.959604933558067,
          -0.6889732022152018,
          -0.3191836910416321,
          0.07420510684222735,
          -1.9129165314678132,
          0.3526977808732218,
          -1.4994800777658641,
          0.3742016214330207,
          -0.7211513000095967,
          -0.961856771165803,
          0.7952332385174912,
          1.0987584252515978,
          -1.684638463358606,
          -0.13351592575428659,
          0.5041206166281047,
          -0.24754116237098892,
          -2.396950493369511,
          0.3509411161599187,
          -0.14041401285102192,
          0.650789056470859,
          -0.8620434947700216,
          0.11914014339928516,
          -0.6736618243248493
         ],
         "yaxis": "y8"
        },
        {
         "line": {
          "color": "rgba(128, 128, 128, 1.0)",
          "dash": "solid",
          "shape": "linear",
          "width": 1.3
         },
         "marker": {
          "size": 2,
          "symbol": "circle"
         },
         "mode": "markers",
         "name": "C",
         "text": "",
         "type": "scatter",
         "x": [
          1.9785474803328607,
          1.0092268487548832,
          -1.225013157557364,
          -1.7571929080727824,
          -0.3510321902033087,
          1.4100616476100398,
          -0.7107709961502106,
          -0.23874519373105246,
          1.2373841410062967,
          0.8323615939275861,
          -0.9041212935899998,
          1.0134132263520905,
          -0.48501594051186303,
          0.10711805122591342,
          1.053211572931562,
          1.8747476432241057,
          -1.6935363858985157,
          -0.2608680773992978,
          1.6883554154984184,
          0.7485058415919015,
          0.9786366361762188,
          -0.3085510438136002,
          -0.9304657253362264,
          0.6037118838048389,
          0.6245447736656713,
          1.2385002099949525,
          -0.7097874554477298,
          0.5823549670983328,
          -0.35803780976590854,
          1.5491322960816853,
          1.53807985352257,
          2.404581495249531,
          -0.9652410635551554,
          -0.47589035741556557,
          1.6683681176793281,
          -0.8476670562828995,
          -0.6211176310350959,
          -0.652231375444704,
          0.9359531059469797,
          -1.6020033412254073,
          0.31985344042035896,
          0.46587917758063924,
          -0.16268949490112863,
          -0.46277578442258077,
          0.058282399822782646,
          0.46307447698305676,
          0.3224978075603298,
          0.11526650280798287,
          -0.7692957618827033,
          -0.35826300853537124,
          -2.641779265896877,
          1.7247231795571583,
          0.3673705260306855,
          0.09276272084379551,
          -0.18472477320008263,
          -1.6970613031028194,
          0.1843645004161003,
          0.5921046508039165,
          0.784867163116174,
          0.035674674097062015,
          -1.0077029572479506,
          0.7461447282062237,
          -0.5868772103780041,
          -0.568107392843018,
          0.12065140233307468,
          -0.8069255129179801,
          -1.8704940936796401,
          -0.7404711419618509,
          -0.5983897510208666,
          1.7050616932429972,
          -0.9258406850844257,
          -0.22291973386169947,
          0.38082614288418576,
          -0.2256843255911952,
          -0.6287074591394933,
          2.394235061047817,
          0.668169433872653,
          0.9968613105270926,
          -1.032969040321864,
          2.164652725086726,
          0.15323306330310169,
          -0.5445996973395306,
          -0.4038606332641512,
          0.8909069835088288,
          0.197832202834394,
          -0.20753647433224323,
          -1.696035375361601,
          2.915074338040306,
          1.4848354580604801,
          0.4129310916479309,
          -0.5841717881041785,
          1.1138237134791464,
          -0.6351696242421287,
          -0.4751255037732066,
          -0.23049971038152886,
          0.07740486985743174,
          0.3266324105276788,
          -0.18148747202789775,
          0.18998088567144913,
          -0.18618896527839632
         ],
         "xaxis": "x9",
         "y": [
          0.18856495400514253,
          -0.9578421507991861,
          -0.02036781403333026,
          -0.6069914307030784,
          0.09842160312153832,
          0.030535455561639075,
          -0.26450887295955683,
          -0.5311236196165268,
          0.787187627995759,
          0.3825374824741036,
          0.3889539683709063,
          1.1754927631211232,
          0.6040510045091236,
          1.5036900403980762,
          0.7494611569341438,
          1.0786862363974168,
          0.2556556398148715,
          0.8597672181574428,
          0.4030471720466067,
          0.7394252420005483,
          -0.08778330501298419,
          0.43605578439404,
          -0.5750782287709368,
          0.8531061941031274,
          0.7081431179498274,
          -0.6217453362157765,
          -0.11632079281110175,
          -1.1685313930801433,
          0.6628124534801917,
          0.061300188460506284,
          -0.9118611240050505,
          -0.827729334487359,
          -1.5656357393727327,
          -0.25695057062235693,
          -0.12035817279673999,
          -0.8620240114053124,
          0.7329520324375339,
          -2.295604382007167,
          0.11261436495166273,
          -2.310490122285268,
          0.4704543688232888,
          0.23859731345603535,
          -0.8398572439208553,
          0.009554086999037415,
          0.24997065650679567,
          -0.8390718789643391,
          0.7942626667524763,
          -0.5522439617837457,
          -2.0886239043009898,
          0.05492800964056952,
          0.8019591313244562,
          -0.3538454647640866,
          0.21339579379845683,
          -0.2926505183721297,
          1.1860418422261745,
          -0.20119829797773575,
          0.22828519503252298,
          0.4966301806568243,
          1.5338652444000096,
          0.3870831517537001,
          -0.9028593738996418,
          -0.7160605473491861,
          -0.6352347594642135,
          -0.19744951889144655,
          -0.7587475103425411,
          1.472683971291497,
          -0.4214928231394391,
          -0.614558873488455,
          1.0487773353585246,
          -0.27531683057699535,
          1.0339774220499915,
          -0.36554490988557403,
          -0.04159254060417178,
          -0.24629703385239454,
          -1.9836825726651135,
          -0.09095340148596404,
          1.22427216992178,
          -0.6759742004052892,
          -1.2447323344608514,
          0.4198610975109645,
          1.9617588024633907,
          0.6278559955345764,
          -0.23641077800572932,
          -0.3740505001472074,
          -0.48720868479607976,
          0.6632974460099765,
          0.9628054495678843,
          0.8615346474883159,
          -0.717307106393296,
          0.2866210796136707,
          -0.5015448456231866,
          -0.09872602755137291,
          1.9717972540520265,
          -0.4586715354974484,
          1.9051295985297643,
          -1.13066958951519,
          0.3494699410249197,
          -0.4253507507808615,
          -0.026046450191851683,
          0.7203732165564561
         ],
         "yaxis": "y9"
        },
        {
         "line": {
          "color": "rgba(128, 128, 128, 1.0)",
          "dash": "solid",
          "shape": "linear",
          "width": 1.3
         },
         "marker": {
          "size": 2,
          "symbol": "circle"
         },
         "mode": "markers",
         "name": "C",
         "text": "",
         "type": "scatter",
         "x": [
          -1.5702617948214266,
          0.12942604733102087,
          -1.2169678178307737,
          -1.2778014589549243,
          1.8237927091633785,
          0.0983300722187688,
          -1.4867525497879113,
          0.25751460492347245,
          -0.8675529082563131,
          1.234516185844747,
          1.2849289284666068,
          -0.02214928596425894,
          1.8045203915299464,
          -0.2717929080799078,
          0.28282897890794684,
          0.4891061282687007,
          0.5443993907148782,
          0.03664611008771916,
          -1.4003908791201083,
          0.48765519178484606,
          0.7410222490313609,
          0.6552416409680061,
          0.7752657653055114,
          0.16471296627787774,
          -0.9082756830220291,
          -0.8942021456626656,
          -0.11711820349957816,
          1.3045192026835244,
          0.47610209947548787,
          -0.893996522001287,
          -1.9640426395138464,
          0.43177799306761144,
          0.2124861930961608,
          -0.26810503189773915,
          -0.2917277248112427,
          1.0600995580385186,
          -0.09616546623536769,
          0.009831686166474143,
          0.12449032978094596,
          1.0276096444007707,
          -1.0254918006858438,
          -0.491665530209502,
          -1.1532845391864175,
          0.7743603622969015,
          0.5015434994983705,
          -2.670307417221883,
          -1.2579742785445271,
          1.4905247530153953,
          -0.40082727355775954,
          0.013203193429966736,
          0.1478919810858192,
          1.8112635179969534,
          -1.5139512301237585,
          1.018692288823052,
          -1.1012653901407132,
          -0.5820767909418454,
          -1.4139610051553735,
          0.01755357736561984,
          0.5146723862357394,
          -0.1209274245317748,
          -0.491205835395233,
          0.0022244209716448093,
          -0.4631825451744534,
          0.907113410788158,
          -2.6207466340129444,
          0.4905596334180495,
          1.2439976629035,
          1.3620583916014237,
          -0.19132402487449365,
          2.2972892403697673,
          -1.1367556296822485,
          0.7947113392733698,
          0.5105297809039376,
          0.9137443265637776,
          0.9924360158790626,
          0.9138885179435232,
          -0.25964561644063744,
          -1.959604933558067,
          -0.6889732022152018,
          -0.3191836910416321,
          0.07420510684222735,
          -1.9129165314678132,
          0.3526977808732218,
          -1.4994800777658641,
          0.3742016214330207,
          -0.7211513000095967,
          -0.961856771165803,
          0.7952332385174912,
          1.0987584252515978,
          -1.684638463358606,
          -0.13351592575428659,
          0.5041206166281047,
          -0.24754116237098892,
          -2.396950493369511,
          0.3509411161599187,
          -0.14041401285102192,
          0.650789056470859,
          -0.8620434947700216,
          0.11914014339928516,
          -0.6736618243248493
         ],
         "xaxis": "x10",
         "y": [
          0.18856495400514253,
          -0.9578421507991861,
          -0.02036781403333026,
          -0.6069914307030784,
          0.09842160312153832,
          0.030535455561639075,
          -0.26450887295955683,
          -0.5311236196165268,
          0.787187627995759,
          0.3825374824741036,
          0.3889539683709063,
          1.1754927631211232,
          0.6040510045091236,
          1.5036900403980762,
          0.7494611569341438,
          1.0786862363974168,
          0.2556556398148715,
          0.8597672181574428,
          0.4030471720466067,
          0.7394252420005483,
          -0.08778330501298419,
          0.43605578439404,
          -0.5750782287709368,
          0.8531061941031274,
          0.7081431179498274,
          -0.6217453362157765,
          -0.11632079281110175,
          -1.1685313930801433,
          0.6628124534801917,
          0.061300188460506284,
          -0.9118611240050505,
          -0.827729334487359,
          -1.5656357393727327,
          -0.25695057062235693,
          -0.12035817279673999,
          -0.8620240114053124,
          0.7329520324375339,
          -2.295604382007167,
          0.11261436495166273,
          -2.310490122285268,
          0.4704543688232888,
          0.23859731345603535,
          -0.8398572439208553,
          0.009554086999037415,
          0.24997065650679567,
          -0.8390718789643391,
          0.7942626667524763,
          -0.5522439617837457,
          -2.0886239043009898,
          0.05492800964056952,
          0.8019591313244562,
          -0.3538454647640866,
          0.21339579379845683,
          -0.2926505183721297,
          1.1860418422261745,
          -0.20119829797773575,
          0.22828519503252298,
          0.4966301806568243,
          1.5338652444000096,
          0.3870831517537001,
          -0.9028593738996418,
          -0.7160605473491861,
          -0.6352347594642135,
          -0.19744951889144655,
          -0.7587475103425411,
          1.472683971291497,
          -0.4214928231394391,
          -0.614558873488455,
          1.0487773353585246,
          -0.27531683057699535,
          1.0339774220499915,
          -0.36554490988557403,
          -0.04159254060417178,
          -0.24629703385239454,
          -1.9836825726651135,
          -0.09095340148596404,
          1.22427216992178,
          -0.6759742004052892,
          -1.2447323344608514,
          0.4198610975109645,
          1.9617588024633907,
          0.6278559955345764,
          -0.23641077800572932,
          -0.3740505001472074,
          -0.48720868479607976,
          0.6632974460099765,
          0.9628054495678843,
          0.8615346474883159,
          -0.717307106393296,
          0.2866210796136707,
          -0.5015448456231866,
          -0.09872602755137291,
          1.9717972540520265,
          -0.4586715354974484,
          1.9051295985297643,
          -1.13066958951519,
          0.3494699410249197,
          -0.4253507507808615,
          -0.026046450191851683,
          0.7203732165564561
         ],
         "yaxis": "y10"
        },
        {
         "histfunc": "count",
         "histnorm": "",
         "marker": {
          "color": "rgba(50, 171, 96, 1.0)",
          "line": {
           "color": "#4D5663",
           "width": 1.3
          }
         },
         "name": "C",
         "nbinsx": 10,
         "opacity": 0.8,
         "orientation": "v",
         "type": "histogram",
         "x": [
          0.18856495400514253,
          -0.9578421507991861,
          -0.02036781403333026,
          -0.6069914307030784,
          0.09842160312153832,
          0.030535455561639075,
          -0.26450887295955683,
          -0.5311236196165268,
          0.787187627995759,
          0.3825374824741036,
          0.3889539683709063,
          1.1754927631211232,
          0.6040510045091236,
          1.5036900403980762,
          0.7494611569341438,
          1.0786862363974168,
          0.2556556398148715,
          0.8597672181574428,
          0.4030471720466067,
          0.7394252420005483,
          -0.08778330501298419,
          0.43605578439404,
          -0.5750782287709368,
          0.8531061941031274,
          0.7081431179498274,
          -0.6217453362157765,
          -0.11632079281110175,
          -1.1685313930801433,
          0.6628124534801917,
          0.061300188460506284,
          -0.9118611240050505,
          -0.827729334487359,
          -1.5656357393727327,
          -0.25695057062235693,
          -0.12035817279673999,
          -0.8620240114053124,
          0.7329520324375339,
          -2.295604382007167,
          0.11261436495166273,
          -2.310490122285268,
          0.4704543688232888,
          0.23859731345603535,
          -0.8398572439208553,
          0.009554086999037415,
          0.24997065650679567,
          -0.8390718789643391,
          0.7942626667524763,
          -0.5522439617837457,
          -2.0886239043009898,
          0.05492800964056952,
          0.8019591313244562,
          -0.3538454647640866,
          0.21339579379845683,
          -0.2926505183721297,
          1.1860418422261745,
          -0.20119829797773575,
          0.22828519503252298,
          0.4966301806568243,
          1.5338652444000096,
          0.3870831517537001,
          -0.9028593738996418,
          -0.7160605473491861,
          -0.6352347594642135,
          -0.19744951889144655,
          -0.7587475103425411,
          1.472683971291497,
          -0.4214928231394391,
          -0.614558873488455,
          1.0487773353585246,
          -0.27531683057699535,
          1.0339774220499915,
          -0.36554490988557403,
          -0.04159254060417178,
          -0.24629703385239454,
          -1.9836825726651135,
          -0.09095340148596404,
          1.22427216992178,
          -0.6759742004052892,
          -1.2447323344608514,
          0.4198610975109645,
          1.9617588024633907,
          0.6278559955345764,
          -0.23641077800572932,
          -0.3740505001472074,
          -0.48720868479607976,
          0.6632974460099765,
          0.9628054495678843,
          0.8615346474883159,
          -0.717307106393296,
          0.2866210796136707,
          -0.5015448456231866,
          -0.09872602755137291,
          1.9717972540520265,
          -0.4586715354974484,
          1.9051295985297643,
          -1.13066958951519,
          0.3494699410249197,
          -0.4253507507808615,
          -0.026046450191851683,
          0.7203732165564561
         ],
         "xaxis": "x11",
         "yaxis": "y11"
        },
        {
         "line": {
          "color": "rgba(128, 128, 128, 1.0)",
          "dash": "solid",
          "shape": "linear",
          "width": 1.3
         },
         "marker": {
          "size": 2,
          "symbol": "circle"
         },
         "mode": "markers",
         "name": "C",
         "text": "",
         "type": "scatter",
         "x": [
          -0.046516906807984405,
          -1.764033904858864,
          1.2668183942763993,
          -1.0569391286084147,
          2.0719559653770467,
          -0.5755666244104721,
          -0.18980515131343048,
          -0.2607888334981154,
          0.12309005617302901,
          -0.9613662117952162,
          1.5594439426864284,
          -1.8056001287358012,
          0.1879022777003043,
          -0.2217419978576319,
          0.3246328437415449,
          1.9755178229918042,
          0.24152757962584273,
          1.3898145877791737,
          1.2858199934281518,
          -1.0539771815964754,
          0.6845038772589357,
          0.8905780603970622,
          0.6179681149817068,
          -0.21667771398662147,
          -0.6544294917494967,
          -0.8241053953579198,
          0.05260367036965441,
          0.31799378080482826,
          -0.7149185034657983,
          1.5172398152417168,
          -0.1761387447391769,
          -0.8515042828854458,
          -0.2958209023070441,
          0.4860297898822799,
          0.1446103302752632,
          -0.8630012960407375,
          -0.3223152116955873,
          1.013796534912856,
          1.8749221024843268,
          1.499963700651641,
          -1.010766440832659,
          1.3505810129289824,
          -2.2944897606251273,
          -0.35098807198386167,
          -0.3938159510420015,
          -1.1162831162773235,
          -0.2169638991094867,
          1.022221243175815,
          -1.5374674990625818,
          -0.8842052195054546,
          -1.3801778920213124,
          0.13176833764317908,
          0.5231622760831692,
          0.389454103963345,
          -0.4892891628743335,
          -0.3238767608634141,
          1.235267384509114,
          2.037906641880036,
          -0.013302238855699424,
          0.8568752212441185,
          -1.0459568341385515,
          0.522595272255502,
          0.9411212627918908,
          0.9199650514655823,
          -1.6191942836966133,
          -1.9586685246353996,
          1.0689312901903878,
          -1.9370383729226333,
          -1.3845933679280464,
          0.3436997547371127,
          0.058998429928741616,
          -2.191214248870023,
          -1.3821718292370635,
          1.7420073630666788,
          -0.337051825314482,
          0.30376723649932824,
          1.14355214682258,
          0.7374262514475121,
          -0.9431323526469871,
          -0.41666514816271005,
          -2.3661258246076695,
          0.2392742275914587,
          -1.564031720401776,
          -1.1628348852453154,
          0.0026442076440966952,
          -0.566262232195784,
          1.244210977162073,
          1.0974247709708622,
          1.3063935899056607,
          0.05651869215108525,
          0.46457112131701583,
          -0.3024349290311257,
          -0.680228301288789,
          0.7198723080305751,
          0.19126542960804854,
          -1.040540519874543,
          -0.40676317848873766,
          -0.8965490783851073,
          0.2218621165162884,
          -0.3335003420186325
         ],
         "xaxis": "x12",
         "y": [
          0.18856495400514253,
          -0.9578421507991861,
          -0.02036781403333026,
          -0.6069914307030784,
          0.09842160312153832,
          0.030535455561639075,
          -0.26450887295955683,
          -0.5311236196165268,
          0.787187627995759,
          0.3825374824741036,
          0.3889539683709063,
          1.1754927631211232,
          0.6040510045091236,
          1.5036900403980762,
          0.7494611569341438,
          1.0786862363974168,
          0.2556556398148715,
          0.8597672181574428,
          0.4030471720466067,
          0.7394252420005483,
          -0.08778330501298419,
          0.43605578439404,
          -0.5750782287709368,
          0.8531061941031274,
          0.7081431179498274,
          -0.6217453362157765,
          -0.11632079281110175,
          -1.1685313930801433,
          0.6628124534801917,
          0.061300188460506284,
          -0.9118611240050505,
          -0.827729334487359,
          -1.5656357393727327,
          -0.25695057062235693,
          -0.12035817279673999,
          -0.8620240114053124,
          0.7329520324375339,
          -2.295604382007167,
          0.11261436495166273,
          -2.310490122285268,
          0.4704543688232888,
          0.23859731345603535,
          -0.8398572439208553,
          0.009554086999037415,
          0.24997065650679567,
          -0.8390718789643391,
          0.7942626667524763,
          -0.5522439617837457,
          -2.0886239043009898,
          0.05492800964056952,
          0.8019591313244562,
          -0.3538454647640866,
          0.21339579379845683,
          -0.2926505183721297,
          1.1860418422261745,
          -0.20119829797773575,
          0.22828519503252298,
          0.4966301806568243,
          1.5338652444000096,
          0.3870831517537001,
          -0.9028593738996418,
          -0.7160605473491861,
          -0.6352347594642135,
          -0.19744951889144655,
          -0.7587475103425411,
          1.472683971291497,
          -0.4214928231394391,
          -0.614558873488455,
          1.0487773353585246,
          -0.27531683057699535,
          1.0339774220499915,
          -0.36554490988557403,
          -0.04159254060417178,
          -0.24629703385239454,
          -1.9836825726651135,
          -0.09095340148596404,
          1.22427216992178,
          -0.6759742004052892,
          -1.2447323344608514,
          0.4198610975109645,
          1.9617588024633907,
          0.6278559955345764,
          -0.23641077800572932,
          -0.3740505001472074,
          -0.48720868479607976,
          0.6632974460099765,
          0.9628054495678843,
          0.8615346474883159,
          -0.717307106393296,
          0.2866210796136707,
          -0.5015448456231866,
          -0.09872602755137291,
          1.9717972540520265,
          -0.4586715354974484,
          1.9051295985297643,
          -1.13066958951519,
          0.3494699410249197,
          -0.4253507507808615,
          -0.026046450191851683,
          0.7203732165564561
         ],
         "yaxis": "y12"
        },
        {
         "line": {
          "color": "rgba(128, 128, 128, 1.0)",
          "dash": "solid",
          "shape": "linear",
          "width": 1.3
         },
         "marker": {
          "size": 2,
          "symbol": "circle"
         },
         "mode": "markers",
         "name": "D",
         "text": "",
         "type": "scatter",
         "x": [
          1.9785474803328607,
          1.0092268487548832,
          -1.225013157557364,
          -1.7571929080727824,
          -0.3510321902033087,
          1.4100616476100398,
          -0.7107709961502106,
          -0.23874519373105246,
          1.2373841410062967,
          0.8323615939275861,
          -0.9041212935899998,
          1.0134132263520905,
          -0.48501594051186303,
          0.10711805122591342,
          1.053211572931562,
          1.8747476432241057,
          -1.6935363858985157,
          -0.2608680773992978,
          1.6883554154984184,
          0.7485058415919015,
          0.9786366361762188,
          -0.3085510438136002,
          -0.9304657253362264,
          0.6037118838048389,
          0.6245447736656713,
          1.2385002099949525,
          -0.7097874554477298,
          0.5823549670983328,
          -0.35803780976590854,
          1.5491322960816853,
          1.53807985352257,
          2.404581495249531,
          -0.9652410635551554,
          -0.47589035741556557,
          1.6683681176793281,
          -0.8476670562828995,
          -0.6211176310350959,
          -0.652231375444704,
          0.9359531059469797,
          -1.6020033412254073,
          0.31985344042035896,
          0.46587917758063924,
          -0.16268949490112863,
          -0.46277578442258077,
          0.058282399822782646,
          0.46307447698305676,
          0.3224978075603298,
          0.11526650280798287,
          -0.7692957618827033,
          -0.35826300853537124,
          -2.641779265896877,
          1.7247231795571583,
          0.3673705260306855,
          0.09276272084379551,
          -0.18472477320008263,
          -1.6970613031028194,
          0.1843645004161003,
          0.5921046508039165,
          0.784867163116174,
          0.035674674097062015,
          -1.0077029572479506,
          0.7461447282062237,
          -0.5868772103780041,
          -0.568107392843018,
          0.12065140233307468,
          -0.8069255129179801,
          -1.8704940936796401,
          -0.7404711419618509,
          -0.5983897510208666,
          1.7050616932429972,
          -0.9258406850844257,
          -0.22291973386169947,
          0.38082614288418576,
          -0.2256843255911952,
          -0.6287074591394933,
          2.394235061047817,
          0.668169433872653,
          0.9968613105270926,
          -1.032969040321864,
          2.164652725086726,
          0.15323306330310169,
          -0.5445996973395306,
          -0.4038606332641512,
          0.8909069835088288,
          0.197832202834394,
          -0.20753647433224323,
          -1.696035375361601,
          2.915074338040306,
          1.4848354580604801,
          0.4129310916479309,
          -0.5841717881041785,
          1.1138237134791464,
          -0.6351696242421287,
          -0.4751255037732066,
          -0.23049971038152886,
          0.07740486985743174,
          0.3266324105276788,
          -0.18148747202789775,
          0.18998088567144913,
          -0.18618896527839632
         ],
         "xaxis": "x13",
         "y": [
          -0.046516906807984405,
          -1.764033904858864,
          1.2668183942763993,
          -1.0569391286084147,
          2.0719559653770467,
          -0.5755666244104721,
          -0.18980515131343048,
          -0.2607888334981154,
          0.12309005617302901,
          -0.9613662117952162,
          1.5594439426864284,
          -1.8056001287358012,
          0.1879022777003043,
          -0.2217419978576319,
          0.3246328437415449,
          1.9755178229918042,
          0.24152757962584273,
          1.3898145877791737,
          1.2858199934281518,
          -1.0539771815964754,
          0.6845038772589357,
          0.8905780603970622,
          0.6179681149817068,
          -0.21667771398662147,
          -0.6544294917494967,
          -0.8241053953579198,
          0.05260367036965441,
          0.31799378080482826,
          -0.7149185034657983,
          1.5172398152417168,
          -0.1761387447391769,
          -0.8515042828854458,
          -0.2958209023070441,
          0.4860297898822799,
          0.1446103302752632,
          -0.8630012960407375,
          -0.3223152116955873,
          1.013796534912856,
          1.8749221024843268,
          1.499963700651641,
          -1.010766440832659,
          1.3505810129289824,
          -2.2944897606251273,
          -0.35098807198386167,
          -0.3938159510420015,
          -1.1162831162773235,
          -0.2169638991094867,
          1.022221243175815,
          -1.5374674990625818,
          -0.8842052195054546,
          -1.3801778920213124,
          0.13176833764317908,
          0.5231622760831692,
          0.389454103963345,
          -0.4892891628743335,
          -0.3238767608634141,
          1.235267384509114,
          2.037906641880036,
          -0.013302238855699424,
          0.8568752212441185,
          -1.0459568341385515,
          0.522595272255502,
          0.9411212627918908,
          0.9199650514655823,
          -1.6191942836966133,
          -1.9586685246353996,
          1.0689312901903878,
          -1.9370383729226333,
          -1.3845933679280464,
          0.3436997547371127,
          0.058998429928741616,
          -2.191214248870023,
          -1.3821718292370635,
          1.7420073630666788,
          -0.337051825314482,
          0.30376723649932824,
          1.14355214682258,
          0.7374262514475121,
          -0.9431323526469871,
          -0.41666514816271005,
          -2.3661258246076695,
          0.2392742275914587,
          -1.564031720401776,
          -1.1628348852453154,
          0.0026442076440966952,
          -0.566262232195784,
          1.244210977162073,
          1.0974247709708622,
          1.3063935899056607,
          0.05651869215108525,
          0.46457112131701583,
          -0.3024349290311257,
          -0.680228301288789,
          0.7198723080305751,
          0.19126542960804854,
          -1.040540519874543,
          -0.40676317848873766,
          -0.8965490783851073,
          0.2218621165162884,
          -0.3335003420186325
         ],
         "yaxis": "y13"
        },
        {
         "line": {
          "color": "rgba(128, 128, 128, 1.0)",
          "dash": "solid",
          "shape": "linear",
          "width": 1.3
         },
         "marker": {
          "size": 2,
          "symbol": "circle"
         },
         "mode": "markers",
         "name": "D",
         "text": "",
         "type": "scatter",
         "x": [
          -1.5702617948214266,
          0.12942604733102087,
          -1.2169678178307737,
          -1.2778014589549243,
          1.8237927091633785,
          0.0983300722187688,
          -1.4867525497879113,
          0.25751460492347245,
          -0.8675529082563131,
          1.234516185844747,
          1.2849289284666068,
          -0.02214928596425894,
          1.8045203915299464,
          -0.2717929080799078,
          0.28282897890794684,
          0.4891061282687007,
          0.5443993907148782,
          0.03664611008771916,
          -1.4003908791201083,
          0.48765519178484606,
          0.7410222490313609,
          0.6552416409680061,
          0.7752657653055114,
          0.16471296627787774,
          -0.9082756830220291,
          -0.8942021456626656,
          -0.11711820349957816,
          1.3045192026835244,
          0.47610209947548787,
          -0.893996522001287,
          -1.9640426395138464,
          0.43177799306761144,
          0.2124861930961608,
          -0.26810503189773915,
          -0.2917277248112427,
          1.0600995580385186,
          -0.09616546623536769,
          0.009831686166474143,
          0.12449032978094596,
          1.0276096444007707,
          -1.0254918006858438,
          -0.491665530209502,
          -1.1532845391864175,
          0.7743603622969015,
          0.5015434994983705,
          -2.670307417221883,
          -1.2579742785445271,
          1.4905247530153953,
          -0.40082727355775954,
          0.013203193429966736,
          0.1478919810858192,
          1.8112635179969534,
          -1.5139512301237585,
          1.018692288823052,
          -1.1012653901407132,
          -0.5820767909418454,
          -1.4139610051553735,
          0.01755357736561984,
          0.5146723862357394,
          -0.1209274245317748,
          -0.491205835395233,
          0.0022244209716448093,
          -0.4631825451744534,
          0.907113410788158,
          -2.6207466340129444,
          0.4905596334180495,
          1.2439976629035,
          1.3620583916014237,
          -0.19132402487449365,
          2.2972892403697673,
          -1.1367556296822485,
          0.7947113392733698,
          0.5105297809039376,
          0.9137443265637776,
          0.9924360158790626,
          0.9138885179435232,
          -0.25964561644063744,
          -1.959604933558067,
          -0.6889732022152018,
          -0.3191836910416321,
          0.07420510684222735,
          -1.9129165314678132,
          0.3526977808732218,
          -1.4994800777658641,
          0.3742016214330207,
          -0.7211513000095967,
          -0.961856771165803,
          0.7952332385174912,
          1.0987584252515978,
          -1.684638463358606,
          -0.13351592575428659,
          0.5041206166281047,
          -0.24754116237098892,
          -2.396950493369511,
          0.3509411161599187,
          -0.14041401285102192,
          0.650789056470859,
          -0.8620434947700216,
          0.11914014339928516,
          -0.6736618243248493
         ],
         "xaxis": "x14",
         "y": [
          -0.046516906807984405,
          -1.764033904858864,
          1.2668183942763993,
          -1.0569391286084147,
          2.0719559653770467,
          -0.5755666244104721,
          -0.18980515131343048,
          -0.2607888334981154,
          0.12309005617302901,
          -0.9613662117952162,
          1.5594439426864284,
          -1.8056001287358012,
          0.1879022777003043,
          -0.2217419978576319,
          0.3246328437415449,
          1.9755178229918042,
          0.24152757962584273,
          1.3898145877791737,
          1.2858199934281518,
          -1.0539771815964754,
          0.6845038772589357,
          0.8905780603970622,
          0.6179681149817068,
          -0.21667771398662147,
          -0.6544294917494967,
          -0.8241053953579198,
          0.05260367036965441,
          0.31799378080482826,
          -0.7149185034657983,
          1.5172398152417168,
          -0.1761387447391769,
          -0.8515042828854458,
          -0.2958209023070441,
          0.4860297898822799,
          0.1446103302752632,
          -0.8630012960407375,
          -0.3223152116955873,
          1.013796534912856,
          1.8749221024843268,
          1.499963700651641,
          -1.010766440832659,
          1.3505810129289824,
          -2.2944897606251273,
          -0.35098807198386167,
          -0.3938159510420015,
          -1.1162831162773235,
          -0.2169638991094867,
          1.022221243175815,
          -1.5374674990625818,
          -0.8842052195054546,
          -1.3801778920213124,
          0.13176833764317908,
          0.5231622760831692,
          0.389454103963345,
          -0.4892891628743335,
          -0.3238767608634141,
          1.235267384509114,
          2.037906641880036,
          -0.013302238855699424,
          0.8568752212441185,
          -1.0459568341385515,
          0.522595272255502,
          0.9411212627918908,
          0.9199650514655823,
          -1.6191942836966133,
          -1.9586685246353996,
          1.0689312901903878,
          -1.9370383729226333,
          -1.3845933679280464,
          0.3436997547371127,
          0.058998429928741616,
          -2.191214248870023,
          -1.3821718292370635,
          1.7420073630666788,
          -0.337051825314482,
          0.30376723649932824,
          1.14355214682258,
          0.7374262514475121,
          -0.9431323526469871,
          -0.41666514816271005,
          -2.3661258246076695,
          0.2392742275914587,
          -1.564031720401776,
          -1.1628348852453154,
          0.0026442076440966952,
          -0.566262232195784,
          1.244210977162073,
          1.0974247709708622,
          1.3063935899056607,
          0.05651869215108525,
          0.46457112131701583,
          -0.3024349290311257,
          -0.680228301288789,
          0.7198723080305751,
          0.19126542960804854,
          -1.040540519874543,
          -0.40676317848873766,
          -0.8965490783851073,
          0.2218621165162884,
          -0.3335003420186325
         ],
         "yaxis": "y14"
        },
        {
         "line": {
          "color": "rgba(128, 128, 128, 1.0)",
          "dash": "solid",
          "shape": "linear",
          "width": 1.3
         },
         "marker": {
          "size": 2,
          "symbol": "circle"
         },
         "mode": "markers",
         "name": "D",
         "text": "",
         "type": "scatter",
         "x": [
          0.18856495400514253,
          -0.9578421507991861,
          -0.02036781403333026,
          -0.6069914307030784,
          0.09842160312153832,
          0.030535455561639075,
          -0.26450887295955683,
          -0.5311236196165268,
          0.787187627995759,
          0.3825374824741036,
          0.3889539683709063,
          1.1754927631211232,
          0.6040510045091236,
          1.5036900403980762,
          0.7494611569341438,
          1.0786862363974168,
          0.2556556398148715,
          0.8597672181574428,
          0.4030471720466067,
          0.7394252420005483,
          -0.08778330501298419,
          0.43605578439404,
          -0.5750782287709368,
          0.8531061941031274,
          0.7081431179498274,
          -0.6217453362157765,
          -0.11632079281110175,
          -1.1685313930801433,
          0.6628124534801917,
          0.061300188460506284,
          -0.9118611240050505,
          -0.827729334487359,
          -1.5656357393727327,
          -0.25695057062235693,
          -0.12035817279673999,
          -0.8620240114053124,
          0.7329520324375339,
          -2.295604382007167,
          0.11261436495166273,
          -2.310490122285268,
          0.4704543688232888,
          0.23859731345603535,
          -0.8398572439208553,
          0.009554086999037415,
          0.24997065650679567,
          -0.8390718789643391,
          0.7942626667524763,
          -0.5522439617837457,
          -2.0886239043009898,
          0.05492800964056952,
          0.8019591313244562,
          -0.3538454647640866,
          0.21339579379845683,
          -0.2926505183721297,
          1.1860418422261745,
          -0.20119829797773575,
          0.22828519503252298,
          0.4966301806568243,
          1.5338652444000096,
          0.3870831517537001,
          -0.9028593738996418,
          -0.7160605473491861,
          -0.6352347594642135,
          -0.19744951889144655,
          -0.7587475103425411,
          1.472683971291497,
          -0.4214928231394391,
          -0.614558873488455,
          1.0487773353585246,
          -0.27531683057699535,
          1.0339774220499915,
          -0.36554490988557403,
          -0.04159254060417178,
          -0.24629703385239454,
          -1.9836825726651135,
          -0.09095340148596404,
          1.22427216992178,
          -0.6759742004052892,
          -1.2447323344608514,
          0.4198610975109645,
          1.9617588024633907,
          0.6278559955345764,
          -0.23641077800572932,
          -0.3740505001472074,
          -0.48720868479607976,
          0.6632974460099765,
          0.9628054495678843,
          0.8615346474883159,
          -0.717307106393296,
          0.2866210796136707,
          -0.5015448456231866,
          -0.09872602755137291,
          1.9717972540520265,
          -0.4586715354974484,
          1.9051295985297643,
          -1.13066958951519,
          0.3494699410249197,
          -0.4253507507808615,
          -0.026046450191851683,
          0.7203732165564561
         ],
         "xaxis": "x15",
         "y": [
          -0.046516906807984405,
          -1.764033904858864,
          1.2668183942763993,
          -1.0569391286084147,
          2.0719559653770467,
          -0.5755666244104721,
          -0.18980515131343048,
          -0.2607888334981154,
          0.12309005617302901,
          -0.9613662117952162,
          1.5594439426864284,
          -1.8056001287358012,
          0.1879022777003043,
          -0.2217419978576319,
          0.3246328437415449,
          1.9755178229918042,
          0.24152757962584273,
          1.3898145877791737,
          1.2858199934281518,
          -1.0539771815964754,
          0.6845038772589357,
          0.8905780603970622,
          0.6179681149817068,
          -0.21667771398662147,
          -0.6544294917494967,
          -0.8241053953579198,
          0.05260367036965441,
          0.31799378080482826,
          -0.7149185034657983,
          1.5172398152417168,
          -0.1761387447391769,
          -0.8515042828854458,
          -0.2958209023070441,
          0.4860297898822799,
          0.1446103302752632,
          -0.8630012960407375,
          -0.3223152116955873,
          1.013796534912856,
          1.8749221024843268,
          1.499963700651641,
          -1.010766440832659,
          1.3505810129289824,
          -2.2944897606251273,
          -0.35098807198386167,
          -0.3938159510420015,
          -1.1162831162773235,
          -0.2169638991094867,
          1.022221243175815,
          -1.5374674990625818,
          -0.8842052195054546,
          -1.3801778920213124,
          0.13176833764317908,
          0.5231622760831692,
          0.389454103963345,
          -0.4892891628743335,
          -0.3238767608634141,
          1.235267384509114,
          2.037906641880036,
          -0.013302238855699424,
          0.8568752212441185,
          -1.0459568341385515,
          0.522595272255502,
          0.9411212627918908,
          0.9199650514655823,
          -1.6191942836966133,
          -1.9586685246353996,
          1.0689312901903878,
          -1.9370383729226333,
          -1.3845933679280464,
          0.3436997547371127,
          0.058998429928741616,
          -2.191214248870023,
          -1.3821718292370635,
          1.7420073630666788,
          -0.337051825314482,
          0.30376723649932824,
          1.14355214682258,
          0.7374262514475121,
          -0.9431323526469871,
          -0.41666514816271005,
          -2.3661258246076695,
          0.2392742275914587,
          -1.564031720401776,
          -1.1628348852453154,
          0.0026442076440966952,
          -0.566262232195784,
          1.244210977162073,
          1.0974247709708622,
          1.3063935899056607,
          0.05651869215108525,
          0.46457112131701583,
          -0.3024349290311257,
          -0.680228301288789,
          0.7198723080305751,
          0.19126542960804854,
          -1.040540519874543,
          -0.40676317848873766,
          -0.8965490783851073,
          0.2218621165162884,
          -0.3335003420186325
         ],
         "yaxis": "y15"
        },
        {
         "histfunc": "count",
         "histnorm": "",
         "marker": {
          "color": "rgba(128, 0, 128, 1.0)",
          "line": {
           "color": "#4D5663",
           "width": 1.3
          }
         },
         "name": "D",
         "nbinsx": 10,
         "opacity": 0.8,
         "orientation": "v",
         "type": "histogram",
         "x": [
          -0.046516906807984405,
          -1.764033904858864,
          1.2668183942763993,
          -1.0569391286084147,
          2.0719559653770467,
          -0.5755666244104721,
          -0.18980515131343048,
          -0.2607888334981154,
          0.12309005617302901,
          -0.9613662117952162,
          1.5594439426864284,
          -1.8056001287358012,
          0.1879022777003043,
          -0.2217419978576319,
          0.3246328437415449,
          1.9755178229918042,
          0.24152757962584273,
          1.3898145877791737,
          1.2858199934281518,
          -1.0539771815964754,
          0.6845038772589357,
          0.8905780603970622,
          0.6179681149817068,
          -0.21667771398662147,
          -0.6544294917494967,
          -0.8241053953579198,
          0.05260367036965441,
          0.31799378080482826,
          -0.7149185034657983,
          1.5172398152417168,
          -0.1761387447391769,
          -0.8515042828854458,
          -0.2958209023070441,
          0.4860297898822799,
          0.1446103302752632,
          -0.8630012960407375,
          -0.3223152116955873,
          1.013796534912856,
          1.8749221024843268,
          1.499963700651641,
          -1.010766440832659,
          1.3505810129289824,
          -2.2944897606251273,
          -0.35098807198386167,
          -0.3938159510420015,
          -1.1162831162773235,
          -0.2169638991094867,
          1.022221243175815,
          -1.5374674990625818,
          -0.8842052195054546,
          -1.3801778920213124,
          0.13176833764317908,
          0.5231622760831692,
          0.389454103963345,
          -0.4892891628743335,
          -0.3238767608634141,
          1.235267384509114,
          2.037906641880036,
          -0.013302238855699424,
          0.8568752212441185,
          -1.0459568341385515,
          0.522595272255502,
          0.9411212627918908,
          0.9199650514655823,
          -1.6191942836966133,
          -1.9586685246353996,
          1.0689312901903878,
          -1.9370383729226333,
          -1.3845933679280464,
          0.3436997547371127,
          0.058998429928741616,
          -2.191214248870023,
          -1.3821718292370635,
          1.7420073630666788,
          -0.337051825314482,
          0.30376723649932824,
          1.14355214682258,
          0.7374262514475121,
          -0.9431323526469871,
          -0.41666514816271005,
          -2.3661258246076695,
          0.2392742275914587,
          -1.564031720401776,
          -1.1628348852453154,
          0.0026442076440966952,
          -0.566262232195784,
          1.244210977162073,
          1.0974247709708622,
          1.3063935899056607,
          0.05651869215108525,
          0.46457112131701583,
          -0.3024349290311257,
          -0.680228301288789,
          0.7198723080305751,
          0.19126542960804854,
          -1.040540519874543,
          -0.40676317848873766,
          -0.8965490783851073,
          0.2218621165162884,
          -0.3335003420186325
         ],
         "xaxis": "x16",
         "yaxis": "y16"
        }
       ],
       "layout": {
        "bargap": 0.02,
        "legend": {
         "bgcolor": "#F5F6F9",
         "font": {
          "color": "#4D5663"
         }
        },
        "paper_bgcolor": "#F5F6F9",
        "plot_bgcolor": "#F5F6F9",
        "showlegend": false,
        "template": {
         "data": {
          "bar": [
           {
            "error_x": {
             "color": "#2a3f5f"
            },
            "error_y": {
             "color": "#2a3f5f"
            },
            "marker": {
             "line": {
              "color": "#E5ECF6",
              "width": 0.5
             },
             "pattern": {
              "fillmode": "overlay",
              "size": 10,
              "solidity": 0.2
             }
            },
            "type": "bar"
           }
          ],
          "barpolar": [
           {
            "marker": {
             "line": {
              "color": "#E5ECF6",
              "width": 0.5
             },
             "pattern": {
              "fillmode": "overlay",
              "size": 10,
              "solidity": 0.2
             }
            },
            "type": "barpolar"
           }
          ],
          "carpet": [
           {
            "aaxis": {
             "endlinecolor": "#2a3f5f",
             "gridcolor": "white",
             "linecolor": "white",
             "minorgridcolor": "white",
             "startlinecolor": "#2a3f5f"
            },
            "baxis": {
             "endlinecolor": "#2a3f5f",
             "gridcolor": "white",
             "linecolor": "white",
             "minorgridcolor": "white",
             "startlinecolor": "#2a3f5f"
            },
            "type": "carpet"
           }
          ],
          "choropleth": [
           {
            "colorbar": {
             "outlinewidth": 0,
             "ticks": ""
            },
            "type": "choropleth"
           }
          ],
          "contour": [
           {
            "colorbar": {
             "outlinewidth": 0,
             "ticks": ""
            },
            "colorscale": [
             [
              0,
              "#0d0887"
             ],
             [
              0.1111111111111111,
              "#46039f"
             ],
             [
              0.2222222222222222,
              "#7201a8"
             ],
             [
              0.3333333333333333,
              "#9c179e"
             ],
             [
              0.4444444444444444,
              "#bd3786"
             ],
             [
              0.5555555555555556,
              "#d8576b"
             ],
             [
              0.6666666666666666,
              "#ed7953"
             ],
             [
              0.7777777777777778,
              "#fb9f3a"
             ],
             [
              0.8888888888888888,
              "#fdca26"
             ],
             [
              1,
              "#f0f921"
             ]
            ],
            "type": "contour"
           }
          ],
          "contourcarpet": [
           {
            "colorbar": {
             "outlinewidth": 0,
             "ticks": ""
            },
            "type": "contourcarpet"
           }
          ],
          "heatmap": [
           {
            "colorbar": {
             "outlinewidth": 0,
             "ticks": ""
            },
            "colorscale": [
             [
              0,
              "#0d0887"
             ],
             [
              0.1111111111111111,
              "#46039f"
             ],
             [
              0.2222222222222222,
              "#7201a8"
             ],
             [
              0.3333333333333333,
              "#9c179e"
             ],
             [
              0.4444444444444444,
              "#bd3786"
             ],
             [
              0.5555555555555556,
              "#d8576b"
             ],
             [
              0.6666666666666666,
              "#ed7953"
             ],
             [
              0.7777777777777778,
              "#fb9f3a"
             ],
             [
              0.8888888888888888,
              "#fdca26"
             ],
             [
              1,
              "#f0f921"
             ]
            ],
            "type": "heatmap"
           }
          ],
          "heatmapgl": [
           {
            "colorbar": {
             "outlinewidth": 0,
             "ticks": ""
            },
            "colorscale": [
             [
              0,
              "#0d0887"
             ],
             [
              0.1111111111111111,
              "#46039f"
             ],
             [
              0.2222222222222222,
              "#7201a8"
             ],
             [
              0.3333333333333333,
              "#9c179e"
             ],
             [
              0.4444444444444444,
              "#bd3786"
             ],
             [
              0.5555555555555556,
              "#d8576b"
             ],
             [
              0.6666666666666666,
              "#ed7953"
             ],
             [
              0.7777777777777778,
              "#fb9f3a"
             ],
             [
              0.8888888888888888,
              "#fdca26"
             ],
             [
              1,
              "#f0f921"
             ]
            ],
            "type": "heatmapgl"
           }
          ],
          "histogram": [
           {
            "marker": {
             "pattern": {
              "fillmode": "overlay",
              "size": 10,
              "solidity": 0.2
             }
            },
            "type": "histogram"
           }
          ],
          "histogram2d": [
           {
            "colorbar": {
             "outlinewidth": 0,
             "ticks": ""
            },
            "colorscale": [
             [
              0,
              "#0d0887"
             ],
             [
              0.1111111111111111,
              "#46039f"
             ],
             [
              0.2222222222222222,
              "#7201a8"
             ],
             [
              0.3333333333333333,
              "#9c179e"
             ],
             [
              0.4444444444444444,
              "#bd3786"
             ],
             [
              0.5555555555555556,
              "#d8576b"
             ],
             [
              0.6666666666666666,
              "#ed7953"
             ],
             [
              0.7777777777777778,
              "#fb9f3a"
             ],
             [
              0.8888888888888888,
              "#fdca26"
             ],
             [
              1,
              "#f0f921"
             ]
            ],
            "type": "histogram2d"
           }
          ],
          "histogram2dcontour": [
           {
            "colorbar": {
             "outlinewidth": 0,
             "ticks": ""
            },
            "colorscale": [
             [
              0,
              "#0d0887"
             ],
             [
              0.1111111111111111,
              "#46039f"
             ],
             [
              0.2222222222222222,
              "#7201a8"
             ],
             [
              0.3333333333333333,
              "#9c179e"
             ],
             [
              0.4444444444444444,
              "#bd3786"
             ],
             [
              0.5555555555555556,
              "#d8576b"
             ],
             [
              0.6666666666666666,
              "#ed7953"
             ],
             [
              0.7777777777777778,
              "#fb9f3a"
             ],
             [
              0.8888888888888888,
              "#fdca26"
             ],
             [
              1,
              "#f0f921"
             ]
            ],
            "type": "histogram2dcontour"
           }
          ],
          "mesh3d": [
           {
            "colorbar": {
             "outlinewidth": 0,
             "ticks": ""
            },
            "type": "mesh3d"
           }
          ],
          "parcoords": [
           {
            "line": {
             "colorbar": {
              "outlinewidth": 0,
              "ticks": ""
             }
            },
            "type": "parcoords"
           }
          ],
          "pie": [
           {
            "automargin": true,
            "type": "pie"
           }
          ],
          "scatter": [
           {
            "fillpattern": {
             "fillmode": "overlay",
             "size": 10,
             "solidity": 0.2
            },
            "type": "scatter"
           }
          ],
          "scatter3d": [
           {
            "line": {
             "colorbar": {
              "outlinewidth": 0,
              "ticks": ""
             }
            },
            "marker": {
             "colorbar": {
              "outlinewidth": 0,
              "ticks": ""
             }
            },
            "type": "scatter3d"
           }
          ],
          "scattercarpet": [
           {
            "marker": {
             "colorbar": {
              "outlinewidth": 0,
              "ticks": ""
             }
            },
            "type": "scattercarpet"
           }
          ],
          "scattergeo": [
           {
            "marker": {
             "colorbar": {
              "outlinewidth": 0,
              "ticks": ""
             }
            },
            "type": "scattergeo"
           }
          ],
          "scattergl": [
           {
            "marker": {
             "colorbar": {
              "outlinewidth": 0,
              "ticks": ""
             }
            },
            "type": "scattergl"
           }
          ],
          "scattermapbox": [
           {
            "marker": {
             "colorbar": {
              "outlinewidth": 0,
              "ticks": ""
             }
            },
            "type": "scattermapbox"
           }
          ],
          "scatterpolar": [
           {
            "marker": {
             "colorbar": {
              "outlinewidth": 0,
              "ticks": ""
             }
            },
            "type": "scatterpolar"
           }
          ],
          "scatterpolargl": [
           {
            "marker": {
             "colorbar": {
              "outlinewidth": 0,
              "ticks": ""
             }
            },
            "type": "scatterpolargl"
           }
          ],
          "scatterternary": [
           {
            "marker": {
             "colorbar": {
              "outlinewidth": 0,
              "ticks": ""
             }
            },
            "type": "scatterternary"
           }
          ],
          "surface": [
           {
            "colorbar": {
             "outlinewidth": 0,
             "ticks": ""
            },
            "colorscale": [
             [
              0,
              "#0d0887"
             ],
             [
              0.1111111111111111,
              "#46039f"
             ],
             [
              0.2222222222222222,
              "#7201a8"
             ],
             [
              0.3333333333333333,
              "#9c179e"
             ],
             [
              0.4444444444444444,
              "#bd3786"
             ],
             [
              0.5555555555555556,
              "#d8576b"
             ],
             [
              0.6666666666666666,
              "#ed7953"
             ],
             [
              0.7777777777777778,
              "#fb9f3a"
             ],
             [
              0.8888888888888888,
              "#fdca26"
             ],
             [
              1,
              "#f0f921"
             ]
            ],
            "type": "surface"
           }
          ],
          "table": [
           {
            "cells": {
             "fill": {
              "color": "#EBF0F8"
             },
             "line": {
              "color": "white"
             }
            },
            "header": {
             "fill": {
              "color": "#C8D4E3"
             },
             "line": {
              "color": "white"
             }
            },
            "type": "table"
           }
          ]
         },
         "layout": {
          "annotationdefaults": {
           "arrowcolor": "#2a3f5f",
           "arrowhead": 0,
           "arrowwidth": 1
          },
          "autotypenumbers": "strict",
          "coloraxis": {
           "colorbar": {
            "outlinewidth": 0,
            "ticks": ""
           }
          },
          "colorscale": {
           "diverging": [
            [
             0,
             "#8e0152"
            ],
            [
             0.1,
             "#c51b7d"
            ],
            [
             0.2,
             "#de77ae"
            ],
            [
             0.3,
             "#f1b6da"
            ],
            [
             0.4,
             "#fde0ef"
            ],
            [
             0.5,
             "#f7f7f7"
            ],
            [
             0.6,
             "#e6f5d0"
            ],
            [
             0.7,
             "#b8e186"
            ],
            [
             0.8,
             "#7fbc41"
            ],
            [
             0.9,
             "#4d9221"
            ],
            [
             1,
             "#276419"
            ]
           ],
           "sequential": [
            [
             0,
             "#0d0887"
            ],
            [
             0.1111111111111111,
             "#46039f"
            ],
            [
             0.2222222222222222,
             "#7201a8"
            ],
            [
             0.3333333333333333,
             "#9c179e"
            ],
            [
             0.4444444444444444,
             "#bd3786"
            ],
            [
             0.5555555555555556,
             "#d8576b"
            ],
            [
             0.6666666666666666,
             "#ed7953"
            ],
            [
             0.7777777777777778,
             "#fb9f3a"
            ],
            [
             0.8888888888888888,
             "#fdca26"
            ],
            [
             1,
             "#f0f921"
            ]
           ],
           "sequentialminus": [
            [
             0,
             "#0d0887"
            ],
            [
             0.1111111111111111,
             "#46039f"
            ],
            [
             0.2222222222222222,
             "#7201a8"
            ],
            [
             0.3333333333333333,
             "#9c179e"
            ],
            [
             0.4444444444444444,
             "#bd3786"
            ],
            [
             0.5555555555555556,
             "#d8576b"
            ],
            [
             0.6666666666666666,
             "#ed7953"
            ],
            [
             0.7777777777777778,
             "#fb9f3a"
            ],
            [
             0.8888888888888888,
             "#fdca26"
            ],
            [
             1,
             "#f0f921"
            ]
           ]
          },
          "colorway": [
           "#636efa",
           "#EF553B",
           "#00cc96",
           "#ab63fa",
           "#FFA15A",
           "#19d3f3",
           "#FF6692",
           "#B6E880",
           "#FF97FF",
           "#FECB52"
          ],
          "font": {
           "color": "#2a3f5f"
          },
          "geo": {
           "bgcolor": "white",
           "lakecolor": "white",
           "landcolor": "#E5ECF6",
           "showlakes": true,
           "showland": true,
           "subunitcolor": "white"
          },
          "hoverlabel": {
           "align": "left"
          },
          "hovermode": "closest",
          "mapbox": {
           "style": "light"
          },
          "paper_bgcolor": "white",
          "plot_bgcolor": "#E5ECF6",
          "polar": {
           "angularaxis": {
            "gridcolor": "white",
            "linecolor": "white",
            "ticks": ""
           },
           "bgcolor": "#E5ECF6",
           "radialaxis": {
            "gridcolor": "white",
            "linecolor": "white",
            "ticks": ""
           }
          },
          "scene": {
           "xaxis": {
            "backgroundcolor": "#E5ECF6",
            "gridcolor": "white",
            "gridwidth": 2,
            "linecolor": "white",
            "showbackground": true,
            "ticks": "",
            "zerolinecolor": "white"
           },
           "yaxis": {
            "backgroundcolor": "#E5ECF6",
            "gridcolor": "white",
            "gridwidth": 2,
            "linecolor": "white",
            "showbackground": true,
            "ticks": "",
            "zerolinecolor": "white"
           },
           "zaxis": {
            "backgroundcolor": "#E5ECF6",
            "gridcolor": "white",
            "gridwidth": 2,
            "linecolor": "white",
            "showbackground": true,
            "ticks": "",
            "zerolinecolor": "white"
           }
          },
          "shapedefaults": {
           "line": {
            "color": "#2a3f5f"
           }
          },
          "ternary": {
           "aaxis": {
            "gridcolor": "white",
            "linecolor": "white",
            "ticks": ""
           },
           "baxis": {
            "gridcolor": "white",
            "linecolor": "white",
            "ticks": ""
           },
           "bgcolor": "#E5ECF6",
           "caxis": {
            "gridcolor": "white",
            "linecolor": "white",
            "ticks": ""
           }
          },
          "title": {
           "x": 0.05
          },
          "xaxis": {
           "automargin": true,
           "gridcolor": "white",
           "linecolor": "white",
           "ticks": "",
           "title": {
            "standoff": 15
           },
           "zerolinecolor": "white",
           "zerolinewidth": 2
          },
          "yaxis": {
           "automargin": true,
           "gridcolor": "white",
           "linecolor": "white",
           "ticks": "",
           "title": {
            "standoff": 15
           },
           "zerolinecolor": "white",
           "zerolinewidth": 2
          }
         }
        },
        "title": {
         "font": {
          "color": "#4D5663"
         }
        },
        "xaxis": {
         "anchor": "y",
         "domain": [
          0,
          0.2125
         ],
         "gridcolor": "#E1E5ED",
         "showgrid": false,
         "tickfont": {
          "color": "#4D5663"
         },
         "title": {
          "font": {
           "color": "#4D5663"
          },
          "text": ""
         },
         "zerolinecolor": "#E1E5ED"
        },
        "xaxis10": {
         "anchor": "y10",
         "domain": [
          0.2625,
          0.475
         ],
         "gridcolor": "#E1E5ED",
         "showgrid": false,
         "tickfont": {
          "color": "#4D5663"
         },
         "title": {
          "font": {
           "color": "#4D5663"
          },
          "text": ""
         },
         "zerolinecolor": "#E1E5ED"
        },
        "xaxis11": {
         "anchor": "y11",
         "domain": [
          0.525,
          0.7375
         ],
         "gridcolor": "#E1E5ED",
         "showgrid": false,
         "tickfont": {
          "color": "#4D5663"
         },
         "title": {
          "font": {
           "color": "#4D5663"
          },
          "text": ""
         },
         "zerolinecolor": "#E1E5ED"
        },
        "xaxis12": {
         "anchor": "y12",
         "domain": [
          0.7875,
          1
         ],
         "gridcolor": "#E1E5ED",
         "showgrid": false,
         "tickfont": {
          "color": "#4D5663"
         },
         "title": {
          "font": {
           "color": "#4D5663"
          },
          "text": ""
         },
         "zerolinecolor": "#E1E5ED"
        },
        "xaxis13": {
         "anchor": "y13",
         "domain": [
          0,
          0.2125
         ],
         "gridcolor": "#E1E5ED",
         "showgrid": false,
         "tickfont": {
          "color": "#4D5663"
         },
         "title": {
          "font": {
           "color": "#4D5663"
          },
          "text": ""
         },
         "zerolinecolor": "#E1E5ED"
        },
        "xaxis14": {
         "anchor": "y14",
         "domain": [
          0.2625,
          0.475
         ],
         "gridcolor": "#E1E5ED",
         "showgrid": false,
         "tickfont": {
          "color": "#4D5663"
         },
         "title": {
          "font": {
           "color": "#4D5663"
          },
          "text": ""
         },
         "zerolinecolor": "#E1E5ED"
        },
        "xaxis15": {
         "anchor": "y15",
         "domain": [
          0.525,
          0.7375
         ],
         "gridcolor": "#E1E5ED",
         "showgrid": false,
         "tickfont": {
          "color": "#4D5663"
         },
         "title": {
          "font": {
           "color": "#4D5663"
          },
          "text": ""
         },
         "zerolinecolor": "#E1E5ED"
        },
        "xaxis16": {
         "anchor": "y16",
         "domain": [
          0.7875,
          1
         ],
         "gridcolor": "#E1E5ED",
         "showgrid": false,
         "tickfont": {
          "color": "#4D5663"
         },
         "title": {
          "font": {
           "color": "#4D5663"
          },
          "text": ""
         },
         "zerolinecolor": "#E1E5ED"
        },
        "xaxis2": {
         "anchor": "y2",
         "domain": [
          0.2625,
          0.475
         ],
         "gridcolor": "#E1E5ED",
         "showgrid": false,
         "tickfont": {
          "color": "#4D5663"
         },
         "title": {
          "font": {
           "color": "#4D5663"
          },
          "text": ""
         },
         "zerolinecolor": "#E1E5ED"
        },
        "xaxis3": {
         "anchor": "y3",
         "domain": [
          0.525,
          0.7375
         ],
         "gridcolor": "#E1E5ED",
         "showgrid": false,
         "tickfont": {
          "color": "#4D5663"
         },
         "title": {
          "font": {
           "color": "#4D5663"
          },
          "text": ""
         },
         "zerolinecolor": "#E1E5ED"
        },
        "xaxis4": {
         "anchor": "y4",
         "domain": [
          0.7875,
          1
         ],
         "gridcolor": "#E1E5ED",
         "showgrid": false,
         "tickfont": {
          "color": "#4D5663"
         },
         "title": {
          "font": {
           "color": "#4D5663"
          },
          "text": ""
         },
         "zerolinecolor": "#E1E5ED"
        },
        "xaxis5": {
         "anchor": "y5",
         "domain": [
          0,
          0.2125
         ],
         "gridcolor": "#E1E5ED",
         "showgrid": false,
         "tickfont": {
          "color": "#4D5663"
         },
         "title": {
          "font": {
           "color": "#4D5663"
          },
          "text": ""
         },
         "zerolinecolor": "#E1E5ED"
        },
        "xaxis6": {
         "anchor": "y6",
         "domain": [
          0.2625,
          0.475
         ],
         "gridcolor": "#E1E5ED",
         "showgrid": false,
         "tickfont": {
          "color": "#4D5663"
         },
         "title": {
          "font": {
           "color": "#4D5663"
          },
          "text": ""
         },
         "zerolinecolor": "#E1E5ED"
        },
        "xaxis7": {
         "anchor": "y7",
         "domain": [
          0.525,
          0.7375
         ],
         "gridcolor": "#E1E5ED",
         "showgrid": false,
         "tickfont": {
          "color": "#4D5663"
         },
         "title": {
          "font": {
           "color": "#4D5663"
          },
          "text": ""
         },
         "zerolinecolor": "#E1E5ED"
        },
        "xaxis8": {
         "anchor": "y8",
         "domain": [
          0.7875,
          1
         ],
         "gridcolor": "#E1E5ED",
         "showgrid": false,
         "tickfont": {
          "color": "#4D5663"
         },
         "title": {
          "font": {
           "color": "#4D5663"
          },
          "text": ""
         },
         "zerolinecolor": "#E1E5ED"
        },
        "xaxis9": {
         "anchor": "y9",
         "domain": [
          0,
          0.2125
         ],
         "gridcolor": "#E1E5ED",
         "showgrid": false,
         "tickfont": {
          "color": "#4D5663"
         },
         "title": {
          "font": {
           "color": "#4D5663"
          },
          "text": ""
         },
         "zerolinecolor": "#E1E5ED"
        },
        "yaxis": {
         "anchor": "x",
         "domain": [
          0.8025,
          1
         ],
         "gridcolor": "#E1E5ED",
         "showgrid": false,
         "tickfont": {
          "color": "#4D5663"
         },
         "title": {
          "font": {
           "color": "#4D5663"
          },
          "text": ""
         },
         "zerolinecolor": "#E1E5ED"
        },
        "yaxis10": {
         "anchor": "x10",
         "domain": [
          0.2675,
          0.465
         ],
         "gridcolor": "#E1E5ED",
         "showgrid": false,
         "tickfont": {
          "color": "#4D5663"
         },
         "title": {
          "font": {
           "color": "#4D5663"
          },
          "text": ""
         },
         "zerolinecolor": "#E1E5ED"
        },
        "yaxis11": {
         "anchor": "x11",
         "domain": [
          0.2675,
          0.465
         ],
         "gridcolor": "#E1E5ED",
         "showgrid": false,
         "tickfont": {
          "color": "#4D5663"
         },
         "title": {
          "font": {
           "color": "#4D5663"
          },
          "text": ""
         },
         "zerolinecolor": "#E1E5ED"
        },
        "yaxis12": {
         "anchor": "x12",
         "domain": [
          0.2675,
          0.465
         ],
         "gridcolor": "#E1E5ED",
         "showgrid": false,
         "tickfont": {
          "color": "#4D5663"
         },
         "title": {
          "font": {
           "color": "#4D5663"
          },
          "text": ""
         },
         "zerolinecolor": "#E1E5ED"
        },
        "yaxis13": {
         "anchor": "x13",
         "domain": [
          0,
          0.1975
         ],
         "gridcolor": "#E1E5ED",
         "showgrid": false,
         "tickfont": {
          "color": "#4D5663"
         },
         "title": {
          "font": {
           "color": "#4D5663"
          },
          "text": ""
         },
         "zerolinecolor": "#E1E5ED"
        },
        "yaxis14": {
         "anchor": "x14",
         "domain": [
          0,
          0.1975
         ],
         "gridcolor": "#E1E5ED",
         "showgrid": false,
         "tickfont": {
          "color": "#4D5663"
         },
         "title": {
          "font": {
           "color": "#4D5663"
          },
          "text": ""
         },
         "zerolinecolor": "#E1E5ED"
        },
        "yaxis15": {
         "anchor": "x15",
         "domain": [
          0,
          0.1975
         ],
         "gridcolor": "#E1E5ED",
         "showgrid": false,
         "tickfont": {
          "color": "#4D5663"
         },
         "title": {
          "font": {
           "color": "#4D5663"
          },
          "text": ""
         },
         "zerolinecolor": "#E1E5ED"
        },
        "yaxis16": {
         "anchor": "x16",
         "domain": [
          0,
          0.1975
         ],
         "gridcolor": "#E1E5ED",
         "showgrid": false,
         "tickfont": {
          "color": "#4D5663"
         },
         "title": {
          "font": {
           "color": "#4D5663"
          },
          "text": ""
         },
         "zerolinecolor": "#E1E5ED"
        },
        "yaxis2": {
         "anchor": "x2",
         "domain": [
          0.8025,
          1
         ],
         "gridcolor": "#E1E5ED",
         "showgrid": false,
         "tickfont": {
          "color": "#4D5663"
         },
         "title": {
          "font": {
           "color": "#4D5663"
          },
          "text": ""
         },
         "zerolinecolor": "#E1E5ED"
        },
        "yaxis3": {
         "anchor": "x3",
         "domain": [
          0.8025,
          1
         ],
         "gridcolor": "#E1E5ED",
         "showgrid": false,
         "tickfont": {
          "color": "#4D5663"
         },
         "title": {
          "font": {
           "color": "#4D5663"
          },
          "text": ""
         },
         "zerolinecolor": "#E1E5ED"
        },
        "yaxis4": {
         "anchor": "x4",
         "domain": [
          0.8025,
          1
         ],
         "gridcolor": "#E1E5ED",
         "showgrid": false,
         "tickfont": {
          "color": "#4D5663"
         },
         "title": {
          "font": {
           "color": "#4D5663"
          },
          "text": ""
         },
         "zerolinecolor": "#E1E5ED"
        },
        "yaxis5": {
         "anchor": "x5",
         "domain": [
          0.535,
          0.7325
         ],
         "gridcolor": "#E1E5ED",
         "showgrid": false,
         "tickfont": {
          "color": "#4D5663"
         },
         "title": {
          "font": {
           "color": "#4D5663"
          },
          "text": ""
         },
         "zerolinecolor": "#E1E5ED"
        },
        "yaxis6": {
         "anchor": "x6",
         "domain": [
          0.535,
          0.7325
         ],
         "gridcolor": "#E1E5ED",
         "showgrid": false,
         "tickfont": {
          "color": "#4D5663"
         },
         "title": {
          "font": {
           "color": "#4D5663"
          },
          "text": ""
         },
         "zerolinecolor": "#E1E5ED"
        },
        "yaxis7": {
         "anchor": "x7",
         "domain": [
          0.535,
          0.7325
         ],
         "gridcolor": "#E1E5ED",
         "showgrid": false,
         "tickfont": {
          "color": "#4D5663"
         },
         "title": {
          "font": {
           "color": "#4D5663"
          },
          "text": ""
         },
         "zerolinecolor": "#E1E5ED"
        },
        "yaxis8": {
         "anchor": "x8",
         "domain": [
          0.535,
          0.7325
         ],
         "gridcolor": "#E1E5ED",
         "showgrid": false,
         "tickfont": {
          "color": "#4D5663"
         },
         "title": {
          "font": {
           "color": "#4D5663"
          },
          "text": ""
         },
         "zerolinecolor": "#E1E5ED"
        },
        "yaxis9": {
         "anchor": "x9",
         "domain": [
          0.2675,
          0.465
         ],
         "gridcolor": "#E1E5ED",
         "showgrid": false,
         "tickfont": {
          "color": "#4D5663"
         },
         "title": {
          "font": {
           "color": "#4D5663"
          },
          "text": ""
         },
         "zerolinecolor": "#E1E5ED"
        }
       }
      },
      "text/html": [
       "<div>                            <div id=\"80fff2c5-d6db-4358-a185-89e7ff9c7c90\" class=\"plotly-graph-div\" style=\"height:525px; width:100%;\"></div>            <script type=\"text/javascript\">                require([\"plotly\"], function(Plotly) {                    window.PLOTLYENV=window.PLOTLYENV || {};\n",
       "                    window.PLOTLYENV.BASE_URL='https://plot.ly';                                    if (document.getElementById(\"80fff2c5-d6db-4358-a185-89e7ff9c7c90\")) {                    Plotly.newPlot(                        \"80fff2c5-d6db-4358-a185-89e7ff9c7c90\",                        [{\"histfunc\":\"count\",\"histnorm\":\"\",\"marker\":{\"color\":\"rgba(255, 153, 51, 1.0)\",\"line\":{\"color\":\"#4D5663\",\"width\":1.3}},\"name\":\"A\",\"nbinsx\":10,\"opacity\":0.8,\"orientation\":\"v\",\"x\":[1.9785474803328607,1.0092268487548832,-1.225013157557364,-1.7571929080727824,-0.3510321902033087,1.4100616476100398,-0.7107709961502106,-0.23874519373105246,1.2373841410062967,0.8323615939275861,-0.9041212935899998,1.0134132263520905,-0.48501594051186303,0.10711805122591342,1.053211572931562,1.8747476432241057,-1.6935363858985157,-0.2608680773992978,1.6883554154984184,0.7485058415919015,0.9786366361762188,-0.3085510438136002,-0.9304657253362264,0.6037118838048389,0.6245447736656713,1.2385002099949525,-0.7097874554477298,0.5823549670983328,-0.35803780976590854,1.5491322960816853,1.53807985352257,2.404581495249531,-0.9652410635551554,-0.47589035741556557,1.6683681176793281,-0.8476670562828995,-0.6211176310350959,-0.652231375444704,0.9359531059469797,-1.6020033412254073,0.31985344042035896,0.46587917758063924,-0.16268949490112863,-0.46277578442258077,0.058282399822782646,0.46307447698305676,0.3224978075603298,0.11526650280798287,-0.7692957618827033,-0.35826300853537124,-2.641779265896877,1.7247231795571583,0.3673705260306855,0.09276272084379551,-0.18472477320008263,-1.6970613031028194,0.1843645004161003,0.5921046508039165,0.784867163116174,0.035674674097062015,-1.0077029572479506,0.7461447282062237,-0.5868772103780041,-0.568107392843018,0.12065140233307468,-0.8069255129179801,-1.8704940936796401,-0.7404711419618509,-0.5983897510208666,1.7050616932429972,-0.9258406850844257,-0.22291973386169947,0.38082614288418576,-0.2256843255911952,-0.6287074591394933,2.394235061047817,0.668169433872653,0.9968613105270926,-1.032969040321864,2.164652725086726,0.15323306330310169,-0.5445996973395306,-0.4038606332641512,0.8909069835088288,0.197832202834394,-0.20753647433224323,-1.696035375361601,2.915074338040306,1.4848354580604801,0.4129310916479309,-0.5841717881041785,1.1138237134791464,-0.6351696242421287,-0.4751255037732066,-0.23049971038152886,0.07740486985743174,0.3266324105276788,-0.18148747202789775,0.18998088567144913,-0.18618896527839632],\"xaxis\":\"x\",\"yaxis\":\"y\",\"type\":\"histogram\"},{\"line\":{\"color\":\"rgba(128, 128, 128, 1.0)\",\"dash\":\"solid\",\"shape\":\"linear\",\"width\":1.3},\"marker\":{\"size\":2,\"symbol\":\"circle\"},\"mode\":\"markers\",\"name\":\"A\",\"text\":\"\",\"x\":[-1.5702617948214266,0.12942604733102087,-1.2169678178307737,-1.2778014589549243,1.8237927091633785,0.0983300722187688,-1.4867525497879113,0.25751460492347245,-0.8675529082563131,1.234516185844747,1.2849289284666068,-0.02214928596425894,1.8045203915299464,-0.2717929080799078,0.28282897890794684,0.4891061282687007,0.5443993907148782,0.03664611008771916,-1.4003908791201083,0.48765519178484606,0.7410222490313609,0.6552416409680061,0.7752657653055114,0.16471296627787774,-0.9082756830220291,-0.8942021456626656,-0.11711820349957816,1.3045192026835244,0.47610209947548787,-0.893996522001287,-1.9640426395138464,0.43177799306761144,0.2124861930961608,-0.26810503189773915,-0.2917277248112427,1.0600995580385186,-0.09616546623536769,0.009831686166474143,0.12449032978094596,1.0276096444007707,-1.0254918006858438,-0.491665530209502,-1.1532845391864175,0.7743603622969015,0.5015434994983705,-2.670307417221883,-1.2579742785445271,1.4905247530153953,-0.40082727355775954,0.013203193429966736,0.1478919810858192,1.8112635179969534,-1.5139512301237585,1.018692288823052,-1.1012653901407132,-0.5820767909418454,-1.4139610051553735,0.01755357736561984,0.5146723862357394,-0.1209274245317748,-0.491205835395233,0.0022244209716448093,-0.4631825451744534,0.907113410788158,-2.6207466340129444,0.4905596334180495,1.2439976629035,1.3620583916014237,-0.19132402487449365,2.2972892403697673,-1.1367556296822485,0.7947113392733698,0.5105297809039376,0.9137443265637776,0.9924360158790626,0.9138885179435232,-0.25964561644063744,-1.959604933558067,-0.6889732022152018,-0.3191836910416321,0.07420510684222735,-1.9129165314678132,0.3526977808732218,-1.4994800777658641,0.3742016214330207,-0.7211513000095967,-0.961856771165803,0.7952332385174912,1.0987584252515978,-1.684638463358606,-0.13351592575428659,0.5041206166281047,-0.24754116237098892,-2.396950493369511,0.3509411161599187,-0.14041401285102192,0.650789056470859,-0.8620434947700216,0.11914014339928516,-0.6736618243248493],\"xaxis\":\"x2\",\"y\":[1.9785474803328607,1.0092268487548832,-1.225013157557364,-1.7571929080727824,-0.3510321902033087,1.4100616476100398,-0.7107709961502106,-0.23874519373105246,1.2373841410062967,0.8323615939275861,-0.9041212935899998,1.0134132263520905,-0.48501594051186303,0.10711805122591342,1.053211572931562,1.8747476432241057,-1.6935363858985157,-0.2608680773992978,1.6883554154984184,0.7485058415919015,0.9786366361762188,-0.3085510438136002,-0.9304657253362264,0.6037118838048389,0.6245447736656713,1.2385002099949525,-0.7097874554477298,0.5823549670983328,-0.35803780976590854,1.5491322960816853,1.53807985352257,2.404581495249531,-0.9652410635551554,-0.47589035741556557,1.6683681176793281,-0.8476670562828995,-0.6211176310350959,-0.652231375444704,0.9359531059469797,-1.6020033412254073,0.31985344042035896,0.46587917758063924,-0.16268949490112863,-0.46277578442258077,0.058282399822782646,0.46307447698305676,0.3224978075603298,0.11526650280798287,-0.7692957618827033,-0.35826300853537124,-2.641779265896877,1.7247231795571583,0.3673705260306855,0.09276272084379551,-0.18472477320008263,-1.6970613031028194,0.1843645004161003,0.5921046508039165,0.784867163116174,0.035674674097062015,-1.0077029572479506,0.7461447282062237,-0.5868772103780041,-0.568107392843018,0.12065140233307468,-0.8069255129179801,-1.8704940936796401,-0.7404711419618509,-0.5983897510208666,1.7050616932429972,-0.9258406850844257,-0.22291973386169947,0.38082614288418576,-0.2256843255911952,-0.6287074591394933,2.394235061047817,0.668169433872653,0.9968613105270926,-1.032969040321864,2.164652725086726,0.15323306330310169,-0.5445996973395306,-0.4038606332641512,0.8909069835088288,0.197832202834394,-0.20753647433224323,-1.696035375361601,2.915074338040306,1.4848354580604801,0.4129310916479309,-0.5841717881041785,1.1138237134791464,-0.6351696242421287,-0.4751255037732066,-0.23049971038152886,0.07740486985743174,0.3266324105276788,-0.18148747202789775,0.18998088567144913,-0.18618896527839632],\"yaxis\":\"y2\",\"type\":\"scatter\"},{\"line\":{\"color\":\"rgba(128, 128, 128, 1.0)\",\"dash\":\"solid\",\"shape\":\"linear\",\"width\":1.3},\"marker\":{\"size\":2,\"symbol\":\"circle\"},\"mode\":\"markers\",\"name\":\"A\",\"text\":\"\",\"x\":[0.18856495400514253,-0.9578421507991861,-0.02036781403333026,-0.6069914307030784,0.09842160312153832,0.030535455561639075,-0.26450887295955683,-0.5311236196165268,0.787187627995759,0.3825374824741036,0.3889539683709063,1.1754927631211232,0.6040510045091236,1.5036900403980762,0.7494611569341438,1.0786862363974168,0.2556556398148715,0.8597672181574428,0.4030471720466067,0.7394252420005483,-0.08778330501298419,0.43605578439404,-0.5750782287709368,0.8531061941031274,0.7081431179498274,-0.6217453362157765,-0.11632079281110175,-1.1685313930801433,0.6628124534801917,0.061300188460506284,-0.9118611240050505,-0.827729334487359,-1.5656357393727327,-0.25695057062235693,-0.12035817279673999,-0.8620240114053124,0.7329520324375339,-2.295604382007167,0.11261436495166273,-2.310490122285268,0.4704543688232888,0.23859731345603535,-0.8398572439208553,0.009554086999037415,0.24997065650679567,-0.8390718789643391,0.7942626667524763,-0.5522439617837457,-2.0886239043009898,0.05492800964056952,0.8019591313244562,-0.3538454647640866,0.21339579379845683,-0.2926505183721297,1.1860418422261745,-0.20119829797773575,0.22828519503252298,0.4966301806568243,1.5338652444000096,0.3870831517537001,-0.9028593738996418,-0.7160605473491861,-0.6352347594642135,-0.19744951889144655,-0.7587475103425411,1.472683971291497,-0.4214928231394391,-0.614558873488455,1.0487773353585246,-0.27531683057699535,1.0339774220499915,-0.36554490988557403,-0.04159254060417178,-0.24629703385239454,-1.9836825726651135,-0.09095340148596404,1.22427216992178,-0.6759742004052892,-1.2447323344608514,0.4198610975109645,1.9617588024633907,0.6278559955345764,-0.23641077800572932,-0.3740505001472074,-0.48720868479607976,0.6632974460099765,0.9628054495678843,0.8615346474883159,-0.717307106393296,0.2866210796136707,-0.5015448456231866,-0.09872602755137291,1.9717972540520265,-0.4586715354974484,1.9051295985297643,-1.13066958951519,0.3494699410249197,-0.4253507507808615,-0.026046450191851683,0.7203732165564561],\"xaxis\":\"x3\",\"y\":[1.9785474803328607,1.0092268487548832,-1.225013157557364,-1.7571929080727824,-0.3510321902033087,1.4100616476100398,-0.7107709961502106,-0.23874519373105246,1.2373841410062967,0.8323615939275861,-0.9041212935899998,1.0134132263520905,-0.48501594051186303,0.10711805122591342,1.053211572931562,1.8747476432241057,-1.6935363858985157,-0.2608680773992978,1.6883554154984184,0.7485058415919015,0.9786366361762188,-0.3085510438136002,-0.9304657253362264,0.6037118838048389,0.6245447736656713,1.2385002099949525,-0.7097874554477298,0.5823549670983328,-0.35803780976590854,1.5491322960816853,1.53807985352257,2.404581495249531,-0.9652410635551554,-0.47589035741556557,1.6683681176793281,-0.8476670562828995,-0.6211176310350959,-0.652231375444704,0.9359531059469797,-1.6020033412254073,0.31985344042035896,0.46587917758063924,-0.16268949490112863,-0.46277578442258077,0.058282399822782646,0.46307447698305676,0.3224978075603298,0.11526650280798287,-0.7692957618827033,-0.35826300853537124,-2.641779265896877,1.7247231795571583,0.3673705260306855,0.09276272084379551,-0.18472477320008263,-1.6970613031028194,0.1843645004161003,0.5921046508039165,0.784867163116174,0.035674674097062015,-1.0077029572479506,0.7461447282062237,-0.5868772103780041,-0.568107392843018,0.12065140233307468,-0.8069255129179801,-1.8704940936796401,-0.7404711419618509,-0.5983897510208666,1.7050616932429972,-0.9258406850844257,-0.22291973386169947,0.38082614288418576,-0.2256843255911952,-0.6287074591394933,2.394235061047817,0.668169433872653,0.9968613105270926,-1.032969040321864,2.164652725086726,0.15323306330310169,-0.5445996973395306,-0.4038606332641512,0.8909069835088288,0.197832202834394,-0.20753647433224323,-1.696035375361601,2.915074338040306,1.4848354580604801,0.4129310916479309,-0.5841717881041785,1.1138237134791464,-0.6351696242421287,-0.4751255037732066,-0.23049971038152886,0.07740486985743174,0.3266324105276788,-0.18148747202789775,0.18998088567144913,-0.18618896527839632],\"yaxis\":\"y3\",\"type\":\"scatter\"},{\"line\":{\"color\":\"rgba(128, 128, 128, 1.0)\",\"dash\":\"solid\",\"shape\":\"linear\",\"width\":1.3},\"marker\":{\"size\":2,\"symbol\":\"circle\"},\"mode\":\"markers\",\"name\":\"A\",\"text\":\"\",\"x\":[-0.046516906807984405,-1.764033904858864,1.2668183942763993,-1.0569391286084147,2.0719559653770467,-0.5755666244104721,-0.18980515131343048,-0.2607888334981154,0.12309005617302901,-0.9613662117952162,1.5594439426864284,-1.8056001287358012,0.1879022777003043,-0.2217419978576319,0.3246328437415449,1.9755178229918042,0.24152757962584273,1.3898145877791737,1.2858199934281518,-1.0539771815964754,0.6845038772589357,0.8905780603970622,0.6179681149817068,-0.21667771398662147,-0.6544294917494967,-0.8241053953579198,0.05260367036965441,0.31799378080482826,-0.7149185034657983,1.5172398152417168,-0.1761387447391769,-0.8515042828854458,-0.2958209023070441,0.4860297898822799,0.1446103302752632,-0.8630012960407375,-0.3223152116955873,1.013796534912856,1.8749221024843268,1.499963700651641,-1.010766440832659,1.3505810129289824,-2.2944897606251273,-0.35098807198386167,-0.3938159510420015,-1.1162831162773235,-0.2169638991094867,1.022221243175815,-1.5374674990625818,-0.8842052195054546,-1.3801778920213124,0.13176833764317908,0.5231622760831692,0.389454103963345,-0.4892891628743335,-0.3238767608634141,1.235267384509114,2.037906641880036,-0.013302238855699424,0.8568752212441185,-1.0459568341385515,0.522595272255502,0.9411212627918908,0.9199650514655823,-1.6191942836966133,-1.9586685246353996,1.0689312901903878,-1.9370383729226333,-1.3845933679280464,0.3436997547371127,0.058998429928741616,-2.191214248870023,-1.3821718292370635,1.7420073630666788,-0.337051825314482,0.30376723649932824,1.14355214682258,0.7374262514475121,-0.9431323526469871,-0.41666514816271005,-2.3661258246076695,0.2392742275914587,-1.564031720401776,-1.1628348852453154,0.0026442076440966952,-0.566262232195784,1.244210977162073,1.0974247709708622,1.3063935899056607,0.05651869215108525,0.46457112131701583,-0.3024349290311257,-0.680228301288789,0.7198723080305751,0.19126542960804854,-1.040540519874543,-0.40676317848873766,-0.8965490783851073,0.2218621165162884,-0.3335003420186325],\"xaxis\":\"x4\",\"y\":[1.9785474803328607,1.0092268487548832,-1.225013157557364,-1.7571929080727824,-0.3510321902033087,1.4100616476100398,-0.7107709961502106,-0.23874519373105246,1.2373841410062967,0.8323615939275861,-0.9041212935899998,1.0134132263520905,-0.48501594051186303,0.10711805122591342,1.053211572931562,1.8747476432241057,-1.6935363858985157,-0.2608680773992978,1.6883554154984184,0.7485058415919015,0.9786366361762188,-0.3085510438136002,-0.9304657253362264,0.6037118838048389,0.6245447736656713,1.2385002099949525,-0.7097874554477298,0.5823549670983328,-0.35803780976590854,1.5491322960816853,1.53807985352257,2.404581495249531,-0.9652410635551554,-0.47589035741556557,1.6683681176793281,-0.8476670562828995,-0.6211176310350959,-0.652231375444704,0.9359531059469797,-1.6020033412254073,0.31985344042035896,0.46587917758063924,-0.16268949490112863,-0.46277578442258077,0.058282399822782646,0.46307447698305676,0.3224978075603298,0.11526650280798287,-0.7692957618827033,-0.35826300853537124,-2.641779265896877,1.7247231795571583,0.3673705260306855,0.09276272084379551,-0.18472477320008263,-1.6970613031028194,0.1843645004161003,0.5921046508039165,0.784867163116174,0.035674674097062015,-1.0077029572479506,0.7461447282062237,-0.5868772103780041,-0.568107392843018,0.12065140233307468,-0.8069255129179801,-1.8704940936796401,-0.7404711419618509,-0.5983897510208666,1.7050616932429972,-0.9258406850844257,-0.22291973386169947,0.38082614288418576,-0.2256843255911952,-0.6287074591394933,2.394235061047817,0.668169433872653,0.9968613105270926,-1.032969040321864,2.164652725086726,0.15323306330310169,-0.5445996973395306,-0.4038606332641512,0.8909069835088288,0.197832202834394,-0.20753647433224323,-1.696035375361601,2.915074338040306,1.4848354580604801,0.4129310916479309,-0.5841717881041785,1.1138237134791464,-0.6351696242421287,-0.4751255037732066,-0.23049971038152886,0.07740486985743174,0.3266324105276788,-0.18148747202789775,0.18998088567144913,-0.18618896527839632],\"yaxis\":\"y4\",\"type\":\"scatter\"},{\"line\":{\"color\":\"rgba(128, 128, 128, 1.0)\",\"dash\":\"solid\",\"shape\":\"linear\",\"width\":1.3},\"marker\":{\"size\":2,\"symbol\":\"circle\"},\"mode\":\"markers\",\"name\":\"B\",\"text\":\"\",\"x\":[1.9785474803328607,1.0092268487548832,-1.225013157557364,-1.7571929080727824,-0.3510321902033087,1.4100616476100398,-0.7107709961502106,-0.23874519373105246,1.2373841410062967,0.8323615939275861,-0.9041212935899998,1.0134132263520905,-0.48501594051186303,0.10711805122591342,1.053211572931562,1.8747476432241057,-1.6935363858985157,-0.2608680773992978,1.6883554154984184,0.7485058415919015,0.9786366361762188,-0.3085510438136002,-0.9304657253362264,0.6037118838048389,0.6245447736656713,1.2385002099949525,-0.7097874554477298,0.5823549670983328,-0.35803780976590854,1.5491322960816853,1.53807985352257,2.404581495249531,-0.9652410635551554,-0.47589035741556557,1.6683681176793281,-0.8476670562828995,-0.6211176310350959,-0.652231375444704,0.9359531059469797,-1.6020033412254073,0.31985344042035896,0.46587917758063924,-0.16268949490112863,-0.46277578442258077,0.058282399822782646,0.46307447698305676,0.3224978075603298,0.11526650280798287,-0.7692957618827033,-0.35826300853537124,-2.641779265896877,1.7247231795571583,0.3673705260306855,0.09276272084379551,-0.18472477320008263,-1.6970613031028194,0.1843645004161003,0.5921046508039165,0.784867163116174,0.035674674097062015,-1.0077029572479506,0.7461447282062237,-0.5868772103780041,-0.568107392843018,0.12065140233307468,-0.8069255129179801,-1.8704940936796401,-0.7404711419618509,-0.5983897510208666,1.7050616932429972,-0.9258406850844257,-0.22291973386169947,0.38082614288418576,-0.2256843255911952,-0.6287074591394933,2.394235061047817,0.668169433872653,0.9968613105270926,-1.032969040321864,2.164652725086726,0.15323306330310169,-0.5445996973395306,-0.4038606332641512,0.8909069835088288,0.197832202834394,-0.20753647433224323,-1.696035375361601,2.915074338040306,1.4848354580604801,0.4129310916479309,-0.5841717881041785,1.1138237134791464,-0.6351696242421287,-0.4751255037732066,-0.23049971038152886,0.07740486985743174,0.3266324105276788,-0.18148747202789775,0.18998088567144913,-0.18618896527839632],\"xaxis\":\"x5\",\"y\":[-1.5702617948214266,0.12942604733102087,-1.2169678178307737,-1.2778014589549243,1.8237927091633785,0.0983300722187688,-1.4867525497879113,0.25751460492347245,-0.8675529082563131,1.234516185844747,1.2849289284666068,-0.02214928596425894,1.8045203915299464,-0.2717929080799078,0.28282897890794684,0.4891061282687007,0.5443993907148782,0.03664611008771916,-1.4003908791201083,0.48765519178484606,0.7410222490313609,0.6552416409680061,0.7752657653055114,0.16471296627787774,-0.9082756830220291,-0.8942021456626656,-0.11711820349957816,1.3045192026835244,0.47610209947548787,-0.893996522001287,-1.9640426395138464,0.43177799306761144,0.2124861930961608,-0.26810503189773915,-0.2917277248112427,1.0600995580385186,-0.09616546623536769,0.009831686166474143,0.12449032978094596,1.0276096444007707,-1.0254918006858438,-0.491665530209502,-1.1532845391864175,0.7743603622969015,0.5015434994983705,-2.670307417221883,-1.2579742785445271,1.4905247530153953,-0.40082727355775954,0.013203193429966736,0.1478919810858192,1.8112635179969534,-1.5139512301237585,1.018692288823052,-1.1012653901407132,-0.5820767909418454,-1.4139610051553735,0.01755357736561984,0.5146723862357394,-0.1209274245317748,-0.491205835395233,0.0022244209716448093,-0.4631825451744534,0.907113410788158,-2.6207466340129444,0.4905596334180495,1.2439976629035,1.3620583916014237,-0.19132402487449365,2.2972892403697673,-1.1367556296822485,0.7947113392733698,0.5105297809039376,0.9137443265637776,0.9924360158790626,0.9138885179435232,-0.25964561644063744,-1.959604933558067,-0.6889732022152018,-0.3191836910416321,0.07420510684222735,-1.9129165314678132,0.3526977808732218,-1.4994800777658641,0.3742016214330207,-0.7211513000095967,-0.961856771165803,0.7952332385174912,1.0987584252515978,-1.684638463358606,-0.13351592575428659,0.5041206166281047,-0.24754116237098892,-2.396950493369511,0.3509411161599187,-0.14041401285102192,0.650789056470859,-0.8620434947700216,0.11914014339928516,-0.6736618243248493],\"yaxis\":\"y5\",\"type\":\"scatter\"},{\"histfunc\":\"count\",\"histnorm\":\"\",\"marker\":{\"color\":\"rgba(55, 128, 191, 1.0)\",\"line\":{\"color\":\"#4D5663\",\"width\":1.3}},\"name\":\"B\",\"nbinsx\":10,\"opacity\":0.8,\"orientation\":\"v\",\"x\":[-1.5702617948214266,0.12942604733102087,-1.2169678178307737,-1.2778014589549243,1.8237927091633785,0.0983300722187688,-1.4867525497879113,0.25751460492347245,-0.8675529082563131,1.234516185844747,1.2849289284666068,-0.02214928596425894,1.8045203915299464,-0.2717929080799078,0.28282897890794684,0.4891061282687007,0.5443993907148782,0.03664611008771916,-1.4003908791201083,0.48765519178484606,0.7410222490313609,0.6552416409680061,0.7752657653055114,0.16471296627787774,-0.9082756830220291,-0.8942021456626656,-0.11711820349957816,1.3045192026835244,0.47610209947548787,-0.893996522001287,-1.9640426395138464,0.43177799306761144,0.2124861930961608,-0.26810503189773915,-0.2917277248112427,1.0600995580385186,-0.09616546623536769,0.009831686166474143,0.12449032978094596,1.0276096444007707,-1.0254918006858438,-0.491665530209502,-1.1532845391864175,0.7743603622969015,0.5015434994983705,-2.670307417221883,-1.2579742785445271,1.4905247530153953,-0.40082727355775954,0.013203193429966736,0.1478919810858192,1.8112635179969534,-1.5139512301237585,1.018692288823052,-1.1012653901407132,-0.5820767909418454,-1.4139610051553735,0.01755357736561984,0.5146723862357394,-0.1209274245317748,-0.491205835395233,0.0022244209716448093,-0.4631825451744534,0.907113410788158,-2.6207466340129444,0.4905596334180495,1.2439976629035,1.3620583916014237,-0.19132402487449365,2.2972892403697673,-1.1367556296822485,0.7947113392733698,0.5105297809039376,0.9137443265637776,0.9924360158790626,0.9138885179435232,-0.25964561644063744,-1.959604933558067,-0.6889732022152018,-0.3191836910416321,0.07420510684222735,-1.9129165314678132,0.3526977808732218,-1.4994800777658641,0.3742016214330207,-0.7211513000095967,-0.961856771165803,0.7952332385174912,1.0987584252515978,-1.684638463358606,-0.13351592575428659,0.5041206166281047,-0.24754116237098892,-2.396950493369511,0.3509411161599187,-0.14041401285102192,0.650789056470859,-0.8620434947700216,0.11914014339928516,-0.6736618243248493],\"xaxis\":\"x6\",\"yaxis\":\"y6\",\"type\":\"histogram\"},{\"line\":{\"color\":\"rgba(128, 128, 128, 1.0)\",\"dash\":\"solid\",\"shape\":\"linear\",\"width\":1.3},\"marker\":{\"size\":2,\"symbol\":\"circle\"},\"mode\":\"markers\",\"name\":\"B\",\"text\":\"\",\"x\":[0.18856495400514253,-0.9578421507991861,-0.02036781403333026,-0.6069914307030784,0.09842160312153832,0.030535455561639075,-0.26450887295955683,-0.5311236196165268,0.787187627995759,0.3825374824741036,0.3889539683709063,1.1754927631211232,0.6040510045091236,1.5036900403980762,0.7494611569341438,1.0786862363974168,0.2556556398148715,0.8597672181574428,0.4030471720466067,0.7394252420005483,-0.08778330501298419,0.43605578439404,-0.5750782287709368,0.8531061941031274,0.7081431179498274,-0.6217453362157765,-0.11632079281110175,-1.1685313930801433,0.6628124534801917,0.061300188460506284,-0.9118611240050505,-0.827729334487359,-1.5656357393727327,-0.25695057062235693,-0.12035817279673999,-0.8620240114053124,0.7329520324375339,-2.295604382007167,0.11261436495166273,-2.310490122285268,0.4704543688232888,0.23859731345603535,-0.8398572439208553,0.009554086999037415,0.24997065650679567,-0.8390718789643391,0.7942626667524763,-0.5522439617837457,-2.0886239043009898,0.05492800964056952,0.8019591313244562,-0.3538454647640866,0.21339579379845683,-0.2926505183721297,1.1860418422261745,-0.20119829797773575,0.22828519503252298,0.4966301806568243,1.5338652444000096,0.3870831517537001,-0.9028593738996418,-0.7160605473491861,-0.6352347594642135,-0.19744951889144655,-0.7587475103425411,1.472683971291497,-0.4214928231394391,-0.614558873488455,1.0487773353585246,-0.27531683057699535,1.0339774220499915,-0.36554490988557403,-0.04159254060417178,-0.24629703385239454,-1.9836825726651135,-0.09095340148596404,1.22427216992178,-0.6759742004052892,-1.2447323344608514,0.4198610975109645,1.9617588024633907,0.6278559955345764,-0.23641077800572932,-0.3740505001472074,-0.48720868479607976,0.6632974460099765,0.9628054495678843,0.8615346474883159,-0.717307106393296,0.2866210796136707,-0.5015448456231866,-0.09872602755137291,1.9717972540520265,-0.4586715354974484,1.9051295985297643,-1.13066958951519,0.3494699410249197,-0.4253507507808615,-0.026046450191851683,0.7203732165564561],\"xaxis\":\"x7\",\"y\":[-1.5702617948214266,0.12942604733102087,-1.2169678178307737,-1.2778014589549243,1.8237927091633785,0.0983300722187688,-1.4867525497879113,0.25751460492347245,-0.8675529082563131,1.234516185844747,1.2849289284666068,-0.02214928596425894,1.8045203915299464,-0.2717929080799078,0.28282897890794684,0.4891061282687007,0.5443993907148782,0.03664611008771916,-1.4003908791201083,0.48765519178484606,0.7410222490313609,0.6552416409680061,0.7752657653055114,0.16471296627787774,-0.9082756830220291,-0.8942021456626656,-0.11711820349957816,1.3045192026835244,0.47610209947548787,-0.893996522001287,-1.9640426395138464,0.43177799306761144,0.2124861930961608,-0.26810503189773915,-0.2917277248112427,1.0600995580385186,-0.09616546623536769,0.009831686166474143,0.12449032978094596,1.0276096444007707,-1.0254918006858438,-0.491665530209502,-1.1532845391864175,0.7743603622969015,0.5015434994983705,-2.670307417221883,-1.2579742785445271,1.4905247530153953,-0.40082727355775954,0.013203193429966736,0.1478919810858192,1.8112635179969534,-1.5139512301237585,1.018692288823052,-1.1012653901407132,-0.5820767909418454,-1.4139610051553735,0.01755357736561984,0.5146723862357394,-0.1209274245317748,-0.491205835395233,0.0022244209716448093,-0.4631825451744534,0.907113410788158,-2.6207466340129444,0.4905596334180495,1.2439976629035,1.3620583916014237,-0.19132402487449365,2.2972892403697673,-1.1367556296822485,0.7947113392733698,0.5105297809039376,0.9137443265637776,0.9924360158790626,0.9138885179435232,-0.25964561644063744,-1.959604933558067,-0.6889732022152018,-0.3191836910416321,0.07420510684222735,-1.9129165314678132,0.3526977808732218,-1.4994800777658641,0.3742016214330207,-0.7211513000095967,-0.961856771165803,0.7952332385174912,1.0987584252515978,-1.684638463358606,-0.13351592575428659,0.5041206166281047,-0.24754116237098892,-2.396950493369511,0.3509411161599187,-0.14041401285102192,0.650789056470859,-0.8620434947700216,0.11914014339928516,-0.6736618243248493],\"yaxis\":\"y7\",\"type\":\"scatter\"},{\"line\":{\"color\":\"rgba(128, 128, 128, 1.0)\",\"dash\":\"solid\",\"shape\":\"linear\",\"width\":1.3},\"marker\":{\"size\":2,\"symbol\":\"circle\"},\"mode\":\"markers\",\"name\":\"B\",\"text\":\"\",\"x\":[-0.046516906807984405,-1.764033904858864,1.2668183942763993,-1.0569391286084147,2.0719559653770467,-0.5755666244104721,-0.18980515131343048,-0.2607888334981154,0.12309005617302901,-0.9613662117952162,1.5594439426864284,-1.8056001287358012,0.1879022777003043,-0.2217419978576319,0.3246328437415449,1.9755178229918042,0.24152757962584273,1.3898145877791737,1.2858199934281518,-1.0539771815964754,0.6845038772589357,0.8905780603970622,0.6179681149817068,-0.21667771398662147,-0.6544294917494967,-0.8241053953579198,0.05260367036965441,0.31799378080482826,-0.7149185034657983,1.5172398152417168,-0.1761387447391769,-0.8515042828854458,-0.2958209023070441,0.4860297898822799,0.1446103302752632,-0.8630012960407375,-0.3223152116955873,1.013796534912856,1.8749221024843268,1.499963700651641,-1.010766440832659,1.3505810129289824,-2.2944897606251273,-0.35098807198386167,-0.3938159510420015,-1.1162831162773235,-0.2169638991094867,1.022221243175815,-1.5374674990625818,-0.8842052195054546,-1.3801778920213124,0.13176833764317908,0.5231622760831692,0.389454103963345,-0.4892891628743335,-0.3238767608634141,1.235267384509114,2.037906641880036,-0.013302238855699424,0.8568752212441185,-1.0459568341385515,0.522595272255502,0.9411212627918908,0.9199650514655823,-1.6191942836966133,-1.9586685246353996,1.0689312901903878,-1.9370383729226333,-1.3845933679280464,0.3436997547371127,0.058998429928741616,-2.191214248870023,-1.3821718292370635,1.7420073630666788,-0.337051825314482,0.30376723649932824,1.14355214682258,0.7374262514475121,-0.9431323526469871,-0.41666514816271005,-2.3661258246076695,0.2392742275914587,-1.564031720401776,-1.1628348852453154,0.0026442076440966952,-0.566262232195784,1.244210977162073,1.0974247709708622,1.3063935899056607,0.05651869215108525,0.46457112131701583,-0.3024349290311257,-0.680228301288789,0.7198723080305751,0.19126542960804854,-1.040540519874543,-0.40676317848873766,-0.8965490783851073,0.2218621165162884,-0.3335003420186325],\"xaxis\":\"x8\",\"y\":[-1.5702617948214266,0.12942604733102087,-1.2169678178307737,-1.2778014589549243,1.8237927091633785,0.0983300722187688,-1.4867525497879113,0.25751460492347245,-0.8675529082563131,1.234516185844747,1.2849289284666068,-0.02214928596425894,1.8045203915299464,-0.2717929080799078,0.28282897890794684,0.4891061282687007,0.5443993907148782,0.03664611008771916,-1.4003908791201083,0.48765519178484606,0.7410222490313609,0.6552416409680061,0.7752657653055114,0.16471296627787774,-0.9082756830220291,-0.8942021456626656,-0.11711820349957816,1.3045192026835244,0.47610209947548787,-0.893996522001287,-1.9640426395138464,0.43177799306761144,0.2124861930961608,-0.26810503189773915,-0.2917277248112427,1.0600995580385186,-0.09616546623536769,0.009831686166474143,0.12449032978094596,1.0276096444007707,-1.0254918006858438,-0.491665530209502,-1.1532845391864175,0.7743603622969015,0.5015434994983705,-2.670307417221883,-1.2579742785445271,1.4905247530153953,-0.40082727355775954,0.013203193429966736,0.1478919810858192,1.8112635179969534,-1.5139512301237585,1.018692288823052,-1.1012653901407132,-0.5820767909418454,-1.4139610051553735,0.01755357736561984,0.5146723862357394,-0.1209274245317748,-0.491205835395233,0.0022244209716448093,-0.4631825451744534,0.907113410788158,-2.6207466340129444,0.4905596334180495,1.2439976629035,1.3620583916014237,-0.19132402487449365,2.2972892403697673,-1.1367556296822485,0.7947113392733698,0.5105297809039376,0.9137443265637776,0.9924360158790626,0.9138885179435232,-0.25964561644063744,-1.959604933558067,-0.6889732022152018,-0.3191836910416321,0.07420510684222735,-1.9129165314678132,0.3526977808732218,-1.4994800777658641,0.3742016214330207,-0.7211513000095967,-0.961856771165803,0.7952332385174912,1.0987584252515978,-1.684638463358606,-0.13351592575428659,0.5041206166281047,-0.24754116237098892,-2.396950493369511,0.3509411161599187,-0.14041401285102192,0.650789056470859,-0.8620434947700216,0.11914014339928516,-0.6736618243248493],\"yaxis\":\"y8\",\"type\":\"scatter\"},{\"line\":{\"color\":\"rgba(128, 128, 128, 1.0)\",\"dash\":\"solid\",\"shape\":\"linear\",\"width\":1.3},\"marker\":{\"size\":2,\"symbol\":\"circle\"},\"mode\":\"markers\",\"name\":\"C\",\"text\":\"\",\"x\":[1.9785474803328607,1.0092268487548832,-1.225013157557364,-1.7571929080727824,-0.3510321902033087,1.4100616476100398,-0.7107709961502106,-0.23874519373105246,1.2373841410062967,0.8323615939275861,-0.9041212935899998,1.0134132263520905,-0.48501594051186303,0.10711805122591342,1.053211572931562,1.8747476432241057,-1.6935363858985157,-0.2608680773992978,1.6883554154984184,0.7485058415919015,0.9786366361762188,-0.3085510438136002,-0.9304657253362264,0.6037118838048389,0.6245447736656713,1.2385002099949525,-0.7097874554477298,0.5823549670983328,-0.35803780976590854,1.5491322960816853,1.53807985352257,2.404581495249531,-0.9652410635551554,-0.47589035741556557,1.6683681176793281,-0.8476670562828995,-0.6211176310350959,-0.652231375444704,0.9359531059469797,-1.6020033412254073,0.31985344042035896,0.46587917758063924,-0.16268949490112863,-0.46277578442258077,0.058282399822782646,0.46307447698305676,0.3224978075603298,0.11526650280798287,-0.7692957618827033,-0.35826300853537124,-2.641779265896877,1.7247231795571583,0.3673705260306855,0.09276272084379551,-0.18472477320008263,-1.6970613031028194,0.1843645004161003,0.5921046508039165,0.784867163116174,0.035674674097062015,-1.0077029572479506,0.7461447282062237,-0.5868772103780041,-0.568107392843018,0.12065140233307468,-0.8069255129179801,-1.8704940936796401,-0.7404711419618509,-0.5983897510208666,1.7050616932429972,-0.9258406850844257,-0.22291973386169947,0.38082614288418576,-0.2256843255911952,-0.6287074591394933,2.394235061047817,0.668169433872653,0.9968613105270926,-1.032969040321864,2.164652725086726,0.15323306330310169,-0.5445996973395306,-0.4038606332641512,0.8909069835088288,0.197832202834394,-0.20753647433224323,-1.696035375361601,2.915074338040306,1.4848354580604801,0.4129310916479309,-0.5841717881041785,1.1138237134791464,-0.6351696242421287,-0.4751255037732066,-0.23049971038152886,0.07740486985743174,0.3266324105276788,-0.18148747202789775,0.18998088567144913,-0.18618896527839632],\"xaxis\":\"x9\",\"y\":[0.18856495400514253,-0.9578421507991861,-0.02036781403333026,-0.6069914307030784,0.09842160312153832,0.030535455561639075,-0.26450887295955683,-0.5311236196165268,0.787187627995759,0.3825374824741036,0.3889539683709063,1.1754927631211232,0.6040510045091236,1.5036900403980762,0.7494611569341438,1.0786862363974168,0.2556556398148715,0.8597672181574428,0.4030471720466067,0.7394252420005483,-0.08778330501298419,0.43605578439404,-0.5750782287709368,0.8531061941031274,0.7081431179498274,-0.6217453362157765,-0.11632079281110175,-1.1685313930801433,0.6628124534801917,0.061300188460506284,-0.9118611240050505,-0.827729334487359,-1.5656357393727327,-0.25695057062235693,-0.12035817279673999,-0.8620240114053124,0.7329520324375339,-2.295604382007167,0.11261436495166273,-2.310490122285268,0.4704543688232888,0.23859731345603535,-0.8398572439208553,0.009554086999037415,0.24997065650679567,-0.8390718789643391,0.7942626667524763,-0.5522439617837457,-2.0886239043009898,0.05492800964056952,0.8019591313244562,-0.3538454647640866,0.21339579379845683,-0.2926505183721297,1.1860418422261745,-0.20119829797773575,0.22828519503252298,0.4966301806568243,1.5338652444000096,0.3870831517537001,-0.9028593738996418,-0.7160605473491861,-0.6352347594642135,-0.19744951889144655,-0.7587475103425411,1.472683971291497,-0.4214928231394391,-0.614558873488455,1.0487773353585246,-0.27531683057699535,1.0339774220499915,-0.36554490988557403,-0.04159254060417178,-0.24629703385239454,-1.9836825726651135,-0.09095340148596404,1.22427216992178,-0.6759742004052892,-1.2447323344608514,0.4198610975109645,1.9617588024633907,0.6278559955345764,-0.23641077800572932,-0.3740505001472074,-0.48720868479607976,0.6632974460099765,0.9628054495678843,0.8615346474883159,-0.717307106393296,0.2866210796136707,-0.5015448456231866,-0.09872602755137291,1.9717972540520265,-0.4586715354974484,1.9051295985297643,-1.13066958951519,0.3494699410249197,-0.4253507507808615,-0.026046450191851683,0.7203732165564561],\"yaxis\":\"y9\",\"type\":\"scatter\"},{\"line\":{\"color\":\"rgba(128, 128, 128, 1.0)\",\"dash\":\"solid\",\"shape\":\"linear\",\"width\":1.3},\"marker\":{\"size\":2,\"symbol\":\"circle\"},\"mode\":\"markers\",\"name\":\"C\",\"text\":\"\",\"x\":[-1.5702617948214266,0.12942604733102087,-1.2169678178307737,-1.2778014589549243,1.8237927091633785,0.0983300722187688,-1.4867525497879113,0.25751460492347245,-0.8675529082563131,1.234516185844747,1.2849289284666068,-0.02214928596425894,1.8045203915299464,-0.2717929080799078,0.28282897890794684,0.4891061282687007,0.5443993907148782,0.03664611008771916,-1.4003908791201083,0.48765519178484606,0.7410222490313609,0.6552416409680061,0.7752657653055114,0.16471296627787774,-0.9082756830220291,-0.8942021456626656,-0.11711820349957816,1.3045192026835244,0.47610209947548787,-0.893996522001287,-1.9640426395138464,0.43177799306761144,0.2124861930961608,-0.26810503189773915,-0.2917277248112427,1.0600995580385186,-0.09616546623536769,0.009831686166474143,0.12449032978094596,1.0276096444007707,-1.0254918006858438,-0.491665530209502,-1.1532845391864175,0.7743603622969015,0.5015434994983705,-2.670307417221883,-1.2579742785445271,1.4905247530153953,-0.40082727355775954,0.013203193429966736,0.1478919810858192,1.8112635179969534,-1.5139512301237585,1.018692288823052,-1.1012653901407132,-0.5820767909418454,-1.4139610051553735,0.01755357736561984,0.5146723862357394,-0.1209274245317748,-0.491205835395233,0.0022244209716448093,-0.4631825451744534,0.907113410788158,-2.6207466340129444,0.4905596334180495,1.2439976629035,1.3620583916014237,-0.19132402487449365,2.2972892403697673,-1.1367556296822485,0.7947113392733698,0.5105297809039376,0.9137443265637776,0.9924360158790626,0.9138885179435232,-0.25964561644063744,-1.959604933558067,-0.6889732022152018,-0.3191836910416321,0.07420510684222735,-1.9129165314678132,0.3526977808732218,-1.4994800777658641,0.3742016214330207,-0.7211513000095967,-0.961856771165803,0.7952332385174912,1.0987584252515978,-1.684638463358606,-0.13351592575428659,0.5041206166281047,-0.24754116237098892,-2.396950493369511,0.3509411161599187,-0.14041401285102192,0.650789056470859,-0.8620434947700216,0.11914014339928516,-0.6736618243248493],\"xaxis\":\"x10\",\"y\":[0.18856495400514253,-0.9578421507991861,-0.02036781403333026,-0.6069914307030784,0.09842160312153832,0.030535455561639075,-0.26450887295955683,-0.5311236196165268,0.787187627995759,0.3825374824741036,0.3889539683709063,1.1754927631211232,0.6040510045091236,1.5036900403980762,0.7494611569341438,1.0786862363974168,0.2556556398148715,0.8597672181574428,0.4030471720466067,0.7394252420005483,-0.08778330501298419,0.43605578439404,-0.5750782287709368,0.8531061941031274,0.7081431179498274,-0.6217453362157765,-0.11632079281110175,-1.1685313930801433,0.6628124534801917,0.061300188460506284,-0.9118611240050505,-0.827729334487359,-1.5656357393727327,-0.25695057062235693,-0.12035817279673999,-0.8620240114053124,0.7329520324375339,-2.295604382007167,0.11261436495166273,-2.310490122285268,0.4704543688232888,0.23859731345603535,-0.8398572439208553,0.009554086999037415,0.24997065650679567,-0.8390718789643391,0.7942626667524763,-0.5522439617837457,-2.0886239043009898,0.05492800964056952,0.8019591313244562,-0.3538454647640866,0.21339579379845683,-0.2926505183721297,1.1860418422261745,-0.20119829797773575,0.22828519503252298,0.4966301806568243,1.5338652444000096,0.3870831517537001,-0.9028593738996418,-0.7160605473491861,-0.6352347594642135,-0.19744951889144655,-0.7587475103425411,1.472683971291497,-0.4214928231394391,-0.614558873488455,1.0487773353585246,-0.27531683057699535,1.0339774220499915,-0.36554490988557403,-0.04159254060417178,-0.24629703385239454,-1.9836825726651135,-0.09095340148596404,1.22427216992178,-0.6759742004052892,-1.2447323344608514,0.4198610975109645,1.9617588024633907,0.6278559955345764,-0.23641077800572932,-0.3740505001472074,-0.48720868479607976,0.6632974460099765,0.9628054495678843,0.8615346474883159,-0.717307106393296,0.2866210796136707,-0.5015448456231866,-0.09872602755137291,1.9717972540520265,-0.4586715354974484,1.9051295985297643,-1.13066958951519,0.3494699410249197,-0.4253507507808615,-0.026046450191851683,0.7203732165564561],\"yaxis\":\"y10\",\"type\":\"scatter\"},{\"histfunc\":\"count\",\"histnorm\":\"\",\"marker\":{\"color\":\"rgba(50, 171, 96, 1.0)\",\"line\":{\"color\":\"#4D5663\",\"width\":1.3}},\"name\":\"C\",\"nbinsx\":10,\"opacity\":0.8,\"orientation\":\"v\",\"x\":[0.18856495400514253,-0.9578421507991861,-0.02036781403333026,-0.6069914307030784,0.09842160312153832,0.030535455561639075,-0.26450887295955683,-0.5311236196165268,0.787187627995759,0.3825374824741036,0.3889539683709063,1.1754927631211232,0.6040510045091236,1.5036900403980762,0.7494611569341438,1.0786862363974168,0.2556556398148715,0.8597672181574428,0.4030471720466067,0.7394252420005483,-0.08778330501298419,0.43605578439404,-0.5750782287709368,0.8531061941031274,0.7081431179498274,-0.6217453362157765,-0.11632079281110175,-1.1685313930801433,0.6628124534801917,0.061300188460506284,-0.9118611240050505,-0.827729334487359,-1.5656357393727327,-0.25695057062235693,-0.12035817279673999,-0.8620240114053124,0.7329520324375339,-2.295604382007167,0.11261436495166273,-2.310490122285268,0.4704543688232888,0.23859731345603535,-0.8398572439208553,0.009554086999037415,0.24997065650679567,-0.8390718789643391,0.7942626667524763,-0.5522439617837457,-2.0886239043009898,0.05492800964056952,0.8019591313244562,-0.3538454647640866,0.21339579379845683,-0.2926505183721297,1.1860418422261745,-0.20119829797773575,0.22828519503252298,0.4966301806568243,1.5338652444000096,0.3870831517537001,-0.9028593738996418,-0.7160605473491861,-0.6352347594642135,-0.19744951889144655,-0.7587475103425411,1.472683971291497,-0.4214928231394391,-0.614558873488455,1.0487773353585246,-0.27531683057699535,1.0339774220499915,-0.36554490988557403,-0.04159254060417178,-0.24629703385239454,-1.9836825726651135,-0.09095340148596404,1.22427216992178,-0.6759742004052892,-1.2447323344608514,0.4198610975109645,1.9617588024633907,0.6278559955345764,-0.23641077800572932,-0.3740505001472074,-0.48720868479607976,0.6632974460099765,0.9628054495678843,0.8615346474883159,-0.717307106393296,0.2866210796136707,-0.5015448456231866,-0.09872602755137291,1.9717972540520265,-0.4586715354974484,1.9051295985297643,-1.13066958951519,0.3494699410249197,-0.4253507507808615,-0.026046450191851683,0.7203732165564561],\"xaxis\":\"x11\",\"yaxis\":\"y11\",\"type\":\"histogram\"},{\"line\":{\"color\":\"rgba(128, 128, 128, 1.0)\",\"dash\":\"solid\",\"shape\":\"linear\",\"width\":1.3},\"marker\":{\"size\":2,\"symbol\":\"circle\"},\"mode\":\"markers\",\"name\":\"C\",\"text\":\"\",\"x\":[-0.046516906807984405,-1.764033904858864,1.2668183942763993,-1.0569391286084147,2.0719559653770467,-0.5755666244104721,-0.18980515131343048,-0.2607888334981154,0.12309005617302901,-0.9613662117952162,1.5594439426864284,-1.8056001287358012,0.1879022777003043,-0.2217419978576319,0.3246328437415449,1.9755178229918042,0.24152757962584273,1.3898145877791737,1.2858199934281518,-1.0539771815964754,0.6845038772589357,0.8905780603970622,0.6179681149817068,-0.21667771398662147,-0.6544294917494967,-0.8241053953579198,0.05260367036965441,0.31799378080482826,-0.7149185034657983,1.5172398152417168,-0.1761387447391769,-0.8515042828854458,-0.2958209023070441,0.4860297898822799,0.1446103302752632,-0.8630012960407375,-0.3223152116955873,1.013796534912856,1.8749221024843268,1.499963700651641,-1.010766440832659,1.3505810129289824,-2.2944897606251273,-0.35098807198386167,-0.3938159510420015,-1.1162831162773235,-0.2169638991094867,1.022221243175815,-1.5374674990625818,-0.8842052195054546,-1.3801778920213124,0.13176833764317908,0.5231622760831692,0.389454103963345,-0.4892891628743335,-0.3238767608634141,1.235267384509114,2.037906641880036,-0.013302238855699424,0.8568752212441185,-1.0459568341385515,0.522595272255502,0.9411212627918908,0.9199650514655823,-1.6191942836966133,-1.9586685246353996,1.0689312901903878,-1.9370383729226333,-1.3845933679280464,0.3436997547371127,0.058998429928741616,-2.191214248870023,-1.3821718292370635,1.7420073630666788,-0.337051825314482,0.30376723649932824,1.14355214682258,0.7374262514475121,-0.9431323526469871,-0.41666514816271005,-2.3661258246076695,0.2392742275914587,-1.564031720401776,-1.1628348852453154,0.0026442076440966952,-0.566262232195784,1.244210977162073,1.0974247709708622,1.3063935899056607,0.05651869215108525,0.46457112131701583,-0.3024349290311257,-0.680228301288789,0.7198723080305751,0.19126542960804854,-1.040540519874543,-0.40676317848873766,-0.8965490783851073,0.2218621165162884,-0.3335003420186325],\"xaxis\":\"x12\",\"y\":[0.18856495400514253,-0.9578421507991861,-0.02036781403333026,-0.6069914307030784,0.09842160312153832,0.030535455561639075,-0.26450887295955683,-0.5311236196165268,0.787187627995759,0.3825374824741036,0.3889539683709063,1.1754927631211232,0.6040510045091236,1.5036900403980762,0.7494611569341438,1.0786862363974168,0.2556556398148715,0.8597672181574428,0.4030471720466067,0.7394252420005483,-0.08778330501298419,0.43605578439404,-0.5750782287709368,0.8531061941031274,0.7081431179498274,-0.6217453362157765,-0.11632079281110175,-1.1685313930801433,0.6628124534801917,0.061300188460506284,-0.9118611240050505,-0.827729334487359,-1.5656357393727327,-0.25695057062235693,-0.12035817279673999,-0.8620240114053124,0.7329520324375339,-2.295604382007167,0.11261436495166273,-2.310490122285268,0.4704543688232888,0.23859731345603535,-0.8398572439208553,0.009554086999037415,0.24997065650679567,-0.8390718789643391,0.7942626667524763,-0.5522439617837457,-2.0886239043009898,0.05492800964056952,0.8019591313244562,-0.3538454647640866,0.21339579379845683,-0.2926505183721297,1.1860418422261745,-0.20119829797773575,0.22828519503252298,0.4966301806568243,1.5338652444000096,0.3870831517537001,-0.9028593738996418,-0.7160605473491861,-0.6352347594642135,-0.19744951889144655,-0.7587475103425411,1.472683971291497,-0.4214928231394391,-0.614558873488455,1.0487773353585246,-0.27531683057699535,1.0339774220499915,-0.36554490988557403,-0.04159254060417178,-0.24629703385239454,-1.9836825726651135,-0.09095340148596404,1.22427216992178,-0.6759742004052892,-1.2447323344608514,0.4198610975109645,1.9617588024633907,0.6278559955345764,-0.23641077800572932,-0.3740505001472074,-0.48720868479607976,0.6632974460099765,0.9628054495678843,0.8615346474883159,-0.717307106393296,0.2866210796136707,-0.5015448456231866,-0.09872602755137291,1.9717972540520265,-0.4586715354974484,1.9051295985297643,-1.13066958951519,0.3494699410249197,-0.4253507507808615,-0.026046450191851683,0.7203732165564561],\"yaxis\":\"y12\",\"type\":\"scatter\"},{\"line\":{\"color\":\"rgba(128, 128, 128, 1.0)\",\"dash\":\"solid\",\"shape\":\"linear\",\"width\":1.3},\"marker\":{\"size\":2,\"symbol\":\"circle\"},\"mode\":\"markers\",\"name\":\"D\",\"text\":\"\",\"x\":[1.9785474803328607,1.0092268487548832,-1.225013157557364,-1.7571929080727824,-0.3510321902033087,1.4100616476100398,-0.7107709961502106,-0.23874519373105246,1.2373841410062967,0.8323615939275861,-0.9041212935899998,1.0134132263520905,-0.48501594051186303,0.10711805122591342,1.053211572931562,1.8747476432241057,-1.6935363858985157,-0.2608680773992978,1.6883554154984184,0.7485058415919015,0.9786366361762188,-0.3085510438136002,-0.9304657253362264,0.6037118838048389,0.6245447736656713,1.2385002099949525,-0.7097874554477298,0.5823549670983328,-0.35803780976590854,1.5491322960816853,1.53807985352257,2.404581495249531,-0.9652410635551554,-0.47589035741556557,1.6683681176793281,-0.8476670562828995,-0.6211176310350959,-0.652231375444704,0.9359531059469797,-1.6020033412254073,0.31985344042035896,0.46587917758063924,-0.16268949490112863,-0.46277578442258077,0.058282399822782646,0.46307447698305676,0.3224978075603298,0.11526650280798287,-0.7692957618827033,-0.35826300853537124,-2.641779265896877,1.7247231795571583,0.3673705260306855,0.09276272084379551,-0.18472477320008263,-1.6970613031028194,0.1843645004161003,0.5921046508039165,0.784867163116174,0.035674674097062015,-1.0077029572479506,0.7461447282062237,-0.5868772103780041,-0.568107392843018,0.12065140233307468,-0.8069255129179801,-1.8704940936796401,-0.7404711419618509,-0.5983897510208666,1.7050616932429972,-0.9258406850844257,-0.22291973386169947,0.38082614288418576,-0.2256843255911952,-0.6287074591394933,2.394235061047817,0.668169433872653,0.9968613105270926,-1.032969040321864,2.164652725086726,0.15323306330310169,-0.5445996973395306,-0.4038606332641512,0.8909069835088288,0.197832202834394,-0.20753647433224323,-1.696035375361601,2.915074338040306,1.4848354580604801,0.4129310916479309,-0.5841717881041785,1.1138237134791464,-0.6351696242421287,-0.4751255037732066,-0.23049971038152886,0.07740486985743174,0.3266324105276788,-0.18148747202789775,0.18998088567144913,-0.18618896527839632],\"xaxis\":\"x13\",\"y\":[-0.046516906807984405,-1.764033904858864,1.2668183942763993,-1.0569391286084147,2.0719559653770467,-0.5755666244104721,-0.18980515131343048,-0.2607888334981154,0.12309005617302901,-0.9613662117952162,1.5594439426864284,-1.8056001287358012,0.1879022777003043,-0.2217419978576319,0.3246328437415449,1.9755178229918042,0.24152757962584273,1.3898145877791737,1.2858199934281518,-1.0539771815964754,0.6845038772589357,0.8905780603970622,0.6179681149817068,-0.21667771398662147,-0.6544294917494967,-0.8241053953579198,0.05260367036965441,0.31799378080482826,-0.7149185034657983,1.5172398152417168,-0.1761387447391769,-0.8515042828854458,-0.2958209023070441,0.4860297898822799,0.1446103302752632,-0.8630012960407375,-0.3223152116955873,1.013796534912856,1.8749221024843268,1.499963700651641,-1.010766440832659,1.3505810129289824,-2.2944897606251273,-0.35098807198386167,-0.3938159510420015,-1.1162831162773235,-0.2169638991094867,1.022221243175815,-1.5374674990625818,-0.8842052195054546,-1.3801778920213124,0.13176833764317908,0.5231622760831692,0.389454103963345,-0.4892891628743335,-0.3238767608634141,1.235267384509114,2.037906641880036,-0.013302238855699424,0.8568752212441185,-1.0459568341385515,0.522595272255502,0.9411212627918908,0.9199650514655823,-1.6191942836966133,-1.9586685246353996,1.0689312901903878,-1.9370383729226333,-1.3845933679280464,0.3436997547371127,0.058998429928741616,-2.191214248870023,-1.3821718292370635,1.7420073630666788,-0.337051825314482,0.30376723649932824,1.14355214682258,0.7374262514475121,-0.9431323526469871,-0.41666514816271005,-2.3661258246076695,0.2392742275914587,-1.564031720401776,-1.1628348852453154,0.0026442076440966952,-0.566262232195784,1.244210977162073,1.0974247709708622,1.3063935899056607,0.05651869215108525,0.46457112131701583,-0.3024349290311257,-0.680228301288789,0.7198723080305751,0.19126542960804854,-1.040540519874543,-0.40676317848873766,-0.8965490783851073,0.2218621165162884,-0.3335003420186325],\"yaxis\":\"y13\",\"type\":\"scatter\"},{\"line\":{\"color\":\"rgba(128, 128, 128, 1.0)\",\"dash\":\"solid\",\"shape\":\"linear\",\"width\":1.3},\"marker\":{\"size\":2,\"symbol\":\"circle\"},\"mode\":\"markers\",\"name\":\"D\",\"text\":\"\",\"x\":[-1.5702617948214266,0.12942604733102087,-1.2169678178307737,-1.2778014589549243,1.8237927091633785,0.0983300722187688,-1.4867525497879113,0.25751460492347245,-0.8675529082563131,1.234516185844747,1.2849289284666068,-0.02214928596425894,1.8045203915299464,-0.2717929080799078,0.28282897890794684,0.4891061282687007,0.5443993907148782,0.03664611008771916,-1.4003908791201083,0.48765519178484606,0.7410222490313609,0.6552416409680061,0.7752657653055114,0.16471296627787774,-0.9082756830220291,-0.8942021456626656,-0.11711820349957816,1.3045192026835244,0.47610209947548787,-0.893996522001287,-1.9640426395138464,0.43177799306761144,0.2124861930961608,-0.26810503189773915,-0.2917277248112427,1.0600995580385186,-0.09616546623536769,0.009831686166474143,0.12449032978094596,1.0276096444007707,-1.0254918006858438,-0.491665530209502,-1.1532845391864175,0.7743603622969015,0.5015434994983705,-2.670307417221883,-1.2579742785445271,1.4905247530153953,-0.40082727355775954,0.013203193429966736,0.1478919810858192,1.8112635179969534,-1.5139512301237585,1.018692288823052,-1.1012653901407132,-0.5820767909418454,-1.4139610051553735,0.01755357736561984,0.5146723862357394,-0.1209274245317748,-0.491205835395233,0.0022244209716448093,-0.4631825451744534,0.907113410788158,-2.6207466340129444,0.4905596334180495,1.2439976629035,1.3620583916014237,-0.19132402487449365,2.2972892403697673,-1.1367556296822485,0.7947113392733698,0.5105297809039376,0.9137443265637776,0.9924360158790626,0.9138885179435232,-0.25964561644063744,-1.959604933558067,-0.6889732022152018,-0.3191836910416321,0.07420510684222735,-1.9129165314678132,0.3526977808732218,-1.4994800777658641,0.3742016214330207,-0.7211513000095967,-0.961856771165803,0.7952332385174912,1.0987584252515978,-1.684638463358606,-0.13351592575428659,0.5041206166281047,-0.24754116237098892,-2.396950493369511,0.3509411161599187,-0.14041401285102192,0.650789056470859,-0.8620434947700216,0.11914014339928516,-0.6736618243248493],\"xaxis\":\"x14\",\"y\":[-0.046516906807984405,-1.764033904858864,1.2668183942763993,-1.0569391286084147,2.0719559653770467,-0.5755666244104721,-0.18980515131343048,-0.2607888334981154,0.12309005617302901,-0.9613662117952162,1.5594439426864284,-1.8056001287358012,0.1879022777003043,-0.2217419978576319,0.3246328437415449,1.9755178229918042,0.24152757962584273,1.3898145877791737,1.2858199934281518,-1.0539771815964754,0.6845038772589357,0.8905780603970622,0.6179681149817068,-0.21667771398662147,-0.6544294917494967,-0.8241053953579198,0.05260367036965441,0.31799378080482826,-0.7149185034657983,1.5172398152417168,-0.1761387447391769,-0.8515042828854458,-0.2958209023070441,0.4860297898822799,0.1446103302752632,-0.8630012960407375,-0.3223152116955873,1.013796534912856,1.8749221024843268,1.499963700651641,-1.010766440832659,1.3505810129289824,-2.2944897606251273,-0.35098807198386167,-0.3938159510420015,-1.1162831162773235,-0.2169638991094867,1.022221243175815,-1.5374674990625818,-0.8842052195054546,-1.3801778920213124,0.13176833764317908,0.5231622760831692,0.389454103963345,-0.4892891628743335,-0.3238767608634141,1.235267384509114,2.037906641880036,-0.013302238855699424,0.8568752212441185,-1.0459568341385515,0.522595272255502,0.9411212627918908,0.9199650514655823,-1.6191942836966133,-1.9586685246353996,1.0689312901903878,-1.9370383729226333,-1.3845933679280464,0.3436997547371127,0.058998429928741616,-2.191214248870023,-1.3821718292370635,1.7420073630666788,-0.337051825314482,0.30376723649932824,1.14355214682258,0.7374262514475121,-0.9431323526469871,-0.41666514816271005,-2.3661258246076695,0.2392742275914587,-1.564031720401776,-1.1628348852453154,0.0026442076440966952,-0.566262232195784,1.244210977162073,1.0974247709708622,1.3063935899056607,0.05651869215108525,0.46457112131701583,-0.3024349290311257,-0.680228301288789,0.7198723080305751,0.19126542960804854,-1.040540519874543,-0.40676317848873766,-0.8965490783851073,0.2218621165162884,-0.3335003420186325],\"yaxis\":\"y14\",\"type\":\"scatter\"},{\"line\":{\"color\":\"rgba(128, 128, 128, 1.0)\",\"dash\":\"solid\",\"shape\":\"linear\",\"width\":1.3},\"marker\":{\"size\":2,\"symbol\":\"circle\"},\"mode\":\"markers\",\"name\":\"D\",\"text\":\"\",\"x\":[0.18856495400514253,-0.9578421507991861,-0.02036781403333026,-0.6069914307030784,0.09842160312153832,0.030535455561639075,-0.26450887295955683,-0.5311236196165268,0.787187627995759,0.3825374824741036,0.3889539683709063,1.1754927631211232,0.6040510045091236,1.5036900403980762,0.7494611569341438,1.0786862363974168,0.2556556398148715,0.8597672181574428,0.4030471720466067,0.7394252420005483,-0.08778330501298419,0.43605578439404,-0.5750782287709368,0.8531061941031274,0.7081431179498274,-0.6217453362157765,-0.11632079281110175,-1.1685313930801433,0.6628124534801917,0.061300188460506284,-0.9118611240050505,-0.827729334487359,-1.5656357393727327,-0.25695057062235693,-0.12035817279673999,-0.8620240114053124,0.7329520324375339,-2.295604382007167,0.11261436495166273,-2.310490122285268,0.4704543688232888,0.23859731345603535,-0.8398572439208553,0.009554086999037415,0.24997065650679567,-0.8390718789643391,0.7942626667524763,-0.5522439617837457,-2.0886239043009898,0.05492800964056952,0.8019591313244562,-0.3538454647640866,0.21339579379845683,-0.2926505183721297,1.1860418422261745,-0.20119829797773575,0.22828519503252298,0.4966301806568243,1.5338652444000096,0.3870831517537001,-0.9028593738996418,-0.7160605473491861,-0.6352347594642135,-0.19744951889144655,-0.7587475103425411,1.472683971291497,-0.4214928231394391,-0.614558873488455,1.0487773353585246,-0.27531683057699535,1.0339774220499915,-0.36554490988557403,-0.04159254060417178,-0.24629703385239454,-1.9836825726651135,-0.09095340148596404,1.22427216992178,-0.6759742004052892,-1.2447323344608514,0.4198610975109645,1.9617588024633907,0.6278559955345764,-0.23641077800572932,-0.3740505001472074,-0.48720868479607976,0.6632974460099765,0.9628054495678843,0.8615346474883159,-0.717307106393296,0.2866210796136707,-0.5015448456231866,-0.09872602755137291,1.9717972540520265,-0.4586715354974484,1.9051295985297643,-1.13066958951519,0.3494699410249197,-0.4253507507808615,-0.026046450191851683,0.7203732165564561],\"xaxis\":\"x15\",\"y\":[-0.046516906807984405,-1.764033904858864,1.2668183942763993,-1.0569391286084147,2.0719559653770467,-0.5755666244104721,-0.18980515131343048,-0.2607888334981154,0.12309005617302901,-0.9613662117952162,1.5594439426864284,-1.8056001287358012,0.1879022777003043,-0.2217419978576319,0.3246328437415449,1.9755178229918042,0.24152757962584273,1.3898145877791737,1.2858199934281518,-1.0539771815964754,0.6845038772589357,0.8905780603970622,0.6179681149817068,-0.21667771398662147,-0.6544294917494967,-0.8241053953579198,0.05260367036965441,0.31799378080482826,-0.7149185034657983,1.5172398152417168,-0.1761387447391769,-0.8515042828854458,-0.2958209023070441,0.4860297898822799,0.1446103302752632,-0.8630012960407375,-0.3223152116955873,1.013796534912856,1.8749221024843268,1.499963700651641,-1.010766440832659,1.3505810129289824,-2.2944897606251273,-0.35098807198386167,-0.3938159510420015,-1.1162831162773235,-0.2169638991094867,1.022221243175815,-1.5374674990625818,-0.8842052195054546,-1.3801778920213124,0.13176833764317908,0.5231622760831692,0.389454103963345,-0.4892891628743335,-0.3238767608634141,1.235267384509114,2.037906641880036,-0.013302238855699424,0.8568752212441185,-1.0459568341385515,0.522595272255502,0.9411212627918908,0.9199650514655823,-1.6191942836966133,-1.9586685246353996,1.0689312901903878,-1.9370383729226333,-1.3845933679280464,0.3436997547371127,0.058998429928741616,-2.191214248870023,-1.3821718292370635,1.7420073630666788,-0.337051825314482,0.30376723649932824,1.14355214682258,0.7374262514475121,-0.9431323526469871,-0.41666514816271005,-2.3661258246076695,0.2392742275914587,-1.564031720401776,-1.1628348852453154,0.0026442076440966952,-0.566262232195784,1.244210977162073,1.0974247709708622,1.3063935899056607,0.05651869215108525,0.46457112131701583,-0.3024349290311257,-0.680228301288789,0.7198723080305751,0.19126542960804854,-1.040540519874543,-0.40676317848873766,-0.8965490783851073,0.2218621165162884,-0.3335003420186325],\"yaxis\":\"y15\",\"type\":\"scatter\"},{\"histfunc\":\"count\",\"histnorm\":\"\",\"marker\":{\"color\":\"rgba(128, 0, 128, 1.0)\",\"line\":{\"color\":\"#4D5663\",\"width\":1.3}},\"name\":\"D\",\"nbinsx\":10,\"opacity\":0.8,\"orientation\":\"v\",\"x\":[-0.046516906807984405,-1.764033904858864,1.2668183942763993,-1.0569391286084147,2.0719559653770467,-0.5755666244104721,-0.18980515131343048,-0.2607888334981154,0.12309005617302901,-0.9613662117952162,1.5594439426864284,-1.8056001287358012,0.1879022777003043,-0.2217419978576319,0.3246328437415449,1.9755178229918042,0.24152757962584273,1.3898145877791737,1.2858199934281518,-1.0539771815964754,0.6845038772589357,0.8905780603970622,0.6179681149817068,-0.21667771398662147,-0.6544294917494967,-0.8241053953579198,0.05260367036965441,0.31799378080482826,-0.7149185034657983,1.5172398152417168,-0.1761387447391769,-0.8515042828854458,-0.2958209023070441,0.4860297898822799,0.1446103302752632,-0.8630012960407375,-0.3223152116955873,1.013796534912856,1.8749221024843268,1.499963700651641,-1.010766440832659,1.3505810129289824,-2.2944897606251273,-0.35098807198386167,-0.3938159510420015,-1.1162831162773235,-0.2169638991094867,1.022221243175815,-1.5374674990625818,-0.8842052195054546,-1.3801778920213124,0.13176833764317908,0.5231622760831692,0.389454103963345,-0.4892891628743335,-0.3238767608634141,1.235267384509114,2.037906641880036,-0.013302238855699424,0.8568752212441185,-1.0459568341385515,0.522595272255502,0.9411212627918908,0.9199650514655823,-1.6191942836966133,-1.9586685246353996,1.0689312901903878,-1.9370383729226333,-1.3845933679280464,0.3436997547371127,0.058998429928741616,-2.191214248870023,-1.3821718292370635,1.7420073630666788,-0.337051825314482,0.30376723649932824,1.14355214682258,0.7374262514475121,-0.9431323526469871,-0.41666514816271005,-2.3661258246076695,0.2392742275914587,-1.564031720401776,-1.1628348852453154,0.0026442076440966952,-0.566262232195784,1.244210977162073,1.0974247709708622,1.3063935899056607,0.05651869215108525,0.46457112131701583,-0.3024349290311257,-0.680228301288789,0.7198723080305751,0.19126542960804854,-1.040540519874543,-0.40676317848873766,-0.8965490783851073,0.2218621165162884,-0.3335003420186325],\"xaxis\":\"x16\",\"yaxis\":\"y16\",\"type\":\"histogram\"}],                        {\"bargap\":0.02,\"legend\":{\"bgcolor\":\"#F5F6F9\",\"font\":{\"color\":\"#4D5663\"}},\"paper_bgcolor\":\"#F5F6F9\",\"plot_bgcolor\":\"#F5F6F9\",\"showlegend\":false,\"template\":{\"data\":{\"barpolar\":[{\"marker\":{\"line\":{\"color\":\"#E5ECF6\",\"width\":0.5},\"pattern\":{\"fillmode\":\"overlay\",\"size\":10,\"solidity\":0.2}},\"type\":\"barpolar\"}],\"bar\":[{\"error_x\":{\"color\":\"#2a3f5f\"},\"error_y\":{\"color\":\"#2a3f5f\"},\"marker\":{\"line\":{\"color\":\"#E5ECF6\",\"width\":0.5},\"pattern\":{\"fillmode\":\"overlay\",\"size\":10,\"solidity\":0.2}},\"type\":\"bar\"}],\"carpet\":[{\"aaxis\":{\"endlinecolor\":\"#2a3f5f\",\"gridcolor\":\"white\",\"linecolor\":\"white\",\"minorgridcolor\":\"white\",\"startlinecolor\":\"#2a3f5f\"},\"baxis\":{\"endlinecolor\":\"#2a3f5f\",\"gridcolor\":\"white\",\"linecolor\":\"white\",\"minorgridcolor\":\"white\",\"startlinecolor\":\"#2a3f5f\"},\"type\":\"carpet\"}],\"choropleth\":[{\"colorbar\":{\"outlinewidth\":0,\"ticks\":\"\"},\"type\":\"choropleth\"}],\"contourcarpet\":[{\"colorbar\":{\"outlinewidth\":0,\"ticks\":\"\"},\"type\":\"contourcarpet\"}],\"contour\":[{\"colorbar\":{\"outlinewidth\":0,\"ticks\":\"\"},\"colorscale\":[[0.0,\"#0d0887\"],[0.1111111111111111,\"#46039f\"],[0.2222222222222222,\"#7201a8\"],[0.3333333333333333,\"#9c179e\"],[0.4444444444444444,\"#bd3786\"],[0.5555555555555556,\"#d8576b\"],[0.6666666666666666,\"#ed7953\"],[0.7777777777777778,\"#fb9f3a\"],[0.8888888888888888,\"#fdca26\"],[1.0,\"#f0f921\"]],\"type\":\"contour\"}],\"heatmapgl\":[{\"colorbar\":{\"outlinewidth\":0,\"ticks\":\"\"},\"colorscale\":[[0.0,\"#0d0887\"],[0.1111111111111111,\"#46039f\"],[0.2222222222222222,\"#7201a8\"],[0.3333333333333333,\"#9c179e\"],[0.4444444444444444,\"#bd3786\"],[0.5555555555555556,\"#d8576b\"],[0.6666666666666666,\"#ed7953\"],[0.7777777777777778,\"#fb9f3a\"],[0.8888888888888888,\"#fdca26\"],[1.0,\"#f0f921\"]],\"type\":\"heatmapgl\"}],\"heatmap\":[{\"colorbar\":{\"outlinewidth\":0,\"ticks\":\"\"},\"colorscale\":[[0.0,\"#0d0887\"],[0.1111111111111111,\"#46039f\"],[0.2222222222222222,\"#7201a8\"],[0.3333333333333333,\"#9c179e\"],[0.4444444444444444,\"#bd3786\"],[0.5555555555555556,\"#d8576b\"],[0.6666666666666666,\"#ed7953\"],[0.7777777777777778,\"#fb9f3a\"],[0.8888888888888888,\"#fdca26\"],[1.0,\"#f0f921\"]],\"type\":\"heatmap\"}],\"histogram2dcontour\":[{\"colorbar\":{\"outlinewidth\":0,\"ticks\":\"\"},\"colorscale\":[[0.0,\"#0d0887\"],[0.1111111111111111,\"#46039f\"],[0.2222222222222222,\"#7201a8\"],[0.3333333333333333,\"#9c179e\"],[0.4444444444444444,\"#bd3786\"],[0.5555555555555556,\"#d8576b\"],[0.6666666666666666,\"#ed7953\"],[0.7777777777777778,\"#fb9f3a\"],[0.8888888888888888,\"#fdca26\"],[1.0,\"#f0f921\"]],\"type\":\"histogram2dcontour\"}],\"histogram2d\":[{\"colorbar\":{\"outlinewidth\":0,\"ticks\":\"\"},\"colorscale\":[[0.0,\"#0d0887\"],[0.1111111111111111,\"#46039f\"],[0.2222222222222222,\"#7201a8\"],[0.3333333333333333,\"#9c179e\"],[0.4444444444444444,\"#bd3786\"],[0.5555555555555556,\"#d8576b\"],[0.6666666666666666,\"#ed7953\"],[0.7777777777777778,\"#fb9f3a\"],[0.8888888888888888,\"#fdca26\"],[1.0,\"#f0f921\"]],\"type\":\"histogram2d\"}],\"histogram\":[{\"marker\":{\"pattern\":{\"fillmode\":\"overlay\",\"size\":10,\"solidity\":0.2}},\"type\":\"histogram\"}],\"mesh3d\":[{\"colorbar\":{\"outlinewidth\":0,\"ticks\":\"\"},\"type\":\"mesh3d\"}],\"parcoords\":[{\"line\":{\"colorbar\":{\"outlinewidth\":0,\"ticks\":\"\"}},\"type\":\"parcoords\"}],\"pie\":[{\"automargin\":true,\"type\":\"pie\"}],\"scatter3d\":[{\"line\":{\"colorbar\":{\"outlinewidth\":0,\"ticks\":\"\"}},\"marker\":{\"colorbar\":{\"outlinewidth\":0,\"ticks\":\"\"}},\"type\":\"scatter3d\"}],\"scattercarpet\":[{\"marker\":{\"colorbar\":{\"outlinewidth\":0,\"ticks\":\"\"}},\"type\":\"scattercarpet\"}],\"scattergeo\":[{\"marker\":{\"colorbar\":{\"outlinewidth\":0,\"ticks\":\"\"}},\"type\":\"scattergeo\"}],\"scattergl\":[{\"marker\":{\"colorbar\":{\"outlinewidth\":0,\"ticks\":\"\"}},\"type\":\"scattergl\"}],\"scattermapbox\":[{\"marker\":{\"colorbar\":{\"outlinewidth\":0,\"ticks\":\"\"}},\"type\":\"scattermapbox\"}],\"scatterpolargl\":[{\"marker\":{\"colorbar\":{\"outlinewidth\":0,\"ticks\":\"\"}},\"type\":\"scatterpolargl\"}],\"scatterpolar\":[{\"marker\":{\"colorbar\":{\"outlinewidth\":0,\"ticks\":\"\"}},\"type\":\"scatterpolar\"}],\"scatter\":[{\"fillpattern\":{\"fillmode\":\"overlay\",\"size\":10,\"solidity\":0.2},\"type\":\"scatter\"}],\"scatterternary\":[{\"marker\":{\"colorbar\":{\"outlinewidth\":0,\"ticks\":\"\"}},\"type\":\"scatterternary\"}],\"surface\":[{\"colorbar\":{\"outlinewidth\":0,\"ticks\":\"\"},\"colorscale\":[[0.0,\"#0d0887\"],[0.1111111111111111,\"#46039f\"],[0.2222222222222222,\"#7201a8\"],[0.3333333333333333,\"#9c179e\"],[0.4444444444444444,\"#bd3786\"],[0.5555555555555556,\"#d8576b\"],[0.6666666666666666,\"#ed7953\"],[0.7777777777777778,\"#fb9f3a\"],[0.8888888888888888,\"#fdca26\"],[1.0,\"#f0f921\"]],\"type\":\"surface\"}],\"table\":[{\"cells\":{\"fill\":{\"color\":\"#EBF0F8\"},\"line\":{\"color\":\"white\"}},\"header\":{\"fill\":{\"color\":\"#C8D4E3\"},\"line\":{\"color\":\"white\"}},\"type\":\"table\"}]},\"layout\":{\"annotationdefaults\":{\"arrowcolor\":\"#2a3f5f\",\"arrowhead\":0,\"arrowwidth\":1},\"autotypenumbers\":\"strict\",\"coloraxis\":{\"colorbar\":{\"outlinewidth\":0,\"ticks\":\"\"}},\"colorscale\":{\"diverging\":[[0,\"#8e0152\"],[0.1,\"#c51b7d\"],[0.2,\"#de77ae\"],[0.3,\"#f1b6da\"],[0.4,\"#fde0ef\"],[0.5,\"#f7f7f7\"],[0.6,\"#e6f5d0\"],[0.7,\"#b8e186\"],[0.8,\"#7fbc41\"],[0.9,\"#4d9221\"],[1,\"#276419\"]],\"sequential\":[[0.0,\"#0d0887\"],[0.1111111111111111,\"#46039f\"],[0.2222222222222222,\"#7201a8\"],[0.3333333333333333,\"#9c179e\"],[0.4444444444444444,\"#bd3786\"],[0.5555555555555556,\"#d8576b\"],[0.6666666666666666,\"#ed7953\"],[0.7777777777777778,\"#fb9f3a\"],[0.8888888888888888,\"#fdca26\"],[1.0,\"#f0f921\"]],\"sequentialminus\":[[0.0,\"#0d0887\"],[0.1111111111111111,\"#46039f\"],[0.2222222222222222,\"#7201a8\"],[0.3333333333333333,\"#9c179e\"],[0.4444444444444444,\"#bd3786\"],[0.5555555555555556,\"#d8576b\"],[0.6666666666666666,\"#ed7953\"],[0.7777777777777778,\"#fb9f3a\"],[0.8888888888888888,\"#fdca26\"],[1.0,\"#f0f921\"]]},\"colorway\":[\"#636efa\",\"#EF553B\",\"#00cc96\",\"#ab63fa\",\"#FFA15A\",\"#19d3f3\",\"#FF6692\",\"#B6E880\",\"#FF97FF\",\"#FECB52\"],\"font\":{\"color\":\"#2a3f5f\"},\"geo\":{\"bgcolor\":\"white\",\"lakecolor\":\"white\",\"landcolor\":\"#E5ECF6\",\"showlakes\":true,\"showland\":true,\"subunitcolor\":\"white\"},\"hoverlabel\":{\"align\":\"left\"},\"hovermode\":\"closest\",\"mapbox\":{\"style\":\"light\"},\"paper_bgcolor\":\"white\",\"plot_bgcolor\":\"#E5ECF6\",\"polar\":{\"angularaxis\":{\"gridcolor\":\"white\",\"linecolor\":\"white\",\"ticks\":\"\"},\"bgcolor\":\"#E5ECF6\",\"radialaxis\":{\"gridcolor\":\"white\",\"linecolor\":\"white\",\"ticks\":\"\"}},\"scene\":{\"xaxis\":{\"backgroundcolor\":\"#E5ECF6\",\"gridcolor\":\"white\",\"gridwidth\":2,\"linecolor\":\"white\",\"showbackground\":true,\"ticks\":\"\",\"zerolinecolor\":\"white\"},\"yaxis\":{\"backgroundcolor\":\"#E5ECF6\",\"gridcolor\":\"white\",\"gridwidth\":2,\"linecolor\":\"white\",\"showbackground\":true,\"ticks\":\"\",\"zerolinecolor\":\"white\"},\"zaxis\":{\"backgroundcolor\":\"#E5ECF6\",\"gridcolor\":\"white\",\"gridwidth\":2,\"linecolor\":\"white\",\"showbackground\":true,\"ticks\":\"\",\"zerolinecolor\":\"white\"}},\"shapedefaults\":{\"line\":{\"color\":\"#2a3f5f\"}},\"ternary\":{\"aaxis\":{\"gridcolor\":\"white\",\"linecolor\":\"white\",\"ticks\":\"\"},\"baxis\":{\"gridcolor\":\"white\",\"linecolor\":\"white\",\"ticks\":\"\"},\"bgcolor\":\"#E5ECF6\",\"caxis\":{\"gridcolor\":\"white\",\"linecolor\":\"white\",\"ticks\":\"\"}},\"title\":{\"x\":0.05},\"xaxis\":{\"automargin\":true,\"gridcolor\":\"white\",\"linecolor\":\"white\",\"ticks\":\"\",\"title\":{\"standoff\":15},\"zerolinecolor\":\"white\",\"zerolinewidth\":2},\"yaxis\":{\"automargin\":true,\"gridcolor\":\"white\",\"linecolor\":\"white\",\"ticks\":\"\",\"title\":{\"standoff\":15},\"zerolinecolor\":\"white\",\"zerolinewidth\":2}}},\"title\":{\"font\":{\"color\":\"#4D5663\"}},\"xaxis\":{\"anchor\":\"y\",\"domain\":[0.0,0.2125],\"gridcolor\":\"#E1E5ED\",\"showgrid\":false,\"tickfont\":{\"color\":\"#4D5663\"},\"title\":{\"font\":{\"color\":\"#4D5663\"},\"text\":\"\"},\"zerolinecolor\":\"#E1E5ED\"},\"yaxis\":{\"anchor\":\"x\",\"domain\":[0.8025,1.0],\"gridcolor\":\"#E1E5ED\",\"showgrid\":false,\"tickfont\":{\"color\":\"#4D5663\"},\"title\":{\"font\":{\"color\":\"#4D5663\"},\"text\":\"\"},\"zerolinecolor\":\"#E1E5ED\"},\"xaxis2\":{\"anchor\":\"y2\",\"domain\":[0.2625,0.475],\"gridcolor\":\"#E1E5ED\",\"showgrid\":false,\"tickfont\":{\"color\":\"#4D5663\"},\"title\":{\"font\":{\"color\":\"#4D5663\"},\"text\":\"\"},\"zerolinecolor\":\"#E1E5ED\"},\"yaxis2\":{\"anchor\":\"x2\",\"domain\":[0.8025,1.0],\"gridcolor\":\"#E1E5ED\",\"showgrid\":false,\"tickfont\":{\"color\":\"#4D5663\"},\"title\":{\"font\":{\"color\":\"#4D5663\"},\"text\":\"\"},\"zerolinecolor\":\"#E1E5ED\"},\"xaxis3\":{\"anchor\":\"y3\",\"domain\":[0.525,0.7375],\"gridcolor\":\"#E1E5ED\",\"showgrid\":false,\"tickfont\":{\"color\":\"#4D5663\"},\"title\":{\"font\":{\"color\":\"#4D5663\"},\"text\":\"\"},\"zerolinecolor\":\"#E1E5ED\"},\"yaxis3\":{\"anchor\":\"x3\",\"domain\":[0.8025,1.0],\"gridcolor\":\"#E1E5ED\",\"showgrid\":false,\"tickfont\":{\"color\":\"#4D5663\"},\"title\":{\"font\":{\"color\":\"#4D5663\"},\"text\":\"\"},\"zerolinecolor\":\"#E1E5ED\"},\"xaxis4\":{\"anchor\":\"y4\",\"domain\":[0.7875,1.0],\"gridcolor\":\"#E1E5ED\",\"showgrid\":false,\"tickfont\":{\"color\":\"#4D5663\"},\"title\":{\"font\":{\"color\":\"#4D5663\"},\"text\":\"\"},\"zerolinecolor\":\"#E1E5ED\"},\"yaxis4\":{\"anchor\":\"x4\",\"domain\":[0.8025,1.0],\"gridcolor\":\"#E1E5ED\",\"showgrid\":false,\"tickfont\":{\"color\":\"#4D5663\"},\"title\":{\"font\":{\"color\":\"#4D5663\"},\"text\":\"\"},\"zerolinecolor\":\"#E1E5ED\"},\"xaxis5\":{\"anchor\":\"y5\",\"domain\":[0.0,0.2125],\"gridcolor\":\"#E1E5ED\",\"showgrid\":false,\"tickfont\":{\"color\":\"#4D5663\"},\"title\":{\"font\":{\"color\":\"#4D5663\"},\"text\":\"\"},\"zerolinecolor\":\"#E1E5ED\"},\"yaxis5\":{\"anchor\":\"x5\",\"domain\":[0.535,0.7325],\"gridcolor\":\"#E1E5ED\",\"showgrid\":false,\"tickfont\":{\"color\":\"#4D5663\"},\"title\":{\"font\":{\"color\":\"#4D5663\"},\"text\":\"\"},\"zerolinecolor\":\"#E1E5ED\"},\"xaxis6\":{\"anchor\":\"y6\",\"domain\":[0.2625,0.475],\"gridcolor\":\"#E1E5ED\",\"showgrid\":false,\"tickfont\":{\"color\":\"#4D5663\"},\"title\":{\"font\":{\"color\":\"#4D5663\"},\"text\":\"\"},\"zerolinecolor\":\"#E1E5ED\"},\"yaxis6\":{\"anchor\":\"x6\",\"domain\":[0.535,0.7325],\"gridcolor\":\"#E1E5ED\",\"showgrid\":false,\"tickfont\":{\"color\":\"#4D5663\"},\"title\":{\"font\":{\"color\":\"#4D5663\"},\"text\":\"\"},\"zerolinecolor\":\"#E1E5ED\"},\"xaxis7\":{\"anchor\":\"y7\",\"domain\":[0.525,0.7375],\"gridcolor\":\"#E1E5ED\",\"showgrid\":false,\"tickfont\":{\"color\":\"#4D5663\"},\"title\":{\"font\":{\"color\":\"#4D5663\"},\"text\":\"\"},\"zerolinecolor\":\"#E1E5ED\"},\"yaxis7\":{\"anchor\":\"x7\",\"domain\":[0.535,0.7325],\"gridcolor\":\"#E1E5ED\",\"showgrid\":false,\"tickfont\":{\"color\":\"#4D5663\"},\"title\":{\"font\":{\"color\":\"#4D5663\"},\"text\":\"\"},\"zerolinecolor\":\"#E1E5ED\"},\"xaxis8\":{\"anchor\":\"y8\",\"domain\":[0.7875,1.0],\"gridcolor\":\"#E1E5ED\",\"showgrid\":false,\"tickfont\":{\"color\":\"#4D5663\"},\"title\":{\"font\":{\"color\":\"#4D5663\"},\"text\":\"\"},\"zerolinecolor\":\"#E1E5ED\"},\"yaxis8\":{\"anchor\":\"x8\",\"domain\":[0.535,0.7325],\"gridcolor\":\"#E1E5ED\",\"showgrid\":false,\"tickfont\":{\"color\":\"#4D5663\"},\"title\":{\"font\":{\"color\":\"#4D5663\"},\"text\":\"\"},\"zerolinecolor\":\"#E1E5ED\"},\"xaxis9\":{\"anchor\":\"y9\",\"domain\":[0.0,0.2125],\"gridcolor\":\"#E1E5ED\",\"showgrid\":false,\"tickfont\":{\"color\":\"#4D5663\"},\"title\":{\"font\":{\"color\":\"#4D5663\"},\"text\":\"\"},\"zerolinecolor\":\"#E1E5ED\"},\"yaxis9\":{\"anchor\":\"x9\",\"domain\":[0.2675,0.465],\"gridcolor\":\"#E1E5ED\",\"showgrid\":false,\"tickfont\":{\"color\":\"#4D5663\"},\"title\":{\"font\":{\"color\":\"#4D5663\"},\"text\":\"\"},\"zerolinecolor\":\"#E1E5ED\"},\"xaxis10\":{\"anchor\":\"y10\",\"domain\":[0.2625,0.475],\"gridcolor\":\"#E1E5ED\",\"showgrid\":false,\"tickfont\":{\"color\":\"#4D5663\"},\"title\":{\"font\":{\"color\":\"#4D5663\"},\"text\":\"\"},\"zerolinecolor\":\"#E1E5ED\"},\"yaxis10\":{\"anchor\":\"x10\",\"domain\":[0.2675,0.465],\"gridcolor\":\"#E1E5ED\",\"showgrid\":false,\"tickfont\":{\"color\":\"#4D5663\"},\"title\":{\"font\":{\"color\":\"#4D5663\"},\"text\":\"\"},\"zerolinecolor\":\"#E1E5ED\"},\"xaxis11\":{\"anchor\":\"y11\",\"domain\":[0.525,0.7375],\"gridcolor\":\"#E1E5ED\",\"showgrid\":false,\"tickfont\":{\"color\":\"#4D5663\"},\"title\":{\"font\":{\"color\":\"#4D5663\"},\"text\":\"\"},\"zerolinecolor\":\"#E1E5ED\"},\"yaxis11\":{\"anchor\":\"x11\",\"domain\":[0.2675,0.465],\"gridcolor\":\"#E1E5ED\",\"showgrid\":false,\"tickfont\":{\"color\":\"#4D5663\"},\"title\":{\"font\":{\"color\":\"#4D5663\"},\"text\":\"\"},\"zerolinecolor\":\"#E1E5ED\"},\"xaxis12\":{\"anchor\":\"y12\",\"domain\":[0.7875,1.0],\"gridcolor\":\"#E1E5ED\",\"showgrid\":false,\"tickfont\":{\"color\":\"#4D5663\"},\"title\":{\"font\":{\"color\":\"#4D5663\"},\"text\":\"\"},\"zerolinecolor\":\"#E1E5ED\"},\"yaxis12\":{\"anchor\":\"x12\",\"domain\":[0.2675,0.465],\"gridcolor\":\"#E1E5ED\",\"showgrid\":false,\"tickfont\":{\"color\":\"#4D5663\"},\"title\":{\"font\":{\"color\":\"#4D5663\"},\"text\":\"\"},\"zerolinecolor\":\"#E1E5ED\"},\"xaxis13\":{\"anchor\":\"y13\",\"domain\":[0.0,0.2125],\"gridcolor\":\"#E1E5ED\",\"showgrid\":false,\"tickfont\":{\"color\":\"#4D5663\"},\"title\":{\"font\":{\"color\":\"#4D5663\"},\"text\":\"\"},\"zerolinecolor\":\"#E1E5ED\"},\"yaxis13\":{\"anchor\":\"x13\",\"domain\":[0.0,0.1975],\"gridcolor\":\"#E1E5ED\",\"showgrid\":false,\"tickfont\":{\"color\":\"#4D5663\"},\"title\":{\"font\":{\"color\":\"#4D5663\"},\"text\":\"\"},\"zerolinecolor\":\"#E1E5ED\"},\"xaxis14\":{\"anchor\":\"y14\",\"domain\":[0.2625,0.475],\"gridcolor\":\"#E1E5ED\",\"showgrid\":false,\"tickfont\":{\"color\":\"#4D5663\"},\"title\":{\"font\":{\"color\":\"#4D5663\"},\"text\":\"\"},\"zerolinecolor\":\"#E1E5ED\"},\"yaxis14\":{\"anchor\":\"x14\",\"domain\":[0.0,0.1975],\"gridcolor\":\"#E1E5ED\",\"showgrid\":false,\"tickfont\":{\"color\":\"#4D5663\"},\"title\":{\"font\":{\"color\":\"#4D5663\"},\"text\":\"\"},\"zerolinecolor\":\"#E1E5ED\"},\"xaxis15\":{\"anchor\":\"y15\",\"domain\":[0.525,0.7375],\"gridcolor\":\"#E1E5ED\",\"showgrid\":false,\"tickfont\":{\"color\":\"#4D5663\"},\"title\":{\"font\":{\"color\":\"#4D5663\"},\"text\":\"\"},\"zerolinecolor\":\"#E1E5ED\"},\"yaxis15\":{\"anchor\":\"x15\",\"domain\":[0.0,0.1975],\"gridcolor\":\"#E1E5ED\",\"showgrid\":false,\"tickfont\":{\"color\":\"#4D5663\"},\"title\":{\"font\":{\"color\":\"#4D5663\"},\"text\":\"\"},\"zerolinecolor\":\"#E1E5ED\"},\"xaxis16\":{\"anchor\":\"y16\",\"domain\":[0.7875,1.0],\"gridcolor\":\"#E1E5ED\",\"showgrid\":false,\"tickfont\":{\"color\":\"#4D5663\"},\"title\":{\"font\":{\"color\":\"#4D5663\"},\"text\":\"\"},\"zerolinecolor\":\"#E1E5ED\"},\"yaxis16\":{\"anchor\":\"x16\",\"domain\":[0.0,0.1975],\"gridcolor\":\"#E1E5ED\",\"showgrid\":false,\"tickfont\":{\"color\":\"#4D5663\"},\"title\":{\"font\":{\"color\":\"#4D5663\"},\"text\":\"\"},\"zerolinecolor\":\"#E1E5ED\"}},                        {\"showLink\": true, \"linkText\": \"Export to plot.ly\", \"plotlyServerURL\": \"https://plot.ly\", \"responsive\": true}                    ).then(function(){\n",
       "                            \n",
       "var gd = document.getElementById('80fff2c5-d6db-4358-a185-89e7ff9c7c90');\n",
       "var x = new MutationObserver(function (mutations, observer) {{\n",
       "        var display = window.getComputedStyle(gd).display;\n",
       "        if (!display || display === 'none') {{\n",
       "            console.log([gd, 'removed!']);\n",
       "            Plotly.purge(gd);\n",
       "            observer.disconnect();\n",
       "        }}\n",
       "}});\n",
       "\n",
       "// Listen for the removal of the full notebook cells\n",
       "var notebookContainer = gd.closest('#notebook-container');\n",
       "if (notebookContainer) {{\n",
       "    x.observe(notebookContainer, {childList: true});\n",
       "}}\n",
       "\n",
       "// Listen for the clearing of the current output cell\n",
       "var outputEl = gd.closest('.output');\n",
       "if (outputEl) {{\n",
       "    x.observe(outputEl, {childList: true});\n",
       "}}\n",
       "\n",
       "                        })                };                });            </script>        </div>"
      ]
     },
     "metadata": {},
     "output_type": "display_data"
    }
   ],
   "source": [
    "df.scatter_matrix()"
   ]
  }
 ],
 "metadata": {
  "kernelspec": {
   "display_name": "Python 3",
   "language": "python",
   "name": "python3"
  },
  "language_info": {
   "codemirror_mode": {
    "name": "ipython",
    "version": 3
   },
   "file_extension": ".py",
   "mimetype": "text/x-python",
   "name": "python",
   "nbconvert_exporter": "python",
   "pygments_lexer": "ipython3",
   "version": "3.7.3"
  }
 },
 "nbformat": 4,
 "nbformat_minor": 1
}
